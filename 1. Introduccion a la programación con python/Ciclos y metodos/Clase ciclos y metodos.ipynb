{
 "cells": [
  {
   "cell_type": "code",
   "execution_count": null,
   "metadata": {
    "scrolled": true
   },
   "outputs": [],
   "source": [
    "i = 0\n",
    "suma = 0\n",
    "\n",
    "while i<100:\n",
    "    i += 1\n",
    "    suma += i\n",
    "    \n",
    "print(f\"La suma es {str(suma)}\")"
   ]
  },
  {
   "cell_type": "code",
   "execution_count": null,
   "metadata": {},
   "outputs": [],
   "source": [
    "limite = int(input(\"Ingrese el limite de la sumatoria \"))\n",
    "\n",
    "i = 0\n",
    "suma = 0\n",
    "\n",
    "while i<limite:\n",
    "    i += 1\n",
    "    suma += i\n",
    "    \n",
    "print(suma)"
   ]
  },
  {
   "cell_type": "code",
   "execution_count": null,
   "metadata": {},
   "outputs": [],
   "source": [
    "items = int(input())\n",
    "html = \"<ul>\\n\" #Variable acumuladora\n",
    "i = 0\n",
    "\n",
    "while i < items:\n",
    "    i+=1\n",
    "    html += f\"\\t<li>Elemento {i}</li>\\n\"\n",
    "html += \"</ul>\"    \n",
    "print(html) "
   ]
  },
  {
   "cell_type": "code",
   "execution_count": null,
   "metadata": {},
   "outputs": [],
   "source": [
    "#promedio.py\n",
    "numero = int(input())\n",
    "i = 0\n",
    "suma = 0\n",
    "\n",
    "while i < numero:\n",
    "    i += 1\n",
    "    suma += i\n",
    "    \n",
    "print(suma/i)"
   ]
  },
  {
   "cell_type": "code",
   "execution_count": null,
   "metadata": {},
   "outputs": [],
   "source": [
    "#promedio_usuario.py\n",
    "cantidad = int(input(\"Ingrese la cantidad de números a ingresar \"))\n",
    "i = 0\n",
    "suma = 0\n",
    "\n",
    "while i < cantidad:\n",
    "    i += 1\n",
    "    numero = int(input(f\"Ingrese número {str(i)}: \"))\n",
    "    suma += numero\n",
    "    \n",
    "print(suma/i)"
   ]
  },
  {
   "cell_type": "code",
   "execution_count": null,
   "metadata": {},
   "outputs": [],
   "source": [
    "#suma_pares.py\n",
    "i = 0\n",
    "suma_pares = 0\n",
    "\n",
    "while i < 100:\n",
    "    i += 2\n",
    "    suma_pares += i\n",
    "    \n",
    "print(suma_pares)"
   ]
  },
  {
   "cell_type": "code",
   "execution_count": null,
   "metadata": {},
   "outputs": [],
   "source": [
    "#Calculadora.py\n",
    "opcion = \"\"\n",
    "\n",
    "while opcion != \"salir\":\n",
    "    print(\"Ingrese una oción del menú\")\n",
    "    print(\"1: Sumar\")\n",
    "    print(\"2: Restar\")\n",
    "    print(\"3: multiplicar\")\n",
    "    print(\"4: dividir\")\n",
    "    print(\"salir\")\n",
    "    \n",
    "    opcion = input()\n",
    "    \n",
    "    if opcion == \"1\":\n",
    "        valor1 = int(input(\"Ingrese valor 1: \"))\n",
    "        valor2 = int(input(\"Ingrese valor 2: \"))\n",
    "        print(valor1 + valor2)\n",
    "        \n",
    "    elif opcion == \"2\":\n",
    "        valor1 = int(input(\"Ingrese valor 1: \"))\n",
    "        valor2 = int(input(\"Ingrese valor 2: \"))\n",
    "        print(valor1 - valor2)\n",
    "        \n",
    "    elif opcion == \"3\":\n",
    "        valor1 = int(input(\"Ingrese valor 1: \"))\n",
    "        valor2 = int(input(\"Ingrese valor 2: \"))\n",
    "        print(valor1 * valor2)\n",
    "        \n",
    "    elif opcion == \"4\":\n",
    "        valor1 = int(input(\"Ingrese valor 1: \"))\n",
    "        valor2 = int(input(\"Ingrese valor 2: \"))\n",
    "        print(valor1 / valor2)\n",
    "        \n",
    "    elif opcion == \"salir\":\n",
    "        print(\"saliendo\")\n",
    "        \n",
    "print(\"Proceso finalizado con éxito\") "
   ]
  }
 ],
 "metadata": {
  "kernelspec": {
   "display_name": "Python 3",
   "language": "python",
   "name": "python3"
  },
  "language_info": {
   "codemirror_mode": {
    "name": "ipython",
    "version": 3
   },
   "file_extension": ".py",
   "mimetype": "text/x-python",
   "name": "python",
   "nbconvert_exporter": "python",
   "pygments_lexer": "ipython3",
   "version": "3.8.3"
  }
 },
 "nbformat": 4,
 "nbformat_minor": 4
}
