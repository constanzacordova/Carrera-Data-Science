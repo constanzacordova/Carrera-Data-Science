{
 "cells": [
  {
   "cell_type": "code",
   "execution_count": 3,
   "metadata": {},
   "outputs": [
    {
     "name": "stdout",
     "output_type": "stream",
     "text": [
      "el módulo de 1 es 1, es inpar \n",
      "el módulo de 2 es 0, es par \n",
      "el módulo de 3 es 1, es inpar \n",
      "el módulo de 4 es 0, es par \n",
      "el módulo de 5 es 1, es inpar \n",
      "el módulo de 6 es 0, es par \n",
      "el módulo de 7 es 1, es inpar \n",
      "el módulo de 8 es 0, es par \n",
      "el módulo de 9 es 1, es inpar \n",
      "el módulo de 10 es 0, es par \n",
      "el módulo de 11 es 1, es inpar \n",
      "el módulo de 12 es 0, es par \n",
      "el módulo de 13 es 1, es inpar \n",
      "el módulo de 14 es 0, es par \n",
      "el módulo de 15 es 1, es inpar \n",
      "el módulo de 16 es 0, es par \n",
      "el módulo de 17 es 1, es inpar \n",
      "el módulo de 18 es 0, es par \n",
      "el módulo de 19 es 1, es inpar \n",
      "el módulo de 20 es 0, es par \n",
      "el módulo de 21 es 1, es inpar \n",
      "el módulo de 22 es 0, es par \n",
      "el módulo de 23 es 1, es inpar \n",
      "el módulo de 24 es 0, es par \n",
      "el módulo de 25 es 1, es inpar \n",
      "el módulo de 26 es 0, es par \n",
      "el módulo de 27 es 1, es inpar \n",
      "el módulo de 28 es 0, es par \n",
      "el módulo de 29 es 1, es inpar \n",
      "el módulo de 30 es 0, es par \n",
      "el módulo de 31 es 1, es inpar \n",
      "el módulo de 32 es 0, es par \n",
      "el módulo de 33 es 1, es inpar \n",
      "el módulo de 34 es 0, es par \n",
      "el módulo de 35 es 1, es inpar \n",
      "el módulo de 36 es 0, es par \n",
      "el módulo de 37 es 1, es inpar \n",
      "el módulo de 38 es 0, es par \n",
      "el módulo de 39 es 1, es inpar \n",
      "el módulo de 40 es 0, es par \n",
      "el módulo de 41 es 1, es inpar \n",
      "el módulo de 42 es 0, es par \n",
      "el módulo de 43 es 1, es inpar \n",
      "el módulo de 44 es 0, es par \n",
      "el módulo de 45 es 1, es inpar \n",
      "el módulo de 46 es 0, es par \n",
      "el módulo de 47 es 1, es inpar \n",
      "el módulo de 48 es 0, es par \n",
      "el módulo de 49 es 1, es inpar \n",
      "el módulo de 50 es 0, es par \n"
     ]
    }
   ],
   "source": [
    "i = 0\n",
    "\n",
    "while i < 50:\n",
    "    i += 1\n",
    "    modulo = str(i%2)\n",
    "    if modulo == '0':\n",
    "        print(f'el módulo de {str(i)} es {modulo}, es par ')\n",
    "        \n",
    "    else:\n",
    "        print(f'el módulo de {str(i)} es {modulo}, es inpar ')"
   ]
  },
  {
   "cell_type": "code",
   "execution_count": 5,
   "metadata": {},
   "outputs": [
    {
     "name": "stdout",
     "output_type": "stream",
     "text": [
      "el módulo de 1 es 1, es inpar \n",
      "el módulo de 2 es 0, es par \n",
      "el módulo de 3 es 1, es inpar \n",
      "el módulo de 4 es 0, es par \n",
      "el módulo de 5 es 1, es inpar \n",
      "el módulo de 6 es 0, es par \n",
      "el módulo de 7 es 1, es inpar \n",
      "el módulo de 8 es 0, es par \n",
      "el módulo de 9 es 1, es inpar \n",
      "el módulo de 10 es 0, es par \n",
      "el módulo de 11 es 1, es inpar \n",
      "el módulo de 12 es 0, es par \n",
      "el módulo de 13 es 1, es inpar \n",
      "el módulo de 14 es 0, es par \n",
      "el módulo de 15 es 1, es inpar \n",
      "el módulo de 16 es 0, es par \n",
      "el módulo de 17 es 1, es inpar \n",
      "el módulo de 18 es 0, es par \n",
      "el módulo de 19 es 1, es inpar \n",
      "el módulo de 20 es 0, es par \n",
      "el módulo de 21 es 1, es inpar \n",
      "el módulo de 22 es 0, es par \n",
      "el módulo de 23 es 1, es inpar \n",
      "el módulo de 24 es 0, es par \n",
      "el módulo de 25 es 1, es inpar \n",
      "el módulo de 26 es 0, es par \n",
      "el módulo de 27 es 1, es inpar \n",
      "el módulo de 28 es 0, es par \n",
      "el módulo de 29 es 1, es inpar \n",
      "el módulo de 30 es 0, es par \n",
      "el módulo de 31 es 1, es inpar \n",
      "el módulo de 32 es 0, es par \n",
      "el módulo de 33 es 1, es inpar \n",
      "el módulo de 34 es 0, es par \n",
      "el módulo de 35 es 1, es inpar \n",
      "el módulo de 36 es 0, es par \n",
      "el módulo de 37 es 1, es inpar \n",
      "el módulo de 38 es 0, es par \n",
      "el módulo de 39 es 1, es inpar \n",
      "el módulo de 40 es 0, es par \n",
      "el módulo de 41 es 1, es inpar \n",
      "el módulo de 42 es 0, es par \n",
      "el módulo de 43 es 1, es inpar \n",
      "el módulo de 44 es 0, es par \n",
      "el módulo de 45 es 1, es inpar \n",
      "el módulo de 46 es 0, es par \n",
      "el módulo de 47 es 1, es inpar \n",
      "el módulo de 48 es 0, es par \n",
      "el módulo de 49 es 1, es inpar \n"
     ]
    }
   ],
   "source": [
    "for i in range(1,50):\n",
    "    \n",
    "    modulo = str(i%2)\n",
    "    if modulo == '0':\n",
    "        print(f'el módulo de {str(i)} es {modulo}, es par ')\n",
    "        \n",
    "    else:\n",
    "        print(f'el módulo de {str(i)} es {modulo}, es inpar ')"
   ]
  },
  {
   "cell_type": "code",
   "execution_count": 8,
   "metadata": {},
   "outputs": [
    {
     "name": "stdout",
     "output_type": "stream",
     "text": [
      "0\n",
      "1\n",
      "2\n",
      "___________________\n",
      "1\n",
      "2\n",
      "___________________\n",
      "1\n"
     ]
    }
   ],
   "source": [
    "for i in range(3):\n",
    "    print(i)\n",
    "print(\"___________________\")\n",
    "for i in range(1, 3):\n",
    "    print(i)\n",
    "print(\"___________________\")    \n",
    "for i in range(1, 3, 2):\n",
    "    print(i)"
   ]
  },
  {
   "cell_type": "code",
   "execution_count": 10,
   "metadata": {},
   "outputs": [
    {
     "name": "stdout",
     "output_type": "stream",
     "text": [
      "Ingrese un valor: 15\n",
      "***************\n"
     ]
    }
   ],
   "source": [
    "n = int(input('Ingrese un valor: '))\n",
    "salida = ''\n",
    "\n",
    "for i in range(n):\n",
    "    salida += '*'\n",
    "    \n",
    "print(salida)"
   ]
  },
  {
   "cell_type": "code",
   "execution_count": 12,
   "metadata": {},
   "outputs": [
    {
     "name": "stdout",
     "output_type": "stream",
     "text": [
      "Ingrese un valor: 5\n",
      "*****\n"
     ]
    }
   ],
   "source": [
    "n = int(input('Ingrese un valor: '))\n",
    "salida = \"*\"*n\n",
    "\n",
    "print(salida)"
   ]
  },
  {
   "cell_type": "code",
   "execution_count": 15,
   "metadata": {},
   "outputs": [
    {
     "name": "stdout",
     "output_type": "stream",
     "text": [
      "Ingrese un valor: 5\n",
      "x_x_x\n"
     ]
    }
   ],
   "source": [
    "n = int(input('Ingrese un valor: '))\n",
    "salida = ''\n",
    "\n",
    "for i in range(n):\n",
    "    if i%2 == 0:\n",
    "        salida += 'x'\n",
    "    else:\n",
    "        salida += '_'\n",
    "print(salida)"
   ]
  },
  {
   "cell_type": "code",
   "execution_count": 19,
   "metadata": {},
   "outputs": [
    {
     "name": "stdout",
     "output_type": "stream",
     "text": [
      "Ingrese un valor: 3\n",
      "*-.-__-.-\n"
     ]
    }
   ],
   "source": [
    "n = int(input('Ingrese un valor: '))\n",
    "a = '*'\n",
    "b = '-.-'\n",
    "c = \"__\"\n",
    "\n",
    "salida = ''\n",
    "\n",
    "for i in range(n+1):\n",
    "    if i%2 != 0:\n",
    "        salida += b\n",
    "        \n",
    "    elif i%4 == 0:\n",
    "        salida += a\n",
    "    \n",
    "    else:\n",
    "        salida += c\n",
    "        \n",
    "print(salida)"
   ]
  },
  {
   "cell_type": "code",
   "execution_count": 1,
   "metadata": {},
   "outputs": [
    {
     "name": "stdout",
     "output_type": "stream",
     "text": [
      "Ingrese un valor: 10\n",
      "(>'-')> (^-^) (^-^) (>'-')> (^-^) (^-^) (>'-')> (^-^) (^-^) (>'-')> \n"
     ]
    }
   ],
   "source": [
    "n = int(input('Ingrese un valor: '))\n",
    "\n",
    "a = \"(>'-')> \"\n",
    "b = \"(^-^) \"\n",
    "\n",
    "salida = ''\n",
    "\n",
    "for i in range(n):\n",
    "    if i%3 == 0:\n",
    "        salida += a\n",
    "    else:\n",
    "        salida += b\n",
    "        \n",
    "print(salida)"
   ]
  },
  {
   "cell_type": "code",
   "execution_count": null,
   "metadata": {},
   "outputs": [],
   "source": []
  }
 ],
 "metadata": {
  "kernelspec": {
   "display_name": "Python 3",
   "language": "python",
   "name": "python3"
  },
  "language_info": {
   "codemirror_mode": {
    "name": "ipython",
    "version": 3
   },
   "file_extension": ".py",
   "mimetype": "text/x-python",
   "name": "python",
   "nbconvert_exporter": "python",
   "pygments_lexer": "ipython3",
   "version": "3.8.3"
  }
 },
 "nbformat": 4,
 "nbformat_minor": 4
}
