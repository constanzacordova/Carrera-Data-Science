{
 "cells": [
  {
   "cell_type": "markdown",
   "metadata": {},
   "source": [
    "## Desafio Funciones\n",
    "<ul>\n",
    "<li> Karen Cortes</li>\n",
    "<li> Constanza Córdova</li>\n",
    "<li> Gustavo Lizama</li>\n",
    "</ul>"
   ]
  },
  {
   "cell_type": "code",
   "execution_count": 5,
   "metadata": {},
   "outputs": [
    {
     "name": "stdout",
     "output_type": "stream",
     "text": [
      "abcde\n"
     ]
    }
   ],
   "source": [
    "#concatena_letras\n",
    "import string\n",
    "\n",
    "def gen(n):\n",
    "    abc= string.ascii_lowercase\n",
    "    concatenar = \"\"\n",
    "    if n > 26:    #Si se ingresa un número mayor a la cantidad de letras del abecedario, se usa n= 26 (26 letras del abecedario)\n",
    "        n = 26\n",
    "    for i in range(n):\n",
    "        concatenar += abc[int(i)]\n",
    "\n",
    "    return concatenar\n",
    "\n",
    "print(gen(5))"
   ]
  },
  {
   "cell_type": "code",
   "execution_count": 6,
   "metadata": {},
   "outputs": [
    {
     "name": "stdout",
     "output_type": "stream",
     "text": [
      "**********\n",
      "*        *\n",
      "*        *\n",
      "*        *\n",
      "*        *\n",
      "*        *\n",
      "*        *\n",
      "*        *\n",
      "*        *\n",
      "**********\n"
     ]
    }
   ],
   "source": [
    "#letra_o\n",
    "\n",
    "def letra_o(n):\n",
    "    \n",
    "    linea = \"\"\n",
    "    for i in range(n):\n",
    "        linea += \"*\"\n",
    "    cuerpo = \"*\"+\" \"*(n-2)+\"*\"\n",
    "\n",
    "    letrao = linea + \"\\n\" + (cuerpo + \"\\n\")*(n-2) + linea\n",
    "\n",
    "    return letrao\n",
    "\n",
    "print(letra_o(10))"
   ]
  },
  {
   "cell_type": "code",
   "execution_count": 7,
   "metadata": {},
   "outputs": [
    {
     "name": "stdout",
     "output_type": "stream",
     "text": [
      "*****\n",
      "  *  \n",
      "  *  \n",
      "*****\n"
     ]
    }
   ],
   "source": [
    "#letra_i \n",
    "\n",
    "def letra_i(n):\n",
    "    \n",
    "    linea = \"\"\n",
    "    esp = int((n-(n%2))/2)\n",
    "    columna = \" \"*esp + \"*\" + \" \"*esp\n",
    "\n",
    "    for i in range(n):\n",
    "        linea +=\"*\"\n",
    "    if n>2 and n%2 == 0:\n",
    "        linea += \"*\"\n",
    "\n",
    "    letrai = linea + \"\\n\" + (columna + \"\\n\")*(n-2) + linea\n",
    "\n",
    "    return letrai\n",
    "\n",
    "print(letra_i(4))"
   ]
  },
  {
   "cell_type": "code",
   "execution_count": 12,
   "metadata": {},
   "outputs": [
    {
     "name": "stdout",
     "output_type": "stream",
     "text": [
      "*         *\n",
      " *       * \n",
      "  *     *  \n",
      "   *   *   \n",
      "    * *    \n",
      "     *     \n",
      "    * *    \n",
      "   *   *   \n",
      "  *     *  \n",
      " *       * \n",
      "*         *\n",
      "\n"
     ]
    }
   ],
   "source": [
    "#Letra_x\n",
    "\n",
    "def letra_x(n):\n",
    "    contenedor = \"\"\n",
    "    if n % 2 == 0:\n",
    "        n += 1\n",
    "        \n",
    "    for i in range(n):\n",
    "        for j in range(n):\n",
    "            if j == (n - 1) - i:\n",
    "                contenedor += \"*\"\n",
    "            elif i == j:\n",
    "                contenedor += \"*\"\n",
    "            else:\n",
    "                contenedor +=\" \"\n",
    "                \n",
    "        contenedor += \"\\n\"\n",
    "    return contenedor\n",
    "    \n",
    "print(letra_x(10))"
   ]
  },
  {
   "cell_type": "code",
   "execution_count": 13,
   "metadata": {},
   "outputs": [
    {
     "name": "stdout",
     "output_type": "stream",
     "text": [
      "*         *\n",
      " *       *\n",
      "  *     *\n",
      "   *   *\n",
      "    * *\n",
      "     *\n",
      "    * *\n",
      "   *   *\n",
      "  *     *\n",
      " *       *\n",
      "*         *\n",
      "\n"
     ]
    }
   ],
   "source": [
    "def letra_x(n):\n",
    "\n",
    "    linea = \"\"\n",
    "    if n%2 == 0:\n",
    "        n += 1\n",
    "\n",
    "    for i in range(n):\n",
    "        limite_sup = int((n-1)/2)\n",
    "        centro = int((n-1)/2)\n",
    "        limite_inf = int(centro + 1)\n",
    "        \n",
    "        if i in range(limite_sup):\n",
    "            extremos = i\n",
    "            espacios_usados = 2*extremos + 2\n",
    "            centro = n - espacios_usados\n",
    "            linea += \" \"*extremos + \"*\" + \" \"*centro + \"*\" + \"\\n\"\n",
    "\n",
    "        elif i == centro:\n",
    "            extremos = i\n",
    "            linea += \" \"*extremos + \"*\"+\"\\n\"\n",
    "\n",
    "        elif i in range(limite_inf, n):\n",
    "            extremos = n-i-1\n",
    "            espacios_usados = 2*extremos + 2\n",
    "            centro = n - espacios_usados\n",
    "            linea += \" \"*extremos + \"*\" + \" \"*centro + \"*\" + \"\\n\"\n",
    "    return linea\n",
    "\n",
    "\n",
    "print(letra_x(10))"
   ]
  }
 ],
 "metadata": {
  "kernelspec": {
   "display_name": "Python 3",
   "language": "python",
   "name": "python3"
  },
  "language_info": {
   "codemirror_mode": {
    "name": "ipython",
    "version": 3
   },
   "file_extension": ".py",
   "mimetype": "text/x-python",
   "name": "python",
   "nbconvert_exporter": "python",
   "pygments_lexer": "ipython3",
   "version": "3.8.3"
  }
 },
 "nbformat": 4,
 "nbformat_minor": 4
}
