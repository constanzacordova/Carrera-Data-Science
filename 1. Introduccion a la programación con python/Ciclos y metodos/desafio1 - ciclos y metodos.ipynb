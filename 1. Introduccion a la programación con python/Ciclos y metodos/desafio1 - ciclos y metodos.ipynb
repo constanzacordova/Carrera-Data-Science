{
 "cells": [
  {
   "cell_type": "code",
   "execution_count": 29,
   "metadata": {
    "scrolled": true
   },
   "outputs": [
    {
     "name": "stdout",
     "output_type": "stream",
     "text": [
      "Iteración 1\n",
      "Iteración 2\n",
      "Iteración 3\n",
      "Iteración 4\n",
      "Iteración 5\n",
      "Iteración 6\n",
      "Iteración 7\n",
      "Iteración 8\n",
      "Iteración 9\n",
      "Iteración 10\n",
      "Iteración 11\n",
      "Iteración 12\n",
      "Iteración 13\n",
      "Iteración 14\n",
      "Iteración 15\n",
      "Iteración 16\n",
      "Iteración 17\n",
      "Iteración 18\n",
      "Iteración 19\n",
      "Iteración 20\n",
      "Iteración 21\n",
      "Iteración 22\n",
      "Iteración 23\n",
      "Iteración 24\n",
      "Iteración 25\n",
      "Iteración 26\n",
      "Iteración 27\n",
      "Iteración 28\n",
      "Iteración 29\n",
      "Iteración 30\n",
      "Iteración 31\n",
      "Iteración 32\n",
      "Iteración 33\n",
      "Iteración 34\n",
      "Iteración 35\n",
      "Iteración 36\n",
      "Iteración 37\n",
      "Iteración 38\n",
      "Iteración 39\n",
      "Iteración 40\n",
      "Iteración 41\n",
      "Iteración 42\n",
      "Iteración 43\n",
      "Iteración 44\n",
      "Iteración 45\n",
      "Iteración 46\n",
      "Iteración 47\n",
      "Iteración 48\n",
      "Iteración 49\n",
      "Iteración 50\n"
     ]
    }
   ],
   "source": [
    "#Iterador.py\n",
    "for i in range(50):\n",
    "    print(f\"Iteración {(i+1)}\")"
   ]
  },
  {
   "cell_type": "code",
   "execution_count": 30,
   "metadata": {},
   "outputs": [
    {
     "name": "stdout",
     "output_type": "stream",
     "text": [
      "Ingrese un número para comenzar la cuenta\n",
      "10\n",
      "Iteración 10\n",
      "Iteración 9\n",
      "Iteración 8\n",
      "Iteración 7\n",
      "Iteración 6\n",
      "Iteración 5\n",
      "Iteración 4\n",
      "Iteración 3\n",
      "Iteración 2\n",
      "Iteración 1\n"
     ]
    }
   ],
   "source": [
    "#cuenta_regresiva.py\n",
    "cuenta_regresiva = int(input(\"Ingrese un número para comenzar la cuenta\\n\"))\n",
    "i = 0\n",
    "\n",
    "while i < cuenta_regresiva:\n",
    "    tmp = cuenta_regresiva\n",
    "    print(f\"Iteración {tmp - i}\")\n",
    "    i += 1  \n"
   ]
  },
  {
   "cell_type": "code",
   "execution_count": 31,
   "metadata": {},
   "outputs": [
    {
     "name": "stdout",
     "output_type": "stream",
     "text": [
      "Ingrese un número para comenzar\n",
      "10\n",
      "0\n",
      "2\n",
      "4\n",
      "6\n",
      "8\n",
      "10\n"
     ]
    }
   ],
   "source": [
    "#solo_pares.py\n",
    "\n",
    "n = int(input(\"Ingrese un número para comenzar\\n\"))\n",
    "\n",
    "for i in range(n+1):\n",
    "    if i%2 == 0:\n",
    "        print(i)       "
   ]
  },
  {
   "cell_type": "code",
   "execution_count": 12,
   "metadata": {
    "collapsed": true
   },
   "outputs": [
    {
     "name": "stdout",
     "output_type": "stream",
     "text": [
      "Ingrese un número para comenzar\n",
      "21\n",
      "2\n",
      "4\n",
      "6\n",
      "8\n",
      "10\n",
      "12\n",
      "14\n",
      "16\n",
      "18\n",
      "20\n"
     ]
    }
   ],
   "source": [
    "#solo_pares_refactor.py\n",
    "\n",
    "n = int(input(\"Ingrese un número para comenzar\\n\"))\n",
    "\n",
    "for i in range(n+1):\n",
    "    if i%2 == 0 and i!= 0:\n",
    "        print(i) "
   ]
  },
  {
   "cell_type": "code",
   "execution_count": 14,
   "metadata": {
    "collapsed": true
   },
   "outputs": [
    {
     "name": "stdout",
     "output_type": "stream",
     "text": [
      "Ingrese un número para comenzar\n",
      "15\n",
      "1\n",
      "3\n",
      "5\n",
      "7\n",
      "9\n",
      "11\n",
      "13\n",
      "15\n"
     ]
    }
   ],
   "source": [
    "#solo_impares.py \n",
    "\n",
    "n = int(input(\"Ingrese un número para comenzar\\n\"))\n",
    "\n",
    "for i in range(n+1):\n",
    "    if i%2 != 0:\n",
    "        print(i)    "
   ]
  },
  {
   "cell_type": "code",
   "execution_count": 32,
   "metadata": {},
   "outputs": [
    {
     "name": "stdout",
     "output_type": "stream",
     "text": [
      "Ingrese un número para comenzar\n",
      "10\n",
      "30\n"
     ]
    }
   ],
   "source": [
    "#suma_pares.py\n",
    "\n",
    "n = int(input(\"Ingrese un número para comenzar\\n\"))\n",
    "suma_pares = 0\n",
    "\n",
    "for i in range(n+1):\n",
    "    if i%2 == 0 and i!= 0:\n",
    "        suma_pares += i\n",
    "        \n",
    "print(suma_pares)"
   ]
  },
  {
   "cell_type": "code",
   "execution_count": 33,
   "metadata": {
    "scrolled": true
   },
   "outputs": [
    {
     "name": "stdout",
     "output_type": "stream",
     "text": [
      "Ingrese un número para comenzar\n",
      "10\n",
      "1\n",
      "12\n",
      "123\n",
      "1234\n",
      "12345\n",
      "123456\n",
      "1234567\n",
      "12345678\n",
      "123456789\n",
      "12345678910\n"
     ]
    }
   ],
   "source": [
    "#genera_patron.py\n",
    "n = int(input(\"Ingrese un número para comenzar\\n\"))\n",
    "patron = \"\"\n",
    "\n",
    "for i in range(1, n+1):\n",
    "        patron += str(i)\n",
    "        print(patron)\n",
    "        "
   ]
  },
  {
   "cell_type": "code",
   "execution_count": 55,
   "metadata": {
    "scrolled": true
   },
   "outputs": [
    {
     "name": "stdout",
     "output_type": "stream",
     "text": [
      "Ingrese nro de parrafos: 3\n",
      "Lorem ipsum dolor sit amet, consectetur adipiscing elit. Proin vel enim sodales dolor tristique porttitor. Aliquam nisl neque, gravida in rhoncus eget, sodales quis leo. Proin imperdiet, nisl ut accumsan congue, sem velit sollicitudin dui, ut suscipit quam neque sed diam. Sed vel sapien eu nisi posuere consequat. Aenean sit amet facilisis ipsum. Aliquam mollis sem vel sollicitudin efficitur. Nunc quis viverra metus. Nulla id dui vel lacus sodales mollis vitae at lectus. Nam dignissim elementum metus, nec pulvinar lectus malesuada vitae.\n",
      "\n",
      "Vivamus rutrum vehicula ipsum ut pellentesque. Etiam eu pharetra leo. Phasellus suscipit lorem quis libero tincidunt, in fermentum neque rutrum. Morbi eu felis ut elit facilisis congue. Fusce vulputate ornare purus vel semper. Sed sed leo vitae nunc faucibus dictum imperdiet id felis. Aliquam fringilla, nulla eleifend feugiat hendrerit, dui urna vehicula purus, quis rutrum metus lorem id nisi. Pellentesque vitae risus ipsum. Integer vitae ornare neque. Vivamus consectetur urna lorem, rutrum aliquet nibh faucibus nec.\n",
      "\n",
      "Quisque faucibus imperdiet sem, nec finibus odio gravida ut. Lorem ipsum dolor sit amet, consectetur adipiscing elit. Phasellus placerat semper massa ac mollis. Vivamus dignissim ultrices felis id hendrerit. Vivamus et dolor tempus, porttitor turpis ut, vehicula felis. Duis eu gravida ipsum. Phasellus accumsan rutrum enim, et feugiat velit faucibus vitae. Morbi molestie eget justo vel hendrerit. Aliquam quis accumsan eros. Nunc sit amet aliquet ante. Mauris porttitor eros et scelerisque facilisis. Etiam fermentum metus in diam suscipit egestas. Nunc mi dolor, ultricies sed congue at, porttitor commodo lacus. Lorem ipsum dolor sit amet, consectetur adipiscing elit. Donec commodo dolor vel dui lobortis, nec auctor nulla mollis. Praesent viverra in felis nec lobortis.\n",
      "\n"
     ]
    },
    {
     "data": {
      "text/plain": [
       "<function TextIOWrapper.close()>"
      ]
     },
     "execution_count": 55,
     "metadata": {},
     "output_type": "execute_result"
    }
   ],
   "source": [
    "#Lorem_generator.py\n",
    "n = int(input(\"Ingrese nro de parrafos: \"))\n",
    "archivo = open(\"lorem.txt\") \n",
    "texto = archivo.read()\n",
    "parrafos = texto.split(\"\\n\")\n",
    "\n",
    "for parrafo in range(n):\n",
    "    print(parrafos[parrafo] + \"\\n\")\n",
    "\n",
    "archivo.close"
   ]
  },
  {
   "cell_type": "code",
   "execution_count": 10,
   "metadata": {},
   "outputs": [
    {
     "name": "stdout",
     "output_type": "stream",
     "text": [
      "Ingrese Pass:\n",
      "gdhs\n",
      "38 Intentos\n"
     ]
    }
   ],
   "source": [
    "#fuerza_bruta.py\n",
    "import string\n",
    "password = (input(\"Ingrese Pass:\\n\")).lower()\n",
    "abc= string.ascii_lowercase\n",
    "intento = 0 \n",
    "\n",
    "for i in password:\n",
    "    for j in abc:\n",
    "        if i == j:\n",
    "            intento += 1\n",
    "            break\n",
    "        else:\n",
    "            intento += 1\n",
    "            \n",
    "print(f\"{intento} Intentos\")\n",
    "\n",
    "        "
   ]
  },
  {
   "cell_type": "code",
   "execution_count": null,
   "metadata": {},
   "outputs": [],
   "source": []
  }
 ],
 "metadata": {
  "kernelspec": {
   "display_name": "Python 3",
   "language": "python",
   "name": "python3"
  },
  "language_info": {
   "codemirror_mode": {
    "name": "ipython",
    "version": 3
   },
   "file_extension": ".py",
   "mimetype": "text/x-python",
   "name": "python",
   "nbconvert_exporter": "python",
   "pygments_lexer": "ipython3",
   "version": "3.8.3"
  }
 },
 "nbformat": 4,
 "nbformat_minor": 4
}
