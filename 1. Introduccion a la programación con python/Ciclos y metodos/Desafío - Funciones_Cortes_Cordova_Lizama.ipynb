{
 "cells": [
  {
   "cell_type": "markdown",
   "metadata": {},
   "source": [
    "## Desafio Funciones\n",
    "<ul>\n",
    "<li> Karen Cortes</li>\n",
    "<li> Constanza Córdova</li>\n",
    "<li> Gustavo Lizama</li>\n",
    "</ul>"
   ]
  },
  {
   "cell_type": "code",
   "execution_count": 1,
   "metadata": {},
   "outputs": [
    {
     "name": "stdout",
     "output_type": "stream",
     "text": [
      "abcdef\n"
     ]
    }
   ],
   "source": [
    "#concatena_letras\n",
    "import string\n",
    "\n",
    "def gen(n):\n",
    "    abc= string.ascii_lowercase\n",
    "    concatenar = \"\"\n",
    "    if n > 26:    #Si se ingresa un número mayor a la cantidad de letras del abecedario, se usa n= 26 (26 letras del abecedario)\n",
    "        n = 26\n",
    "    for i in range(n):\n",
    "        concatenar += abc[int(i)]\n",
    "\n",
    "    return concatenar\n",
    "\n",
    "print(gen(6))"
   ]
  },
  {
   "cell_type": "code",
   "execution_count": 7,
   "metadata": {},
   "outputs": [
    {
     "name": "stdout",
     "output_type": "stream",
     "text": [
      "*******\n",
      "*     *\n",
      "*     *\n",
      "*     *\n",
      "*     *\n",
      "*     *\n",
      "*******\n"
     ]
    }
   ],
   "source": [
    "#letra_o\n",
    "\n",
    "def letra_o(n):\n",
    "    \n",
    "    linea = \"\"\n",
    "    for i in range(n):\n",
    "        linea += \"*\"\n",
    "    cuerpo = \"*\"+\" \"*(n-2)+\"*\"\n",
    "\n",
    "    letrao = linea + \"\\n\" + (cuerpo + \"\\n\")*(n-2) + linea\n",
    "\n",
    "    return letrao\n",
    "\n",
    "print(letra_o(7))"
   ]
  },
  {
   "cell_type": "code",
   "execution_count": 5,
   "metadata": {},
   "outputs": [
    {
     "name": "stdout",
     "output_type": "stream",
     "text": [
      "*******\n",
      "   *   \n",
      "   *   \n",
      "   *   \n",
      "   *   \n",
      "   *   \n",
      "*******\n"
     ]
    }
   ],
   "source": [
    "#letra_i \n",
    "\n",
    "def letra_i(n):\n",
    "    \n",
    "    linea = \"\"\n",
    "    esp = int((n-(n%2))/2) \n",
    "    columna = \" \"*esp + \"*\" + \" \"*esp\n",
    "\n",
    "    for i in range(n):\n",
    "        linea +=\"*\"\n",
    "    if n>2 and n%2 == 0:\n",
    "        linea += \"*\"\n",
    "\n",
    "    letrai = linea + \"\\n\" + (columna + \"\\n\")*(n-2) + linea\n",
    "\n",
    "    return letrai\n",
    "\n",
    "print(letra_i(7))"
   ]
  },
  {
   "cell_type": "code",
   "execution_count": 6,
   "metadata": {},
   "outputs": [
    {
     "name": "stdout",
     "output_type": "stream",
     "text": [
      "*     *\n",
      " *   * \n",
      "  * *  \n",
      "   *   \n",
      "  * *  \n",
      " *   * \n",
      "*     *\n",
      "\n"
     ]
    }
   ],
   "source": [
    "#Letra_x\n",
    "\n",
    "def letra_x(n):\n",
    "    contenedor = \"\"\n",
    "    if n % 2 == 0:\n",
    "        n += 1\n",
    "        \n",
    "    for i in range(n):\n",
    "        for j in range(n):\n",
    "            if j == (n - 1) - i:\n",
    "                contenedor += \"*\"\n",
    "            elif i == j:\n",
    "                contenedor += \"*\"\n",
    "            else:\n",
    "                contenedor +=\" \"\n",
    "                \n",
    "        contenedor += \"\\n\"\n",
    "    return contenedor\n",
    "    \n",
    "print(letra_x(7))"
   ]
  },
  {
   "cell_type": "code",
   "execution_count": 8,
   "metadata": {},
   "outputs": [
    {
     "name": "stdout",
     "output_type": "stream",
     "text": [
      "\n",
      "Bienvenido al portal del Banco Amigo. Escoja una opción:\n",
      "\t1. Consultar saldo\n",
      "\t2. Hacer depósito\n",
      "\t3. Realizar giro\n",
      "\t4. Salir\n",
      "\n",
      "Ingrese una opción: 1\n",
      "\n",
      "*** Su saldo es: 0 ***\n",
      "\n",
      "Bienvenido al portal del Banco Amigo. Escoja una opción:\n",
      "\t1. Consultar saldo\n",
      "\t2. Hacer depósito\n",
      "\t3. Realizar giro\n",
      "\t4. Salir\n",
      "\n",
      "Ingrese una opción: 2\n",
      "Ingrese una cantidad a depositar: 1000\n",
      "\n",
      "*** Su nuevo saldo es 1000 ***\n",
      "\n",
      "\n",
      "Bienvenido al portal del Banco Amigo. Escoja una opción:\n",
      "\t1. Consultar saldo\n",
      "\t2. Hacer depósito\n",
      "\t3. Realizar giro\n",
      "\t4. Salir\n",
      "\n",
      "Ingrese una opción: 3\n",
      "Ingrese una cantidad a girar: 3000\n",
      "\n",
      "*** No se puede girar esta cantidad. Su saldo es de 1000 ***\n",
      "\n",
      "Ingrese una cantidad a girar: 50\n",
      "\n",
      "*** Su nuevo saldo es 950 ***\n",
      "\n",
      "\n",
      "Bienvenido al portal del Banco Amigo. Escoja una opción:\n",
      "\t1. Consultar saldo\n",
      "\t2. Hacer depósito\n",
      "\t3. Realizar giro\n",
      "\t4. Salir\n",
      "\n",
      "Ingrese una opción: 1\n",
      "\n",
      "*** Su saldo es: 950 ***\n",
      "\n",
      "Bienvenido al portal del Banco Amigo. Escoja una opción:\n",
      "\t1. Consultar saldo\n",
      "\t2. Hacer depósito\n",
      "\t3. Realizar giro\n",
      "\t4. Salir\n",
      "\n",
      "Ingrese una opción: 4\n",
      "\n",
      "Usted ha salido del portal del Banco Amigo\n"
     ]
    }
   ],
   "source": [
    "#menu_banco\n",
    "\n",
    "def mostrar_menu(saldo =0):\n",
    "    \n",
    "    entrada = 0\n",
    "    \n",
    "    while entrada != 4:\n",
    "        print(\"\\nBienvenido al portal del Banco Amigo. Escoja una opción:\")\n",
    "        print(\"\\t1. Consultar saldo\")\n",
    "        print(\"\\t2. Hacer depósito\")\n",
    "        print(\"\\t3. Realizar giro\")\n",
    "        print(\"\\t4. Salir\\n\")\n",
    "\n",
    "        entrada = int(input(\"Ingrese una opción: \"))   \n",
    "        \n",
    "        if entrada not in [1,2,3,4]:\n",
    "            error = \"\\n*** Opción inválida. Por favor ingrese 1, 2, 3 ó 4 ***\\n\"\n",
    "            print(error)\n",
    "            \n",
    "        elif entrada == 1:\n",
    "            print(f\"\\n*** Su saldo es: {saldo} ***\")\n",
    "            \n",
    "        elif entrada ==2:\n",
    "            cantidad = int(input(\"Ingrese una cantidad a depositar: \"))\n",
    "            print(f\"\\n*** Su nuevo saldo es {depositar(saldo, cantidad)} ***\\n\")\n",
    "            saldo = depositar(saldo, cantidad)\n",
    "            \n",
    "        elif entrada ==3:\n",
    "            cantidad =  int(input(\"Ingrese una cantidad a girar: \"))\n",
    "            \n",
    "            while girar(saldo, cantidad) is False:\n",
    "                print(f\"\\n*** No se puede girar esta cantidad. Su saldo es de {saldo} ***\\n\")\n",
    "                cantidad =  int(input(\"Ingrese una cantidad a girar: \"))\n",
    "        \n",
    "            print(f\"\\n*** Su nuevo saldo es {girar(saldo, cantidad)} ***\\n\")\n",
    "            saldo = girar(saldo, cantidad)\n",
    "            \n",
    "    print(\"\\nUsted ha salido del portal del Banco Amigo\")\n",
    "    \n",
    "def depositar(saldo, cantidad):\n",
    "    saldo = saldo + cantidad \n",
    "    return saldo\n",
    "\n",
    "def girar(saldo, cantidad):\n",
    "    if saldo < cantidad:\n",
    "        saldo = False\n",
    "    else:\n",
    "        saldo = saldo - cantidad\n",
    "    return saldo\n",
    "\n",
    "mostrar_menu()"
   ]
  }
 ],
 "metadata": {
  "kernelspec": {
   "display_name": "Python 3",
   "language": "python",
   "name": "python3"
  },
  "language_info": {
   "codemirror_mode": {
    "name": "ipython",
    "version": 3
   },
   "file_extension": ".py",
   "mimetype": "text/x-python",
   "name": "python",
   "nbconvert_exporter": "python",
   "pygments_lexer": "ipython3",
   "version": "3.8.3"
  }
 },
 "nbformat": 4,
 "nbformat_minor": 4
}
