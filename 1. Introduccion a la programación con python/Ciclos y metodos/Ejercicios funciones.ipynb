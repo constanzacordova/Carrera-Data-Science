{
 "cells": [
  {
   "cell_type": "code",
   "execution_count": null,
   "metadata": {},
   "outputs": [],
   "source": [
    "for i in range(1,11):\n",
    "    for j in range(1,11):\n",
    "        print(f\"{i} * {j} = {i*j}\")"
   ]
  },
  {
   "cell_type": "code",
   "execution_count": null,
   "metadata": {},
   "outputs": [],
   "source": [
    "combinacion = 0\n",
    "for i in range(1,7):\n",
    "    for j in range(1,7):\n",
    "        combinacion += 1\n",
    "        print(f\"{i} y {j} es la combinación {combinacion}\" )\n",
    "        "
   ]
  },
  {
   "cell_type": "code",
   "execution_count": null,
   "metadata": {},
   "outputs": [],
   "source": [
    "import random\n",
    "\n",
    "ancho = int(input(\"Ingrese un numero: \"))\n",
    "\n",
    "salida = \"\"\n",
    "\n",
    "if ancho <10:\n",
    "    ancho = 10\n",
    "    \n",
    "for i in range(1,10):\n",
    "    nro_random1 = random.randint(i,ancho)\n",
    "    salida += \" \"*nro_random1+\"*\"+\"\\n\"\n",
    "    \n",
    "    for j in range (1, i):\n",
    "        nro_random2 = random.randint(j, ancho)\n",
    "        salida += \" \" * nro_random2 + \"/\" + \"\\n\"\n",
    "\n",
    "print(salida)    "
   ]
  },
  {
   "cell_type": "code",
   "execution_count": null,
   "metadata": {},
   "outputs": [],
   "source": [
    "#cuadrado\n",
    "n = int(input(\"Ingrese amcho: \"))\n",
    "linea = \"\"\n",
    "for i in range(n):\n",
    "    linea += \"*\"\n",
    "print(linea)\n",
    "for i in range(n-2):\n",
    "    cuerpo = \"*\"+\" \"*(n-2)+\"*\"\n",
    "    print(cuerpo)\n",
    "print(linea)"
   ]
  },
  {
   "cell_type": "code",
   "execution_count": 2,
   "metadata": {},
   "outputs": [],
   "source": [
    "def flecha(n):\n",
    "\n",
    "    contenido = \"\"\n",
    "\n",
    "    for i in range(n+1):\n",
    "        contenido = \"*\"*i\n",
    "        print(contenido)\n",
    "\n",
    "    for i in range(n):\n",
    "        for j in range(n-i):\n",
    "            invertido = \"\"    \n",
    "            invertido += \"*\"*j\n",
    "        print(invertido)"
   ]
  },
  {
   "cell_type": "code",
   "execution_count": 3,
   "metadata": {},
   "outputs": [
    {
     "name": "stdout",
     "output_type": "stream",
     "text": [
      "\n",
      "*\n",
      "**\n",
      "***\n",
      "****\n",
      "*****\n",
      "******\n",
      "*******\n",
      "********\n",
      "*********\n",
      "**********\n",
      "***********\n",
      "************\n",
      "*************\n",
      "**************\n",
      "***************\n",
      "****************\n",
      "*****************\n",
      "******************\n",
      "*******************\n",
      "********************\n",
      "*********************\n",
      "**********************\n",
      "***********************\n",
      "************************\n",
      "*************************\n",
      "**************************\n",
      "***************************\n",
      "****************************\n",
      "*****************************\n",
      "******************************\n",
      "*******************************\n",
      "********************************\n",
      "*********************************\n",
      "**********************************\n",
      "***********************************\n",
      "************************************\n",
      "*************************************\n",
      "**************************************\n",
      "***************************************\n",
      "****************************************\n",
      "*****************************************\n",
      "******************************************\n",
      "*******************************************\n",
      "********************************************\n",
      "*********************************************\n",
      "**********************************************\n",
      "***********************************************\n",
      "************************************************\n",
      "*************************************************\n",
      "**************************************************\n",
      "*************************************************\n",
      "************************************************\n",
      "***********************************************\n",
      "**********************************************\n",
      "*********************************************\n",
      "********************************************\n",
      "*******************************************\n",
      "******************************************\n",
      "*****************************************\n",
      "****************************************\n",
      "***************************************\n",
      "**************************************\n",
      "*************************************\n",
      "************************************\n",
      "***********************************\n",
      "**********************************\n",
      "*********************************\n",
      "********************************\n",
      "*******************************\n",
      "******************************\n",
      "*****************************\n",
      "****************************\n",
      "***************************\n",
      "**************************\n",
      "*************************\n",
      "************************\n",
      "***********************\n",
      "**********************\n",
      "*********************\n",
      "********************\n",
      "*******************\n",
      "******************\n",
      "*****************\n",
      "****************\n",
      "***************\n",
      "**************\n",
      "*************\n",
      "************\n",
      "***********\n",
      "**********\n",
      "*********\n",
      "********\n",
      "*******\n",
      "******\n",
      "*****\n",
      "****\n",
      "***\n",
      "**\n",
      "*\n",
      "\n"
     ]
    }
   ],
   "source": [
    "flecha(50)"
   ]
  },
  {
   "cell_type": "code",
   "execution_count": null,
   "metadata": {
    "scrolled": true
   },
   "outputs": [],
   "source": [
    "def imprimir_menu():\n",
    "    print('Menú: Escoja una acción')\n",
    "    print('-' * 20)\n",
    "    print('1) Acción 1')\n",
    "    print('2) Acción 2')\n",
    "    print('Escribe \"Salir\" para terminar el programa')\n",
    "    print()\n",
    "    \n",
    "opt_menu = 'cualquier valor'\n",
    "\n",
    "while opt_menu != 'salir' and opt_menu != 'Salir':\n",
    "    imprimir_menu() # Se llama a la función\n",
    "    opt_menu = input()\n",
    "    if opt_menu == '1':\n",
    "        print('Realizando acción 1')\n",
    "    elif opt_menu == '2':\n",
    "        print('Realizando acción 2')    \n",
    "    elif opt_menu == 'salir' or opt_menu == 'Salir':\n",
    "        print('Saliendo')\n",
    "    else:\n",
    "        print('Opción inválida')    \n",
    "        \n",
    "    print()"
   ]
  },
  {
   "cell_type": "code",
   "execution_count": null,
   "metadata": {},
   "outputs": [],
   "source": [
    "opt_menu = 'cualquier valor'\n",
    "\n",
    "while opt_menu != 'salir' and opt_menu != 'Salir':\n",
    "    imprimir_menu() # Se llama a la función\n",
    "    opt_menu = input()\n",
    "    if opt_menu == '1':\n",
    "        print('Realizando acción 1')\n",
    "    elif opt_menu == '2':\n",
    "        print('Realizando acción 2')    \n",
    "    elif opt_menu == 'salir' or opt_menu == 'Salir':\n",
    "        print('Saliendo')\n",
    "    else:\n",
    "        print('Opción inválida')    \n",
    "        \n",
    "    print()"
   ]
  },
  {
   "cell_type": "code",
   "execution_count": 16,
   "metadata": {},
   "outputs": [],
   "source": [
    "def sumatoria(n = 100):\n",
    "    suma = 0\n",
    "    for i in range(1,n+1):\n",
    "        suma += i\n",
    "    print(suma)"
   ]
  },
  {
   "cell_type": "code",
   "execution_count": 17,
   "metadata": {},
   "outputs": [
    {
     "name": "stdout",
     "output_type": "stream",
     "text": [
      "5050\n",
      "15\n",
      "6\n"
     ]
    }
   ],
   "source": [
    "sumatoria()\n",
    "\n",
    "sumatoria(5)\n",
    "\n",
    "sumatoria(3)"
   ]
  },
  {
   "cell_type": "code",
   "execution_count": 28,
   "metadata": {},
   "outputs": [],
   "source": [
    "import string\n",
    "\n",
    "def gen(n):\n",
    "    abc= string.ascii_lowercase\n",
    "    concatenar = \"\"\n",
    "    if n > 26:\n",
    "        n = 26\n",
    "    for i in range(n):\n",
    "        concatenar += abc[int(i)]\n",
    "\n",
    "    return concatenar"
   ]
  },
  {
   "cell_type": "code",
   "execution_count": null,
   "metadata": {},
   "outputs": [],
   "source": []
  }
 ],
 "metadata": {
  "kernelspec": {
   "display_name": "Python 3",
   "language": "python",
   "name": "python3"
  },
  "language_info": {
   "codemirror_mode": {
    "name": "ipython",
    "version": 3
   },
   "file_extension": ".py",
   "mimetype": "text/x-python",
   "name": "python",
   "nbconvert_exporter": "python",
   "pygments_lexer": "ipython3",
   "version": "3.8.3"
  }
 },
 "nbformat": 4,
 "nbformat_minor": 4
}
