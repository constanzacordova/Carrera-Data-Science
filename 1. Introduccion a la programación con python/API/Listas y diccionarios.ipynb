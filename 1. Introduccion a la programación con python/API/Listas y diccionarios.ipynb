{
 "cells": [
  {
   "cell_type": "code",
   "execution_count": 4,
   "metadata": {},
   "outputs": [
    {
     "data": {
      "text/plain": [
       "5"
      ]
     },
     "execution_count": 4,
     "metadata": {},
     "output_type": "execute_result"
    }
   ],
   "source": [
    "nombres = [\"Alumno1\", \"Alumno2\", \"Alumno3\"]\n",
    "notas = [5,6,7]\n",
    "\n",
    "index = nombres.index(\"Alumno1\")\n",
    "index\n",
    "\n",
    "nota_alumno = notas[index]\n",
    "nota_alumno\n",
    "______________________________________________\n",
    "notas_alumnos = dict(zip(nombres,notas))\n",
    "notas_alumnos[\"Alumno1\"]"
   ]
  },
  {
   "cell_type": "code",
   "execution_count": 7,
   "metadata": {},
   "outputs": [
    {
     "data": {
      "text/plain": [
       "{'k1': 1, 'k2': 7}"
      ]
     },
     "execution_count": 7,
     "metadata": {},
     "output_type": "execute_result"
    }
   ],
   "source": [
    "#Convertir diccionario en lista\n",
    "list({\"k1\": 1, \"k2\":7}.items())  #Nos devuelve una lista con una tupla\n",
    "\n",
    "#Convertir lista con tupla\n",
    "\n",
    "dict([('k1', 1), ('k2', 7)])"
   ]
  },
  {
   "cell_type": "code",
   "execution_count": 8,
   "metadata": {},
   "outputs": [
    {
     "name": "stdout",
     "output_type": "stream",
     "text": [
      "{'Alumno1': 10, 'Alumno2': 3, 'Alumno3': 8}\n"
     ]
    }
   ],
   "source": [
    "# Iterando listas simultaneas\n",
    "\n",
    "nombres = ['Alumno1', 'Alumno2', 'Alumno3']\n",
    "notas = [10, 3, 8]\n",
    "\n",
    "notas_por_alumno = {}\n",
    "for i in range(len(nombres)):\n",
    "    alumno = nombres[i]\n",
    "    nota = notas[i]\n",
    "    notas_por_alumno[alumno] = nota\n",
    "    \n",
    "print(notas_por_alumno)"
   ]
  },
  {
   "cell_type": "code",
   "execution_count": 5,
   "metadata": {},
   "outputs": [
    {
     "data": {
      "text/plain": [
       "{1: ['a', 'y'], 3: ['uno'], 4: ['hola', 'cada'], 5: ['todos']}"
      ]
     },
     "execution_count": 5,
     "metadata": {},
     "output_type": "execute_result"
    }
   ],
   "source": [
    "# USO DE GROUPBY\n",
    "\n",
    "#SIrve para convertir listas a diccionarios, se debe importar\n",
    "\n",
    "from itertools import groupby\n",
    "\n",
    "#Lo que hace es retornar llaves consecutivas y sus valores asociados\n",
    "#Crea grupos en que todos sus datos sean iguales, iterando elemento a elemento almacenando una estrucutra\n",
    "#Crea otro grupo cuando encuentra otro elemento diferente\n",
    "\n",
    "[(k, list(g)) for k,g in groupby(\"AAAABBBCACD\")] #Convertimos en lista\n",
    "\n",
    "#Out [('A', ['A', 'A', 'A', 'A']),\n",
    "     #('B', ['B', 'B', 'B']),\n",
    "     #('C', ['C', 'C']),\n",
    "     #('D', ['D'])]\n",
    "    \n",
    "{k: len(list(g)) for k,g in groupby(\"AAAABBBCCD\")} #Convertimos en diccionario\n",
    "\n",
    "#Out {'A': 4, 'B': 3, 'C': 2, 'D': 1}\n",
    "\n",
    "words = [\"hola\", \"a\", \"todos\", \"y\", \"cada\", \"uno\"]\n",
    "#Agrupar palabras segun su salrgo\n",
    "# segundo argumento en el parametro key (es un parametro opcional de groupby, en este casoo le estamos diciendo que la salida es el len)\n",
    "{ k: list(v) for k,v in groupby(words, key=len)}\n",
    "\n",
    "words.sort(key = lambda x : len(x) ) #ordenar por largo\n",
    "{ k: list(v) for k,v in groupby(words, key=len)}"
   ]
  },
  {
   "cell_type": "code",
   "execution_count": 10,
   "metadata": {},
   "outputs": [
    {
     "data": {
      "text/plain": [
       "{1: 1, 2: 3, 3: 2, 4: 1, 5: 1, 6: 1, 7: 2, 8: 1}"
      ]
     },
     "execution_count": 10,
     "metadata": {},
     "output_type": "execute_result"
    }
   ],
   "source": [
    "#Contandxo elementos dentro de diccionario\n",
    "\n",
    "lista = [1,2,3,7,2,6,4,3,5,7,8,2]\n",
    "\n",
    "#estrategia 1: iterar y contar, c/v q se encuentre un elemento nuevo en el cliclo se \n",
    "diccionario = {}\n",
    "for i in lista:\n",
    "    if i in diccionario:\n",
    "        diccionario[i] += 1\n",
    "    else:\n",
    "        diccionario[i] = 1\n",
    "    \n",
    "diccionario\n",
    "\n",
    "#estrategia 2: ordenar lista y usar groupby\n",
    "from itertools import groupby\n",
    "\n",
    "lista.sort()\n",
    "diccionario = {k: len(list(v)) for k, v in groupby(lista)}\n",
    "diccionario\n"
   ]
  },
  {
   "cell_type": "code",
   "execution_count": 11,
   "metadata": {},
   "outputs": [
    {
     "data": {
      "text/plain": [
       "{'erizo': 1, 'gato': 1, 'perro': 1}"
      ]
     },
     "execution_count": 11,
     "metadata": {},
     "output_type": "execute_result"
    }
   ],
   "source": [
    "animales = [\"perro\", \"gato\", \"erizo\"]\n",
    "animales.sort()\n",
    "\n",
    "diccionario = {key : len(list(value)) for key, value in groupby(animales)}\n",
    "diccionario"
   ]
  }
 ],
 "metadata": {
  "kernelspec": {
   "display_name": "Python 3",
   "language": "python",
   "name": "python3"
  },
  "language_info": {
   "codemirror_mode": {
    "name": "ipython",
    "version": 3
   },
   "file_extension": ".py",
   "mimetype": "text/x-python",
   "name": "python",
   "nbconvert_exporter": "python",
   "pygments_lexer": "ipython3",
   "version": "3.8.3"
  }
 },
 "nbformat": 4,
 "nbformat_minor": 4
}
