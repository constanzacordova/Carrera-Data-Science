{
 "cells": [
  {
   "cell_type": "markdown",
   "metadata": {},
   "source": [
    "## Desafío - Ventas\n",
    "\n",
    "<ul>\n",
    "    <li> Karen Cortés </li>\n",
    "    <li> Constanza Córdova </li>\n",
    "    <li> Gustavo Lizama </li>\n",
    "</ul>"
   ]
  },
  {
   "cell_type": "markdown",
   "metadata": {},
   "source": [
    "Considerar este diccionario para todos los siguientes ejercicios:"
   ]
  },
  {
   "cell_type": "code",
   "execution_count": 1,
   "metadata": {},
   "outputs": [],
   "source": [
    "ventas = {\n",
    "\"Enero\": 15000,\n",
    "\"Febrero\": 22000,\n",
    "\"Marzo\": 12000,\n",
    "\"Abril\": 17000,\n",
    "\"Mayo\": 81000,\n",
    "\"Junio\": 13000,\n",
    "\"Julio\": 21000,\n",
    "\"Agosto\": 41200,\n",
    "\"Septiembre\": 25000,\n",
    "\"Octubre\": 21500,\n",
    "\"Noviembre\": 91000,\n",
    "\"Diciembre\": 21000,\n",
    "}"
   ]
  },
  {
   "cell_type": "markdown",
   "metadata": {},
   "source": [
    "## 1. crear programa iter1\n",
    "\n",
    "Se solicita iterar el diccionario ventas y mostrar en pantalla todas los ventas superiores a 45000 (sólo el valor de la venta)\n"
   ]
  },
  {
   "cell_type": "code",
   "execution_count": 14,
   "metadata": {},
   "outputs": [
    {
     "name": "stdout",
     "output_type": "stream",
     "text": [
      "81000\n",
      "91000\n"
     ]
    }
   ],
   "source": [
    "#Iter1\n",
    "#Ventas mayor a 45000\n",
    "\n",
    "for mes, monto in ventas.items():\n",
    "    if monto > 45000:\n",
    "        print(monto)"
   ]
  },
  {
   "cell_type": "markdown",
   "metadata": {},
   "source": [
    "## 2. crear programa iter2\n",
    "\n",
    "Iterar el diccionario ventas y mostrar en pantalla todos los meses cuyas ventas sean superiores a 45000."
   ]
  },
  {
   "cell_type": "code",
   "execution_count": 15,
   "metadata": {
    "scrolled": true
   },
   "outputs": [
    {
     "name": "stdout",
     "output_type": "stream",
     "text": [
      "Mayo\n",
      "Noviembre\n"
     ]
    }
   ],
   "source": [
    "#Iter2\n",
    "#Ventas mayor a 45000\n",
    "\n",
    "for mes, monto in ventas.items():\n",
    "    if monto > 45000:\n",
    "        print(mes)"
   ]
  },
  {
   "cell_type": "markdown",
   "metadata": {},
   "source": [
    "## 3. crear programa iter3\n",
    "\n",
    "Se pide crear un programa llamado iter3.py , que contenga un método llamado filter y que reciba 2 argumentos, un diccionario y un valor a filtrar, este método tiene que devolver un diccionario nuevo con los valores superiores al valor ingresado al momento de llamar al programa"
   ]
  },
  {
   "cell_type": "code",
   "execution_count": 19,
   "metadata": {},
   "outputs": [
    {
     "data": {
      "text/plain": [
       "{'Mayo': 81000, 'Agosto': 41200, 'Noviembre': 91000}"
      ]
     },
     "execution_count": 19,
     "metadata": {},
     "output_type": "execute_result"
    }
   ],
   "source": [
    "#Iter3\n",
    "#Filtrado por valor \n",
    "\n",
    "def custom_filter(diccionario, filtro):\n",
    "\n",
    "    diccionario_2 = dict(filter(lambda i : i[1] > filtro, diccionario.items()))\n",
    "\n",
    "    return diccionario_2\n",
    "\n",
    "custom_filter(ventas, 30000)"
   ]
  },
  {
   "cell_type": "markdown",
   "metadata": {},
   "source": [
    "## 4. Busqueda\n",
    "Crear un programa llamado busqueda.py que pueda buscar a cuál mes pertenece una o mas cifras específicas. En caso de no encontrarlo mostrar el mensaje \"no encontrado\""
   ]
  },
  {
   "cell_type": "code",
   "execution_count": 13,
   "metadata": {},
   "outputs": [
    {
     "name": "stdout",
     "output_type": "stream",
     "text": [
      "Enero\n",
      "Septiembre\n",
      "no encontrado\n"
     ]
    }
   ],
   "source": [
    "#busqueda \n",
    "\n",
    "import sys \n",
    "\n",
    "lista_busqueda = sys.argv[1:]\n",
    "\n",
    "ventas_inv = dict(zip(ventas.values(),ventas.keys()))\n",
    "\n",
    "for i in lista_busqueda:\n",
    "    if int(i) in ventas_inv:\n",
    "        print(ventas_inv[int(i)])\n",
    "        \n",
    "    else:\n",
    "        print(\"no encontrado\")\n"
   ]
  },
  {
   "cell_type": "markdown",
   "metadata": {},
   "source": [
    "## 5. Quarters\n",
    "\n",
    "Se pide generar un diccionario, llamado quarters , con las ventas de cada trimestre. Las claves tienen que ser \"Q1\" , \"Q2\" , \"Q3\" , \"Q4\" ."
   ]
  },
  {
   "cell_type": "code",
   "execution_count": 68,
   "metadata": {},
   "outputs": [
    {
     "data": {
      "text/plain": [
       "{'Q1': 49000, 'Q2': 111000, 'Q3': 87200, 'Q4': 133500}"
      ]
     },
     "execution_count": 68,
     "metadata": {},
     "output_type": "execute_result"
    }
   ],
   "source": [
    "#quarters\n",
    "\n",
    "quarters = {}  #Diccionario que vamos a crear\n",
    "\n",
    "#modelo de diccionario de cuartiles, \n",
    "#q1, q2, q3 y q4 corresponden a la lista de meses que pertenecen a cada cuartil\n",
    "cuartiles = {\"Q1\": q1, \"Q2\": q2, \"Q3\": q3, \"Q4\": q4 } \n",
    "q1 = [\"Enero\", \"Febrero\", \"Marzo\"]\n",
    "q2 = [\"Abril\", \"Mayo\", \"Junio\"]\n",
    "q3 = [\"Julio\", \"Agosto\", \"Septiembre\"]\n",
    "q4 = [\"Octubre\", \"Noviembre\", \"Diciembre\"]\n",
    "\n",
    "\n",
    "for cuartil, trimestre in cuartiles.items():\n",
    "    monto = 0 #Creamos una variable para contener la suma de ventas del cuartil\n",
    "    for mes in trimestre: #Para el mes de la lista del cuartil \n",
    "        if mes in ventas: #si el mes se encuentra en el diccionario ventas, se sumará la venta de ese mes a la variable monto\n",
    "            monto += ventas[mes]\n",
    "    quarters[cuartil] = monto #Se agrega el monto de venta por cuartil al diccionario quarters\n",
    "\n",
    "    \n",
    "\n",
    "quarters"
   ]
  },
  {
   "cell_type": "markdown",
   "metadata": {},
   "source": [
    "## 6. Agrupados\n",
    "Se solicita generar un diccionario con \"n\" claves, una para cada posible valor de venta dentro del diccionario.\n",
    "\n",
    "Para cada clave generada, se debe indicar cuántas veces estuvo presente ese valo"
   ]
  },
  {
   "cell_type": "code",
   "execution_count": 69,
   "metadata": {},
   "outputs": [
    {
     "data": {
      "text/plain": [
       "{12000: 1,\n",
       " 13000: 1,\n",
       " 15000: 1,\n",
       " 17000: 1,\n",
       " 21000: 2,\n",
       " 21500: 1,\n",
       " 22000: 1,\n",
       " 25000: 1,\n",
       " 41200: 1,\n",
       " 81000: 1,\n",
       " 91000: 1}"
      ]
     },
     "execution_count": 69,
     "metadata": {},
     "output_type": "execute_result"
    }
   ],
   "source": [
    "#Agrupados\n",
    "\n",
    "from itertools import groupby\n",
    "\n",
    "valores_ventas = ventas.values() # se extraen solo los valores del diccionario\n",
    "\n",
    "lista_valores = list(valores_ventas) # se transforma el diccionario en una lista\n",
    "lista_valores.sort() # se ordenan los valores\n",
    "\n",
    "diccionario = {k : len(list(g)) for k,g in groupby(lista_valores)} # se cuentan las ocurencias de los valores\n",
    "\n",
    "diccionario"
   ]
  }
 ],
 "metadata": {
  "kernelspec": {
   "display_name": "Python 3",
   "language": "python",
   "name": "python3"
  },
  "language_info": {
   "codemirror_mode": {
    "name": "ipython",
    "version": 3
   },
   "file_extension": ".py",
   "mimetype": "text/x-python",
   "name": "python",
   "nbconvert_exporter": "python",
   "pygments_lexer": "ipython3",
   "version": "3.8.3"
  }
 },
 "nbformat": 4,
 "nbformat_minor": 4
}
