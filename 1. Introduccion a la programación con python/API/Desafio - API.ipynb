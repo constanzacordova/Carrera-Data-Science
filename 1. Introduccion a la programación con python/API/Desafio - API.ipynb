{
 "cells": [
  {
   "cell_type": "code",
   "execution_count": 74,
   "metadata": {},
   "outputs": [
    {
     "data": {
      "text/plain": [
       "{'page': 1,\n",
       " 'per_page': 6,\n",
       " 'total': 12,\n",
       " 'total_pages': 2,\n",
       " 'data': [{'id': 1,\n",
       "   'email': 'george.bluth@reqres.in',\n",
       "   'first_name': 'George',\n",
       "   'last_name': 'Bluth',\n",
       "   'avatar': 'https://s3.amazonaws.com/uifaces/faces/twitter/calebogden/128.jpg'},\n",
       "  {'id': 2,\n",
       "   'email': 'janet.weaver@reqres.in',\n",
       "   'first_name': 'Janet',\n",
       "   'last_name': 'Weaver',\n",
       "   'avatar': 'https://s3.amazonaws.com/uifaces/faces/twitter/josephstein/128.jpg'},\n",
       "  {'id': 3,\n",
       "   'email': 'emma.wong@reqres.in',\n",
       "   'first_name': 'Emma',\n",
       "   'last_name': 'Wong',\n",
       "   'avatar': 'https://s3.amazonaws.com/uifaces/faces/twitter/olegpogodaev/128.jpg'},\n",
       "  {'id': 4,\n",
       "   'email': 'eve.holt@reqres.in',\n",
       "   'first_name': 'Eve',\n",
       "   'last_name': 'Holt',\n",
       "   'avatar': 'https://s3.amazonaws.com/uifaces/faces/twitter/marcoramires/128.jpg'},\n",
       "  {'id': 5,\n",
       "   'email': 'charles.morris@reqres.in',\n",
       "   'first_name': 'Charles',\n",
       "   'last_name': 'Morris',\n",
       "   'avatar': 'https://s3.amazonaws.com/uifaces/faces/twitter/stephenmoon/128.jpg'},\n",
       "  {'id': 6,\n",
       "   'email': 'tracey.ramos@reqres.in',\n",
       "   'first_name': 'Tracey',\n",
       "   'last_name': 'Ramos',\n",
       "   'avatar': 'https://s3.amazonaws.com/uifaces/faces/twitter/bigmancho/128.jpg'}],\n",
       " 'ad': {'company': 'StatusCode Weekly',\n",
       "  'url': 'http://statuscode.org/',\n",
       "  'text': 'A weekly newsletter focusing on software development, infrastructure, the server, performance, and the stack end of things.'}}"
      ]
     },
     "execution_count": 74,
     "metadata": {},
     "output_type": "execute_result"
    }
   ],
   "source": [
    "# fake_request\n",
    "import requests\n",
    "\n",
    "def request(method, url, payload = \"\"):\n",
    "    \n",
    "    response = requests.request(method, url, data = payload)\n",
    "       \n",
    "    if method == \"GET\" or method == \"PUT\" or method == \"POST\":\n",
    "        return response.json()\n",
    "    \n",
    "    elif method == \"DELETE\":\n",
    "        return response\n",
    "\n",
    "\n",
    "metodo = 'GET'\n",
    "url = \"https://reqres.in/api/users\"\n",
    "\n",
    "resultado = request(metodo, url)\n",
    "resultado"
   ]
  },
  {
   "cell_type": "code",
   "execution_count": 75,
   "metadata": {},
   "outputs": [
    {
     "data": {
      "text/plain": [
       "[{'id': 1,\n",
       "  'email': 'george.bluth@reqres.in',\n",
       "  'first_name': 'George',\n",
       "  'last_name': 'Bluth',\n",
       "  'avatar': 'https://s3.amazonaws.com/uifaces/faces/twitter/calebogden/128.jpg'},\n",
       " {'id': 2,\n",
       "  'email': 'janet.weaver@reqres.in',\n",
       "  'first_name': 'Janet',\n",
       "  'last_name': 'Weaver',\n",
       "  'avatar': 'https://s3.amazonaws.com/uifaces/faces/twitter/josephstein/128.jpg'},\n",
       " {'id': 3,\n",
       "  'email': 'emma.wong@reqres.in',\n",
       "  'first_name': 'Emma',\n",
       "  'last_name': 'Wong',\n",
       "  'avatar': 'https://s3.amazonaws.com/uifaces/faces/twitter/olegpogodaev/128.jpg'},\n",
       " {'id': 4,\n",
       "  'email': 'eve.holt@reqres.in',\n",
       "  'first_name': 'Eve',\n",
       "  'last_name': 'Holt',\n",
       "  'avatar': 'https://s3.amazonaws.com/uifaces/faces/twitter/marcoramires/128.jpg'},\n",
       " {'id': 5,\n",
       "  'email': 'charles.morris@reqres.in',\n",
       "  'first_name': 'Charles',\n",
       "  'last_name': 'Morris',\n",
       "  'avatar': 'https://s3.amazonaws.com/uifaces/faces/twitter/stephenmoon/128.jpg'},\n",
       " {'id': 6,\n",
       "  'email': 'tracey.ramos@reqres.in',\n",
       "  'first_name': 'Tracey',\n",
       "  'last_name': 'Ramos',\n",
       "  'avatar': 'https://s3.amazonaws.com/uifaces/faces/twitter/bigmancho/128.jpg'}]"
      ]
     },
     "execution_count": 75,
     "metadata": {},
     "output_type": "execute_result"
    }
   ],
   "source": [
    "resultado_2 = request(\"GET\", url)\n",
    "lista_usr = resultado_2[\"data\"]\n",
    "lista_usr"
   ]
  },
  {
   "cell_type": "code",
   "execution_count": 68,
   "metadata": {},
   "outputs": [
    {
     "name": "stdout",
     "output_type": "stream",
     "text": [
      "{'id': '329', 'createdAt': '2020-10-09T00:48:00.827Z'}\n"
     ]
    }
   ],
   "source": [
    "url = \"https://reqres.in/api/users\"\n",
    "payload = \"{\\r\\n    \\\"name\\\": \\\"morpheus\\\",\\r\\n    \\\"job\\\": \\\"leader\\\"\\r\\n}\"\n",
    "\n",
    "resultado_3 = request(\"POST\", url, payload)\n",
    "print(resultado_3)"
   ]
  },
  {
   "cell_type": "code",
   "execution_count": 59,
   "metadata": {},
   "outputs": [
    {
     "name": "stdout",
     "output_type": "stream",
     "text": [
      "{'name': 'morpheus', 'job': 'zion resident', 'updatedAt': '2020-10-08T14:18:31.295Z'}\n"
     ]
    }
   ],
   "source": [
    "url = \"https://reqres.in/api/users\"\n",
    "payload = \"{\\r\\n    \\\"name\\\": \\\"morpheus\\\",\\r\\n    \\\"job\\\": \\\"zion resident\\\"\\r\\n}\"\n",
    "\n",
    "resultado_4 = request(\"PUT\", url, payload)\n",
    "print(resultado_4)"
   ]
  },
  {
   "cell_type": "code",
   "execution_count": 60,
   "metadata": {},
   "outputs": [
    {
     "name": "stdout",
     "output_type": "stream",
     "text": [
      "<Response [204]>\n"
     ]
    }
   ],
   "source": [
    "url = \"https://reqres.in/api/users\"\n",
    "payload = \"{\\r\\n    \\\"name\\\": \\\"morpheus\\\",\\r\\n    \\\"job\\\": \\\"zion resident\\\"\\r\\n}\"\n",
    "\n",
    "resultado_5 = request(\"DELETE\", url, payload)\n",
    "print(resultado_5)"
   ]
  }
 ],
 "metadata": {
  "kernelspec": {
   "display_name": "Python 3",
   "language": "python",
   "name": "python3"
  },
  "language_info": {
   "codemirror_mode": {
    "name": "ipython",
    "version": 3
   },
   "file_extension": ".py",
   "mimetype": "text/x-python",
   "name": "python",
   "nbconvert_exporter": "python",
   "pygments_lexer": "ipython3",
   "version": "3.8.3"
  }
 },
 "nbformat": 4,
 "nbformat_minor": 4
}
