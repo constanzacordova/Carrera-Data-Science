{
 "cells": [
  {
   "cell_type": "code",
   "execution_count": 3,
   "metadata": {},
   "outputs": [
    {
     "data": {
      "text/plain": [
       "10"
      ]
     },
     "execution_count": 3,
     "metadata": {},
     "output_type": "execute_result"
    }
   ],
   "source": [
    "a = {\"clave\":10}\n",
    "a[\"clave\"] \n"
   ]
  },
  {
   "cell_type": "code",
   "execution_count": 12,
   "metadata": {},
   "outputs": [
    {
     "data": {
      "text/plain": [
       "{'Camila': 4, 'Antonia': 5, 'Felipe': 5}"
      ]
     },
     "execution_count": 12,
     "metadata": {},
     "output_type": "execute_result"
    }
   ],
   "source": [
    "#Conociendo diccionarios\n",
    "\n",
    "notas = {\"Camila\":7, \"Antonia\":5, \"Felipe\":5}\n",
    "\n",
    "notas[\"Antonia\"]\n",
    "\n",
    "#Para agregar una clave, se asigna una nueva clave y se le da el valor\n",
    "\n",
    "notas[\"Constanza\"] = 7\n",
    "#output = {'Camila': 7, 'Antonia': 5, 'Felipe': 5, 'Constanza': 7}\n",
    "\n",
    "#si repito la clave, se mantiene la última asignación\n",
    "notas = {\"Camila\":7, \"Antonia\":5, \"Felipe\":5, \"Camila\":4}\n",
    "#out {'Camila': 4, 'Antonia': 5, 'Felipe': 5}\n",
    "\n",
    "notas"
   ]
  },
  {
   "cell_type": "code",
   "execution_count": 19,
   "metadata": {},
   "outputs": [
    {
     "name": "stdout",
     "output_type": "stream",
     "text": [
      "nombre\n",
      "apellido\n",
      "Juan\n",
      "Perez\n",
      "nombre Juan\n",
      "apellido Perez\n"
     ]
    }
   ],
   "source": [
    "#Iterar un diccionario\n",
    "\n",
    "#La variable iteradora tomará la llave \n",
    "\n",
    "diccionario = {\"nombre\": \"Juan\",\"apellido\": \"Perez\"}\n",
    "\n",
    "for i in diccionario: #el iterador recorre la clave\n",
    "    print(i)\n",
    "    \n",
    "for i in diccionario: \n",
    "        valor = diccionario[i]\n",
    "        print(valor)\n",
    "    \n",
    "\"nombre\" in diccionario #operador in busca la existencia de la clave\n",
    "\n",
    "for clave, valor in diccionario.items(): #el metodo .items() me entrega clave y valor\n",
    "    print(clave, valor)"
   ]
  },
  {
   "cell_type": "code",
   "execution_count": 20,
   "metadata": {},
   "outputs": [
    {
     "name": "stdout",
     "output_type": "stream",
     "text": [
      "Mexico\n",
      "Chile\n",
      "Argentina\n",
      "Mexico 65\n"
     ]
    }
   ],
   "source": [
    "#Ejercicio 1\n",
    "\n",
    "usuarios_por_pais = {\"Mexico\":65,\"Chile\":50,\"Argentina\":55}\n",
    "\n",
    "for pais in usuarios_por_pais:\n",
    "    print(pais)\n",
    "    \n",
    "\n",
    "for pais, usuarios in usuarios_por_pais.items():\n",
    "    if usuarios > 60:\n",
    "        print(pais,usuarios)\n",
    "        "
   ]
  },
  {
   "cell_type": "code",
   "execution_count": 28,
   "metadata": {},
   "outputs": [
    {
     "name": "stdout",
     "output_type": "stream",
     "text": [
      "{'Octubre': 71500.0, 'Noviembre': 74800.0, 'Diciembre': 79200.0}\n",
      "{'Octubre': 57200.0, 'Noviembre': 59840.0, 'Diciembre': 63360.0}\n"
     ]
    }
   ],
   "source": [
    "# Ejercicio 2 - Transformacion\n",
    "\n",
    "ventas_mensuales = {'Octubre': 65000, 'Noviembre' : 68000, 'Diciembre': 72000}\n",
    "\n",
    "for mes, venta in ventas_mensuales.items():\n",
    "    ventas_mensuales[mes] = venta*1.1\n",
    "    \n",
    "ventas_mensuales\n",
    "\n",
    "nueva_venta_mensuales = {}\n",
    "\n",
    "for mes, venta in ventas_mensuales.items():\n",
    "    nueva_venta_mensuales[mes] = venta*0.8\n",
    "\n",
    "print(ventas_mensuales)\n",
    "print(nueva_venta_mensuales)"
   ]
  },
  {
   "cell_type": "code",
   "execution_count": 31,
   "metadata": {},
   "outputs": [
    {
     "name": "stdout",
     "output_type": "stream",
     "text": [
      "{'Diciembre': 72000}\n"
     ]
    }
   ],
   "source": [
    "# Ejercicio 3 - Filtrado\n",
    "\n",
    "ventas_mensuales = {'Octubre': 65000, 'Noviembre' : 68000, 'Diciembre': 72000}\n",
    "\n",
    "def filtrar_valores_altos(diccionario):\n",
    "    diccionario_filtrado = {}\n",
    "    for clave, valor in diccionario.items():\n",
    "        if valor > 70000:\n",
    "            diccionario_filtrado[clave] = valor\n",
    "    return diccionario_filtrado\n",
    "\n",
    "print(filtrar_valores_altos(ventas_mensuales))\n",
    "        "
   ]
  },
  {
   "cell_type": "code",
   "execution_count": 32,
   "metadata": {},
   "outputs": [
    {
     "name": "stdout",
     "output_type": "stream",
     "text": [
      "{'celular': 140000, 'notebook': 489990, 'tablet': 120000, 'cargador': 15660.0} {'celular': 140000, 'notebook': 489990, 'tablet': 120000}\n"
     ]
    }
   ],
   "source": [
    "# Ejercicio 4 - Integración\n",
    "\n",
    "diccionario_productos = {\"celular\": 140000, \"notebook\": 489990, \"tablet\": 120000, \"cargador\": 17400}\n",
    "\n",
    "diccionario_caros = {}\n",
    "\n",
    "for producto, valor in diccionario_productos.items():\n",
    "    if valor < 120000:\n",
    "        diccionario_productos[producto] = valor*0.9\n",
    "    else: \n",
    "        diccionario_caros[producto] = valor\n",
    "        \n",
    "print(diccionario_productos, diccionario_caros)\n",
    "        "
   ]
  },
  {
   "cell_type": "code",
   "execution_count": 35,
   "metadata": {},
   "outputs": [
    {
     "data": {
      "text/plain": [
       "{'k1': 2, 'k2': 1}"
      ]
     },
     "execution_count": 35,
     "metadata": {},
     "output_type": "execute_result"
    }
   ],
   "source": [
    "a = dict(zip([\"k1\",\"k1\", \"k2\"],[1,2,1]))\n",
    "a"
   ]
  },
  {
   "cell_type": "code",
   "execution_count": 38,
   "metadata": {},
   "outputs": [
    {
     "data": {
      "text/plain": [
       "{'notebook': 489990, 'cargador': 17400}"
      ]
     },
     "execution_count": 38,
     "metadata": {},
     "output_type": "execute_result"
    }
   ],
   "source": [
    "# Eliminar elementos de un diccionario\n",
    "\n",
    "diccionario_productos = {\"celular\": 140000, \"notebook\": 489990, \"tablet\": 120000, \"cargador\": 17400}\n",
    "\n",
    "#Usando instruccion del\n",
    "\n",
    "del diccionario_productos[\"celular\"]\n",
    "diccionario_productos\n",
    "\n",
    "#Usando instrucción pop\n",
    "\n",
    "popeado = diccionario_productos.pop(\"tablet\")\n",
    "diccionario_productos"
   ]
  },
  {
   "cell_type": "code",
   "execution_count": 44,
   "metadata": {},
   "outputs": [
    {
     "data": {
      "text/plain": [
       "{'Nombre': 'Constanza', 'Apellido': 'Cordova', 'Edad': 26, 'Altura': 1.67}"
      ]
     },
     "execution_count": 44,
     "metadata": {},
     "output_type": "execute_result"
    }
   ],
   "source": [
    "#Unir diccionarios\n",
    "#Función update \n",
    "\n",
    "#  diccionario_original.update(\"diccionario_adicional\")\n",
    "\n",
    "a = {\"Nombre\": 'Constanza', \"Apellido\": \"Cordova\", \"Edad\" : 25}\n",
    "b = {\"Edad\" : 26, \"Altura\": 1.67}\n",
    "\n",
    "a.update(b)\n",
    "\n",
    "a\n"
   ]
  },
  {
   "cell_type": "code",
   "execution_count": 50,
   "metadata": {},
   "outputs": [
    {
     "data": {
      "text/plain": [
       "{'celular': 140000, 'notebook': 489990, 'tablet': 120000}"
      ]
     },
     "execution_count": 50,
     "metadata": {},
     "output_type": "execute_result"
    }
   ],
   "source": [
    "#Invertir diccionarios\n",
    "\n",
    "diccionario = {140000:\"celular\",489990:\"notebook\",120000:\"tablet\"}\n",
    "\n",
    "\n",
    "#Forma 1: Cambiar valores con una nueva variable\n",
    "diccionario_inv = {}\n",
    "\n",
    "for llave, valor in diccionario.items():\n",
    "    diccionario_inv[valor] = llave\n",
    "    \n",
    "diccionario_inv\n",
    "\n",
    "#Forma 2: Usando comprensiones de listas, la comprendión que se asignará es\n",
    "#llave es v y valor es k, para k y v en el diccionario original\n",
    "diccionario_inv1 = {v:k for k, v in diccionario.items()}\n",
    "diccionario_inv1"
   ]
  },
  {
   "cell_type": "code",
   "execution_count": 52,
   "metadata": {},
   "outputs": [
    {
     "data": {
      "text/plain": [
       "dict_values(['rojo', 'verde'])"
      ]
     },
     "execution_count": 52,
     "metadata": {},
     "output_type": "execute_result"
    }
   ],
   "source": [
    "#Obtener todas las claves y valores\n",
    "\n",
    "colores = {\"red\":\"rojo\", \"green\": \"verde\"}\n",
    "\n",
    "#funcion Keys: Entrega las claves\n",
    "colores.keys()\n",
    "# OUT: dict_keys(['red', 'green'])\n",
    "\n",
    "#funcion Values: Entrega los valores\n",
    "colores.values()\n",
    "\n",
    "# OUT: dict_values(['rojo', 'verde'])\n"
   ]
  },
  {
   "cell_type": "code",
   "execution_count": 53,
   "metadata": {},
   "outputs": [
    {
     "data": {
      "text/plain": [
       "{'k1': 2, 'k2': 1}"
      ]
     },
     "execution_count": 53,
     "metadata": {},
     "output_type": "execute_result"
    }
   ],
   "source": [
    "# Construir un diccionario a partir de claves y valores\n",
    "\n",
    "#funcion ZIP: unir dos listas\n",
    "#funcion DICT: convierte las listas en diccionario\n",
    "\n",
    "a = dict(zip([\"k1\",\"k1\", \"k2\"],[1,2,1]))\n",
    "a"
   ]
  },
  {
   "cell_type": "code",
   "execution_count": 58,
   "metadata": {},
   "outputs": [],
   "source": [
    "# Busqueda de colores\n",
    "\n",
    "colores = {\n",
    "\"aliceblue\": \"#f0f8ff\",\n",
    "\"antiquewhite\": \"#faebd7\",\n",
    "\"aqua\": \"#00ffff\",\n",
    "\"aquamarine\": \"#7fffd4\",\n",
    "\"azure\": \"#f0ffff\",\n",
    "\"darkorchid\": \"#9932cc\",\n",
    "\"darkred\": \"#8b0000\",\n",
    "\"darksalmon\": \"#e9967a\",\n",
    "\"navajowhite\": \"#ffdead\",\n",
    "\"navy\": \"#000080\",\n",
    "\"orchid\": \"#da70d6\",\n",
    "\"palegoldenrod\": \"#eee8aa\",\n",
    "\"peachpuff\": \"#ffdab9\",\n",
    "\"peru\": \"#cd853f\",\n",
    "\"pink\": \"#ffc0cb\",\n",
    "\"purple\": \"#800080\",\n",
    "\"rebeccapurple\": \"#663399\",\n",
    "\"red\": \"#ff0000\",\n",
    "\"saddlebrown\": \"#8b4513\",\n",
    "\"seashell\": \"#fff5ee\",\n",
    "\"sienna\": \"#a0522d\",\n",
    "\"silver\": \"#c0c0c0\",\n",
    "\"skyblue\": \"#87ceeb\",\n",
    "\"slateblue\": \"#6a5acd\",\n",
    "\"teal\": \"#008080\",\n",
    "\"thistle\": \"#d8bfd8\",\n",
    "\"tomato\": \"#ff6347\",\n",
    "\"turquoise\": \"#40e0d0\",\n",
    "\"violet\": \"#ee82ee\",\n",
    "\"wheat\": \"#f5deb3\",\n",
    "\"white\": \"#ffffff\",\n",
    "\"whitesmoke\": \"#f5f5f5\",\n",
    "\"yellow\": \"#ffff00\",\n",
    "\"yellowgreen\": \"#9acd32\",\n",
    "}\n"
   ]
  },
  {
   "cell_type": "code",
   "execution_count": 61,
   "metadata": {},
   "outputs": [
    {
     "name": "stdout",
     "output_type": "stream",
     "text": [
      "Ingrese hexa: ghjf\n",
      "no-no\n"
     ]
    }
   ],
   "source": [
    "search = input(\"Ingrese hexa: \")\n",
    "\n",
    "found = False #Variable plug, q cambia su valor booleano si se cumple la sentencia\n",
    "for color, hexa in colores.items():\n",
    "    if hexa == search:\n",
    "        found = True\n",
    "        print(color)\n",
    "        \n",
    "if not found:\n",
    "    print(\"no-no\")\n",
    "    "
   ]
  },
  {
   "cell_type": "code",
   "execution_count": 64,
   "metadata": {},
   "outputs": [
    {
     "name": "stdout",
     "output_type": "stream",
     "text": [
      "Ingrese hexa: dfs\n",
      "no-no\n"
     ]
    }
   ],
   "source": [
    "#Arreglo invertido, buscando por llave\n",
    "\n",
    "search = input(\"Ingrese hexa: \")\n",
    "\n",
    "colores_inv = { v:k for k, v in colores.items()}\n",
    "\n",
    "if search in colores_inv:\n",
    "    print(colores_inv[search])\n",
    "else: \n",
    "    print(\"no-no\")"
   ]
  },
  {
   "cell_type": "code",
   "execution_count": 74,
   "metadata": {},
   "outputs": [
    {
     "name": "stdout",
     "output_type": "stream",
     "text": [
      "no-no\n",
      "no-no\n"
     ]
    }
   ],
   "source": [
    "#Hacer busqueda multiple\n",
    "import sys \n",
    "lista_search = sys.argv[1:]  #estoy indicando que los argumentos seran listas\n",
    "\n",
    "for search in lista_search:\n",
    "    if search in colores_inv:\n",
    "        print(colores_inv[search])\n",
    "    else:\n",
    "        print(\"no-no\")\n"
   ]
  }
 ],
 "metadata": {
  "kernelspec": {
   "display_name": "Python 3",
   "language": "python",
   "name": "python3"
  },
  "language_info": {
   "codemirror_mode": {
    "name": "ipython",
    "version": 3
   },
   "file_extension": ".py",
   "mimetype": "text/x-python",
   "name": "python",
   "nbconvert_exporter": "python",
   "pygments_lexer": "ipython3",
   "version": "3.8.3"
  }
 },
 "nbformat": 4,
 "nbformat_minor": 4
}
