{
 "cells": [
  {
   "cell_type": "markdown",
   "metadata": {},
   "source": [
    "# Desafío 1 - Conceptos previos a Big Data\n",
    "- Constanza Córdova"
   ]
  },
  {
   "cell_type": "markdown",
   "metadata": {},
   "source": [
    "## Ejercicio 1: Generación Artificial de Datos\n",
    "\n",
    "+ A continuación se define la función create_random_row , la cual generará un registro artificial de un cliente en una compañía de seguros:\n",
    "\n",
    "```python\n",
    "import random\n",
    "\n",
    "def create_random_row():\n",
    "    # simulamos la columna edad\n",
    "    age = random.randint(18, 90)\n",
    "    # simulamos la columna ingreso\n",
    "    income = random.randrange(10000, 1000000, step=1000)\n",
    "    # simulamos la situación laboral\n",
    "    employment_status = random.choice(['Unemployed', 'Employed'])\n",
    "    # simulamos si es que tiene deuda o no\n",
    "    debt_status = random.choice(['Debt', 'No Debt'])\n",
    "    # simulamos si es que se cambió recientemente o no\n",
    "    churn_status = random.choice(['Churn', 'No Churn'])\n",
    "    return age, income, employment_status, debt_status, churn_status\n",
    "\n",
    "# ejecución\n",
    "create_random_row()\n",
    "```\n",
    "+ Replique la función 10 millones de veces y preservela en un objeto.\n",
    "\n",
    "Algunos supuestos:\n",
    "* Asuma, de aquí en adelante, que los datos generados representarán mediciones empíricas sobre el comportamiento de clientes en la compañía de seguros.\n",
    "* Considere el siguiente ambiente de trabajo de su computador: No tiene instalada la distribución anaconda, por lo que no tendrá acceso a las librerías ```pandas```, ```numpy``` y ```scipy```. Tampoco tiene permisos de usuario, por lo cual no podrá instalarlas. Sólo puede implementar funciones nativas de Python.\n",
    "* Dado que su código podrá ser utilizado posteriormente en una aplicación web de uso interno montada en Scala, debe utilizar operaciones vectorizadas como `map` , `filter` , `reduce` ; y comprensiones de lista.\n",
    "\n",
    "### SOLUCIÓN:"
   ]
  },
  {
   "cell_type": "code",
   "execution_count": 1,
   "metadata": {},
   "outputs": [],
   "source": [
    "import random\n",
    "\n",
    "def create_random_row():\n",
    "    age = random.randint(18, 90)\n",
    "    income = random.randrange(10000, 1000000, step=1000)\n",
    "    employment_status = random.choice(['Unemployed', 'Employed'])\n",
    "    debt_status = random.choice(['Debt', 'No Debt'])\n",
    "    churn_status = random.choice(['Churn', 'No Churn'])\n",
    "    return age, income, employment_status, debt_status, churn_status\n",
    "\n"
   ]
  },
  {
   "cell_type": "code",
   "execution_count": 2,
   "metadata": {},
   "outputs": [
    {
     "data": {
      "text/plain": [
       "[30, 492000, 'Employed', 'Debt', 'Churn']"
      ]
     },
     "execution_count": 2,
     "metadata": {},
     "output_type": "execute_result"
    }
   ],
   "source": [
    "list(create_random_row())"
   ]
  },
  {
   "cell_type": "code",
   "execution_count": 3,
   "metadata": {},
   "outputs": [
    {
     "name": "stdout",
     "output_type": "stream",
     "text": [
      "[0, 1, 2, 3, 4]\n",
      "[0, 1, 2, 3, 4]\n"
     ]
    }
   ],
   "source": [
    "mi_l = [x for x in range(5)]\n",
    "print(mi_l)\n",
    "\n",
    "mi_l2 = []\n",
    "for x in range(5):\n",
    "    mi_l2.append(x)\n",
    "print(mi_l2)"
   ]
  },
  {
   "cell_type": "code",
   "execution_count": 4,
   "metadata": {},
   "outputs": [],
   "source": [
    "# fijamos semilla pseudoaleatoria. No es tan relevante para este caso.\n",
    "random.seed(11238)\n",
    "\n",
    "# Generamos el rango de 10 millones de observaciones\n",
    "value_range = range(1_000_000)\n",
    "\n",
    "# implementando una comprensión de lista, generamos una lista de listas que simula el registro\n",
    "random_database = [list(create_random_row()) for i in value_range]"
   ]
  },
  {
   "cell_type": "code",
   "execution_count": 5,
   "metadata": {},
   "outputs": [
    {
     "data": {
      "text/plain": [
       "1000000"
      ]
     },
     "execution_count": 5,
     "metadata": {},
     "output_type": "execute_result"
    }
   ],
   "source": [
    "len(random_database)"
   ]
  },
  {
   "cell_type": "code",
   "execution_count": 6,
   "metadata": {},
   "outputs": [
    {
     "data": {
      "text/plain": [
       "[69, 117000, 'Unemployed', 'Debt', 'No Churn']"
      ]
     },
     "execution_count": 6,
     "metadata": {},
     "output_type": "execute_result"
    }
   ],
   "source": [
    "random_database[100]"
   ]
  },
  {
   "cell_type": "code",
   "execution_count": 7,
   "metadata": {},
   "outputs": [],
   "source": [
    "# Usando map\n",
    "\n",
    "def int_to_row(x):\n",
    "    return list(create_random_row())\n",
    "\n",
    "random_database = list(map(int_to_row, value_range))\n"
   ]
  },
  {
   "cell_type": "code",
   "execution_count": 8,
   "metadata": {},
   "outputs": [
    {
     "data": {
      "text/plain": [
       "[0, 1, 2, 3, 4, 5, 6, 7, 8, 9]"
      ]
     },
     "execution_count": 8,
     "metadata": {},
     "output_type": "execute_result"
    }
   ],
   "source": [
    "#len(random_database)\n",
    "\n",
    "[x for x in range(10)]"
   ]
  },
  {
   "cell_type": "markdown",
   "metadata": {},
   "source": [
    "## Ejercicio 2\n",
    "Desde la gerencia de estudios de la compañía de seguros, le solicitan mejorar la siguiente línea de código:\n",
    "\n",
    "```python\n",
    "employment_income_looped = 0\n",
    "for i in random_database:\n",
    "    if i[2] == 'Employed':\n",
    "        employment_income_looped += i[1]\n",
    "# retorno\n",
    "#2523162067000\n",
    "```\n",
    "Responda los siguientes puntos:\n",
    "+ ¿Qué retornará la variable employment_income_looped ?\n",
    "+ ¿Cómo sería una implementación del código utilizando map y filter ?\n",
    "+ ¿Son iguales los resultados?\n",
    "\n",
    "### SOLUCIÓN:"
   ]
  },
  {
   "cell_type": "markdown",
   "metadata": {},
   "source": [
    "La variable employment_income_looped retorna la suma de Income de todos los registros donde employment_status sea igual a 'Employed'"
   ]
  },
  {
   "cell_type": "code",
   "execution_count": 9,
   "metadata": {},
   "outputs": [
    {
     "name": "stdout",
     "output_type": "stream",
     "text": [
      "252330389000\n"
     ]
    }
   ],
   "source": [
    "employment_income_looped = 0\n",
    "for i in random_database:\n",
    "    if i[2] == 'Employed':\n",
    "        employment_income_looped += i[1]\n",
    "        \n",
    "print(employment_income_looped)"
   ]
  },
  {
   "cell_type": "markdown",
   "metadata": {},
   "source": [
    "Implementación con map y filter "
   ]
  },
  {
   "cell_type": "code",
   "execution_count": 10,
   "metadata": {},
   "outputs": [
    {
     "data": {
      "text/plain": [
       "[[49, 280000, 'Employed', 'Debt', 'No Churn'],\n",
       " [53, 320000, 'Employed', 'Debt', 'No Churn'],\n",
       " [45, 275000, 'Employed', 'No Debt', 'Churn'],\n",
       " [42, 421000, 'Employed', 'No Debt', 'Churn'],\n",
       " [47, 536000, 'Employed', 'Debt', 'Churn'],\n",
       " [19, 786000, 'Employed', 'Debt', 'Churn'],\n",
       " [43, 697000, 'Employed', 'Debt', 'Churn'],\n",
       " [79, 170000, 'Employed', 'Debt', 'Churn'],\n",
       " [76, 170000, 'Employed', 'Debt', 'No Churn'],\n",
       " [78, 175000, 'Employed', 'Debt', 'No Churn']]"
      ]
     },
     "execution_count": 10,
     "metadata": {},
     "output_type": "execute_result"
    }
   ],
   "source": [
    "# Implementamos filter para obtener solo los casos 'Employed'\n",
    "list_employed = list(filter(lambda x: x[2] == 'Employed', random_database))\n",
    "list_employed[:10]"
   ]
  },
  {
   "cell_type": "code",
   "execution_count": 11,
   "metadata": {},
   "outputs": [
    {
     "data": {
      "text/plain": [
       "[280000,\n",
       " 320000,\n",
       " 275000,\n",
       " 421000,\n",
       " 536000,\n",
       " 786000,\n",
       " 697000,\n",
       " 170000,\n",
       " 170000,\n",
       " 175000]"
      ]
     },
     "execution_count": 11,
     "metadata": {},
     "output_type": "execute_result"
    }
   ],
   "source": [
    "# con map generamos una lista de todos los Income de el listado filtrado anteriormente \n",
    "list_income = list(map(lambda x: x[1], list_employed))\n",
    "list_income[:10]"
   ]
  },
  {
   "cell_type": "code",
   "execution_count": 12,
   "metadata": {},
   "outputs": [
    {
     "data": {
      "text/plain": [
       "252330389000"
      ]
     },
     "execution_count": 12,
     "metadata": {},
     "output_type": "execute_result"
    }
   ],
   "source": [
    "# Se realiza la suma de todos los valores contenidos en la lista income creada anteriormente\n",
    "employment_income_map = sum(list_income)\n",
    "employment_income_map"
   ]
  },
  {
   "cell_type": "markdown",
   "metadata": {},
   "source": [
    "Simplificación de la implementación: "
   ]
  },
  {
   "cell_type": "code",
   "execution_count": 13,
   "metadata": {},
   "outputs": [
    {
     "name": "stdout",
     "output_type": "stream",
     "text": [
      "252330389000\n"
     ]
    }
   ],
   "source": [
    "sum_income_employed = sum(list(map(lambda x: x[1], list(filter(lambda x: x[2] == 'Employed', random_database)))))\n",
    "print(sum_income_employed)"
   ]
  },
  {
   "cell_type": "markdown",
   "metadata": {},
   "source": [
    "## Ejercicio 3:\n",
    "Desde la gerencia le solicitan mejorar la siguiente línea de código:\n",
    "```python\n",
    "count_debts_looped = 0\n",
    "for i in random_database:\n",
    "    for j in i:\n",
    "        if j == 'Debt':\n",
    "            count_debts_looped += 1\n",
    "# retorno\n",
    "#5000335\n",
    "```\n",
    "Responda los siguientes puntos:\n",
    "+ ¿Cuál será el retorno de la variable count_debts_looped ?\n",
    "+ ¿Cuál es la complejidad algorítmica del código?\n",
    "+ ¿Cómo sería una implementación del código utilizando map y filter ?\n",
    "+ ¿Son iguales los resultados de ambas operaciones?\n",
    "\n",
    "### SOLUCIÓN:"
   ]
  },
  {
   "cell_type": "markdown",
   "metadata": {},
   "source": [
    "El codigo retorna la cantidad de registros cuyo debt_status es igual a 'Debt'\n",
    "Para ello realiza el recorrido de todas las listas contenidas en random_database, luego por cada lista recorre todos los valores de la lista. En caso de encontrar un valor de la lista igual a 'Debt' suma 1 al contador. \n",
    "La complejidad algoritmica del código "
   ]
  },
  {
   "cell_type": "code",
   "execution_count": 14,
   "metadata": {},
   "outputs": [
    {
     "name": "stdout",
     "output_type": "stream",
     "text": [
      "500019\n"
     ]
    }
   ],
   "source": [
    "count_debts_looped = 0\n",
    "for i in random_database:\n",
    "    for j in i:\n",
    "        if j == 'Debt':\n",
    "            count_debts_looped += 1\n",
    "print(count_debts_looped)"
   ]
  },
  {
   "cell_type": "markdown",
   "metadata": {},
   "source": [
    "Implementación con map y filter "
   ]
  },
  {
   "cell_type": "code",
   "execution_count": 15,
   "metadata": {},
   "outputs": [
    {
     "name": "stdout",
     "output_type": "stream",
     "text": [
      "500019\n"
     ]
    }
   ],
   "source": [
    "count_debt = len(list(filter(lambda x: x[3]== 'Debt', random_database)))\n",
    "print(count_debt)"
   ]
  },
  {
   "cell_type": "markdown",
   "metadata": {},
   "source": [
    "## Ejercicio 4\n",
    "Desde la gerencia le solicitan mejorar la siguiente línea de código:\n",
    "\n",
    "```python\n",
    "churn_subset, no_churn_subset = [], []\n",
    "for i in random_database:\n",
    "    for j in i:\n",
    "        if i == 'Churn':\n",
    "            churn_subset.append(i)\n",
    "    for j in i:\n",
    "        if i == 'No Churn':\n",
    "            no_churn.append(i)\n",
    "```\n",
    "+ ¿Cuál será el retorno de la variable churn_subset y no_churn_subset ?\n",
    "+ ¿Cuál es la complejidad algorítmica del código?\n",
    "+ ¿Cómo sería una implementación del código utilizando map y filter ?\n",
    "+ ¿Son iguales los resultados de ambas operaciones?\n",
    "+ Estime la media, la varianza, el mínimo y el máximo de la edad para ambos subsets, sin utilizar librerías externas.\n",
    "\n",
    "### SOLUCIÓN:"
   ]
  },
  {
   "cell_type": "markdown",
   "metadata": {},
   "source": [
    "El código retorna dos subset, uno para los casos donde churn_status sea igual a 'Churn' y otro donde churn_status es igual a 'No Churn'"
   ]
  },
  {
   "cell_type": "code",
   "execution_count": 16,
   "metadata": {},
   "outputs": [],
   "source": [
    "churn_subset, no_churn_subset = [], []\n",
    "for i in random_database:\n",
    "    for j in i:\n",
    "        if j == 'Churn':\n",
    "            churn_subset.append(i)\n",
    "    for j in i:\n",
    "        if j == 'No Churn':\n",
    "            no_churn_subset.append(i)"
   ]
  },
  {
   "cell_type": "markdown",
   "metadata": {},
   "source": [
    "Implementado filter para obtener los subset"
   ]
  },
  {
   "cell_type": "code",
   "execution_count": 17,
   "metadata": {},
   "outputs": [],
   "source": [
    "churn_set = list(filter(lambda x: x[4] == 'Churn', random_database))\n",
    "no_churn_set = list(filter(lambda x: x[4] == 'No Churn', random_database))"
   ]
  },
  {
   "cell_type": "markdown",
   "metadata": {},
   "source": [
    "Implementado map para obtener la lista de edades"
   ]
  },
  {
   "cell_type": "code",
   "execution_count": 18,
   "metadata": {},
   "outputs": [],
   "source": [
    "churn_age = list(map(lambda x: x[0], churn_set))\n",
    "no_churn_age = list(map(lambda x: x[0], no_churn_set))"
   ]
  },
  {
   "cell_type": "markdown",
   "metadata": {},
   "source": [
    "Retornar media, varianza, maximo y minimo de edad"
   ]
  },
  {
   "cell_type": "code",
   "execution_count": 19,
   "metadata": {},
   "outputs": [],
   "source": [
    "def media(valores):\n",
    "    return sum(valores)/len(valores)"
   ]
  },
  {
   "cell_type": "code",
   "execution_count": 20,
   "metadata": {},
   "outputs": [
    {
     "name": "stdout",
     "output_type": "stream",
     "text": [
      "media edad churn 53.98087610984183\n",
      "media edad no churn 54.00687988099665\n"
     ]
    }
   ],
   "source": [
    "media_churn = media(churn_age)\n",
    "media_no_churn = media(no_churn_age)\n",
    "print('media edad churn', media_churn)\n",
    "print('media edad no churn', media_no_churn)"
   ]
  },
  {
   "cell_type": "code",
   "execution_count": 21,
   "metadata": {},
   "outputs": [],
   "source": [
    "def varianza(valores, media):\n",
    "    return sum(list(map(lambda x: (x-media)**2, valores )))/(len(valores)-1)"
   ]
  },
  {
   "cell_type": "code",
   "execution_count": 22,
   "metadata": {},
   "outputs": [
    {
     "name": "stdout",
     "output_type": "stream",
     "text": [
      "varianza edad churn 442.7378971374518\n",
      "varianza edad no churn 443.679268793223\n"
     ]
    }
   ],
   "source": [
    "var_churn = varianza(churn_age, media_churn)\n",
    "var_no_churn = varianza(no_churn_age, media_no_churn)\n",
    "print('varianza edad churn', var_churn)\n",
    "print('varianza edad no churn', var_no_churn)"
   ]
  },
  {
   "cell_type": "code",
   "execution_count": 24,
   "metadata": {},
   "outputs": [
    {
     "name": "stdout",
     "output_type": "stream",
     "text": [
      "Minimo edad churn 18\n",
      "Minimo edad no churn 18\n"
     ]
    }
   ],
   "source": [
    "print('Minimo edad churn', min(churn_age))\n",
    "print('Minimo edad no churn', min(no_churn_age))"
   ]
  },
  {
   "cell_type": "code",
   "execution_count": 25,
   "metadata": {},
   "outputs": [
    {
     "name": "stdout",
     "output_type": "stream",
     "text": [
      "Maximo edad churn 90\n",
      "Maximo edad no churn 90\n"
     ]
    }
   ],
   "source": [
    "print('Maximo edad churn', max(churn_age))\n",
    "print('Maximo edad no churn', max(no_churn_age))"
   ]
  },
  {
   "cell_type": "markdown",
   "metadata": {},
   "source": [
    "## Ejercicio 5:\n",
    "Desde la gerencia le solicitan mejorar la siguiente línea de código:\n",
    "```python\n",
    "unemployed_debt_churn = 0\n",
    "unemployed_nodebt_churn = 0\n",
    "unemployed_debt_nochurn = 0\n",
    "unemployed_nodebt_nochurn = 0\n",
    "employed_debt_churn = 0\n",
    "employed_nodebt_churn = 0\n",
    "employed_debt_nochurn = 0\n",
    "employed_nodebt_nochurn = 0\n",
    "\n",
    "for i in random_database:\n",
    "    if i[2] == 'Unemployed' and i[3] == 'Debt' and i[4] == 'Churn':\n",
    "        unemployed_debt_churn += 1\n",
    "    if i[2] == 'Unemployed' and i[3] == 'No Debt' and i[4] == 'Churn':\n",
    "        unemployed_nodebt_churn += 1\n",
    "    if i[2] == 'Unemployed' and i[3] == 'Debt' and i[4] == 'No Churn':\n",
    "        unemployed_debt_nochurn += 1\n",
    "    if i[2] == 'Unemployed' and i[3] == 'No Debt' and i[4] == 'No Churn':\n",
    "        unemployed_nodebt_nochurn += 1\n",
    "    if i[2] == 'Employed' and i[3] == 'Debt' and i[4] == 'Churn':\n",
    "        employed_debt_churn += 1\n",
    "    if i[2] == 'Employed' and i[3] == 'No Debt' and i[4] == 'Churn':\n",
    "        employed_nodebt_churn += 1\n",
    "    if i[2] == 'Employed' and i[3] == 'Debt' and i[4] == 'No Churn':\n",
    "        employed_debt_nochurn += 1\n",
    "    if i[2] == 'Employed' and i[3] == 'No Debt' and i[4] == 'No Churn':\n",
    "        employed_nodebt_nochurn += 1\n",
    "\n",
    "print(\"Unemployed, Debt, Churn: \", unemployed_debt_churn)\n",
    "print(\"Unemployed, No Debt, Churn: \", unemployed_nodebt_churn)\n",
    "print(\"Unemployed, Debt, No Churn: \", unemployed_debt_nochurn)\n",
    "print(\"Unemployed, No Debt, No Churn: \", unemployed_nodebt_nochurn)\n",
    "print(\"Employed, Debt, Churn: \", employed_debt_churn)\n",
    "print(\"Employed, No Debt, Churn: \", employed_nodebt_churn)\n",
    "print(\"Employed, Debt, No Churn: \", employed_debt_nochurn)\n",
    "print(\"Employed, No Debt, No Churn: \", employed_nodebt_nochurn)\n",
    "\n",
    "# retorno\n",
    "# Unemployed, Debt, Churn: 1249114\n",
    "# Unemployed, No Debt, Churn: 1250165\n",
    "# Unemployed, Debt, No Churn: 1251163\n",
    "# Unemployed, No Debt, No Churn: 1249760\n",
    "# Employed, Debt, Churn: 1249421\n",
    "# Employed, No Debt, Churn: 1250581\n",
    "# Employed, Debt, No Churn: 1248184\n",
    "# Employed, No Debt, No Churn: 1251612\n",
    "```    \n",
    "+ ¿Cómo sería una implementación utilizando map ?\n",
    "+ ¿Son iguales los resultados de ambas operaciones?"
   ]
  },
  {
   "cell_type": "code",
   "execution_count": 26,
   "metadata": {},
   "outputs": [
    {
     "name": "stdout",
     "output_type": "stream",
     "text": [
      "Unemployed, Debt, Churn:  125147\n",
      "Unemployed, No Debt, Churn:  125063\n",
      "Unemployed, Debt, No Churn:  125032\n",
      "Unemployed, No Debt, No Churn:  124878\n",
      "Employed, Debt, Churn:  124941\n",
      "Employed, No Debt, Churn:  124695\n",
      "Employed, Debt, No Churn:  124899\n",
      "Employed, No Debt, No Churn:  125345\n"
     ]
    }
   ],
   "source": [
    "unemployed_debt_churn = 0\n",
    "unemployed_nodebt_churn = 0\n",
    "unemployed_debt_nochurn = 0\n",
    "unemployed_nodebt_nochurn = 0\n",
    "employed_debt_churn = 0\n",
    "employed_nodebt_churn = 0\n",
    "employed_debt_nochurn = 0\n",
    "employed_nodebt_nochurn = 0\n",
    "\n",
    "for i in random_database:\n",
    "    if i[2] == 'Unemployed' and i[3] == 'Debt' and i[4] == 'Churn':\n",
    "        unemployed_debt_churn += 1\n",
    "    if i[2] == 'Unemployed' and i[3] == 'No Debt' and i[4] == 'Churn':\n",
    "        unemployed_nodebt_churn += 1\n",
    "    if i[2] == 'Unemployed' and i[3] == 'Debt' and i[4] == 'No Churn':\n",
    "        unemployed_debt_nochurn += 1\n",
    "    if i[2] == 'Unemployed' and i[3] == 'No Debt' and i[4] == 'No Churn':\n",
    "        unemployed_nodebt_nochurn += 1\n",
    "    if i[2] == 'Employed' and i[3] == 'Debt' and i[4] == 'Churn':\n",
    "        employed_debt_churn += 1\n",
    "    if i[2] == 'Employed' and i[3] == 'No Debt' and i[4] == 'Churn':\n",
    "        employed_nodebt_churn += 1\n",
    "    if i[2] == 'Employed' and i[3] == 'Debt' and i[4] == 'No Churn':\n",
    "        employed_debt_nochurn += 1\n",
    "    if i[2] == 'Employed' and i[3] == 'No Debt' and i[4] == 'No Churn':\n",
    "        employed_nodebt_nochurn += 1\n",
    "\n",
    "print(\"Unemployed, Debt, Churn: \", unemployed_debt_churn)\n",
    "print(\"Unemployed, No Debt, Churn: \", unemployed_nodebt_churn)\n",
    "print(\"Unemployed, Debt, No Churn: \", unemployed_debt_nochurn)\n",
    "print(\"Unemployed, No Debt, No Churn: \", unemployed_nodebt_nochurn)\n",
    "print(\"Employed, Debt, Churn: \", employed_debt_churn)\n",
    "print(\"Employed, No Debt, Churn: \", employed_nodebt_churn)\n",
    "print(\"Employed, Debt, No Churn: \", employed_debt_nochurn)\n",
    "print(\"Employed, No Debt, No Churn: \", employed_nodebt_nochurn)"
   ]
  },
  {
   "cell_type": "code",
   "execution_count": 40,
   "metadata": {},
   "outputs": [
    {
     "name": "stdout",
     "output_type": "stream",
     "text": [
      "Unemployed, Debt, Churn:  125147\n",
      "Unemployed, No Debt, Churn:  125063\n",
      "Unemployed, Debt, No Churn:  125032\n",
      "Unemployed, No Debt, No Churn:  124878\n",
      "Employed, Debt, Churn:  124941\n",
      "Employed, No Debt, Churn:  124695\n",
      "Employed, Debt, No Churn:  124899\n",
      "Employed, No Debt, No Churn:  125345\n"
     ]
    }
   ],
   "source": [
    "unemployed_debt_churn_count = len(list(filter(lambda x: x[2]=='Unemployed' and x[3] == 'Debt' and x[4] == 'Churn', random_database)))\n",
    "unemployed_nodebt_churn_count = len(list(filter(lambda x: x[2]=='Unemployed' and x[3] == 'No Debt' and x[4] == 'Churn', random_database)))\n",
    "unemployed_debt_nochurn_count = len(list(filter(lambda x: x[2]=='Unemployed' and x[3] == 'Debt' and x[4] == 'No Churn', random_database)))\n",
    "unemployed_nodebt_nochurn_count = len(list(filter(lambda x: x[2]=='Unemployed' and x[3] == 'No Debt' and x[4] == 'No Churn', random_database)))\n",
    "employed_debt_churn_count = len(list(filter(lambda x: x[2]=='Employed' and x[3] == 'Debt' and x[4] == 'Churn', random_database)))\n",
    "employed_nodebt_churn_count = len(list(filter(lambda x: x[2]=='Employed' and x[3] == 'No Debt' and x[4] == 'Churn', random_database)))\n",
    "employed_debt_nochurn_count = len(list(filter(lambda x: x[2]=='Employed' and x[3] == 'Debt' and x[4] == 'No Churn', random_database)))\n",
    "employed_nodebt_nochurn_count = len(list(filter(lambda x: x[2]=='Employed' and x[3] == 'No Debt' and x[4] == 'No Churn', random_database)))\n",
    "\n",
    "print(\"Unemployed, Debt, Churn: \", unemployed_debt_churn_count)\n",
    "print(\"Unemployed, No Debt, Churn: \", unemployed_nodebt_churn_count)\n",
    "print(\"Unemployed, Debt, No Churn: \", unemployed_debt_nochurn_count)\n",
    "print(\"Unemployed, No Debt, No Churn: \", unemployed_nodebt_nochurn_count)\n",
    "print(\"Employed, Debt, Churn: \", employed_debt_churn_count)\n",
    "print(\"Employed, No Debt, Churn: \", employed_nodebt_churn_count)\n",
    "print(\"Employed, Debt, No Churn: \", employed_debt_nochurn_count)\n",
    "print(\"Employed, No Debt, No Churn: \", employed_nodebt_nochurn_count)"
   ]
  }
 ],
 "metadata": {
  "kernelspec": {
   "display_name": "Python 3",
   "language": "python",
   "name": "python3"
  },
  "language_info": {
   "codemirror_mode": {
    "name": "ipython",
    "version": 3
   },
   "file_extension": ".py",
   "mimetype": "text/x-python",
   "name": "python",
   "nbconvert_exporter": "python",
   "pygments_lexer": "ipython3",
   "version": "3.8.3"
  }
 },
 "nbformat": 4,
 "nbformat_minor": 4
}
