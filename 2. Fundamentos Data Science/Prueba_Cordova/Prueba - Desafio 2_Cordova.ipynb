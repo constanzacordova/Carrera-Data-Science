{
 "cells": [
  {
   "cell_type": "markdown",
   "metadata": {},
   "source": [
    "<i><h2 style=\"text-align:center;color:#004d80\"> Prueba: Fundamentos Data Science (G25)</h2></i>\n",
    "<i><h2 style=\"text-align:center;color:#004d80\"> Desafío 2: Rendimiento escolar </h2></i></i>\n",
    "<i><h3 style=\"text-align:center;color:#FFFFF\">by: Constanza Córdova </h3></i></i>\n"
   ]
  },
  {
   "cell_type": "markdown",
   "metadata": {},
   "source": [
    "<h3 style=\"color:#004d80\"> Preliminares </h3>"
   ]
  },
  {
   "cell_type": "markdown",
   "metadata": {},
   "source": [
    "_**Descripción:**_ Identificar aquellos alumnos que presentan un bajo desempeño académico, medido en el promedio final del año escolar"
   ]
  },
  {
   "cell_type": "markdown",
   "metadata": {},
   "source": [
    "Dada el contexto del problema, se determina que es un problema de regresión el cual se deberá desarrollar 3 modelos descriptivos para G1, G2 y G3 y un modelo predictivo para G3. Para la validación del modelo predictivo se hará uso del error cuadrado medio MSE y R2"
   ]
  },
  {
   "cell_type": "markdown",
   "metadata": {},
   "source": [
    "<h3 style=\"color:#004d80\"> Aspectos </h3>"
   ]
  },
  {
   "cell_type": "markdown",
   "metadata": {},
   "source": [
    "#### Aspectos Computacionales\n",
    "**Python:** v 3.8.3\n",
    "\n",
    "**Librerías:**\n",
    "- pandas v 1.0.5\n",
    "- numpy v 1.18.5\n",
    "- matplotlib v 3.2.2\n",
    "- scipy v 1.5.0\n",
    "- seaborn v 0.10.1\n",
    "- statsmodels v 0.11.1\n",
    "- scikit-learn v 0.23.1\n"
   ]
  },
  {
   "cell_type": "markdown",
   "metadata": {},
   "source": [
    "#### Aspectos adicionales a considerar \n",
    "**1. Importación de librerías**"
   ]
  },
  {
   "cell_type": "code",
   "execution_count": 168,
   "metadata": {},
   "outputs": [],
   "source": [
    "import warnings\n",
    "warnings.filterwarnings('ignore')\n",
    "\n",
    "import pandas as pd\n",
    "import numpy as np\n",
    "from scipy import stats\n",
    "import matplotlib.pyplot as plt\n",
    "import seaborn as sns\n",
    "import statsmodels.api as sn\n",
    "import statsmodels.formula.api as snf\n",
    "from sklearn.linear_model import LinearRegression\n",
    "from sklearn.metrics import mean_squared_error, r2_score\n",
    "from sklearn.model_selection import train_test_split\n",
    "from sklearn.preprocessing import StandardScaler\n",
    "\n",
    "import funciones_set as fs"
   ]
  },
  {
   "cell_type": "markdown",
   "metadata": {},
   "source": [
    "**2. Carga de DataFrame** "
   ]
  },
  {
   "cell_type": "code",
   "execution_count": 169,
   "metadata": {
    "scrolled": true
   },
   "outputs": [
    {
     "data": {
      "text/html": [
       "<div>\n",
       "<style scoped>\n",
       "    .dataframe tbody tr th:only-of-type {\n",
       "        vertical-align: middle;\n",
       "    }\n",
       "\n",
       "    .dataframe tbody tr th {\n",
       "        vertical-align: top;\n",
       "    }\n",
       "\n",
       "    .dataframe thead th {\n",
       "        text-align: right;\n",
       "    }\n",
       "</style>\n",
       "<table border=\"1\" class=\"dataframe\">\n",
       "  <thead>\n",
       "    <tr style=\"text-align: right;\">\n",
       "      <th></th>\n",
       "      <th>school</th>\n",
       "      <th>sex</th>\n",
       "      <th>age</th>\n",
       "      <th>address</th>\n",
       "      <th>famsize</th>\n",
       "      <th>Pstatus</th>\n",
       "      <th>Medu</th>\n",
       "      <th>Fedu</th>\n",
       "      <th>Mjob</th>\n",
       "      <th>Fjob</th>\n",
       "      <th>...</th>\n",
       "      <th>famrel</th>\n",
       "      <th>freetime</th>\n",
       "      <th>goout</th>\n",
       "      <th>Dalc</th>\n",
       "      <th>Walc</th>\n",
       "      <th>health</th>\n",
       "      <th>absences</th>\n",
       "      <th>G1</th>\n",
       "      <th>G2</th>\n",
       "      <th>G3</th>\n",
       "    </tr>\n",
       "  </thead>\n",
       "  <tbody>\n",
       "    <tr>\n",
       "      <th>0</th>\n",
       "      <td>GP</td>\n",
       "      <td>F</td>\n",
       "      <td>nulidade</td>\n",
       "      <td>U</td>\n",
       "      <td>GT3</td>\n",
       "      <td>A</td>\n",
       "      <td>4</td>\n",
       "      <td>4</td>\n",
       "      <td>at_home</td>\n",
       "      <td>teacher</td>\n",
       "      <td>...</td>\n",
       "      <td>4</td>\n",
       "      <td>3</td>\n",
       "      <td>\"4\"</td>\n",
       "      <td>1</td>\n",
       "      <td>1</td>\n",
       "      <td>\"3\"</td>\n",
       "      <td>6</td>\n",
       "      <td>5</td>\n",
       "      <td>6</td>\n",
       "      <td>6</td>\n",
       "    </tr>\n",
       "    <tr>\n",
       "      <th>1</th>\n",
       "      <td>GP</td>\n",
       "      <td>F</td>\n",
       "      <td>\"17\"</td>\n",
       "      <td>U</td>\n",
       "      <td>GT3</td>\n",
       "      <td>T</td>\n",
       "      <td>1</td>\n",
       "      <td>1</td>\n",
       "      <td>at_home</td>\n",
       "      <td>other</td>\n",
       "      <td>...</td>\n",
       "      <td>5</td>\n",
       "      <td>3</td>\n",
       "      <td>\"3\"</td>\n",
       "      <td>1</td>\n",
       "      <td>1</td>\n",
       "      <td>\"3\"</td>\n",
       "      <td>4</td>\n",
       "      <td>5</td>\n",
       "      <td>5</td>\n",
       "      <td>6</td>\n",
       "    </tr>\n",
       "    <tr>\n",
       "      <th>2</th>\n",
       "      <td>GP</td>\n",
       "      <td>F</td>\n",
       "      <td>\"15\"</td>\n",
       "      <td>U</td>\n",
       "      <td>LE3</td>\n",
       "      <td>T</td>\n",
       "      <td>1</td>\n",
       "      <td>1</td>\n",
       "      <td>at_home</td>\n",
       "      <td>other</td>\n",
       "      <td>...</td>\n",
       "      <td>4</td>\n",
       "      <td>3</td>\n",
       "      <td>\"2\"</td>\n",
       "      <td>2</td>\n",
       "      <td>3</td>\n",
       "      <td>\"3\"</td>\n",
       "      <td>10</td>\n",
       "      <td>zero</td>\n",
       "      <td>8</td>\n",
       "      <td>10</td>\n",
       "    </tr>\n",
       "    <tr>\n",
       "      <th>3</th>\n",
       "      <td>GP</td>\n",
       "      <td>F</td>\n",
       "      <td>\"15\"</td>\n",
       "      <td>U</td>\n",
       "      <td>GT3</td>\n",
       "      <td>T</td>\n",
       "      <td>4</td>\n",
       "      <td>2</td>\n",
       "      <td>health</td>\n",
       "      <td>services</td>\n",
       "      <td>...</td>\n",
       "      <td>3</td>\n",
       "      <td>2</td>\n",
       "      <td>\"2\"</td>\n",
       "      <td>1</td>\n",
       "      <td>1</td>\n",
       "      <td>\"5\"</td>\n",
       "      <td>2</td>\n",
       "      <td>15</td>\n",
       "      <td>14</td>\n",
       "      <td>15</td>\n",
       "    </tr>\n",
       "    <tr>\n",
       "      <th>4</th>\n",
       "      <td>GP</td>\n",
       "      <td>F</td>\n",
       "      <td>sem validade</td>\n",
       "      <td>U</td>\n",
       "      <td>GT3</td>\n",
       "      <td>T</td>\n",
       "      <td>3</td>\n",
       "      <td>3</td>\n",
       "      <td>other</td>\n",
       "      <td>other</td>\n",
       "      <td>...</td>\n",
       "      <td>4</td>\n",
       "      <td>3</td>\n",
       "      <td>\"2\"</td>\n",
       "      <td>1</td>\n",
       "      <td>2</td>\n",
       "      <td>\"5\"</td>\n",
       "      <td>4</td>\n",
       "      <td>6</td>\n",
       "      <td>10</td>\n",
       "      <td>10</td>\n",
       "    </tr>\n",
       "  </tbody>\n",
       "</table>\n",
       "<p>5 rows × 33 columns</p>\n",
       "</div>"
      ],
      "text/plain": [
       "  school sex           age address famsize Pstatus Medu Fedu     Mjob  \\\n",
       "0     GP   F      nulidade       U     GT3       A    4    4  at_home   \n",
       "1     GP   F          \"17\"       U     GT3       T    1    1  at_home   \n",
       "2     GP   F          \"15\"       U     LE3       T    1    1  at_home   \n",
       "3     GP   F          \"15\"       U     GT3       T    4    2   health   \n",
       "4     GP   F  sem validade       U     GT3       T    3    3    other   \n",
       "\n",
       "       Fjob  ... famrel freetime goout Dalc Walc health absences    G1  G2  G3  \n",
       "0   teacher  ...      4        3   \"4\"    1    1    \"3\"        6     5   6   6  \n",
       "1     other  ...      5        3   \"3\"    1    1    \"3\"        4     5   5   6  \n",
       "2     other  ...      4        3   \"2\"    2    3    \"3\"       10  zero   8  10  \n",
       "3  services  ...      3        2   \"2\"    1    1    \"5\"        2    15  14  15  \n",
       "4     other  ...      4        3   \"2\"    1    2    \"5\"        4     6  10  10  \n",
       "\n",
       "[5 rows x 33 columns]"
      ]
     },
     "execution_count": 169,
     "metadata": {},
     "output_type": "execute_result"
    }
   ],
   "source": [
    "df = pd.read_csv('students.csv', sep='|', encoding = 'UTF-8').drop('Unnamed: 0', axis =1)\n",
    "df.head()"
   ]
  },
  {
   "cell_type": "markdown",
   "metadata": {},
   "source": [
    "**3. Transformación de datos perdidos** "
   ]
  },
  {
   "cell_type": "code",
   "execution_count": 170,
   "metadata": {
    "scrolled": true
   },
   "outputs": [
    {
     "data": {
      "text/html": [
       "<div>\n",
       "<style scoped>\n",
       "    .dataframe tbody tr th:only-of-type {\n",
       "        vertical-align: middle;\n",
       "    }\n",
       "\n",
       "    .dataframe tbody tr th {\n",
       "        vertical-align: top;\n",
       "    }\n",
       "\n",
       "    .dataframe thead th {\n",
       "        text-align: right;\n",
       "    }\n",
       "</style>\n",
       "<table border=\"1\" class=\"dataframe\">\n",
       "  <thead>\n",
       "    <tr style=\"text-align: right;\">\n",
       "      <th></th>\n",
       "      <th>school</th>\n",
       "      <th>sex</th>\n",
       "      <th>age</th>\n",
       "      <th>address</th>\n",
       "      <th>famsize</th>\n",
       "      <th>Pstatus</th>\n",
       "      <th>Medu</th>\n",
       "      <th>Fedu</th>\n",
       "      <th>Mjob</th>\n",
       "      <th>Fjob</th>\n",
       "      <th>...</th>\n",
       "      <th>famrel</th>\n",
       "      <th>freetime</th>\n",
       "      <th>goout</th>\n",
       "      <th>Dalc</th>\n",
       "      <th>Walc</th>\n",
       "      <th>health</th>\n",
       "      <th>absences</th>\n",
       "      <th>G1</th>\n",
       "      <th>G2</th>\n",
       "      <th>G3</th>\n",
       "    </tr>\n",
       "  </thead>\n",
       "  <tbody>\n",
       "    <tr>\n",
       "      <th>0</th>\n",
       "      <td>GP</td>\n",
       "      <td>F</td>\n",
       "      <td>NaN</td>\n",
       "      <td>U</td>\n",
       "      <td>GT3</td>\n",
       "      <td>A</td>\n",
       "      <td>4</td>\n",
       "      <td>4</td>\n",
       "      <td>at_home</td>\n",
       "      <td>teacher</td>\n",
       "      <td>...</td>\n",
       "      <td>4</td>\n",
       "      <td>3</td>\n",
       "      <td>\"4\"</td>\n",
       "      <td>1</td>\n",
       "      <td>1</td>\n",
       "      <td>\"3\"</td>\n",
       "      <td>6</td>\n",
       "      <td>5</td>\n",
       "      <td>6</td>\n",
       "      <td>6</td>\n",
       "    </tr>\n",
       "  </tbody>\n",
       "</table>\n",
       "<p>1 rows × 33 columns</p>\n",
       "</div>"
      ],
      "text/plain": [
       "  school sex  age address famsize Pstatus Medu Fedu     Mjob     Fjob  ...  \\\n",
       "0     GP   F  NaN       U     GT3       A    4    4  at_home  teacher  ...   \n",
       "\n",
       "  famrel freetime goout Dalc Walc health absences G1 G2 G3  \n",
       "0      4        3   \"4\"    1    1    \"3\"        6  5  6  6  \n",
       "\n",
       "[1 rows x 33 columns]"
      ]
     },
     "execution_count": 170,
     "metadata": {},
     "output_type": "execute_result"
    }
   ],
   "source": [
    "df = df.replace(['nulidade', 'sem validade', 'zero'], np.nan)\n",
    "df.head(1)"
   ]
  },
  {
   "cell_type": "markdown",
   "metadata": {},
   "source": [
    "- Analizamos los datos perdidos"
   ]
  },
  {
   "cell_type": "code",
   "execution_count": 171,
   "metadata": {},
   "outputs": [
    {
     "name": "stdout",
     "output_type": "stream",
     "text": [
      "Variable:  school || Valores perdidos:  5 \n",
      "\n",
      "Variable:  sex || Valores perdidos:  3 \n",
      "\n",
      "Variable:  age || Valores perdidos:  4 \n",
      "\n",
      "Variable:  address || Valores perdidos:  2 \n",
      "\n",
      "Variable:  famsize || Valores perdidos:  4 \n",
      "\n",
      "Variable:  Pstatus || Valores perdidos:  6 \n",
      "\n",
      "Variable:  Medu || Valores perdidos:  3 \n",
      "\n",
      "Variable:  Fedu || Valores perdidos:  5 \n",
      "\n",
      "Variable:  Mjob || Valores perdidos:  6 \n",
      "\n",
      "Variable:  Fjob || Valores perdidos:  0 \n",
      "\n",
      "Variable:  reason || Valores perdidos:  4 \n",
      "\n",
      "Variable:  guardian || Valores perdidos:  4 \n",
      "\n",
      "Variable:  traveltime || Valores perdidos:  3 \n",
      "\n",
      "Variable:  studytime || Valores perdidos:  5 \n",
      "\n",
      "Variable:  failures || Valores perdidos:  5 \n",
      "\n",
      "Variable:  schoolsup || Valores perdidos:  8 \n",
      "\n",
      "Variable:  famsup || Valores perdidos:  5 \n",
      "\n",
      "Variable:  paid || Valores perdidos:  1 \n",
      "\n",
      "Variable:  activities || Valores perdidos:  5 \n",
      "\n",
      "Variable:  nursery || Valores perdidos:  6 \n",
      "\n",
      "Variable:  higher || Valores perdidos:  6 \n",
      "\n",
      "Variable:  internet || Valores perdidos:  3 \n",
      "\n",
      "Variable:  romantic || Valores perdidos:  2 \n",
      "\n",
      "Variable:  famrel || Valores perdidos:  5 \n",
      "\n",
      "Variable:  freetime || Valores perdidos:  2 \n",
      "\n",
      "Variable:  goout || Valores perdidos:  5 \n",
      "\n",
      "Variable:  Dalc || Valores perdidos:  3 \n",
      "\n",
      "Variable:  Walc || Valores perdidos:  5 \n",
      "\n",
      "Variable:  health || Valores perdidos:  4 \n",
      "\n",
      "Variable:  absences || Valores perdidos:  4 \n",
      "\n",
      "Variable:  G1 || Valores perdidos:  4 \n",
      "\n",
      "Variable:  G2 || Valores perdidos:  0 \n",
      "\n",
      "Variable:  G3 || Valores perdidos:  3 \n",
      "\n"
     ]
    }
   ],
   "source": [
    "fs.valores_perdidos(df)"
   ]
  },
  {
   "cell_type": "markdown",
   "metadata": {},
   "source": [
    "Comentarios: La variable con mayor cantidad de valores perdidos es schoolsup"
   ]
  },
  {
   "cell_type": "markdown",
   "metadata": {},
   "source": [
    "Se eliminan las celdas vacías "
   ]
  },
  {
   "cell_type": "code",
   "execution_count": 172,
   "metadata": {},
   "outputs": [
    {
     "name": "stdout",
     "output_type": "stream",
     "text": [
      "Se eliminaron 111 observaciones del data set\n"
     ]
    }
   ],
   "source": [
    "df_2 = df.copy().dropna()\n",
    "print(f'Se eliminaron {df.shape[0] - df_2.shape[0]} observaciones del data set')"
   ]
  },
  {
   "cell_type": "markdown",
   "metadata": {},
   "source": [
    "Reseteamos el indice del dataframe:"
   ]
  },
  {
   "cell_type": "code",
   "execution_count": 173,
   "metadata": {},
   "outputs": [
    {
     "data": {
      "text/html": [
       "<div>\n",
       "<style scoped>\n",
       "    .dataframe tbody tr th:only-of-type {\n",
       "        vertical-align: middle;\n",
       "    }\n",
       "\n",
       "    .dataframe tbody tr th {\n",
       "        vertical-align: top;\n",
       "    }\n",
       "\n",
       "    .dataframe thead th {\n",
       "        text-align: right;\n",
       "    }\n",
       "</style>\n",
       "<table border=\"1\" class=\"dataframe\">\n",
       "  <thead>\n",
       "    <tr style=\"text-align: right;\">\n",
       "      <th></th>\n",
       "      <th>index</th>\n",
       "      <th>school</th>\n",
       "      <th>sex</th>\n",
       "      <th>age</th>\n",
       "      <th>address</th>\n",
       "      <th>famsize</th>\n",
       "      <th>Pstatus</th>\n",
       "      <th>Medu</th>\n",
       "      <th>Fedu</th>\n",
       "      <th>Mjob</th>\n",
       "      <th>...</th>\n",
       "      <th>famrel</th>\n",
       "      <th>freetime</th>\n",
       "      <th>goout</th>\n",
       "      <th>Dalc</th>\n",
       "      <th>Walc</th>\n",
       "      <th>health</th>\n",
       "      <th>absences</th>\n",
       "      <th>G1</th>\n",
       "      <th>G2</th>\n",
       "      <th>G3</th>\n",
       "    </tr>\n",
       "  </thead>\n",
       "  <tbody>\n",
       "    <tr>\n",
       "      <th>0</th>\n",
       "      <td>1</td>\n",
       "      <td>GP</td>\n",
       "      <td>F</td>\n",
       "      <td>\"17\"</td>\n",
       "      <td>U</td>\n",
       "      <td>GT3</td>\n",
       "      <td>T</td>\n",
       "      <td>1</td>\n",
       "      <td>1</td>\n",
       "      <td>at_home</td>\n",
       "      <td>...</td>\n",
       "      <td>5</td>\n",
       "      <td>3</td>\n",
       "      <td>\"3\"</td>\n",
       "      <td>1</td>\n",
       "      <td>1</td>\n",
       "      <td>\"3\"</td>\n",
       "      <td>4</td>\n",
       "      <td>5</td>\n",
       "      <td>5</td>\n",
       "      <td>6</td>\n",
       "    </tr>\n",
       "    <tr>\n",
       "      <th>1</th>\n",
       "      <td>3</td>\n",
       "      <td>GP</td>\n",
       "      <td>F</td>\n",
       "      <td>\"15\"</td>\n",
       "      <td>U</td>\n",
       "      <td>GT3</td>\n",
       "      <td>T</td>\n",
       "      <td>4</td>\n",
       "      <td>2</td>\n",
       "      <td>health</td>\n",
       "      <td>...</td>\n",
       "      <td>3</td>\n",
       "      <td>2</td>\n",
       "      <td>\"2\"</td>\n",
       "      <td>1</td>\n",
       "      <td>1</td>\n",
       "      <td>\"5\"</td>\n",
       "      <td>2</td>\n",
       "      <td>15</td>\n",
       "      <td>14</td>\n",
       "      <td>15</td>\n",
       "    </tr>\n",
       "    <tr>\n",
       "      <th>2</th>\n",
       "      <td>5</td>\n",
       "      <td>GP</td>\n",
       "      <td>M</td>\n",
       "      <td>\"16\"</td>\n",
       "      <td>U</td>\n",
       "      <td>LE3</td>\n",
       "      <td>T</td>\n",
       "      <td>4</td>\n",
       "      <td>3</td>\n",
       "      <td>services</td>\n",
       "      <td>...</td>\n",
       "      <td>5</td>\n",
       "      <td>4</td>\n",
       "      <td>\"2\"</td>\n",
       "      <td>1</td>\n",
       "      <td>2</td>\n",
       "      <td>\"5\"</td>\n",
       "      <td>10</td>\n",
       "      <td>15</td>\n",
       "      <td>15</td>\n",
       "      <td>15</td>\n",
       "    </tr>\n",
       "    <tr>\n",
       "      <th>3</th>\n",
       "      <td>6</td>\n",
       "      <td>GP</td>\n",
       "      <td>M</td>\n",
       "      <td>\"16\"</td>\n",
       "      <td>U</td>\n",
       "      <td>LE3</td>\n",
       "      <td>T</td>\n",
       "      <td>2</td>\n",
       "      <td>2</td>\n",
       "      <td>other</td>\n",
       "      <td>...</td>\n",
       "      <td>4</td>\n",
       "      <td>4</td>\n",
       "      <td>\"4\"</td>\n",
       "      <td>1</td>\n",
       "      <td>1</td>\n",
       "      <td>\"3\"</td>\n",
       "      <td>0</td>\n",
       "      <td>12</td>\n",
       "      <td>12</td>\n",
       "      <td>11</td>\n",
       "    </tr>\n",
       "    <tr>\n",
       "      <th>4</th>\n",
       "      <td>7</td>\n",
       "      <td>GP</td>\n",
       "      <td>F</td>\n",
       "      <td>\"17\"</td>\n",
       "      <td>U</td>\n",
       "      <td>GT3</td>\n",
       "      <td>A</td>\n",
       "      <td>4</td>\n",
       "      <td>4</td>\n",
       "      <td>other</td>\n",
       "      <td>...</td>\n",
       "      <td>4</td>\n",
       "      <td>1</td>\n",
       "      <td>\"4\"</td>\n",
       "      <td>1</td>\n",
       "      <td>1</td>\n",
       "      <td>\"1\"</td>\n",
       "      <td>6</td>\n",
       "      <td>6</td>\n",
       "      <td>5</td>\n",
       "      <td>6</td>\n",
       "    </tr>\n",
       "  </tbody>\n",
       "</table>\n",
       "<p>5 rows × 34 columns</p>\n",
       "</div>"
      ],
      "text/plain": [
       "   index school sex   age address famsize Pstatus Medu Fedu      Mjob  ...  \\\n",
       "0      1     GP   F  \"17\"       U     GT3       T    1    1   at_home  ...   \n",
       "1      3     GP   F  \"15\"       U     GT3       T    4    2    health  ...   \n",
       "2      5     GP   M  \"16\"       U     LE3       T    4    3  services  ...   \n",
       "3      6     GP   M  \"16\"       U     LE3       T    2    2     other  ...   \n",
       "4      7     GP   F  \"17\"       U     GT3       A    4    4     other  ...   \n",
       "\n",
       "  famrel freetime goout Dalc Walc health absences  G1  G2  G3  \n",
       "0      5        3   \"3\"    1    1    \"3\"        4   5   5   6  \n",
       "1      3        2   \"2\"    1    1    \"5\"        2  15  14  15  \n",
       "2      5        4   \"2\"    1    2    \"5\"       10  15  15  15  \n",
       "3      4        4   \"4\"    1    1    \"3\"        0  12  12  11  \n",
       "4      4        1   \"4\"    1    1    \"1\"        6   6   5   6  \n",
       "\n",
       "[5 rows x 34 columns]"
      ]
     },
     "execution_count": 173,
     "metadata": {},
     "output_type": "execute_result"
    }
   ],
   "source": [
    "df_2.reset_index(level= 0, inplace= True)\n",
    "df_2.head()"
   ]
  },
  {
   "cell_type": "code",
   "execution_count": 174,
   "metadata": {},
   "outputs": [
    {
     "data": {
      "text/html": [
       "<div>\n",
       "<style scoped>\n",
       "    .dataframe tbody tr th:only-of-type {\n",
       "        vertical-align: middle;\n",
       "    }\n",
       "\n",
       "    .dataframe tbody tr th {\n",
       "        vertical-align: top;\n",
       "    }\n",
       "\n",
       "    .dataframe thead th {\n",
       "        text-align: right;\n",
       "    }\n",
       "</style>\n",
       "<table border=\"1\" class=\"dataframe\">\n",
       "  <thead>\n",
       "    <tr style=\"text-align: right;\">\n",
       "      <th></th>\n",
       "      <th>school</th>\n",
       "      <th>sex</th>\n",
       "      <th>age</th>\n",
       "      <th>address</th>\n",
       "      <th>famsize</th>\n",
       "      <th>Pstatus</th>\n",
       "      <th>Medu</th>\n",
       "      <th>Fedu</th>\n",
       "      <th>Mjob</th>\n",
       "      <th>Fjob</th>\n",
       "      <th>...</th>\n",
       "      <th>famrel</th>\n",
       "      <th>freetime</th>\n",
       "      <th>goout</th>\n",
       "      <th>Dalc</th>\n",
       "      <th>Walc</th>\n",
       "      <th>health</th>\n",
       "      <th>absences</th>\n",
       "      <th>G1</th>\n",
       "      <th>G2</th>\n",
       "      <th>G3</th>\n",
       "    </tr>\n",
       "  </thead>\n",
       "  <tbody>\n",
       "    <tr>\n",
       "      <th>0</th>\n",
       "      <td>GP</td>\n",
       "      <td>F</td>\n",
       "      <td>\"17\"</td>\n",
       "      <td>U</td>\n",
       "      <td>GT3</td>\n",
       "      <td>T</td>\n",
       "      <td>1</td>\n",
       "      <td>1</td>\n",
       "      <td>at_home</td>\n",
       "      <td>other</td>\n",
       "      <td>...</td>\n",
       "      <td>5</td>\n",
       "      <td>3</td>\n",
       "      <td>\"3\"</td>\n",
       "      <td>1</td>\n",
       "      <td>1</td>\n",
       "      <td>\"3\"</td>\n",
       "      <td>4</td>\n",
       "      <td>5</td>\n",
       "      <td>5</td>\n",
       "      <td>6</td>\n",
       "    </tr>\n",
       "    <tr>\n",
       "      <th>1</th>\n",
       "      <td>GP</td>\n",
       "      <td>F</td>\n",
       "      <td>\"15\"</td>\n",
       "      <td>U</td>\n",
       "      <td>GT3</td>\n",
       "      <td>T</td>\n",
       "      <td>4</td>\n",
       "      <td>2</td>\n",
       "      <td>health</td>\n",
       "      <td>services</td>\n",
       "      <td>...</td>\n",
       "      <td>3</td>\n",
       "      <td>2</td>\n",
       "      <td>\"2\"</td>\n",
       "      <td>1</td>\n",
       "      <td>1</td>\n",
       "      <td>\"5\"</td>\n",
       "      <td>2</td>\n",
       "      <td>15</td>\n",
       "      <td>14</td>\n",
       "      <td>15</td>\n",
       "    </tr>\n",
       "    <tr>\n",
       "      <th>2</th>\n",
       "      <td>GP</td>\n",
       "      <td>M</td>\n",
       "      <td>\"16\"</td>\n",
       "      <td>U</td>\n",
       "      <td>LE3</td>\n",
       "      <td>T</td>\n",
       "      <td>4</td>\n",
       "      <td>3</td>\n",
       "      <td>services</td>\n",
       "      <td>other</td>\n",
       "      <td>...</td>\n",
       "      <td>5</td>\n",
       "      <td>4</td>\n",
       "      <td>\"2\"</td>\n",
       "      <td>1</td>\n",
       "      <td>2</td>\n",
       "      <td>\"5\"</td>\n",
       "      <td>10</td>\n",
       "      <td>15</td>\n",
       "      <td>15</td>\n",
       "      <td>15</td>\n",
       "    </tr>\n",
       "    <tr>\n",
       "      <th>3</th>\n",
       "      <td>GP</td>\n",
       "      <td>M</td>\n",
       "      <td>\"16\"</td>\n",
       "      <td>U</td>\n",
       "      <td>LE3</td>\n",
       "      <td>T</td>\n",
       "      <td>2</td>\n",
       "      <td>2</td>\n",
       "      <td>other</td>\n",
       "      <td>other</td>\n",
       "      <td>...</td>\n",
       "      <td>4</td>\n",
       "      <td>4</td>\n",
       "      <td>\"4\"</td>\n",
       "      <td>1</td>\n",
       "      <td>1</td>\n",
       "      <td>\"3\"</td>\n",
       "      <td>0</td>\n",
       "      <td>12</td>\n",
       "      <td>12</td>\n",
       "      <td>11</td>\n",
       "    </tr>\n",
       "    <tr>\n",
       "      <th>4</th>\n",
       "      <td>GP</td>\n",
       "      <td>F</td>\n",
       "      <td>\"17\"</td>\n",
       "      <td>U</td>\n",
       "      <td>GT3</td>\n",
       "      <td>A</td>\n",
       "      <td>4</td>\n",
       "      <td>4</td>\n",
       "      <td>other</td>\n",
       "      <td>teacher</td>\n",
       "      <td>...</td>\n",
       "      <td>4</td>\n",
       "      <td>1</td>\n",
       "      <td>\"4\"</td>\n",
       "      <td>1</td>\n",
       "      <td>1</td>\n",
       "      <td>\"1\"</td>\n",
       "      <td>6</td>\n",
       "      <td>6</td>\n",
       "      <td>5</td>\n",
       "      <td>6</td>\n",
       "    </tr>\n",
       "  </tbody>\n",
       "</table>\n",
       "<p>5 rows × 33 columns</p>\n",
       "</div>"
      ],
      "text/plain": [
       "  school sex   age address famsize Pstatus Medu Fedu      Mjob      Fjob  ...  \\\n",
       "0     GP   F  \"17\"       U     GT3       T    1    1   at_home     other  ...   \n",
       "1     GP   F  \"15\"       U     GT3       T    4    2    health  services  ...   \n",
       "2     GP   M  \"16\"       U     LE3       T    4    3  services     other  ...   \n",
       "3     GP   M  \"16\"       U     LE3       T    2    2     other     other  ...   \n",
       "4     GP   F  \"17\"       U     GT3       A    4    4     other   teacher  ...   \n",
       "\n",
       "  famrel freetime goout Dalc Walc health absences  G1  G2  G3  \n",
       "0      5        3   \"3\"    1    1    \"3\"        4   5   5   6  \n",
       "1      3        2   \"2\"    1    1    \"5\"        2  15  14  15  \n",
       "2      5        4   \"2\"    1    2    \"5\"       10  15  15  15  \n",
       "3      4        4   \"4\"    1    1    \"3\"        0  12  12  11  \n",
       "4      4        1   \"4\"    1    1    \"1\"        6   6   5   6  \n",
       "\n",
       "[5 rows x 33 columns]"
      ]
     },
     "execution_count": 174,
     "metadata": {},
     "output_type": "execute_result"
    }
   ],
   "source": [
    "df_2.drop(columns=['index'], inplace= True)\n",
    "df_2.head()"
   ]
  },
  {
   "cell_type": "markdown",
   "metadata": {},
   "source": [
    "**4. Recodificación de las variables** "
   ]
  },
  {
   "cell_type": "markdown",
   "metadata": {},
   "source": [
    "Realizamos un análisis del tipo de dato que contiene las variables para convertir aquellas variables de tipo string a integer "
   ]
  },
  {
   "cell_type": "code",
   "execution_count": 175,
   "metadata": {
    "scrolled": false
   },
   "outputs": [
    {
     "name": "stdout",
     "output_type": "stream",
     "text": [
      "school \n",
      " Index(['GP', 'MS'], dtype='object') \n",
      "\n",
      "sex \n",
      " Index(['F', 'M'], dtype='object') \n",
      "\n",
      "age \n",
      " Index(['\"16\"', '\"18\"', '\"15\"', '\"17\"', '\"19\"', '\"20\"', '\"21\"'], dtype='object') \n",
      "\n",
      "address \n",
      " Index(['U', 'R'], dtype='object') \n",
      "\n",
      "famsize \n",
      " Index(['GT3', 'LE3'], dtype='object') \n",
      "\n",
      "Pstatus \n",
      " Index(['T', 'A'], dtype='object') \n",
      "\n",
      "Medu \n",
      " Index(['4', '2', '3', '1', '0'], dtype='object') \n",
      "\n",
      "Fedu \n",
      " Index(['2', '3', '4', '1', '0'], dtype='object') \n",
      "\n",
      "Mjob \n",
      " Index(['other', 'services', 'teacher', 'at_home', 'health'], dtype='object') \n",
      "\n",
      "Fjob \n",
      " Index(['other', 'services', 'teacher', 'health', 'at_home'], dtype='object') \n",
      "\n",
      "reason \n",
      " Index(['course', 'home', 'reputation', 'other'], dtype='object') \n",
      "\n",
      "guardian \n",
      " Index(['mother', 'father', 'other'], dtype='object') \n",
      "\n",
      "traveltime \n",
      " Index(['1', '2', '3', '4'], dtype='object') \n",
      "\n",
      "studytime \n",
      " Index(['2', '1', '3', '4'], dtype='object') \n",
      "\n",
      "failures \n",
      " Index(['0', '1', '2', '3'], dtype='object') \n",
      "\n",
      "schoolsup \n",
      " Index(['no', 'yes'], dtype='object') \n",
      "\n",
      "famsup \n",
      " Index(['yes', 'no'], dtype='object') \n",
      "\n",
      "paid \n",
      " Index(['no', 'yes'], dtype='object') \n",
      "\n",
      "activities \n",
      " Index(['yes', 'no'], dtype='object') \n",
      "\n",
      "nursery \n",
      " Index(['yes', 'no'], dtype='object') \n",
      "\n",
      "higher \n",
      " Index(['yes', 'no'], dtype='object') \n",
      "\n",
      "internet \n",
      " Index(['yes', 'no'], dtype='object') \n",
      "\n",
      "romantic \n",
      " Index(['no', 'yes'], dtype='object') \n",
      "\n",
      "famrel \n",
      " Index(['4', '5', '3', '2', '1'], dtype='object') \n",
      "\n",
      "freetime \n",
      " Index(['3', '4', '2', '5', '1'], dtype='object') \n",
      "\n",
      "goout \n",
      " Index(['\"3\"', '\"2\"', '\"4\"', '\"5\"', '\"1\"'], dtype='object') \n",
      "\n",
      "Dalc \n",
      " Index(['1', '2', '3', '4', '5'], dtype='object') \n",
      "\n",
      "Walc \n",
      " Index(['1', '2', '3', '4', '5'], dtype='object') \n",
      "\n",
      "health \n",
      " Index(['\"5\"', '\"3\"', '\"4\"', '\"2\"', '\"1\"'], dtype='object') \n",
      "\n",
      "absences \n",
      " Index(['0', '2', '4', '6', '8', '10', '7', '14', '12', '18', '3', '5', '13',\n",
      "       '16', '15', '1', '11', '20', '9', '25', '40', '21', '28', '19', '17',\n",
      "       '75', '24', '26', '38', '30', '54', '22'],\n",
      "      dtype='object') \n",
      "\n",
      "G1 \n",
      " Index(['10', '8', '12', '13', '9', '7', '11', '14', '6', '15', '16', '17',\n",
      "       '18', '5', '19', '4'],\n",
      "      dtype='object') \n",
      "\n",
      "G2 \n",
      " Int64Index([9, 10, 12, 13, 11, 8, 15, 7, 14, 6, 16, 0, 5, 18, 17, 19, 4], dtype='int64') \n",
      "\n",
      "G3 \n",
      " Index(['10', '11', '0', '12', '13', '8', '9', '14', '15', '6', '16', '7', '18',\n",
      "       '17', '19', '5', '4', '20'],\n",
      "      dtype='object') \n",
      "\n"
     ]
    }
   ],
   "source": [
    "fs.descriptive_var(df_2)"
   ]
  },
  {
   "cell_type": "markdown",
   "metadata": {},
   "source": [
    "Transformamos las variables numéricas a entero"
   ]
  },
  {
   "cell_type": "code",
   "execution_count": 176,
   "metadata": {},
   "outputs": [
    {
     "data": {
      "text/html": [
       "<div>\n",
       "<style scoped>\n",
       "    .dataframe tbody tr th:only-of-type {\n",
       "        vertical-align: middle;\n",
       "    }\n",
       "\n",
       "    .dataframe tbody tr th {\n",
       "        vertical-align: top;\n",
       "    }\n",
       "\n",
       "    .dataframe thead th {\n",
       "        text-align: right;\n",
       "    }\n",
       "</style>\n",
       "<table border=\"1\" class=\"dataframe\">\n",
       "  <thead>\n",
       "    <tr style=\"text-align: right;\">\n",
       "      <th></th>\n",
       "      <th>school</th>\n",
       "      <th>sex</th>\n",
       "      <th>age</th>\n",
       "      <th>address</th>\n",
       "      <th>famsize</th>\n",
       "      <th>Pstatus</th>\n",
       "      <th>Medu</th>\n",
       "      <th>Fedu</th>\n",
       "      <th>Mjob</th>\n",
       "      <th>Fjob</th>\n",
       "      <th>...</th>\n",
       "      <th>famrel</th>\n",
       "      <th>freetime</th>\n",
       "      <th>goout</th>\n",
       "      <th>Dalc</th>\n",
       "      <th>Walc</th>\n",
       "      <th>health</th>\n",
       "      <th>absences</th>\n",
       "      <th>G1</th>\n",
       "      <th>G2</th>\n",
       "      <th>G3</th>\n",
       "    </tr>\n",
       "  </thead>\n",
       "  <tbody>\n",
       "    <tr>\n",
       "      <th>0</th>\n",
       "      <td>GP</td>\n",
       "      <td>F</td>\n",
       "      <td>17</td>\n",
       "      <td>U</td>\n",
       "      <td>GT3</td>\n",
       "      <td>T</td>\n",
       "      <td>1</td>\n",
       "      <td>1</td>\n",
       "      <td>at_home</td>\n",
       "      <td>other</td>\n",
       "      <td>...</td>\n",
       "      <td>5</td>\n",
       "      <td>3</td>\n",
       "      <td>3</td>\n",
       "      <td>1</td>\n",
       "      <td>1</td>\n",
       "      <td>3</td>\n",
       "      <td>4</td>\n",
       "      <td>5</td>\n",
       "      <td>5</td>\n",
       "      <td>6</td>\n",
       "    </tr>\n",
       "    <tr>\n",
       "      <th>1</th>\n",
       "      <td>GP</td>\n",
       "      <td>F</td>\n",
       "      <td>15</td>\n",
       "      <td>U</td>\n",
       "      <td>GT3</td>\n",
       "      <td>T</td>\n",
       "      <td>4</td>\n",
       "      <td>2</td>\n",
       "      <td>health</td>\n",
       "      <td>services</td>\n",
       "      <td>...</td>\n",
       "      <td>3</td>\n",
       "      <td>2</td>\n",
       "      <td>2</td>\n",
       "      <td>1</td>\n",
       "      <td>1</td>\n",
       "      <td>5</td>\n",
       "      <td>2</td>\n",
       "      <td>15</td>\n",
       "      <td>14</td>\n",
       "      <td>15</td>\n",
       "    </tr>\n",
       "    <tr>\n",
       "      <th>2</th>\n",
       "      <td>GP</td>\n",
       "      <td>M</td>\n",
       "      <td>16</td>\n",
       "      <td>U</td>\n",
       "      <td>LE3</td>\n",
       "      <td>T</td>\n",
       "      <td>4</td>\n",
       "      <td>3</td>\n",
       "      <td>services</td>\n",
       "      <td>other</td>\n",
       "      <td>...</td>\n",
       "      <td>5</td>\n",
       "      <td>4</td>\n",
       "      <td>2</td>\n",
       "      <td>1</td>\n",
       "      <td>2</td>\n",
       "      <td>5</td>\n",
       "      <td>10</td>\n",
       "      <td>15</td>\n",
       "      <td>15</td>\n",
       "      <td>15</td>\n",
       "    </tr>\n",
       "    <tr>\n",
       "      <th>3</th>\n",
       "      <td>GP</td>\n",
       "      <td>M</td>\n",
       "      <td>16</td>\n",
       "      <td>U</td>\n",
       "      <td>LE3</td>\n",
       "      <td>T</td>\n",
       "      <td>2</td>\n",
       "      <td>2</td>\n",
       "      <td>other</td>\n",
       "      <td>other</td>\n",
       "      <td>...</td>\n",
       "      <td>4</td>\n",
       "      <td>4</td>\n",
       "      <td>4</td>\n",
       "      <td>1</td>\n",
       "      <td>1</td>\n",
       "      <td>3</td>\n",
       "      <td>0</td>\n",
       "      <td>12</td>\n",
       "      <td>12</td>\n",
       "      <td>11</td>\n",
       "    </tr>\n",
       "    <tr>\n",
       "      <th>4</th>\n",
       "      <td>GP</td>\n",
       "      <td>F</td>\n",
       "      <td>17</td>\n",
       "      <td>U</td>\n",
       "      <td>GT3</td>\n",
       "      <td>A</td>\n",
       "      <td>4</td>\n",
       "      <td>4</td>\n",
       "      <td>other</td>\n",
       "      <td>teacher</td>\n",
       "      <td>...</td>\n",
       "      <td>4</td>\n",
       "      <td>1</td>\n",
       "      <td>4</td>\n",
       "      <td>1</td>\n",
       "      <td>1</td>\n",
       "      <td>1</td>\n",
       "      <td>6</td>\n",
       "      <td>6</td>\n",
       "      <td>5</td>\n",
       "      <td>6</td>\n",
       "    </tr>\n",
       "  </tbody>\n",
       "</table>\n",
       "<p>5 rows × 33 columns</p>\n",
       "</div>"
      ],
      "text/plain": [
       "  school sex  age address famsize Pstatus  Medu  Fedu      Mjob      Fjob  \\\n",
       "0     GP   F   17       U     GT3       T     1     1   at_home     other   \n",
       "1     GP   F   15       U     GT3       T     4     2    health  services   \n",
       "2     GP   M   16       U     LE3       T     4     3  services     other   \n",
       "3     GP   M   16       U     LE3       T     2     2     other     other   \n",
       "4     GP   F   17       U     GT3       A     4     4     other   teacher   \n",
       "\n",
       "   ... famrel freetime  goout  Dalc  Walc health absences  G1  G2  G3  \n",
       "0  ...      5        3      3     1     1      3        4   5   5   6  \n",
       "1  ...      3        2      2     1     1      5        2  15  14  15  \n",
       "2  ...      5        4      2     1     2      5       10  15  15  15  \n",
       "3  ...      4        4      4     1     1      3        0  12  12  11  \n",
       "4  ...      4        1      4     1     1      1        6   6   5   6  \n",
       "\n",
       "[5 rows x 33 columns]"
      ]
     },
     "execution_count": 176,
     "metadata": {},
     "output_type": "execute_result"
    }
   ],
   "source": [
    "var_numericas = ['age', 'Medu', 'Fedu','traveltime' , 'studytime', 'failures',\n",
    "                'famrel', 'freetime', 'goout', 'Dalc', 'Walc', 'health',\n",
    "            'absences', 'G1', 'G3' ]\n",
    "\n",
    "for i in var_numericas:\n",
    "    df_2[i] = df_2[i].str.replace( '\"','').astype(int)\n",
    "\n",
    "df_2.head()"
   ]
  },
  {
   "cell_type": "markdown",
   "metadata": {},
   "source": [
    "<h3 style=\"color:#004d80\"> Descripción </h3>\n",
    "En esta sección se generará un análisis descriptivo considerando el tipo de variables desde el punto de vista estadístico así como computacional"
   ]
  },
  {
   "cell_type": "code",
   "execution_count": 177,
   "metadata": {
    "scrolled": false
   },
   "outputs": [
    {
     "data": {
      "text/html": [
       "<div>\n",
       "<style scoped>\n",
       "    .dataframe tbody tr th:only-of-type {\n",
       "        vertical-align: middle;\n",
       "    }\n",
       "\n",
       "    .dataframe tbody tr th {\n",
       "        vertical-align: top;\n",
       "    }\n",
       "\n",
       "    .dataframe thead th {\n",
       "        text-align: right;\n",
       "    }\n",
       "</style>\n",
       "<table border=\"1\" class=\"dataframe\">\n",
       "  <thead>\n",
       "    <tr style=\"text-align: right;\">\n",
       "      <th></th>\n",
       "      <th>school</th>\n",
       "      <th>sex</th>\n",
       "      <th>age</th>\n",
       "      <th>address</th>\n",
       "      <th>famsize</th>\n",
       "      <th>Pstatus</th>\n",
       "      <th>Medu</th>\n",
       "      <th>Fedu</th>\n",
       "      <th>Mjob</th>\n",
       "      <th>Fjob</th>\n",
       "      <th>...</th>\n",
       "      <th>famrel</th>\n",
       "      <th>freetime</th>\n",
       "      <th>goout</th>\n",
       "      <th>Dalc</th>\n",
       "      <th>Walc</th>\n",
       "      <th>health</th>\n",
       "      <th>absences</th>\n",
       "      <th>G1</th>\n",
       "      <th>G2</th>\n",
       "      <th>G3</th>\n",
       "    </tr>\n",
       "  </thead>\n",
       "  <tbody>\n",
       "    <tr>\n",
       "      <th>count</th>\n",
       "      <td>284</td>\n",
       "      <td>284</td>\n",
       "      <td>284.000000</td>\n",
       "      <td>284</td>\n",
       "      <td>284</td>\n",
       "      <td>284</td>\n",
       "      <td>284.000000</td>\n",
       "      <td>284.000000</td>\n",
       "      <td>284</td>\n",
       "      <td>284</td>\n",
       "      <td>...</td>\n",
       "      <td>284.000000</td>\n",
       "      <td>284.00000</td>\n",
       "      <td>284.000000</td>\n",
       "      <td>284.000000</td>\n",
       "      <td>284.000000</td>\n",
       "      <td>284.000000</td>\n",
       "      <td>284.000000</td>\n",
       "      <td>284.000000</td>\n",
       "      <td>284.000000</td>\n",
       "      <td>284.000000</td>\n",
       "    </tr>\n",
       "    <tr>\n",
       "      <th>unique</th>\n",
       "      <td>2</td>\n",
       "      <td>2</td>\n",
       "      <td>NaN</td>\n",
       "      <td>2</td>\n",
       "      <td>2</td>\n",
       "      <td>2</td>\n",
       "      <td>NaN</td>\n",
       "      <td>NaN</td>\n",
       "      <td>5</td>\n",
       "      <td>5</td>\n",
       "      <td>...</td>\n",
       "      <td>NaN</td>\n",
       "      <td>NaN</td>\n",
       "      <td>NaN</td>\n",
       "      <td>NaN</td>\n",
       "      <td>NaN</td>\n",
       "      <td>NaN</td>\n",
       "      <td>NaN</td>\n",
       "      <td>NaN</td>\n",
       "      <td>NaN</td>\n",
       "      <td>NaN</td>\n",
       "    </tr>\n",
       "    <tr>\n",
       "      <th>top</th>\n",
       "      <td>GP</td>\n",
       "      <td>F</td>\n",
       "      <td>NaN</td>\n",
       "      <td>U</td>\n",
       "      <td>GT3</td>\n",
       "      <td>T</td>\n",
       "      <td>NaN</td>\n",
       "      <td>NaN</td>\n",
       "      <td>other</td>\n",
       "      <td>other</td>\n",
       "      <td>...</td>\n",
       "      <td>NaN</td>\n",
       "      <td>NaN</td>\n",
       "      <td>NaN</td>\n",
       "      <td>NaN</td>\n",
       "      <td>NaN</td>\n",
       "      <td>NaN</td>\n",
       "      <td>NaN</td>\n",
       "      <td>NaN</td>\n",
       "      <td>NaN</td>\n",
       "      <td>NaN</td>\n",
       "    </tr>\n",
       "    <tr>\n",
       "      <th>freq</th>\n",
       "      <td>247</td>\n",
       "      <td>147</td>\n",
       "      <td>NaN</td>\n",
       "      <td>214</td>\n",
       "      <td>209</td>\n",
       "      <td>257</td>\n",
       "      <td>NaN</td>\n",
       "      <td>NaN</td>\n",
       "      <td>103</td>\n",
       "      <td>159</td>\n",
       "      <td>...</td>\n",
       "      <td>NaN</td>\n",
       "      <td>NaN</td>\n",
       "      <td>NaN</td>\n",
       "      <td>NaN</td>\n",
       "      <td>NaN</td>\n",
       "      <td>NaN</td>\n",
       "      <td>NaN</td>\n",
       "      <td>NaN</td>\n",
       "      <td>NaN</td>\n",
       "      <td>NaN</td>\n",
       "    </tr>\n",
       "    <tr>\n",
       "      <th>mean</th>\n",
       "      <td>NaN</td>\n",
       "      <td>NaN</td>\n",
       "      <td>16.707746</td>\n",
       "      <td>NaN</td>\n",
       "      <td>NaN</td>\n",
       "      <td>NaN</td>\n",
       "      <td>2.774648</td>\n",
       "      <td>2.521127</td>\n",
       "      <td>NaN</td>\n",
       "      <td>NaN</td>\n",
       "      <td>...</td>\n",
       "      <td>3.940141</td>\n",
       "      <td>3.18662</td>\n",
       "      <td>3.084507</td>\n",
       "      <td>1.482394</td>\n",
       "      <td>2.239437</td>\n",
       "      <td>3.626761</td>\n",
       "      <td>5.588028</td>\n",
       "      <td>10.933099</td>\n",
       "      <td>10.640845</td>\n",
       "      <td>10.394366</td>\n",
       "    </tr>\n",
       "    <tr>\n",
       "      <th>std</th>\n",
       "      <td>NaN</td>\n",
       "      <td>NaN</td>\n",
       "      <td>1.284238</td>\n",
       "      <td>NaN</td>\n",
       "      <td>NaN</td>\n",
       "      <td>NaN</td>\n",
       "      <td>1.095409</td>\n",
       "      <td>1.091038</td>\n",
       "      <td>NaN</td>\n",
       "      <td>NaN</td>\n",
       "      <td>...</td>\n",
       "      <td>0.881659</td>\n",
       "      <td>1.02117</td>\n",
       "      <td>1.076527</td>\n",
       "      <td>0.879512</td>\n",
       "      <td>1.285580</td>\n",
       "      <td>1.319113</td>\n",
       "      <td>8.156335</td>\n",
       "      <td>3.289199</td>\n",
       "      <td>3.789220</td>\n",
       "      <td>4.565902</td>\n",
       "    </tr>\n",
       "    <tr>\n",
       "      <th>min</th>\n",
       "      <td>NaN</td>\n",
       "      <td>NaN</td>\n",
       "      <td>15.000000</td>\n",
       "      <td>NaN</td>\n",
       "      <td>NaN</td>\n",
       "      <td>NaN</td>\n",
       "      <td>0.000000</td>\n",
       "      <td>0.000000</td>\n",
       "      <td>NaN</td>\n",
       "      <td>NaN</td>\n",
       "      <td>...</td>\n",
       "      <td>1.000000</td>\n",
       "      <td>1.00000</td>\n",
       "      <td>1.000000</td>\n",
       "      <td>1.000000</td>\n",
       "      <td>1.000000</td>\n",
       "      <td>1.000000</td>\n",
       "      <td>0.000000</td>\n",
       "      <td>4.000000</td>\n",
       "      <td>0.000000</td>\n",
       "      <td>0.000000</td>\n",
       "    </tr>\n",
       "    <tr>\n",
       "      <th>25%</th>\n",
       "      <td>NaN</td>\n",
       "      <td>NaN</td>\n",
       "      <td>16.000000</td>\n",
       "      <td>NaN</td>\n",
       "      <td>NaN</td>\n",
       "      <td>NaN</td>\n",
       "      <td>2.000000</td>\n",
       "      <td>2.000000</td>\n",
       "      <td>NaN</td>\n",
       "      <td>NaN</td>\n",
       "      <td>...</td>\n",
       "      <td>4.000000</td>\n",
       "      <td>3.00000</td>\n",
       "      <td>2.000000</td>\n",
       "      <td>1.000000</td>\n",
       "      <td>1.000000</td>\n",
       "      <td>3.000000</td>\n",
       "      <td>0.000000</td>\n",
       "      <td>8.000000</td>\n",
       "      <td>9.000000</td>\n",
       "      <td>8.000000</td>\n",
       "    </tr>\n",
       "    <tr>\n",
       "      <th>50%</th>\n",
       "      <td>NaN</td>\n",
       "      <td>NaN</td>\n",
       "      <td>17.000000</td>\n",
       "      <td>NaN</td>\n",
       "      <td>NaN</td>\n",
       "      <td>NaN</td>\n",
       "      <td>3.000000</td>\n",
       "      <td>3.000000</td>\n",
       "      <td>NaN</td>\n",
       "      <td>NaN</td>\n",
       "      <td>...</td>\n",
       "      <td>4.000000</td>\n",
       "      <td>3.00000</td>\n",
       "      <td>3.000000</td>\n",
       "      <td>1.000000</td>\n",
       "      <td>2.000000</td>\n",
       "      <td>4.000000</td>\n",
       "      <td>4.000000</td>\n",
       "      <td>11.000000</td>\n",
       "      <td>10.500000</td>\n",
       "      <td>11.000000</td>\n",
       "    </tr>\n",
       "    <tr>\n",
       "      <th>75%</th>\n",
       "      <td>NaN</td>\n",
       "      <td>NaN</td>\n",
       "      <td>18.000000</td>\n",
       "      <td>NaN</td>\n",
       "      <td>NaN</td>\n",
       "      <td>NaN</td>\n",
       "      <td>4.000000</td>\n",
       "      <td>3.000000</td>\n",
       "      <td>NaN</td>\n",
       "      <td>NaN</td>\n",
       "      <td>...</td>\n",
       "      <td>5.000000</td>\n",
       "      <td>4.00000</td>\n",
       "      <td>4.000000</td>\n",
       "      <td>2.000000</td>\n",
       "      <td>3.000000</td>\n",
       "      <td>5.000000</td>\n",
       "      <td>7.000000</td>\n",
       "      <td>13.000000</td>\n",
       "      <td>13.000000</td>\n",
       "      <td>13.000000</td>\n",
       "    </tr>\n",
       "    <tr>\n",
       "      <th>max</th>\n",
       "      <td>NaN</td>\n",
       "      <td>NaN</td>\n",
       "      <td>21.000000</td>\n",
       "      <td>NaN</td>\n",
       "      <td>NaN</td>\n",
       "      <td>NaN</td>\n",
       "      <td>4.000000</td>\n",
       "      <td>4.000000</td>\n",
       "      <td>NaN</td>\n",
       "      <td>NaN</td>\n",
       "      <td>...</td>\n",
       "      <td>5.000000</td>\n",
       "      <td>5.00000</td>\n",
       "      <td>5.000000</td>\n",
       "      <td>5.000000</td>\n",
       "      <td>5.000000</td>\n",
       "      <td>5.000000</td>\n",
       "      <td>75.000000</td>\n",
       "      <td>19.000000</td>\n",
       "      <td>19.000000</td>\n",
       "      <td>20.000000</td>\n",
       "    </tr>\n",
       "  </tbody>\n",
       "</table>\n",
       "<p>11 rows × 33 columns</p>\n",
       "</div>"
      ],
      "text/plain": [
       "       school  sex         age address famsize Pstatus        Medu  \\\n",
       "count     284  284  284.000000     284     284     284  284.000000   \n",
       "unique      2    2         NaN       2       2       2         NaN   \n",
       "top        GP    F         NaN       U     GT3       T         NaN   \n",
       "freq      247  147         NaN     214     209     257         NaN   \n",
       "mean      NaN  NaN   16.707746     NaN     NaN     NaN    2.774648   \n",
       "std       NaN  NaN    1.284238     NaN     NaN     NaN    1.095409   \n",
       "min       NaN  NaN   15.000000     NaN     NaN     NaN    0.000000   \n",
       "25%       NaN  NaN   16.000000     NaN     NaN     NaN    2.000000   \n",
       "50%       NaN  NaN   17.000000     NaN     NaN     NaN    3.000000   \n",
       "75%       NaN  NaN   18.000000     NaN     NaN     NaN    4.000000   \n",
       "max       NaN  NaN   21.000000     NaN     NaN     NaN    4.000000   \n",
       "\n",
       "              Fedu   Mjob   Fjob  ...      famrel   freetime       goout  \\\n",
       "count   284.000000    284    284  ...  284.000000  284.00000  284.000000   \n",
       "unique         NaN      5      5  ...         NaN        NaN         NaN   \n",
       "top            NaN  other  other  ...         NaN        NaN         NaN   \n",
       "freq           NaN    103    159  ...         NaN        NaN         NaN   \n",
       "mean      2.521127    NaN    NaN  ...    3.940141    3.18662    3.084507   \n",
       "std       1.091038    NaN    NaN  ...    0.881659    1.02117    1.076527   \n",
       "min       0.000000    NaN    NaN  ...    1.000000    1.00000    1.000000   \n",
       "25%       2.000000    NaN    NaN  ...    4.000000    3.00000    2.000000   \n",
       "50%       3.000000    NaN    NaN  ...    4.000000    3.00000    3.000000   \n",
       "75%       3.000000    NaN    NaN  ...    5.000000    4.00000    4.000000   \n",
       "max       4.000000    NaN    NaN  ...    5.000000    5.00000    5.000000   \n",
       "\n",
       "              Dalc        Walc      health    absences          G1  \\\n",
       "count   284.000000  284.000000  284.000000  284.000000  284.000000   \n",
       "unique         NaN         NaN         NaN         NaN         NaN   \n",
       "top            NaN         NaN         NaN         NaN         NaN   \n",
       "freq           NaN         NaN         NaN         NaN         NaN   \n",
       "mean      1.482394    2.239437    3.626761    5.588028   10.933099   \n",
       "std       0.879512    1.285580    1.319113    8.156335    3.289199   \n",
       "min       1.000000    1.000000    1.000000    0.000000    4.000000   \n",
       "25%       1.000000    1.000000    3.000000    0.000000    8.000000   \n",
       "50%       1.000000    2.000000    4.000000    4.000000   11.000000   \n",
       "75%       2.000000    3.000000    5.000000    7.000000   13.000000   \n",
       "max       5.000000    5.000000    5.000000   75.000000   19.000000   \n",
       "\n",
       "                G2          G3  \n",
       "count   284.000000  284.000000  \n",
       "unique         NaN         NaN  \n",
       "top            NaN         NaN  \n",
       "freq           NaN         NaN  \n",
       "mean     10.640845   10.394366  \n",
       "std       3.789220    4.565902  \n",
       "min       0.000000    0.000000  \n",
       "25%       9.000000    8.000000  \n",
       "50%      10.500000   11.000000  \n",
       "75%      13.000000   13.000000  \n",
       "max      19.000000   20.000000  \n",
       "\n",
       "[11 rows x 33 columns]"
      ]
     },
     "execution_count": 177,
     "metadata": {},
     "output_type": "execute_result"
    }
   ],
   "source": [
    "df_2.describe(include= 'all')"
   ]
  },
  {
   "cell_type": "markdown",
   "metadata": {},
   "source": [
    "vemos el tipo de variable luego del arreglo del dataframe"
   ]
  },
  {
   "cell_type": "code",
   "execution_count": 178,
   "metadata": {},
   "outputs": [
    {
     "name": "stdout",
     "output_type": "stream",
     "text": [
      "school \n",
      " Index(['GP', 'MS'], dtype='object') \n",
      "\n",
      "sex \n",
      " Index(['F', 'M'], dtype='object') \n",
      "\n",
      "age \n",
      " Int64Index([16, 18, 15, 17, 19, 20, 21], dtype='int64') \n",
      "\n",
      "address \n",
      " Index(['U', 'R'], dtype='object') \n",
      "\n",
      "famsize \n",
      " Index(['GT3', 'LE3'], dtype='object') \n",
      "\n",
      "Pstatus \n",
      " Index(['T', 'A'], dtype='object') \n",
      "\n",
      "Medu \n",
      " Int64Index([4, 2, 3, 1, 0], dtype='int64') \n",
      "\n",
      "Fedu \n",
      " Int64Index([2, 3, 4, 1, 0], dtype='int64') \n",
      "\n",
      "Mjob \n",
      " Index(['other', 'services', 'teacher', 'at_home', 'health'], dtype='object') \n",
      "\n",
      "Fjob \n",
      " Index(['other', 'services', 'teacher', 'health', 'at_home'], dtype='object') \n",
      "\n",
      "reason \n",
      " Index(['course', 'home', 'reputation', 'other'], dtype='object') \n",
      "\n",
      "guardian \n",
      " Index(['mother', 'father', 'other'], dtype='object') \n",
      "\n",
      "traveltime \n",
      " Int64Index([1, 2, 3, 4], dtype='int64') \n",
      "\n",
      "studytime \n",
      " Int64Index([2, 1, 3, 4], dtype='int64') \n",
      "\n",
      "failures \n",
      " Int64Index([0, 1, 2, 3], dtype='int64') \n",
      "\n",
      "schoolsup \n",
      " Index(['no', 'yes'], dtype='object') \n",
      "\n",
      "famsup \n",
      " Index(['yes', 'no'], dtype='object') \n",
      "\n",
      "paid \n",
      " Index(['no', 'yes'], dtype='object') \n",
      "\n",
      "activities \n",
      " Index(['yes', 'no'], dtype='object') \n",
      "\n",
      "nursery \n",
      " Index(['yes', 'no'], dtype='object') \n",
      "\n",
      "higher \n",
      " Index(['yes', 'no'], dtype='object') \n",
      "\n",
      "internet \n",
      " Index(['yes', 'no'], dtype='object') \n",
      "\n",
      "romantic \n",
      " Index(['no', 'yes'], dtype='object') \n",
      "\n",
      "famrel \n",
      " Int64Index([4, 5, 3, 2, 1], dtype='int64') \n",
      "\n",
      "freetime \n",
      " Int64Index([3, 4, 2, 5, 1], dtype='int64') \n",
      "\n",
      "goout \n",
      " Int64Index([3, 2, 4, 5, 1], dtype='int64') \n",
      "\n",
      "Dalc \n",
      " Int64Index([1, 2, 3, 4, 5], dtype='int64') \n",
      "\n",
      "Walc \n",
      " Int64Index([1, 2, 3, 4, 5], dtype='int64') \n",
      "\n",
      "health \n",
      " Int64Index([5, 3, 4, 2, 1], dtype='int64') \n",
      "\n",
      "absences \n",
      " Int64Index([ 0,  2,  4,  6,  8, 10, 14,  7,  3,  5, 12, 18,  1, 11, 13, 15, 16,\n",
      "            20,  9, 54, 17, 19, 21, 22, 24, 25, 26, 28, 30, 38, 40, 75],\n",
      "           dtype='int64') \n",
      "\n",
      "G1 \n",
      " Int64Index([10, 8, 12, 13, 9, 7, 11, 14, 6, 15, 16, 17, 18, 5, 19, 4], dtype='int64') \n",
      "\n",
      "G2 \n",
      " Int64Index([9, 10, 12, 13, 11, 8, 15, 7, 14, 6, 16, 0, 5, 18, 17, 19, 4], dtype='int64') \n",
      "\n",
      "G3 \n",
      " Int64Index([10, 11, 0, 12, 13, 9, 8, 15, 14, 6, 16, 7, 18, 17, 19, 5, 4, 20], dtype='int64') \n",
      "\n"
     ]
    }
   ],
   "source": [
    "fs.descriptive_var(df_2)"
   ]
  },
  {
   "cell_type": "markdown",
   "metadata": {},
   "source": [
    "Obtenemos las variables binarias:"
   ]
  },
  {
   "cell_type": "code",
   "execution_count": 179,
   "metadata": {},
   "outputs": [
    {
     "name": "stdout",
     "output_type": "stream",
     "text": [
      "['school', 'sex', 'address', 'famsize', 'Pstatus', 'schoolsup', 'famsup', 'paid', 'activities', 'nursery', 'higher', 'internet', 'romantic']\n"
     ]
    }
   ],
   "source": [
    "variables_binarias = []\n",
    "\n",
    "for i in list(df_2.columns):\n",
    "    len_var = len(list(dict(df_2[i].value_counts()).keys()))\n",
    "    if len_var == 2:\n",
    "        variables_binarias.append(i)\n",
    "print(variables_binarias)"
   ]
  },
  {
   "cell_type": "markdown",
   "metadata": {},
   "source": [
    "Categorizamos las variables restantes:"
   ]
  },
  {
   "cell_type": "code",
   "execution_count": 180,
   "metadata": {},
   "outputs": [],
   "source": [
    "variables_nominales = ['Medu', 'Fedu', 'Mjob', 'Fjob', 'reason', 'guardian', 'traveltime', 'studytime']\n",
    "\n",
    "variables_ordinales = ['famrel', 'freetime', 'goout', 'Dalc','Walc', 'health']\n",
    "\n",
    "variables_cuantitativas = ['failures', 'age', 'absences', 'G1', 'G2', 'G3']"
   ]
  },
  {
   "cell_type": "markdown",
   "metadata": {},
   "source": [
    "Creamos un diccionario para las variables nominales:"
   ]
  },
  {
   "cell_type": "code",
   "execution_count": 181,
   "metadata": {},
   "outputs": [
    {
     "name": "stdout",
     "output_type": "stream",
     "text": [
      "{'Medu': {0: 'ninguna', 1: 'basica_1', 2: 'basica_2', 3: 'media', 4: 'superior'}, 'Fedu': {0: 'ninguna', 1: 'basica_1', 2: 'basica_2', 3: 'media', 4: 'superior'}, 'Mjob': {'other': 'other', 'services': 'services', 'teacher': 'teacher', 'at_home': 'at_home', 'health': 'health'}, 'Fjob': {'other': 'other', 'services': 'services', 'teacher': 'teacher', 'at_home': 'at_home', 'health': 'health'}, 'reason': {'course': 'course', 'home': 'home', 'reputation': 'reputation', 'other': 'other'}, 'guardian': {'mother': 'mother', 'father': 'father', 'other': 'other'}, 'traveltime': {1: 'menor15', 2: '15a30', 3: '30a60', 4: 'mayor60'}, 'studytime': {1: 'menor2', 2: '2a5', 3: '5a10', 4: 'mayor10'}, 'failures': {'0': '0', '1': '1', '2': '2', '3': '3', '4': '4'}}\n"
     ]
    }
   ],
   "source": [
    "medu = {'Medu':dict(zip([0,1,2,3,4],['ninguna', 'basica_1', 'basica_2', 'media', 'superior']))}\n",
    "fedu = {'Fedu':dict(zip([0,1,2,3,4],['ninguna', 'basica_1', 'basica_2', 'media', 'superior']))}\n",
    "mjob = {'Mjob':dict(zip(['other', 'services', 'teacher', 'at_home', 'health'],['other', 'services', 'teacher', 'at_home', 'health']))}\n",
    "fjob = {'Fjob':dict(zip(['other', 'services', 'teacher', 'at_home', 'health'],['other', 'services', 'teacher', 'at_home', 'health']))}\n",
    "reason = {'reason':dict(zip(['course', 'home', 'reputation', 'other'],['course', 'home', 'reputation', 'other']))}\n",
    "guardian = {'guardian':dict(zip(['mother', 'father', 'other'],['mother', 'father', 'other']))}\n",
    "traveltime = {'traveltime':dict(zip([1,2,3,4],['menor15', '15a30', '30a60', 'mayor60']))}\n",
    "studytime = {'studytime':dict(zip([1,2,3,4],['menor2', '2a5', '5a10', 'mayor10']))}\n",
    "failures = {'failures':dict(zip(['0','1','2','3','4'],['0','1','2','3','4']))}\n",
    "\n",
    "lista_var = [medu,fedu,mjob, fjob, reason, guardian, traveltime, studytime, failures]\n",
    "\n",
    "dict_nominales = {}\n",
    "\n",
    "for i in lista_var:\n",
    "    dict_nominales.update(i)\n",
    "    \n",
    "print(dict_nominales)"
   ]
  },
  {
   "cell_type": "markdown",
   "metadata": {},
   "source": [
    "Recodificamos el data con el nombre de las categorias para las variables nominales:"
   ]
  },
  {
   "cell_type": "code",
   "execution_count": 182,
   "metadata": {},
   "outputs": [
    {
     "data": {
      "text/html": [
       "<div>\n",
       "<style scoped>\n",
       "    .dataframe tbody tr th:only-of-type {\n",
       "        vertical-align: middle;\n",
       "    }\n",
       "\n",
       "    .dataframe tbody tr th {\n",
       "        vertical-align: top;\n",
       "    }\n",
       "\n",
       "    .dataframe thead th {\n",
       "        text-align: right;\n",
       "    }\n",
       "</style>\n",
       "<table border=\"1\" class=\"dataframe\">\n",
       "  <thead>\n",
       "    <tr style=\"text-align: right;\">\n",
       "      <th></th>\n",
       "      <th>school</th>\n",
       "      <th>sex</th>\n",
       "      <th>age</th>\n",
       "      <th>address</th>\n",
       "      <th>famsize</th>\n",
       "      <th>Pstatus</th>\n",
       "      <th>Medu</th>\n",
       "      <th>Fedu</th>\n",
       "      <th>Mjob</th>\n",
       "      <th>Fjob</th>\n",
       "      <th>...</th>\n",
       "      <th>famrel</th>\n",
       "      <th>freetime</th>\n",
       "      <th>goout</th>\n",
       "      <th>Dalc</th>\n",
       "      <th>Walc</th>\n",
       "      <th>health</th>\n",
       "      <th>absences</th>\n",
       "      <th>G1</th>\n",
       "      <th>G2</th>\n",
       "      <th>G3</th>\n",
       "    </tr>\n",
       "  </thead>\n",
       "  <tbody>\n",
       "    <tr>\n",
       "      <th>0</th>\n",
       "      <td>GP</td>\n",
       "      <td>F</td>\n",
       "      <td>17</td>\n",
       "      <td>U</td>\n",
       "      <td>GT3</td>\n",
       "      <td>T</td>\n",
       "      <td>basica_1</td>\n",
       "      <td>basica_1</td>\n",
       "      <td>at_home</td>\n",
       "      <td>other</td>\n",
       "      <td>...</td>\n",
       "      <td>5</td>\n",
       "      <td>3</td>\n",
       "      <td>3</td>\n",
       "      <td>1</td>\n",
       "      <td>1</td>\n",
       "      <td>3</td>\n",
       "      <td>4</td>\n",
       "      <td>5</td>\n",
       "      <td>5</td>\n",
       "      <td>6</td>\n",
       "    </tr>\n",
       "    <tr>\n",
       "      <th>1</th>\n",
       "      <td>GP</td>\n",
       "      <td>F</td>\n",
       "      <td>15</td>\n",
       "      <td>U</td>\n",
       "      <td>GT3</td>\n",
       "      <td>T</td>\n",
       "      <td>superior</td>\n",
       "      <td>basica_2</td>\n",
       "      <td>health</td>\n",
       "      <td>services</td>\n",
       "      <td>...</td>\n",
       "      <td>3</td>\n",
       "      <td>2</td>\n",
       "      <td>2</td>\n",
       "      <td>1</td>\n",
       "      <td>1</td>\n",
       "      <td>5</td>\n",
       "      <td>2</td>\n",
       "      <td>15</td>\n",
       "      <td>14</td>\n",
       "      <td>15</td>\n",
       "    </tr>\n",
       "    <tr>\n",
       "      <th>2</th>\n",
       "      <td>GP</td>\n",
       "      <td>M</td>\n",
       "      <td>16</td>\n",
       "      <td>U</td>\n",
       "      <td>LE3</td>\n",
       "      <td>T</td>\n",
       "      <td>superior</td>\n",
       "      <td>media</td>\n",
       "      <td>services</td>\n",
       "      <td>other</td>\n",
       "      <td>...</td>\n",
       "      <td>5</td>\n",
       "      <td>4</td>\n",
       "      <td>2</td>\n",
       "      <td>1</td>\n",
       "      <td>2</td>\n",
       "      <td>5</td>\n",
       "      <td>10</td>\n",
       "      <td>15</td>\n",
       "      <td>15</td>\n",
       "      <td>15</td>\n",
       "    </tr>\n",
       "    <tr>\n",
       "      <th>3</th>\n",
       "      <td>GP</td>\n",
       "      <td>M</td>\n",
       "      <td>16</td>\n",
       "      <td>U</td>\n",
       "      <td>LE3</td>\n",
       "      <td>T</td>\n",
       "      <td>basica_2</td>\n",
       "      <td>basica_2</td>\n",
       "      <td>other</td>\n",
       "      <td>other</td>\n",
       "      <td>...</td>\n",
       "      <td>4</td>\n",
       "      <td>4</td>\n",
       "      <td>4</td>\n",
       "      <td>1</td>\n",
       "      <td>1</td>\n",
       "      <td>3</td>\n",
       "      <td>0</td>\n",
       "      <td>12</td>\n",
       "      <td>12</td>\n",
       "      <td>11</td>\n",
       "    </tr>\n",
       "    <tr>\n",
       "      <th>4</th>\n",
       "      <td>GP</td>\n",
       "      <td>F</td>\n",
       "      <td>17</td>\n",
       "      <td>U</td>\n",
       "      <td>GT3</td>\n",
       "      <td>A</td>\n",
       "      <td>superior</td>\n",
       "      <td>superior</td>\n",
       "      <td>other</td>\n",
       "      <td>teacher</td>\n",
       "      <td>...</td>\n",
       "      <td>4</td>\n",
       "      <td>1</td>\n",
       "      <td>4</td>\n",
       "      <td>1</td>\n",
       "      <td>1</td>\n",
       "      <td>1</td>\n",
       "      <td>6</td>\n",
       "      <td>6</td>\n",
       "      <td>5</td>\n",
       "      <td>6</td>\n",
       "    </tr>\n",
       "  </tbody>\n",
       "</table>\n",
       "<p>5 rows × 33 columns</p>\n",
       "</div>"
      ],
      "text/plain": [
       "  school sex  age address famsize Pstatus      Medu      Fedu      Mjob  \\\n",
       "0     GP   F   17       U     GT3       T  basica_1  basica_1   at_home   \n",
       "1     GP   F   15       U     GT3       T  superior  basica_2    health   \n",
       "2     GP   M   16       U     LE3       T  superior     media  services   \n",
       "3     GP   M   16       U     LE3       T  basica_2  basica_2     other   \n",
       "4     GP   F   17       U     GT3       A  superior  superior     other   \n",
       "\n",
       "       Fjob  ... famrel freetime goout Dalc  Walc health absences  G1  G2  G3  \n",
       "0     other  ...      5        3     3    1     1      3        4   5   5   6  \n",
       "1  services  ...      3        2     2    1     1      5        2  15  14  15  \n",
       "2     other  ...      5        4     2    1     2      5       10  15  15  15  \n",
       "3     other  ...      4        4     4    1     1      3        0  12  12  11  \n",
       "4   teacher  ...      4        1     4    1     1      1        6   6   5   6  \n",
       "\n",
       "[5 rows x 33 columns]"
      ]
     },
     "execution_count": 182,
     "metadata": {},
     "output_type": "execute_result"
    }
   ],
   "source": [
    "for i in variables_nominales:\n",
    "    var_tmp = dict_nominales.get(i)\n",
    "    keys_tmp = list(var_tmp.keys())\n",
    "    values_tmp = list(var_tmp.values())\n",
    "\n",
    "    df_2[i] = df_2[i].replace(keys_tmp, values_tmp)\n",
    "        \n",
    "df_2.head()"
   ]
  },
  {
   "cell_type": "markdown",
   "metadata": {},
   "source": [
    "Creamos un nuevo Dataframe renombrado, en este caso se convirtieron las variables binarias a dummies manteniendo el valor 1 para la variable minoritaria "
   ]
  },
  {
   "cell_type": "code",
   "execution_count": 183,
   "metadata": {},
   "outputs": [
    {
     "data": {
      "text/html": [
       "<div>\n",
       "<style scoped>\n",
       "    .dataframe tbody tr th:only-of-type {\n",
       "        vertical-align: middle;\n",
       "    }\n",
       "\n",
       "    .dataframe tbody tr th {\n",
       "        vertical-align: top;\n",
       "    }\n",
       "\n",
       "    .dataframe thead th {\n",
       "        text-align: right;\n",
       "    }\n",
       "</style>\n",
       "<table border=\"1\" class=\"dataframe\">\n",
       "  <thead>\n",
       "    <tr style=\"text-align: right;\">\n",
       "      <th></th>\n",
       "      <th>school_MS</th>\n",
       "      <th>sex_M</th>\n",
       "      <th>address_R</th>\n",
       "      <th>famsize_LE3</th>\n",
       "      <th>Pstatus_A</th>\n",
       "      <th>schoolsup_yes</th>\n",
       "      <th>famsup_no</th>\n",
       "      <th>paid_yes</th>\n",
       "      <th>activities_no</th>\n",
       "      <th>nursery_no</th>\n",
       "      <th>higher_no</th>\n",
       "      <th>internet_no</th>\n",
       "      <th>romantic_yes</th>\n",
       "    </tr>\n",
       "  </thead>\n",
       "  <tbody>\n",
       "    <tr>\n",
       "      <th>0</th>\n",
       "      <td>0</td>\n",
       "      <td>0</td>\n",
       "      <td>0</td>\n",
       "      <td>0</td>\n",
       "      <td>0</td>\n",
       "      <td>0</td>\n",
       "      <td>0</td>\n",
       "      <td>0</td>\n",
       "      <td>1</td>\n",
       "      <td>1</td>\n",
       "      <td>0</td>\n",
       "      <td>0</td>\n",
       "      <td>0</td>\n",
       "    </tr>\n",
       "    <tr>\n",
       "      <th>1</th>\n",
       "      <td>0</td>\n",
       "      <td>0</td>\n",
       "      <td>0</td>\n",
       "      <td>0</td>\n",
       "      <td>0</td>\n",
       "      <td>0</td>\n",
       "      <td>0</td>\n",
       "      <td>1</td>\n",
       "      <td>0</td>\n",
       "      <td>0</td>\n",
       "      <td>0</td>\n",
       "      <td>0</td>\n",
       "      <td>1</td>\n",
       "    </tr>\n",
       "    <tr>\n",
       "      <th>2</th>\n",
       "      <td>0</td>\n",
       "      <td>1</td>\n",
       "      <td>0</td>\n",
       "      <td>1</td>\n",
       "      <td>0</td>\n",
       "      <td>0</td>\n",
       "      <td>0</td>\n",
       "      <td>1</td>\n",
       "      <td>0</td>\n",
       "      <td>0</td>\n",
       "      <td>0</td>\n",
       "      <td>0</td>\n",
       "      <td>0</td>\n",
       "    </tr>\n",
       "    <tr>\n",
       "      <th>3</th>\n",
       "      <td>0</td>\n",
       "      <td>1</td>\n",
       "      <td>0</td>\n",
       "      <td>1</td>\n",
       "      <td>0</td>\n",
       "      <td>0</td>\n",
       "      <td>1</td>\n",
       "      <td>0</td>\n",
       "      <td>1</td>\n",
       "      <td>0</td>\n",
       "      <td>0</td>\n",
       "      <td>0</td>\n",
       "      <td>0</td>\n",
       "    </tr>\n",
       "    <tr>\n",
       "      <th>4</th>\n",
       "      <td>0</td>\n",
       "      <td>0</td>\n",
       "      <td>0</td>\n",
       "      <td>0</td>\n",
       "      <td>1</td>\n",
       "      <td>1</td>\n",
       "      <td>0</td>\n",
       "      <td>0</td>\n",
       "      <td>1</td>\n",
       "      <td>0</td>\n",
       "      <td>0</td>\n",
       "      <td>1</td>\n",
       "      <td>0</td>\n",
       "    </tr>\n",
       "  </tbody>\n",
       "</table>\n",
       "</div>"
      ],
      "text/plain": [
       "   school_MS  sex_M  address_R  famsize_LE3  Pstatus_A  schoolsup_yes  \\\n",
       "0          0      0          0            0          0              0   \n",
       "1          0      0          0            0          0              0   \n",
       "2          0      1          0            1          0              0   \n",
       "3          0      1          0            1          0              0   \n",
       "4          0      0          0            0          1              1   \n",
       "\n",
       "   famsup_no  paid_yes  activities_no  nursery_no  higher_no  internet_no  \\\n",
       "0          0         0              1           1          0            0   \n",
       "1          0         1              0           0          0            0   \n",
       "2          0         1              0           0          0            0   \n",
       "3          1         0              1           0          0            0   \n",
       "4          0         0              1           0          0            1   \n",
       "\n",
       "   romantic_yes  \n",
       "0             0  \n",
       "1             1  \n",
       "2             0  \n",
       "3             0  \n",
       "4             0  "
      ]
     },
     "execution_count": 183,
     "metadata": {},
     "output_type": "execute_result"
    }
   ],
   "source": [
    "df_recod = pd.DataFrame()\n",
    "for var in variables_binarias:\n",
    "    keys = list(dict(df_2[var].value_counts()).keys())\n",
    "    column_name = var + '_' + keys[1]\n",
    "    df_recod[column_name] = np.where(df_2[var] == keys[1], 1, 0)\n",
    "    \n",
    "df_recod.head()"
   ]
  },
  {
   "cell_type": "markdown",
   "metadata": {},
   "source": [
    "Transformamos las variables nominales en dummies en el datadrame recodificado. En primer lugar incorporamos las variables nominales al dataframe df_recod y luego se utiliza el metodo get_dummies"
   ]
  },
  {
   "cell_type": "code",
   "execution_count": 184,
   "metadata": {},
   "outputs": [
    {
     "data": {
      "text/html": [
       "<div>\n",
       "<style scoped>\n",
       "    .dataframe tbody tr th:only-of-type {\n",
       "        vertical-align: middle;\n",
       "    }\n",
       "\n",
       "    .dataframe tbody tr th {\n",
       "        vertical-align: top;\n",
       "    }\n",
       "\n",
       "    .dataframe thead th {\n",
       "        text-align: right;\n",
       "    }\n",
       "</style>\n",
       "<table border=\"1\" class=\"dataframe\">\n",
       "  <thead>\n",
       "    <tr style=\"text-align: right;\">\n",
       "      <th></th>\n",
       "      <th>school_MS</th>\n",
       "      <th>sex_M</th>\n",
       "      <th>address_R</th>\n",
       "      <th>famsize_LE3</th>\n",
       "      <th>Pstatus_A</th>\n",
       "      <th>schoolsup_yes</th>\n",
       "      <th>famsup_no</th>\n",
       "      <th>paid_yes</th>\n",
       "      <th>activities_no</th>\n",
       "      <th>nursery_no</th>\n",
       "      <th>...</th>\n",
       "      <th>internet_no</th>\n",
       "      <th>romantic_yes</th>\n",
       "      <th>Medu</th>\n",
       "      <th>Fedu</th>\n",
       "      <th>Mjob</th>\n",
       "      <th>Fjob</th>\n",
       "      <th>reason</th>\n",
       "      <th>guardian</th>\n",
       "      <th>traveltime</th>\n",
       "      <th>studytime</th>\n",
       "    </tr>\n",
       "  </thead>\n",
       "  <tbody>\n",
       "    <tr>\n",
       "      <th>0</th>\n",
       "      <td>0</td>\n",
       "      <td>0</td>\n",
       "      <td>0</td>\n",
       "      <td>0</td>\n",
       "      <td>0</td>\n",
       "      <td>0</td>\n",
       "      <td>0</td>\n",
       "      <td>0</td>\n",
       "      <td>1</td>\n",
       "      <td>1</td>\n",
       "      <td>...</td>\n",
       "      <td>0</td>\n",
       "      <td>0</td>\n",
       "      <td>basica_1</td>\n",
       "      <td>basica_1</td>\n",
       "      <td>at_home</td>\n",
       "      <td>other</td>\n",
       "      <td>course</td>\n",
       "      <td>father</td>\n",
       "      <td>menor15</td>\n",
       "      <td>2a5</td>\n",
       "    </tr>\n",
       "    <tr>\n",
       "      <th>1</th>\n",
       "      <td>0</td>\n",
       "      <td>0</td>\n",
       "      <td>0</td>\n",
       "      <td>0</td>\n",
       "      <td>0</td>\n",
       "      <td>0</td>\n",
       "      <td>0</td>\n",
       "      <td>1</td>\n",
       "      <td>0</td>\n",
       "      <td>0</td>\n",
       "      <td>...</td>\n",
       "      <td>0</td>\n",
       "      <td>1</td>\n",
       "      <td>superior</td>\n",
       "      <td>basica_2</td>\n",
       "      <td>health</td>\n",
       "      <td>services</td>\n",
       "      <td>home</td>\n",
       "      <td>mother</td>\n",
       "      <td>menor15</td>\n",
       "      <td>5a10</td>\n",
       "    </tr>\n",
       "    <tr>\n",
       "      <th>2</th>\n",
       "      <td>0</td>\n",
       "      <td>1</td>\n",
       "      <td>0</td>\n",
       "      <td>1</td>\n",
       "      <td>0</td>\n",
       "      <td>0</td>\n",
       "      <td>0</td>\n",
       "      <td>1</td>\n",
       "      <td>0</td>\n",
       "      <td>0</td>\n",
       "      <td>...</td>\n",
       "      <td>0</td>\n",
       "      <td>0</td>\n",
       "      <td>superior</td>\n",
       "      <td>media</td>\n",
       "      <td>services</td>\n",
       "      <td>other</td>\n",
       "      <td>reputation</td>\n",
       "      <td>mother</td>\n",
       "      <td>menor15</td>\n",
       "      <td>2a5</td>\n",
       "    </tr>\n",
       "    <tr>\n",
       "      <th>3</th>\n",
       "      <td>0</td>\n",
       "      <td>1</td>\n",
       "      <td>0</td>\n",
       "      <td>1</td>\n",
       "      <td>0</td>\n",
       "      <td>0</td>\n",
       "      <td>1</td>\n",
       "      <td>0</td>\n",
       "      <td>1</td>\n",
       "      <td>0</td>\n",
       "      <td>...</td>\n",
       "      <td>0</td>\n",
       "      <td>0</td>\n",
       "      <td>basica_2</td>\n",
       "      <td>basica_2</td>\n",
       "      <td>other</td>\n",
       "      <td>other</td>\n",
       "      <td>home</td>\n",
       "      <td>mother</td>\n",
       "      <td>menor15</td>\n",
       "      <td>2a5</td>\n",
       "    </tr>\n",
       "    <tr>\n",
       "      <th>4</th>\n",
       "      <td>0</td>\n",
       "      <td>0</td>\n",
       "      <td>0</td>\n",
       "      <td>0</td>\n",
       "      <td>1</td>\n",
       "      <td>1</td>\n",
       "      <td>0</td>\n",
       "      <td>0</td>\n",
       "      <td>1</td>\n",
       "      <td>0</td>\n",
       "      <td>...</td>\n",
       "      <td>1</td>\n",
       "      <td>0</td>\n",
       "      <td>superior</td>\n",
       "      <td>superior</td>\n",
       "      <td>other</td>\n",
       "      <td>teacher</td>\n",
       "      <td>home</td>\n",
       "      <td>mother</td>\n",
       "      <td>15a30</td>\n",
       "      <td>2a5</td>\n",
       "    </tr>\n",
       "  </tbody>\n",
       "</table>\n",
       "<p>5 rows × 21 columns</p>\n",
       "</div>"
      ],
      "text/plain": [
       "   school_MS  sex_M  address_R  famsize_LE3  Pstatus_A  schoolsup_yes  \\\n",
       "0          0      0          0            0          0              0   \n",
       "1          0      0          0            0          0              0   \n",
       "2          0      1          0            1          0              0   \n",
       "3          0      1          0            1          0              0   \n",
       "4          0      0          0            0          1              1   \n",
       "\n",
       "   famsup_no  paid_yes  activities_no  nursery_no  ...  internet_no  \\\n",
       "0          0         0              1           1  ...            0   \n",
       "1          0         1              0           0  ...            0   \n",
       "2          0         1              0           0  ...            0   \n",
       "3          1         0              1           0  ...            0   \n",
       "4          0         0              1           0  ...            1   \n",
       "\n",
       "   romantic_yes      Medu      Fedu      Mjob      Fjob      reason guardian  \\\n",
       "0             0  basica_1  basica_1   at_home     other      course   father   \n",
       "1             1  superior  basica_2    health  services        home   mother   \n",
       "2             0  superior     media  services     other  reputation   mother   \n",
       "3             0  basica_2  basica_2     other     other        home   mother   \n",
       "4             0  superior  superior     other   teacher        home   mother   \n",
       "\n",
       "  traveltime studytime  \n",
       "0    menor15       2a5  \n",
       "1    menor15      5a10  \n",
       "2    menor15       2a5  \n",
       "3    menor15       2a5  \n",
       "4      15a30       2a5  \n",
       "\n",
       "[5 rows x 21 columns]"
      ]
     },
     "execution_count": 184,
     "metadata": {},
     "output_type": "execute_result"
    }
   ],
   "source": [
    "for variable in variables_nominales:\n",
    "    df_recod[variable] = df_2[variable]\n",
    "df_recod.head()"
   ]
  },
  {
   "cell_type": "code",
   "execution_count": 185,
   "metadata": {},
   "outputs": [
    {
     "data": {
      "text/html": [
       "<div>\n",
       "<style scoped>\n",
       "    .dataframe tbody tr th:only-of-type {\n",
       "        vertical-align: middle;\n",
       "    }\n",
       "\n",
       "    .dataframe tbody tr th {\n",
       "        vertical-align: top;\n",
       "    }\n",
       "\n",
       "    .dataframe thead th {\n",
       "        text-align: right;\n",
       "    }\n",
       "</style>\n",
       "<table border=\"1\" class=\"dataframe\">\n",
       "  <thead>\n",
       "    <tr style=\"text-align: right;\">\n",
       "      <th></th>\n",
       "      <th>school_MS</th>\n",
       "      <th>sex_M</th>\n",
       "      <th>address_R</th>\n",
       "      <th>famsize_LE3</th>\n",
       "      <th>Pstatus_A</th>\n",
       "      <th>schoolsup_yes</th>\n",
       "      <th>famsup_no</th>\n",
       "      <th>paid_yes</th>\n",
       "      <th>activities_no</th>\n",
       "      <th>nursery_no</th>\n",
       "      <th>...</th>\n",
       "      <th>guardian_mother</th>\n",
       "      <th>guardian_other</th>\n",
       "      <th>traveltime_15a30</th>\n",
       "      <th>traveltime_30a60</th>\n",
       "      <th>traveltime_mayor60</th>\n",
       "      <th>traveltime_menor15</th>\n",
       "      <th>studytime_2a5</th>\n",
       "      <th>studytime_5a10</th>\n",
       "      <th>studytime_mayor10</th>\n",
       "      <th>studytime_menor2</th>\n",
       "    </tr>\n",
       "  </thead>\n",
       "  <tbody>\n",
       "    <tr>\n",
       "      <th>0</th>\n",
       "      <td>0</td>\n",
       "      <td>0</td>\n",
       "      <td>0</td>\n",
       "      <td>0</td>\n",
       "      <td>0</td>\n",
       "      <td>0</td>\n",
       "      <td>0</td>\n",
       "      <td>0</td>\n",
       "      <td>1</td>\n",
       "      <td>1</td>\n",
       "      <td>...</td>\n",
       "      <td>0</td>\n",
       "      <td>0</td>\n",
       "      <td>0</td>\n",
       "      <td>0</td>\n",
       "      <td>0</td>\n",
       "      <td>1</td>\n",
       "      <td>1</td>\n",
       "      <td>0</td>\n",
       "      <td>0</td>\n",
       "      <td>0</td>\n",
       "    </tr>\n",
       "    <tr>\n",
       "      <th>1</th>\n",
       "      <td>0</td>\n",
       "      <td>0</td>\n",
       "      <td>0</td>\n",
       "      <td>0</td>\n",
       "      <td>0</td>\n",
       "      <td>0</td>\n",
       "      <td>0</td>\n",
       "      <td>1</td>\n",
       "      <td>0</td>\n",
       "      <td>0</td>\n",
       "      <td>...</td>\n",
       "      <td>1</td>\n",
       "      <td>0</td>\n",
       "      <td>0</td>\n",
       "      <td>0</td>\n",
       "      <td>0</td>\n",
       "      <td>1</td>\n",
       "      <td>0</td>\n",
       "      <td>1</td>\n",
       "      <td>0</td>\n",
       "      <td>0</td>\n",
       "    </tr>\n",
       "    <tr>\n",
       "      <th>2</th>\n",
       "      <td>0</td>\n",
       "      <td>1</td>\n",
       "      <td>0</td>\n",
       "      <td>1</td>\n",
       "      <td>0</td>\n",
       "      <td>0</td>\n",
       "      <td>0</td>\n",
       "      <td>1</td>\n",
       "      <td>0</td>\n",
       "      <td>0</td>\n",
       "      <td>...</td>\n",
       "      <td>1</td>\n",
       "      <td>0</td>\n",
       "      <td>0</td>\n",
       "      <td>0</td>\n",
       "      <td>0</td>\n",
       "      <td>1</td>\n",
       "      <td>1</td>\n",
       "      <td>0</td>\n",
       "      <td>0</td>\n",
       "      <td>0</td>\n",
       "    </tr>\n",
       "    <tr>\n",
       "      <th>3</th>\n",
       "      <td>0</td>\n",
       "      <td>1</td>\n",
       "      <td>0</td>\n",
       "      <td>1</td>\n",
       "      <td>0</td>\n",
       "      <td>0</td>\n",
       "      <td>1</td>\n",
       "      <td>0</td>\n",
       "      <td>1</td>\n",
       "      <td>0</td>\n",
       "      <td>...</td>\n",
       "      <td>1</td>\n",
       "      <td>0</td>\n",
       "      <td>0</td>\n",
       "      <td>0</td>\n",
       "      <td>0</td>\n",
       "      <td>1</td>\n",
       "      <td>1</td>\n",
       "      <td>0</td>\n",
       "      <td>0</td>\n",
       "      <td>0</td>\n",
       "    </tr>\n",
       "    <tr>\n",
       "      <th>4</th>\n",
       "      <td>0</td>\n",
       "      <td>0</td>\n",
       "      <td>0</td>\n",
       "      <td>0</td>\n",
       "      <td>1</td>\n",
       "      <td>1</td>\n",
       "      <td>0</td>\n",
       "      <td>0</td>\n",
       "      <td>1</td>\n",
       "      <td>0</td>\n",
       "      <td>...</td>\n",
       "      <td>1</td>\n",
       "      <td>0</td>\n",
       "      <td>1</td>\n",
       "      <td>0</td>\n",
       "      <td>0</td>\n",
       "      <td>0</td>\n",
       "      <td>1</td>\n",
       "      <td>0</td>\n",
       "      <td>0</td>\n",
       "      <td>0</td>\n",
       "    </tr>\n",
       "  </tbody>\n",
       "</table>\n",
       "<p>5 rows × 48 columns</p>\n",
       "</div>"
      ],
      "text/plain": [
       "   school_MS  sex_M  address_R  famsize_LE3  Pstatus_A  schoolsup_yes  \\\n",
       "0          0      0          0            0          0              0   \n",
       "1          0      0          0            0          0              0   \n",
       "2          0      1          0            1          0              0   \n",
       "3          0      1          0            1          0              0   \n",
       "4          0      0          0            0          1              1   \n",
       "\n",
       "   famsup_no  paid_yes  activities_no  nursery_no  ...  guardian_mother  \\\n",
       "0          0         0              1           1  ...                0   \n",
       "1          0         1              0           0  ...                1   \n",
       "2          0         1              0           0  ...                1   \n",
       "3          1         0              1           0  ...                1   \n",
       "4          0         0              1           0  ...                1   \n",
       "\n",
       "   guardian_other  traveltime_15a30  traveltime_30a60  traveltime_mayor60  \\\n",
       "0               0                 0                 0                   0   \n",
       "1               0                 0                 0                   0   \n",
       "2               0                 0                 0                   0   \n",
       "3               0                 0                 0                   0   \n",
       "4               0                 1                 0                   0   \n",
       "\n",
       "   traveltime_menor15  studytime_2a5  studytime_5a10  studytime_mayor10  \\\n",
       "0                   1              1               0                  0   \n",
       "1                   1              0               1                  0   \n",
       "2                   1              1               0                  0   \n",
       "3                   1              1               0                  0   \n",
       "4                   0              1               0                  0   \n",
       "\n",
       "   studytime_menor2  \n",
       "0                 0  \n",
       "1                 0  \n",
       "2                 0  \n",
       "3                 0  \n",
       "4                 0  \n",
       "\n",
       "[5 rows x 48 columns]"
      ]
     },
     "execution_count": 185,
     "metadata": {},
     "output_type": "execute_result"
    }
   ],
   "source": [
    "df_recod = pd.get_dummies(df_recod, drop_first=False)\n",
    "df_recod.head()"
   ]
  },
  {
   "cell_type": "markdown",
   "metadata": {},
   "source": [
    "Finalmente incorporamos al nuevo Dataframe las variables ordinales y cuantitativas:"
   ]
  },
  {
   "cell_type": "code",
   "execution_count": 186,
   "metadata": {},
   "outputs": [
    {
     "data": {
      "text/html": [
       "<div>\n",
       "<style scoped>\n",
       "    .dataframe tbody tr th:only-of-type {\n",
       "        vertical-align: middle;\n",
       "    }\n",
       "\n",
       "    .dataframe tbody tr th {\n",
       "        vertical-align: top;\n",
       "    }\n",
       "\n",
       "    .dataframe thead th {\n",
       "        text-align: right;\n",
       "    }\n",
       "</style>\n",
       "<table border=\"1\" class=\"dataframe\">\n",
       "  <thead>\n",
       "    <tr style=\"text-align: right;\">\n",
       "      <th></th>\n",
       "      <th>school_MS</th>\n",
       "      <th>sex_M</th>\n",
       "      <th>address_R</th>\n",
       "      <th>famsize_LE3</th>\n",
       "      <th>Pstatus_A</th>\n",
       "      <th>schoolsup_yes</th>\n",
       "      <th>famsup_no</th>\n",
       "      <th>paid_yes</th>\n",
       "      <th>activities_no</th>\n",
       "      <th>nursery_no</th>\n",
       "      <th>...</th>\n",
       "      <th>goout</th>\n",
       "      <th>Dalc</th>\n",
       "      <th>Walc</th>\n",
       "      <th>health</th>\n",
       "      <th>failures</th>\n",
       "      <th>age</th>\n",
       "      <th>absences</th>\n",
       "      <th>G1</th>\n",
       "      <th>G2</th>\n",
       "      <th>G3</th>\n",
       "    </tr>\n",
       "  </thead>\n",
       "  <tbody>\n",
       "    <tr>\n",
       "      <th>0</th>\n",
       "      <td>0</td>\n",
       "      <td>0</td>\n",
       "      <td>0</td>\n",
       "      <td>0</td>\n",
       "      <td>0</td>\n",
       "      <td>0</td>\n",
       "      <td>0</td>\n",
       "      <td>0</td>\n",
       "      <td>1</td>\n",
       "      <td>1</td>\n",
       "      <td>...</td>\n",
       "      <td>3</td>\n",
       "      <td>1</td>\n",
       "      <td>1</td>\n",
       "      <td>3</td>\n",
       "      <td>0</td>\n",
       "      <td>17</td>\n",
       "      <td>4</td>\n",
       "      <td>5</td>\n",
       "      <td>5</td>\n",
       "      <td>6</td>\n",
       "    </tr>\n",
       "    <tr>\n",
       "      <th>1</th>\n",
       "      <td>0</td>\n",
       "      <td>0</td>\n",
       "      <td>0</td>\n",
       "      <td>0</td>\n",
       "      <td>0</td>\n",
       "      <td>0</td>\n",
       "      <td>0</td>\n",
       "      <td>1</td>\n",
       "      <td>0</td>\n",
       "      <td>0</td>\n",
       "      <td>...</td>\n",
       "      <td>2</td>\n",
       "      <td>1</td>\n",
       "      <td>1</td>\n",
       "      <td>5</td>\n",
       "      <td>0</td>\n",
       "      <td>15</td>\n",
       "      <td>2</td>\n",
       "      <td>15</td>\n",
       "      <td>14</td>\n",
       "      <td>15</td>\n",
       "    </tr>\n",
       "    <tr>\n",
       "      <th>2</th>\n",
       "      <td>0</td>\n",
       "      <td>1</td>\n",
       "      <td>0</td>\n",
       "      <td>1</td>\n",
       "      <td>0</td>\n",
       "      <td>0</td>\n",
       "      <td>0</td>\n",
       "      <td>1</td>\n",
       "      <td>0</td>\n",
       "      <td>0</td>\n",
       "      <td>...</td>\n",
       "      <td>2</td>\n",
       "      <td>1</td>\n",
       "      <td>2</td>\n",
       "      <td>5</td>\n",
       "      <td>0</td>\n",
       "      <td>16</td>\n",
       "      <td>10</td>\n",
       "      <td>15</td>\n",
       "      <td>15</td>\n",
       "      <td>15</td>\n",
       "    </tr>\n",
       "    <tr>\n",
       "      <th>3</th>\n",
       "      <td>0</td>\n",
       "      <td>1</td>\n",
       "      <td>0</td>\n",
       "      <td>1</td>\n",
       "      <td>0</td>\n",
       "      <td>0</td>\n",
       "      <td>1</td>\n",
       "      <td>0</td>\n",
       "      <td>1</td>\n",
       "      <td>0</td>\n",
       "      <td>...</td>\n",
       "      <td>4</td>\n",
       "      <td>1</td>\n",
       "      <td>1</td>\n",
       "      <td>3</td>\n",
       "      <td>0</td>\n",
       "      <td>16</td>\n",
       "      <td>0</td>\n",
       "      <td>12</td>\n",
       "      <td>12</td>\n",
       "      <td>11</td>\n",
       "    </tr>\n",
       "    <tr>\n",
       "      <th>4</th>\n",
       "      <td>0</td>\n",
       "      <td>0</td>\n",
       "      <td>0</td>\n",
       "      <td>0</td>\n",
       "      <td>1</td>\n",
       "      <td>1</td>\n",
       "      <td>0</td>\n",
       "      <td>0</td>\n",
       "      <td>1</td>\n",
       "      <td>0</td>\n",
       "      <td>...</td>\n",
       "      <td>4</td>\n",
       "      <td>1</td>\n",
       "      <td>1</td>\n",
       "      <td>1</td>\n",
       "      <td>0</td>\n",
       "      <td>17</td>\n",
       "      <td>6</td>\n",
       "      <td>6</td>\n",
       "      <td>5</td>\n",
       "      <td>6</td>\n",
       "    </tr>\n",
       "  </tbody>\n",
       "</table>\n",
       "<p>5 rows × 60 columns</p>\n",
       "</div>"
      ],
      "text/plain": [
       "   school_MS  sex_M  address_R  famsize_LE3  Pstatus_A  schoolsup_yes  \\\n",
       "0          0      0          0            0          0              0   \n",
       "1          0      0          0            0          0              0   \n",
       "2          0      1          0            1          0              0   \n",
       "3          0      1          0            1          0              0   \n",
       "4          0      0          0            0          1              1   \n",
       "\n",
       "   famsup_no  paid_yes  activities_no  nursery_no  ...  goout  Dalc  Walc  \\\n",
       "0          0         0              1           1  ...      3     1     1   \n",
       "1          0         1              0           0  ...      2     1     1   \n",
       "2          0         1              0           0  ...      2     1     2   \n",
       "3          1         0              1           0  ...      4     1     1   \n",
       "4          0         0              1           0  ...      4     1     1   \n",
       "\n",
       "   health  failures  age  absences  G1  G2  G3  \n",
       "0       3         0   17         4   5   5   6  \n",
       "1       5         0   15         2  15  14  15  \n",
       "2       5         0   16        10  15  15  15  \n",
       "3       3         0   16         0  12  12  11  \n",
       "4       1         0   17         6   6   5   6  \n",
       "\n",
       "[5 rows x 60 columns]"
      ]
     },
     "execution_count": 186,
     "metadata": {},
     "output_type": "execute_result"
    }
   ],
   "source": [
    "for variable in (variables_ordinales + variables_cuantitativas):\n",
    "    df_recod[variable] = df_2[variable]\n",
    "    \n",
    "df_recod.head()"
   ]
  },
  {
   "cell_type": "code",
   "execution_count": 187,
   "metadata": {
    "scrolled": false
   },
   "outputs": [
    {
     "data": {
      "image/png": "[encoded data removed]",
      "text/plain": [
       "<Figure size 1296x720 with 6 Axes>"
      ]
     },
     "metadata": {
      "needs_background": "light"
     },
     "output_type": "display_data"
    }
   ],
   "source": [
    "i = 1\n",
    "plt.figure(figsize = (18,10))\n",
    "for variable in variables_cuantitativas:\n",
    "\n",
    "    plt.subplot(2,3, i)\n",
    "    fs.histograma(df_2, variable, 8)\n",
    "    i += 1"
   ]
  },
  {
   "cell_type": "markdown",
   "metadata": {},
   "source": [
    "comentarios: Se observa que la variable failures es categorica. Respeco al número de ausencias, la variable tiene un sesgo positivo. \n",
    "\n",
    "Respecto al promedio de notas, el promedio del primer semestre presenta una distribución normal con una media de 10.9. En cambio, se observa que a partir del segundo semestre y promedio final de notas se observan 2 modas, una que se encuentra hacia la izquierda (minoritaria) y la otra centrada en el cetro. Lo anterior nos podría decir que el rendimiento de los alumnos comienza a descender a partir del segundo semestre."
   ]
  },
  {
   "cell_type": "markdown",
   "metadata": {},
   "source": [
    "analizaremos las variables cualitativas, categorizando a los alumnos cuyo promedio se encuentre igual o menor al primer cuartil (8) o bien su promegio G3 es superior al 1er cuartil"
   ]
  },
  {
   "cell_type": "code",
   "execution_count": 188,
   "metadata": {},
   "outputs": [],
   "source": [
    "df_2['q1'] = np.where(df_2['G3'] > 8, '>8', '<=8')"
   ]
  },
  {
   "cell_type": "code",
   "execution_count": 189,
   "metadata": {
    "scrolled": false
   },
   "outputs": [
    {
     "data": {
      "image/png": "[encoded data removed]",
      "text/plain": [
       "<Figure size 720x2880 with 13 Axes>"
      ]
     },
     "metadata": {
      "needs_background": "light"
     },
     "output_type": "display_data"
    }
   ],
   "source": [
    "plt.figure(figsize = (10,40))\n",
    "i = 1\n",
    "for variable in variables_binarias:\n",
    "    plt.subplot(8,2, i)\n",
    "    plt.title(f'Observaciones agrupadas por {variable}')\n",
    "    sns.countplot(x= variable, hue = 'q1',data= df_2)\n",
    "    i += 1"
   ]
  },
  {
   "cell_type": "markdown",
   "metadata": {},
   "source": [
    "Se observa que el conjunto de datos se encuentra desbalanceado para la variable School. "
   ]
  },
  {
   "cell_type": "code",
   "execution_count": 190,
   "metadata": {
    "scrolled": false
   },
   "outputs": [
    {
     "data": {
      "image/png": "[encoded data removed]",
      "text/plain": [
       "<Figure size 1440x1440 with 8 Axes>"
      ]
     },
     "metadata": {
      "needs_background": "light"
     },
     "output_type": "display_data"
    }
   ],
   "source": [
    "plt.figure(figsize = (20,20))\n",
    "i = 1\n",
    "for variable in variables_nominales:\n",
    "    plt.subplot(5,2, i)\n",
    "    plt.title(f'Observaciones agrupadas por {variable}')\n",
    "    sns.countplot(x= variable, data= df_2)\n",
    "    i += 1"
   ]
  },
  {
   "cell_type": "markdown",
   "metadata": {},
   "source": [
    "De las variables categóricas se observan las siguientes variables minoritarias:\n",
    "- Medu: ninguna\n",
    "- Fedu: ninguna\n",
    "- Mjob: health\n",
    "- Fjob: at_home\n",
    "- reason: other\n",
    "- guardian: other\n",
    "- traveltime: mayor a 60 minutos\n",
    "- studytime: mayor a 10 horas"
   ]
  },
  {
   "cell_type": "code",
   "execution_count": 191,
   "metadata": {},
   "outputs": [
    {
     "data": {
      "text/plain": [
       "<seaborn.axisgrid.FacetGrid at 0x160c5710310>"
      ]
     },
     "execution_count": 191,
     "metadata": {},
     "output_type": "execute_result"
    },
    {
     "data": {
      "image/png": "[encoded data removed]",
      "text/plain": [
       "<Figure size 360x360 with 1 Axes>"
      ]
     },
     "metadata": {
      "needs_background": "light"
     },
     "output_type": "display_data"
    }
   ],
   "source": [
    "sns.lmplot(x='G1' ,y='G2', data=df_recod)"
   ]
  },
  {
   "cell_type": "markdown",
   "metadata": {},
   "source": [
    "Comentario: Se observa que existe una correlación entre el promedio de notas del primer semestre respecto al segundo semestre."
   ]
  },
  {
   "cell_type": "code",
   "execution_count": 192,
   "metadata": {},
   "outputs": [
    {
     "data": {
      "text/plain": [
       "<seaborn.axisgrid.FacetGrid at 0x160c5bcff70>"
      ]
     },
     "execution_count": 192,
     "metadata": {},
     "output_type": "execute_result"
    },
    {
     "data": {
      "image/png": "[encoded data removed]",
      "text/plain": [
       "<Figure size 360x360 with 1 Axes>"
      ]
     },
     "metadata": {
      "needs_background": "light"
     },
     "output_type": "display_data"
    }
   ],
   "source": [
    "sns.lmplot(x='G1' ,y='G3', data=df_recod)"
   ]
  },
  {
   "cell_type": "code",
   "execution_count": 193,
   "metadata": {},
   "outputs": [
    {
     "data": {
      "text/plain": [
       "<seaborn.axisgrid.FacetGrid at 0x160c5630670>"
      ]
     },
     "execution_count": 193,
     "metadata": {},
     "output_type": "execute_result"
    },
    {
     "data": {
      "image/png": "[encoded data removed]",
      "text/plain": [
       "<Figure size 360x360 with 1 Axes>"
      ]
     },
     "metadata": {
      "needs_background": "light"
     },
     "output_type": "display_data"
    }
   ],
   "source": [
    "sns.lmplot(x='G2' ,y='G3', data=df_recod)"
   ]
  },
  {
   "cell_type": "markdown",
   "metadata": {},
   "source": [
    "Se observa que existe una mayor correlación para el promedio de notas final con el promedio de notas del segundo semestre. Sin embargo no existe correlación lineal para el promedio de notas G3 = 0"
   ]
  },
  {
   "cell_type": "markdown",
   "metadata": {},
   "source": [
    "<h3 style=\"color:#004d80\"> Modelación descriptiva </h3>\n",
    "En esta sección se busca definir cuáles son los principales determinantes del objeto de estudio."
   ]
  },
  {
   "cell_type": "markdown",
   "metadata": {},
   "source": [
    "Declaramos el set de variables con las cuales se trabajarán. Para evitar redundancias en el modelo se reduce el número de variables dummies, se escogió eliminar las variables minoritarias de la categoria variables nominales "
   ]
  },
  {
   "cell_type": "code",
   "execution_count": 195,
   "metadata": {},
   "outputs": [
    {
     "name": "stdout",
     "output_type": "stream",
     "text": [
      "['school_MS', 'sex_M', 'address_R', 'famsize_LE3', 'Pstatus_A', 'schoolsup_yes', 'famsup_no', 'paid_yes', 'activities_no', 'nursery_no', 'higher_no', 'internet_no', 'romantic_yes', 'Medu_basica_1', 'Medu_basica_2', 'Medu_media', 'Medu_superior', 'Fedu_basica_1', 'Fedu_basica_2', 'Fedu_media', 'Fedu_superior', 'Mjob_at_home', 'Mjob_other', 'Mjob_services', 'Mjob_teacher', 'Fjob_health', 'Fjob_other', 'Fjob_services', 'Fjob_teacher', 'reason_course', 'reason_home', 'reason_reputation', 'guardian_father', 'guardian_mother', 'traveltime_15a30', 'traveltime_30a60', 'traveltime_menor15', 'studytime_2a5', 'studytime_5a10', 'studytime_menor2', 'famrel', 'freetime', 'goout', 'Dalc', 'Walc', 'health', 'failures', 'age', 'absences', 'G1', 'G2', 'G3']\n"
     ]
    }
   ],
   "source": [
    "set_var = list(df_recod.columns)\n",
    "\n",
    "for i in ['Medu_ninguna', 'Fedu_ninguna', 'Mjob_health', 'Fjob_at_home', 'reason_other', 'guardian_other', 'traveltime_mayor60','studytime_mayor10']:\n",
    "    set_var.remove(i)\n",
    "    \n",
    "print(set_var)"
   ]
  },
  {
   "cell_type": "markdown",
   "metadata": {},
   "source": [
    "**Modelación para G1**"
   ]
  },
  {
   "cell_type": "markdown",
   "metadata": {},
   "source": [
    "Primero definimos las variables que formarán parte del modelo descriptivo de G1. Se descarta G2 y G3 en esta instancia ya que estas variables no afectan en las notas obtenidas en el primer semestre G1"
   ]
  },
  {
   "cell_type": "code",
   "execution_count": 196,
   "metadata": {},
   "outputs": [
    {
     "name": "stdout",
     "output_type": "stream",
     "text": [
      "['school_MS', 'sex_M', 'address_R', 'famsize_LE3', 'Pstatus_A', 'schoolsup_yes', 'famsup_no', 'paid_yes', 'activities_no', 'nursery_no', 'higher_no', 'internet_no', 'romantic_yes', 'Medu_basica_1', 'Medu_basica_2', 'Medu_media', 'Medu_superior', 'Fedu_basica_1', 'Fedu_basica_2', 'Fedu_media', 'Fedu_superior', 'Mjob_at_home', 'Mjob_other', 'Mjob_services', 'Mjob_teacher', 'Fjob_health', 'Fjob_other', 'Fjob_services', 'Fjob_teacher', 'reason_course', 'reason_home', 'reason_reputation', 'guardian_father', 'guardian_mother', 'traveltime_15a30', 'traveltime_30a60', 'traveltime_menor15', 'studytime_2a5', 'studytime_5a10', 'studytime_menor2', 'famrel', 'freetime', 'goout', 'Dalc', 'Walc', 'health', 'failures', 'age', 'absences']\n"
     ]
    }
   ],
   "source": [
    "x_g1 = list(filter(lambda i: i != 'G1' and i != 'G2' and i !='G3', set_var))\n",
    "print(x_g1)"
   ]
  },
  {
   "cell_type": "code",
   "execution_count": 197,
   "metadata": {},
   "outputs": [],
   "source": [
    "x_g1 = ' + '.join(x_g1)"
   ]
  },
  {
   "cell_type": "code",
   "execution_count": 198,
   "metadata": {
    "scrolled": false
   },
   "outputs": [
    {
     "data": {
      "text/html": [
       "<table class=\"simpletable\">\n",
       "<caption>OLS Regression Results</caption>\n",
       "<tr>\n",
       "  <th>Dep. Variable:</th>           <td>G1</td>        <th>  R-squared:         </th> <td>   0.372</td>\n",
       "</tr>\n",
       "<tr>\n",
       "  <th>Model:</th>                   <td>OLS</td>       <th>  Adj. R-squared:    </th> <td>   0.241</td>\n",
       "</tr>\n",
       "<tr>\n",
       "  <th>Method:</th>             <td>Least Squares</td>  <th>  F-statistic:       </th> <td>   2.830</td>\n",
       "</tr>\n",
       "<tr>\n",
       "  <th>Date:</th>             <td>Mon, 07 Dec 2020</td> <th>  Prob (F-statistic):</th> <td>8.68e-08</td>\n",
       "</tr>\n",
       "<tr>\n",
       "  <th>Time:</th>                 <td>15:48:39</td>     <th>  Log-Likelihood:    </th> <td> -674.53</td>\n",
       "</tr>\n",
       "<tr>\n",
       "  <th>No. Observations:</th>      <td>   284</td>      <th>  AIC:               </th> <td>   1449.</td>\n",
       "</tr>\n",
       "<tr>\n",
       "  <th>Df Residuals:</th>          <td>   234</td>      <th>  BIC:               </th> <td>   1632.</td>\n",
       "</tr>\n",
       "<tr>\n",
       "  <th>Df Model:</th>              <td>    49</td>      <th>                     </th>     <td> </td>   \n",
       "</tr>\n",
       "<tr>\n",
       "  <th>Covariance Type:</th>      <td>nonrobust</td>    <th>                     </th>     <td> </td>   \n",
       "</tr>\n",
       "</table>\n",
       "<table class=\"simpletable\">\n",
       "<tr>\n",
       "           <td></td>             <th>coef</th>     <th>std err</th>      <th>t</th>      <th>P>|t|</th>  <th>[0.025</th>    <th>0.975]</th>  \n",
       "</tr>\n",
       "<tr>\n",
       "  <th>Intercept</th>          <td>   14.4115</td> <td>    5.920</td> <td>    2.435</td> <td> 0.016</td> <td>    2.749</td> <td>   26.074</td>\n",
       "</tr>\n",
       "<tr>\n",
       "  <th>school_MS</th>          <td>   -0.4184</td> <td>    0.672</td> <td>   -0.623</td> <td> 0.534</td> <td>   -1.742</td> <td>    0.906</td>\n",
       "</tr>\n",
       "<tr>\n",
       "  <th>sex_M</th>              <td>    0.7058</td> <td>    0.439</td> <td>    1.609</td> <td> 0.109</td> <td>   -0.159</td> <td>    1.570</td>\n",
       "</tr>\n",
       "<tr>\n",
       "  <th>address_R</th>          <td>   -0.0577</td> <td>    0.494</td> <td>   -0.117</td> <td> 0.907</td> <td>   -1.031</td> <td>    0.916</td>\n",
       "</tr>\n",
       "<tr>\n",
       "  <th>famsize_LE3</th>        <td>    0.3501</td> <td>    0.447</td> <td>    0.784</td> <td> 0.434</td> <td>   -0.530</td> <td>    1.230</td>\n",
       "</tr>\n",
       "<tr>\n",
       "  <th>Pstatus_A</th>          <td>    0.3419</td> <td>    0.652</td> <td>    0.524</td> <td> 0.601</td> <td>   -0.943</td> <td>    1.627</td>\n",
       "</tr>\n",
       "<tr>\n",
       "  <th>schoolsup_yes</th>      <td>   -1.6461</td> <td>    0.568</td> <td>   -2.900</td> <td> 0.004</td> <td>   -2.764</td> <td>   -0.528</td>\n",
       "</tr>\n",
       "<tr>\n",
       "  <th>famsup_no</th>          <td>    1.0824</td> <td>    0.412</td> <td>    2.627</td> <td> 0.009</td> <td>    0.271</td> <td>    1.894</td>\n",
       "</tr>\n",
       "<tr>\n",
       "  <th>paid_yes</th>           <td>    0.0996</td> <td>    0.411</td> <td>    0.243</td> <td> 0.809</td> <td>   -0.709</td> <td>    0.909</td>\n",
       "</tr>\n",
       "<tr>\n",
       "  <th>activities_no</th>      <td>    0.4448</td> <td>    0.374</td> <td>    1.191</td> <td> 0.235</td> <td>   -0.291</td> <td>    1.181</td>\n",
       "</tr>\n",
       "<tr>\n",
       "  <th>nursery_no</th>         <td>    0.0246</td> <td>    0.457</td> <td>    0.054</td> <td> 0.957</td> <td>   -0.877</td> <td>    0.926</td>\n",
       "</tr>\n",
       "<tr>\n",
       "  <th>higher_no</th>          <td>   -1.1123</td> <td>    0.871</td> <td>   -1.277</td> <td> 0.203</td> <td>   -2.829</td> <td>    0.604</td>\n",
       "</tr>\n",
       "<tr>\n",
       "  <th>internet_no</th>        <td>   -0.0201</td> <td>    0.508</td> <td>   -0.039</td> <td> 0.969</td> <td>   -1.021</td> <td>    0.981</td>\n",
       "</tr>\n",
       "<tr>\n",
       "  <th>romantic_yes</th>       <td>    0.0537</td> <td>    0.418</td> <td>    0.128</td> <td> 0.898</td> <td>   -0.770</td> <td>    0.877</td>\n",
       "</tr>\n",
       "<tr>\n",
       "  <th>Medu_basica_1</th>      <td>   -0.7192</td> <td>    3.139</td> <td>   -0.229</td> <td> 0.819</td> <td>   -6.904</td> <td>    5.465</td>\n",
       "</tr>\n",
       "<tr>\n",
       "  <th>Medu_basica_2</th>      <td>   -0.8914</td> <td>    3.087</td> <td>   -0.289</td> <td> 0.773</td> <td>   -6.974</td> <td>    5.191</td>\n",
       "</tr>\n",
       "<tr>\n",
       "  <th>Medu_media</th>         <td>   -1.3087</td> <td>    3.107</td> <td>   -0.421</td> <td> 0.674</td> <td>   -7.430</td> <td>    4.813</td>\n",
       "</tr>\n",
       "<tr>\n",
       "  <th>Medu_superior</th>      <td>   -0.0527</td> <td>    3.135</td> <td>   -0.017</td> <td> 0.987</td> <td>   -6.228</td> <td>    6.123</td>\n",
       "</tr>\n",
       "<tr>\n",
       "  <th>Fedu_basica_1</th>      <td>   -2.4825</td> <td>    3.072</td> <td>   -0.808</td> <td> 0.420</td> <td>   -8.534</td> <td>    3.569</td>\n",
       "</tr>\n",
       "<tr>\n",
       "  <th>Fedu_basica_2</th>      <td>   -1.7154</td> <td>    3.111</td> <td>   -0.551</td> <td> 0.582</td> <td>   -7.844</td> <td>    4.413</td>\n",
       "</tr>\n",
       "<tr>\n",
       "  <th>Fedu_media</th>         <td>   -2.2395</td> <td>    3.102</td> <td>   -0.722</td> <td> 0.471</td> <td>   -8.351</td> <td>    3.872</td>\n",
       "</tr>\n",
       "<tr>\n",
       "  <th>Fedu_superior</th>      <td>   -1.7143</td> <td>    3.149</td> <td>   -0.544</td> <td> 0.587</td> <td>   -7.918</td> <td>    4.490</td>\n",
       "</tr>\n",
       "<tr>\n",
       "  <th>Mjob_at_home</th>       <td>   -0.8353</td> <td>    0.943</td> <td>   -0.886</td> <td> 0.377</td> <td>   -2.693</td> <td>    1.022</td>\n",
       "</tr>\n",
       "<tr>\n",
       "  <th>Mjob_other</th>         <td>   -1.2348</td> <td>    0.811</td> <td>   -1.523</td> <td> 0.129</td> <td>   -2.832</td> <td>    0.362</td>\n",
       "</tr>\n",
       "<tr>\n",
       "  <th>Mjob_services</th>      <td>   -0.1784</td> <td>    0.767</td> <td>   -0.233</td> <td> 0.816</td> <td>   -1.689</td> <td>    1.332</td>\n",
       "</tr>\n",
       "<tr>\n",
       "  <th>Mjob_teacher</th>       <td>   -2.1807</td> <td>    0.792</td> <td>   -2.753</td> <td> 0.006</td> <td>   -3.742</td> <td>   -0.620</td>\n",
       "</tr>\n",
       "<tr>\n",
       "  <th>Fjob_health</th>        <td>   -0.6233</td> <td>    1.305</td> <td>   -0.478</td> <td> 0.633</td> <td>   -3.194</td> <td>    1.947</td>\n",
       "</tr>\n",
       "<tr>\n",
       "  <th>Fjob_other</th>         <td>   -0.9680</td> <td>    0.992</td> <td>   -0.976</td> <td> 0.330</td> <td>   -2.923</td> <td>    0.987</td>\n",
       "</tr>\n",
       "<tr>\n",
       "  <th>Fjob_services</th>      <td>   -0.3120</td> <td>    0.997</td> <td>   -0.313</td> <td> 0.755</td> <td>   -2.277</td> <td>    1.653</td>\n",
       "</tr>\n",
       "<tr>\n",
       "  <th>Fjob_teacher</th>       <td>    1.0800</td> <td>    1.215</td> <td>    0.889</td> <td> 0.375</td> <td>   -1.314</td> <td>    3.474</td>\n",
       "</tr>\n",
       "<tr>\n",
       "  <th>reason_course</th>      <td>    0.1012</td> <td>    0.689</td> <td>    0.147</td> <td> 0.883</td> <td>   -1.256</td> <td>    1.459</td>\n",
       "</tr>\n",
       "<tr>\n",
       "  <th>reason_home</th>        <td>    0.5583</td> <td>    0.723</td> <td>    0.773</td> <td> 0.440</td> <td>   -0.865</td> <td>    1.982</td>\n",
       "</tr>\n",
       "<tr>\n",
       "  <th>reason_reputation</th>  <td>    0.6725</td> <td>    0.722</td> <td>    0.932</td> <td> 0.352</td> <td>   -0.749</td> <td>    2.094</td>\n",
       "</tr>\n",
       "<tr>\n",
       "  <th>guardian_father</th>    <td>    0.0704</td> <td>    0.855</td> <td>    0.082</td> <td> 0.934</td> <td>   -1.614</td> <td>    1.754</td>\n",
       "</tr>\n",
       "<tr>\n",
       "  <th>guardian_mother</th>    <td>    0.1669</td> <td>    0.784</td> <td>    0.213</td> <td> 0.832</td> <td>   -1.378</td> <td>    1.712</td>\n",
       "</tr>\n",
       "<tr>\n",
       "  <th>traveltime_15a30</th>   <td>    0.7152</td> <td>    1.460</td> <td>    0.490</td> <td> 0.625</td> <td>   -2.162</td> <td>    3.592</td>\n",
       "</tr>\n",
       "<tr>\n",
       "  <th>traveltime_30a60</th>   <td>    2.5484</td> <td>    1.569</td> <td>    1.625</td> <td> 0.106</td> <td>   -0.542</td> <td>    5.639</td>\n",
       "</tr>\n",
       "<tr>\n",
       "  <th>traveltime_menor15</th> <td>    1.1571</td> <td>    1.446</td> <td>    0.800</td> <td> 0.424</td> <td>   -1.692</td> <td>    4.006</td>\n",
       "</tr>\n",
       "<tr>\n",
       "  <th>studytime_2a5</th>      <td>   -1.7194</td> <td>    0.776</td> <td>   -2.217</td> <td> 0.028</td> <td>   -3.247</td> <td>   -0.191</td>\n",
       "</tr>\n",
       "<tr>\n",
       "  <th>studytime_5a10</th>     <td>   -0.5740</td> <td>    0.849</td> <td>   -0.676</td> <td> 0.499</td> <td>   -2.246</td> <td>    1.098</td>\n",
       "</tr>\n",
       "<tr>\n",
       "  <th>studytime_menor2</th>   <td>   -1.7256</td> <td>    0.853</td> <td>   -2.022</td> <td> 0.044</td> <td>   -3.407</td> <td>   -0.044</td>\n",
       "</tr>\n",
       "<tr>\n",
       "  <th>famrel</th>             <td>    0.1200</td> <td>    0.216</td> <td>    0.554</td> <td> 0.580</td> <td>   -0.306</td> <td>    0.546</td>\n",
       "</tr>\n",
       "<tr>\n",
       "  <th>freetime</th>           <td>    0.4501</td> <td>    0.193</td> <td>    2.328</td> <td> 0.021</td> <td>    0.069</td> <td>    0.831</td>\n",
       "</tr>\n",
       "<tr>\n",
       "  <th>goout</th>              <td>   -0.7548</td> <td>    0.201</td> <td>   -3.753</td> <td> 0.000</td> <td>   -1.151</td> <td>   -0.359</td>\n",
       "</tr>\n",
       "<tr>\n",
       "  <th>Dalc</th>               <td>   -0.1263</td> <td>    0.290</td> <td>   -0.436</td> <td> 0.663</td> <td>   -0.697</td> <td>    0.444</td>\n",
       "</tr>\n",
       "<tr>\n",
       "  <th>Walc</th>               <td>    0.1647</td> <td>    0.212</td> <td>    0.776</td> <td> 0.439</td> <td>   -0.253</td> <td>    0.583</td>\n",
       "</tr>\n",
       "<tr>\n",
       "  <th>health</th>             <td>   -0.3156</td> <td>    0.144</td> <td>   -2.195</td> <td> 0.029</td> <td>   -0.599</td> <td>   -0.032</td>\n",
       "</tr>\n",
       "<tr>\n",
       "  <th>failures</th>           <td>   -1.0475</td> <td>    0.283</td> <td>   -3.701</td> <td> 0.000</td> <td>   -1.605</td> <td>   -0.490</td>\n",
       "</tr>\n",
       "<tr>\n",
       "  <th>age</th>                <td>    0.0876</td> <td>    0.184</td> <td>    0.478</td> <td> 0.633</td> <td>   -0.274</td> <td>    0.449</td>\n",
       "</tr>\n",
       "<tr>\n",
       "  <th>absences</th>           <td>    0.0009</td> <td>    0.024</td> <td>    0.038</td> <td> 0.970</td> <td>   -0.047</td> <td>    0.049</td>\n",
       "</tr>\n",
       "</table>\n",
       "<table class=\"simpletable\">\n",
       "<tr>\n",
       "  <th>Omnibus:</th>       <td> 5.327</td> <th>  Durbin-Watson:     </th> <td>   1.966</td>\n",
       "</tr>\n",
       "<tr>\n",
       "  <th>Prob(Omnibus):</th> <td> 0.070</td> <th>  Jarque-Bera (JB):  </th> <td>   3.671</td>\n",
       "</tr>\n",
       "<tr>\n",
       "  <th>Skew:</th>          <td> 0.122</td> <th>  Prob(JB):          </th> <td>   0.160</td>\n",
       "</tr>\n",
       "<tr>\n",
       "  <th>Kurtosis:</th>      <td> 2.499</td> <th>  Cond. No.          </th> <td>    916.</td>\n",
       "</tr>\n",
       "</table><br/><br/>Warnings:<br/>[1] Standard Errors assume that the covariance matrix of the errors is correctly specified."
      ],
      "text/plain": [
       "<class 'statsmodels.iolib.summary.Summary'>\n",
       "\"\"\"\n",
       "                            OLS Regression Results                            \n",
       "==============================================================================\n",
       "Dep. Variable:                     G1   R-squared:                       0.372\n",
       "Model:                            OLS   Adj. R-squared:                  0.241\n",
       "Method:                 Least Squares   F-statistic:                     2.830\n",
       "Date:                Mon, 07 Dec 2020   Prob (F-statistic):           8.68e-08\n",
       "Time:                        15:48:39   Log-Likelihood:                -674.53\n",
       "No. Observations:                 284   AIC:                             1449.\n",
       "Df Residuals:                     234   BIC:                             1632.\n",
       "Df Model:                          49                                         \n",
       "Covariance Type:            nonrobust                                         \n",
       "======================================================================================\n",
       "                         coef    std err          t      P>|t|      [0.025      0.975]\n",
       "--------------------------------------------------------------------------------------\n",
       "Intercept             14.4115      5.920      2.435      0.016       2.749      26.074\n",
       "school_MS             -0.4184      0.672     -0.623      0.534      -1.742       0.906\n",
       "sex_M                  0.7058      0.439      1.609      0.109      -0.159       1.570\n",
       "address_R             -0.0577      0.494     -0.117      0.907      -1.031       0.916\n",
       "famsize_LE3            0.3501      0.447      0.784      0.434      -0.530       1.230\n",
       "Pstatus_A              0.3419      0.652      0.524      0.601      -0.943       1.627\n",
       "schoolsup_yes         -1.6461      0.568     -2.900      0.004      -2.764      -0.528\n",
       "famsup_no              1.0824      0.412      2.627      0.009       0.271       1.894\n",
       "paid_yes               0.0996      0.411      0.243      0.809      -0.709       0.909\n",
       "activities_no          0.4448      0.374      1.191      0.235      -0.291       1.181\n",
       "nursery_no             0.0246      0.457      0.054      0.957      -0.877       0.926\n",
       "higher_no             -1.1123      0.871     -1.277      0.203      -2.829       0.604\n",
       "internet_no           -0.0201      0.508     -0.039      0.969      -1.021       0.981\n",
       "romantic_yes           0.0537      0.418      0.128      0.898      -0.770       0.877\n",
       "Medu_basica_1         -0.7192      3.139     -0.229      0.819      -6.904       5.465\n",
       "Medu_basica_2         -0.8914      3.087     -0.289      0.773      -6.974       5.191\n",
       "Medu_media            -1.3087      3.107     -0.421      0.674      -7.430       4.813\n",
       "Medu_superior         -0.0527      3.135     -0.017      0.987      -6.228       6.123\n",
       "Fedu_basica_1         -2.4825      3.072     -0.808      0.420      -8.534       3.569\n",
       "Fedu_basica_2         -1.7154      3.111     -0.551      0.582      -7.844       4.413\n",
       "Fedu_media            -2.2395      3.102     -0.722      0.471      -8.351       3.872\n",
       "Fedu_superior         -1.7143      3.149     -0.544      0.587      -7.918       4.490\n",
       "Mjob_at_home          -0.8353      0.943     -0.886      0.377      -2.693       1.022\n",
       "Mjob_other            -1.2348      0.811     -1.523      0.129      -2.832       0.362\n",
       "Mjob_services         -0.1784      0.767     -0.233      0.816      -1.689       1.332\n",
       "Mjob_teacher          -2.1807      0.792     -2.753      0.006      -3.742      -0.620\n",
       "Fjob_health           -0.6233      1.305     -0.478      0.633      -3.194       1.947\n",
       "Fjob_other            -0.9680      0.992     -0.976      0.330      -2.923       0.987\n",
       "Fjob_services         -0.3120      0.997     -0.313      0.755      -2.277       1.653\n",
       "Fjob_teacher           1.0800      1.215      0.889      0.375      -1.314       3.474\n",
       "reason_course          0.1012      0.689      0.147      0.883      -1.256       1.459\n",
       "reason_home            0.5583      0.723      0.773      0.440      -0.865       1.982\n",
       "reason_reputation      0.6725      0.722      0.932      0.352      -0.749       2.094\n",
       "guardian_father        0.0704      0.855      0.082      0.934      -1.614       1.754\n",
       "guardian_mother        0.1669      0.784      0.213      0.832      -1.378       1.712\n",
       "traveltime_15a30       0.7152      1.460      0.490      0.625      -2.162       3.592\n",
       "traveltime_30a60       2.5484      1.569      1.625      0.106      -0.542       5.639\n",
       "traveltime_menor15     1.1571      1.446      0.800      0.424      -1.692       4.006\n",
       "studytime_2a5         -1.7194      0.776     -2.217      0.028      -3.247      -0.191\n",
       "studytime_5a10        -0.5740      0.849     -0.676      0.499      -2.246       1.098\n",
       "studytime_menor2      -1.7256      0.853     -2.022      0.044      -3.407      -0.044\n",
       "famrel                 0.1200      0.216      0.554      0.580      -0.306       0.546\n",
       "freetime               0.4501      0.193      2.328      0.021       0.069       0.831\n",
       "goout                 -0.7548      0.201     -3.753      0.000      -1.151      -0.359\n",
       "Dalc                  -0.1263      0.290     -0.436      0.663      -0.697       0.444\n",
       "Walc                   0.1647      0.212      0.776      0.439      -0.253       0.583\n",
       "health                -0.3156      0.144     -2.195      0.029      -0.599      -0.032\n",
       "failures              -1.0475      0.283     -3.701      0.000      -1.605      -0.490\n",
       "age                    0.0876      0.184      0.478      0.633      -0.274       0.449\n",
       "absences               0.0009      0.024      0.038      0.970      -0.047       0.049\n",
       "==============================================================================\n",
       "Omnibus:                        5.327   Durbin-Watson:                   1.966\n",
       "Prob(Omnibus):                  0.070   Jarque-Bera (JB):                3.671\n",
       "Skew:                           0.122   Prob(JB):                        0.160\n",
       "Kurtosis:                       2.499   Cond. No.                         916.\n",
       "==============================================================================\n",
       "\n",
       "Warnings:\n",
       "[1] Standard Errors assume that the covariance matrix of the errors is correctly specified.\n",
       "\"\"\""
      ]
     },
     "execution_count": 198,
     "metadata": {},
     "output_type": "execute_result"
    }
   ],
   "source": [
    "modelo_desc_g1 = snf.ols('G1 ~' + x_g1, df_recod).fit()\n",
    "modelo_desc_g1.summary()"
   ]
  },
  {
   "cell_type": "markdown",
   "metadata": {},
   "source": [
    "Evaluamos las variables que son estadísticamente significativas con un 95% de confianza:"
   ]
  },
  {
   "cell_type": "code",
   "execution_count": 199,
   "metadata": {},
   "outputs": [],
   "source": [
    "sig_g1, no_sig_g1, pval_g1 =  fs.evalua_95_confianza(modelo_desc_g1)"
   ]
  },
  {
   "cell_type": "code",
   "execution_count": 200,
   "metadata": {},
   "outputs": [
    {
     "name": "stdout",
     "output_type": "stream",
     "text": [
      " las variables que son estadisticamente significativas con un 95% de confianza para el modelo OLS del vector G1 son: ['Intercept', 'schoolsup_yes', 'famsup_no', 'Mjob_teacher', 'studytime_2a5', 'studytime_menor2', 'freetime', 'goout', 'health', 'failures']\n"
     ]
    }
   ],
   "source": [
    "print(f' las variables que son estadisticamente significativas con un 95% de confianza para el modelo OLS del vector G1 son: {sig_g1}')"
   ]
  },
  {
   "cell_type": "code",
   "execution_count": 201,
   "metadata": {},
   "outputs": [
    {
     "name": "stdout",
     "output_type": "stream",
     "text": [
      "Las siguientes variables obtuvieron un p_val > 0.5: ['school_MS', 'sex_M', 'address_R', 'famsize_LE3', 'Pstatus_A', 'paid_yes', 'activities_no', 'nursery_no', 'higher_no', 'internet_no', 'romantic_yes', 'Medu_basica_1', 'Medu_basica_2', 'Medu_media', 'Medu_superior', 'Fedu_basica_1', 'Fedu_basica_2', 'Fedu_media', 'Fedu_superior', 'Mjob_at_home', 'Mjob_other', 'Mjob_services', 'Fjob_health', 'Fjob_other', 'Fjob_services', 'Fjob_teacher', 'reason_course', 'reason_home', 'reason_reputation', 'guardian_father', 'guardian_mother', 'traveltime_15a30', 'traveltime_30a60', 'traveltime_menor15', 'studytime_5a10', 'famrel', 'Dalc', 'Walc', 'age', 'absences']\n"
     ]
    }
   ],
   "source": [
    "print(f'Las siguientes variables obtuvieron un p_val > 0.5: {no_sig_g1}')"
   ]
  },
  {
   "cell_type": "markdown",
   "metadata": {},
   "source": [
    "Comentarios: \n",
    "\n",
    "- Se observa que la gran mayoria de las variables binarias estudiadas no son estadisticamente significativas. Por lo que no es posible concluir que exista una asociación estadisticamente significativa entre estas variables y el promedio de notas del primer semestre. \n",
    "- Las variables binarias que si son estadisticamente significativas son si es que el alumno tiene apoyo educacional del colegio (schoolsup_yes) y si recibe apoyo educacional familiar (famsup_no)\n",
    "\n",
    "- Las variables categóricas relacionadas con los padres no son estadisticamente significativas. En cambio, se observa que las variables relacionadas con las horas semanales dedicadas pueden tener un grado de significancia y el número de asignaturas reprobadas\n",
    "\n",
    "- Respecto a las preguntas relacionadas con los aspectos ambientales del alumno se observa que tiempo libre fuera del colegio (freetime), salida con amigos (goout) y estado de salud (health) son estadisticamente significativas "
   ]
  },
  {
   "cell_type": "markdown",
   "metadata": {},
   "source": [
    "**Depuración del modelo descriptivo G1**\n",
    "\n",
    "Se realizará una depuración del modelo G1, reduciendo aquellas variables que no tuvieron una asociación estadisticamente significativa con la variable objetivo G1.  "
   ]
  },
  {
   "cell_type": "code",
   "execution_count": 202,
   "metadata": {},
   "outputs": [],
   "source": [
    "x_g1_refact = sig_g1\n",
    "x_g1_refact.remove('Intercept')"
   ]
  },
  {
   "cell_type": "code",
   "execution_count": 203,
   "metadata": {},
   "outputs": [
    {
     "data": {
      "text/plain": [
       "'schoolsup_yes + famsup_no + Mjob_teacher + studytime_2a5 + studytime_menor2 + freetime + goout + health + failures'"
      ]
     },
     "execution_count": 203,
     "metadata": {},
     "output_type": "execute_result"
    }
   ],
   "source": [
    "x_g1_refact = ' + '.join(x_g1_refact)\n",
    "x_g1_refact"
   ]
  },
  {
   "cell_type": "code",
   "execution_count": 208,
   "metadata": {},
   "outputs": [
    {
     "data": {
      "text/html": [
       "<table class=\"simpletable\">\n",
       "<caption>OLS Regression Results</caption>\n",
       "<tr>\n",
       "  <th>Dep. Variable:</th>           <td>G1</td>        <th>  R-squared:         </th> <td>   0.231</td>\n",
       "</tr>\n",
       "<tr>\n",
       "  <th>Model:</th>                   <td>OLS</td>       <th>  Adj. R-squared:    </th> <td>   0.205</td>\n",
       "</tr>\n",
       "<tr>\n",
       "  <th>Method:</th>             <td>Least Squares</td>  <th>  F-statistic:       </th> <td>   9.124</td>\n",
       "</tr>\n",
       "<tr>\n",
       "  <th>Date:</th>             <td>Mon, 07 Dec 2020</td> <th>  Prob (F-statistic):</th> <td>4.46e-12</td>\n",
       "</tr>\n",
       "<tr>\n",
       "  <th>Time:</th>                 <td>15:52:43</td>     <th>  Log-Likelihood:    </th> <td> -703.40</td>\n",
       "</tr>\n",
       "<tr>\n",
       "  <th>No. Observations:</th>      <td>   284</td>      <th>  AIC:               </th> <td>   1427.</td>\n",
       "</tr>\n",
       "<tr>\n",
       "  <th>Df Residuals:</th>          <td>   274</td>      <th>  BIC:               </th> <td>   1463.</td>\n",
       "</tr>\n",
       "<tr>\n",
       "  <th>Df Model:</th>              <td>     9</td>      <th>                     </th>     <td> </td>   \n",
       "</tr>\n",
       "<tr>\n",
       "  <th>Covariance Type:</th>      <td>nonrobust</td>    <th>                     </th>     <td> </td>   \n",
       "</tr>\n",
       "</table>\n",
       "<table class=\"simpletable\">\n",
       "<tr>\n",
       "          <td></td>            <th>coef</th>     <th>std err</th>      <th>t</th>      <th>P>|t|</th>  <th>[0.025</th>    <th>0.975]</th>  \n",
       "</tr>\n",
       "<tr>\n",
       "  <th>Intercept</th>        <td>   13.9416</td> <td>    0.882</td> <td>   15.798</td> <td> 0.000</td> <td>   12.204</td> <td>   15.679</td>\n",
       "</tr>\n",
       "<tr>\n",
       "  <th>schoolsup_yes</th>    <td>   -1.9261</td> <td>    0.522</td> <td>   -3.691</td> <td> 0.000</td> <td>   -2.954</td> <td>   -0.899</td>\n",
       "</tr>\n",
       "<tr>\n",
       "  <th>famsup_no</th>        <td>    0.6437</td> <td>    0.369</td> <td>    1.743</td> <td> 0.082</td> <td>   -0.083</td> <td>    1.371</td>\n",
       "</tr>\n",
       "<tr>\n",
       "  <th>Mjob_teacher</th>     <td>   -0.3461</td> <td>    0.494</td> <td>   -0.700</td> <td> 0.484</td> <td>   -1.319</td> <td>    0.627</td>\n",
       "</tr>\n",
       "<tr>\n",
       "  <th>studytime_2a5</th>    <td>   -1.0857</td> <td>    0.436</td> <td>   -2.488</td> <td> 0.013</td> <td>   -1.945</td> <td>   -0.227</td>\n",
       "</tr>\n",
       "<tr>\n",
       "  <th>studytime_menor2</th> <td>   -0.8155</td> <td>    0.509</td> <td>   -1.601</td> <td> 0.111</td> <td>   -1.818</td> <td>    0.187</td>\n",
       "</tr>\n",
       "<tr>\n",
       "  <th>freetime</th>         <td>    0.3573</td> <td>    0.180</td> <td>    1.984</td> <td> 0.048</td> <td>    0.003</td> <td>    0.712</td>\n",
       "</tr>\n",
       "<tr>\n",
       "  <th>goout</th>            <td>   -0.6142</td> <td>    0.171</td> <td>   -3.590</td> <td> 0.000</td> <td>   -0.951</td> <td>   -0.277</td>\n",
       "</tr>\n",
       "<tr>\n",
       "  <th>health</th>           <td>   -0.2781</td> <td>    0.134</td> <td>   -2.070</td> <td> 0.039</td> <td>   -0.543</td> <td>   -0.014</td>\n",
       "</tr>\n",
       "<tr>\n",
       "  <th>failures</th>         <td>   -1.3008</td> <td>    0.248</td> <td>   -5.251</td> <td> 0.000</td> <td>   -1.788</td> <td>   -0.813</td>\n",
       "</tr>\n",
       "</table>\n",
       "<table class=\"simpletable\">\n",
       "<tr>\n",
       "  <th>Omnibus:</th>       <td> 7.207</td> <th>  Durbin-Watson:     </th> <td>   1.977</td>\n",
       "</tr>\n",
       "<tr>\n",
       "  <th>Prob(Omnibus):</th> <td> 0.027</td> <th>  Jarque-Bera (JB):  </th> <td>   4.906</td>\n",
       "</tr>\n",
       "<tr>\n",
       "  <th>Skew:</th>          <td> 0.177</td> <th>  Prob(JB):          </th> <td>  0.0860</td>\n",
       "</tr>\n",
       "<tr>\n",
       "  <th>Kurtosis:</th>      <td> 2.462</td> <th>  Cond. No.          </th> <td>    31.5</td>\n",
       "</tr>\n",
       "</table><br/><br/>Warnings:<br/>[1] Standard Errors assume that the covariance matrix of the errors is correctly specified."
      ],
      "text/plain": [
       "<class 'statsmodels.iolib.summary.Summary'>\n",
       "\"\"\"\n",
       "                            OLS Regression Results                            \n",
       "==============================================================================\n",
       "Dep. Variable:                     G1   R-squared:                       0.231\n",
       "Model:                            OLS   Adj. R-squared:                  0.205\n",
       "Method:                 Least Squares   F-statistic:                     9.124\n",
       "Date:                Mon, 07 Dec 2020   Prob (F-statistic):           4.46e-12\n",
       "Time:                        15:52:43   Log-Likelihood:                -703.40\n",
       "No. Observations:                 284   AIC:                             1427.\n",
       "Df Residuals:                     274   BIC:                             1463.\n",
       "Df Model:                           9                                         \n",
       "Covariance Type:            nonrobust                                         \n",
       "====================================================================================\n",
       "                       coef    std err          t      P>|t|      [0.025      0.975]\n",
       "------------------------------------------------------------------------------------\n",
       "Intercept           13.9416      0.882     15.798      0.000      12.204      15.679\n",
       "schoolsup_yes       -1.9261      0.522     -3.691      0.000      -2.954      -0.899\n",
       "famsup_no            0.6437      0.369      1.743      0.082      -0.083       1.371\n",
       "Mjob_teacher        -0.3461      0.494     -0.700      0.484      -1.319       0.627\n",
       "studytime_2a5       -1.0857      0.436     -2.488      0.013      -1.945      -0.227\n",
       "studytime_menor2    -0.8155      0.509     -1.601      0.111      -1.818       0.187\n",
       "freetime             0.3573      0.180      1.984      0.048       0.003       0.712\n",
       "goout               -0.6142      0.171     -3.590      0.000      -0.951      -0.277\n",
       "health              -0.2781      0.134     -2.070      0.039      -0.543      -0.014\n",
       "failures            -1.3008      0.248     -5.251      0.000      -1.788      -0.813\n",
       "==============================================================================\n",
       "Omnibus:                        7.207   Durbin-Watson:                   1.977\n",
       "Prob(Omnibus):                  0.027   Jarque-Bera (JB):                4.906\n",
       "Skew:                           0.177   Prob(JB):                       0.0860\n",
       "Kurtosis:                       2.462   Cond. No.                         31.5\n",
       "==============================================================================\n",
       "\n",
       "Warnings:\n",
       "[1] Standard Errors assume that the covariance matrix of the errors is correctly specified.\n",
       "\"\"\""
      ]
     },
     "execution_count": 208,
     "metadata": {},
     "output_type": "execute_result"
    }
   ],
   "source": [
    "modelo_desc_g1_refact = snf.ols('G1 ~' + x_g1_refact, df_recod).fit()\n",
    "modelo_desc_g1_refact.summary()"
   ]
  },
  {
   "cell_type": "markdown",
   "metadata": {},
   "source": [
    "Comentarios: Se observa que el nuevo modelo para G1 tiene un R2 de 0.231, respecto a ello se puede comentar que pese a una reducción considerable de variables, el R2 no mejoró. Además se observa que existe nuevas variables que no son estadisticamente significativas en el modelo."
   ]
  },
  {
   "cell_type": "markdown",
   "metadata": {},
   "source": [
    "evaluamos la significancia del modelo"
   ]
  },
  {
   "cell_type": "code",
   "execution_count": 209,
   "metadata": {},
   "outputs": [],
   "source": [
    "sig_g1_r, no_sig_g1_r, pval_g1_r =  fs.evalua_95_confianza(modelo_desc_g1_refact)"
   ]
  },
  {
   "cell_type": "code",
   "execution_count": 210,
   "metadata": {},
   "outputs": [
    {
     "name": "stdout",
     "output_type": "stream",
     "text": [
      " las variables que son estadisticamente significativas con un 95% de confianza para el modelo OLS del vector G1 son: ['Intercept', 'schoolsup_yes', 'studytime_2a5', 'freetime', 'goout', 'health', 'failures']\n"
     ]
    }
   ],
   "source": [
    "print(f' las variables que son estadisticamente significativas con un 95% de confianza para el modelo OLS del vector G1 son: {sig_g1_r}')"
   ]
  },
  {
   "cell_type": "code",
   "execution_count": 211,
   "metadata": {},
   "outputs": [
    {
     "name": "stdout",
     "output_type": "stream",
     "text": [
      "Las siguientes variables obtuvieron un p_val > 0.5: ['famsup_no', 'Mjob_teacher', 'studytime_menor2']\n"
     ]
    }
   ],
   "source": [
    "print(f'Las siguientes variables obtuvieron un p_val > 0.5: {no_sig_g1_r}')"
   ]
  },
  {
   "cell_type": "markdown",
   "metadata": {},
   "source": [
    "**Modelación para G2**"
   ]
  },
  {
   "cell_type": "code",
   "execution_count": 212,
   "metadata": {
    "scrolled": true
   },
   "outputs": [
    {
     "name": "stdout",
     "output_type": "stream",
     "text": [
      "['school_MS', 'sex_M', 'address_R', 'famsize_LE3', 'Pstatus_A', 'schoolsup_yes', 'famsup_no', 'paid_yes', 'activities_no', 'nursery_no', 'higher_no', 'internet_no', 'romantic_yes', 'Medu_basica_1', 'Medu_basica_2', 'Medu_media', 'Medu_superior', 'Fedu_basica_1', 'Fedu_basica_2', 'Fedu_media', 'Fedu_superior', 'Mjob_at_home', 'Mjob_other', 'Mjob_services', 'Mjob_teacher', 'Fjob_health', 'Fjob_other', 'Fjob_services', 'Fjob_teacher', 'reason_course', 'reason_home', 'reason_reputation', 'guardian_father', 'guardian_mother', 'traveltime_15a30', 'traveltime_30a60', 'traveltime_menor15', 'studytime_2a5', 'studytime_5a10', 'studytime_menor2', 'famrel', 'freetime', 'goout', 'Dalc', 'Walc', 'health', 'failures', 'age', 'absences', 'G1']\n"
     ]
    }
   ],
   "source": [
    "y_g2 = ['G2']\n",
    "x_g2 = list(filter(lambda i: i != 'G2' and i !='G3', set_var))\n",
    "print(x_g2)"
   ]
  },
  {
   "cell_type": "code",
   "execution_count": 213,
   "metadata": {},
   "outputs": [],
   "source": [
    "x_g2 = ' + '.join(x_g2)"
   ]
  },
  {
   "cell_type": "code",
   "execution_count": 214,
   "metadata": {
    "scrolled": false
   },
   "outputs": [
    {
     "data": {
      "text/html": [
       "<table class=\"simpletable\">\n",
       "<caption>OLS Regression Results</caption>\n",
       "<tr>\n",
       "  <th>Dep. Variable:</th>           <td>G2</td>        <th>  R-squared:         </th> <td>   0.780</td>\n",
       "</tr>\n",
       "<tr>\n",
       "  <th>Model:</th>                   <td>OLS</td>       <th>  Adj. R-squared:    </th> <td>   0.733</td>\n",
       "</tr>\n",
       "<tr>\n",
       "  <th>Method:</th>             <td>Least Squares</td>  <th>  F-statistic:       </th> <td>   16.52</td>\n",
       "</tr>\n",
       "<tr>\n",
       "  <th>Date:</th>             <td>Mon, 07 Dec 2020</td> <th>  Prob (F-statistic):</th> <td>4.75e-53</td>\n",
       "</tr>\n",
       "<tr>\n",
       "  <th>Time:</th>                 <td>15:53:14</td>     <th>  Log-Likelihood:    </th> <td> -565.81</td>\n",
       "</tr>\n",
       "<tr>\n",
       "  <th>No. Observations:</th>      <td>   284</td>      <th>  AIC:               </th> <td>   1234.</td>\n",
       "</tr>\n",
       "<tr>\n",
       "  <th>Df Residuals:</th>          <td>   233</td>      <th>  BIC:               </th> <td>   1420.</td>\n",
       "</tr>\n",
       "<tr>\n",
       "  <th>Df Model:</th>              <td>    50</td>      <th>                     </th>     <td> </td>   \n",
       "</tr>\n",
       "<tr>\n",
       "  <th>Covariance Type:</th>      <td>nonrobust</td>    <th>                     </th>     <td> </td>   \n",
       "</tr>\n",
       "</table>\n",
       "<table class=\"simpletable\">\n",
       "<tr>\n",
       "           <td></td>             <th>coef</th>     <th>std err</th>      <th>t</th>      <th>P>|t|</th>  <th>[0.025</th>    <th>0.975]</th>  \n",
       "</tr>\n",
       "<tr>\n",
       "  <th>Intercept</th>          <td>    4.8120</td> <td>    4.096</td> <td>    1.175</td> <td> 0.241</td> <td>   -3.259</td> <td>   12.883</td>\n",
       "</tr>\n",
       "<tr>\n",
       "  <th>school_MS</th>          <td>    0.5411</td> <td>    0.460</td> <td>    1.177</td> <td> 0.240</td> <td>   -0.364</td> <td>    1.447</td>\n",
       "</tr>\n",
       "<tr>\n",
       "  <th>sex_M</th>              <td>    0.1018</td> <td>    0.301</td> <td>    0.338</td> <td> 0.736</td> <td>   -0.492</td> <td>    0.696</td>\n",
       "</tr>\n",
       "<tr>\n",
       "  <th>address_R</th>          <td>   -0.7235</td> <td>    0.338</td> <td>   -2.142</td> <td> 0.033</td> <td>   -1.389</td> <td>   -0.058</td>\n",
       "</tr>\n",
       "<tr>\n",
       "  <th>famsize_LE3</th>        <td>    0.1466</td> <td>    0.306</td> <td>    0.480</td> <td> 0.632</td> <td>   -0.456</td> <td>    0.749</td>\n",
       "</tr>\n",
       "<tr>\n",
       "  <th>Pstatus_A</th>          <td>    0.4089</td> <td>    0.446</td> <td>    0.917</td> <td> 0.360</td> <td>   -0.470</td> <td>    1.288</td>\n",
       "</tr>\n",
       "<tr>\n",
       "  <th>schoolsup_yes</th>      <td>    0.7319</td> <td>    0.395</td> <td>    1.854</td> <td> 0.065</td> <td>   -0.046</td> <td>    1.510</td>\n",
       "</tr>\n",
       "<tr>\n",
       "  <th>famsup_no</th>          <td>    0.0639</td> <td>    0.286</td> <td>    0.224</td> <td> 0.823</td> <td>   -0.499</td> <td>    0.627</td>\n",
       "</tr>\n",
       "<tr>\n",
       "  <th>paid_yes</th>           <td>    0.4230</td> <td>    0.281</td> <td>    1.507</td> <td> 0.133</td> <td>   -0.130</td> <td>    0.976</td>\n",
       "</tr>\n",
       "<tr>\n",
       "  <th>activities_no</th>      <td>   -0.2501</td> <td>    0.256</td> <td>   -0.977</td> <td> 0.330</td> <td>   -0.755</td> <td>    0.254</td>\n",
       "</tr>\n",
       "<tr>\n",
       "  <th>nursery_no</th>         <td>   -0.1943</td> <td>    0.313</td> <td>   -0.621</td> <td> 0.535</td> <td>   -0.810</td> <td>    0.422</td>\n",
       "</tr>\n",
       "<tr>\n",
       "  <th>higher_no</th>          <td>   -0.0283</td> <td>    0.597</td> <td>   -0.047</td> <td> 0.962</td> <td>   -1.205</td> <td>    1.149</td>\n",
       "</tr>\n",
       "<tr>\n",
       "  <th>internet_no</th>        <td>   -0.3943</td> <td>    0.347</td> <td>   -1.136</td> <td> 0.257</td> <td>   -1.078</td> <td>    0.290</td>\n",
       "</tr>\n",
       "<tr>\n",
       "  <th>romantic_yes</th>       <td>   -0.5915</td> <td>    0.286</td> <td>   -2.071</td> <td> 0.039</td> <td>   -1.154</td> <td>   -0.029</td>\n",
       "</tr>\n",
       "<tr>\n",
       "  <th>Medu_basica_1</th>      <td>   -0.6231</td> <td>    2.146</td> <td>   -0.290</td> <td> 0.772</td> <td>   -4.850</td> <td>    3.604</td>\n",
       "</tr>\n",
       "<tr>\n",
       "  <th>Medu_basica_2</th>      <td>   -0.6611</td> <td>    2.110</td> <td>   -0.313</td> <td> 0.754</td> <td>   -4.819</td> <td>    3.497</td>\n",
       "</tr>\n",
       "<tr>\n",
       "  <th>Medu_media</th>         <td>   -0.5044</td> <td>    2.124</td> <td>   -0.237</td> <td> 0.812</td> <td>   -4.690</td> <td>    3.681</td>\n",
       "</tr>\n",
       "<tr>\n",
       "  <th>Medu_superior</th>      <td>   -0.1538</td> <td>    2.142</td> <td>   -0.072</td> <td> 0.943</td> <td>   -4.374</td> <td>    4.067</td>\n",
       "</tr>\n",
       "<tr>\n",
       "  <th>Fedu_basica_1</th>      <td>   -1.8237</td> <td>    2.102</td> <td>   -0.868</td> <td> 0.387</td> <td>   -5.965</td> <td>    2.318</td>\n",
       "</tr>\n",
       "<tr>\n",
       "  <th>Fedu_basica_2</th>      <td>   -1.9035</td> <td>    2.127</td> <td>   -0.895</td> <td> 0.372</td> <td>   -6.095</td> <td>    2.288</td>\n",
       "</tr>\n",
       "<tr>\n",
       "  <th>Fedu_media</th>         <td>   -2.3765</td> <td>    2.122</td> <td>   -1.120</td> <td> 0.264</td> <td>   -6.558</td> <td>    1.805</td>\n",
       "</tr>\n",
       "<tr>\n",
       "  <th>Fedu_superior</th>      <td>   -2.5362</td> <td>    2.153</td> <td>   -1.178</td> <td> 0.240</td> <td>   -6.779</td> <td>    1.706</td>\n",
       "</tr>\n",
       "<tr>\n",
       "  <th>Mjob_at_home</th>       <td>   -0.2245</td> <td>    0.645</td> <td>   -0.348</td> <td> 0.728</td> <td>   -1.496</td> <td>    1.047</td>\n",
       "</tr>\n",
       "<tr>\n",
       "  <th>Mjob_other</th>         <td>    0.2425</td> <td>    0.557</td> <td>    0.436</td> <td> 0.663</td> <td>   -0.854</td> <td>    1.339</td>\n",
       "</tr>\n",
       "<tr>\n",
       "  <th>Mjob_services</th>      <td>   -0.0614</td> <td>    0.524</td> <td>   -0.117</td> <td> 0.907</td> <td>   -1.094</td> <td>    0.971</td>\n",
       "</tr>\n",
       "<tr>\n",
       "  <th>Mjob_teacher</th>       <td>   -0.2363</td> <td>    0.550</td> <td>   -0.429</td> <td> 0.668</td> <td>   -1.320</td> <td>    0.848</td>\n",
       "</tr>\n",
       "<tr>\n",
       "  <th>Fjob_health</th>        <td>    0.6441</td> <td>    0.892</td> <td>    0.722</td> <td> 0.471</td> <td>   -1.114</td> <td>    2.402</td>\n",
       "</tr>\n",
       "<tr>\n",
       "  <th>Fjob_other</th>         <td>    0.7473</td> <td>    0.679</td> <td>    1.100</td> <td> 0.273</td> <td>   -0.591</td> <td>    2.086</td>\n",
       "</tr>\n",
       "<tr>\n",
       "  <th>Fjob_services</th>      <td>    1.0636</td> <td>    0.682</td> <td>    1.561</td> <td> 0.120</td> <td>   -0.279</td> <td>    2.407</td>\n",
       "</tr>\n",
       "<tr>\n",
       "  <th>Fjob_teacher</th>       <td>    0.2162</td> <td>    0.832</td> <td>    0.260</td> <td> 0.795</td> <td>   -1.423</td> <td>    1.855</td>\n",
       "</tr>\n",
       "<tr>\n",
       "  <th>reason_course</th>      <td>   -0.6281</td> <td>    0.471</td> <td>   -1.334</td> <td> 0.184</td> <td>   -1.556</td> <td>    0.300</td>\n",
       "</tr>\n",
       "<tr>\n",
       "  <th>reason_home</th>        <td>   -0.5140</td> <td>    0.494</td> <td>   -1.040</td> <td> 0.300</td> <td>   -1.488</td> <td>    0.460</td>\n",
       "</tr>\n",
       "<tr>\n",
       "  <th>reason_reputation</th>  <td>   -0.5494</td> <td>    0.494</td> <td>   -1.112</td> <td> 0.267</td> <td>   -1.523</td> <td>    0.424</td>\n",
       "</tr>\n",
       "<tr>\n",
       "  <th>guardian_father</th>    <td>    0.2643</td> <td>    0.584</td> <td>    0.452</td> <td> 0.651</td> <td>   -0.887</td> <td>    1.415</td>\n",
       "</tr>\n",
       "<tr>\n",
       "  <th>guardian_mother</th>    <td>    0.0834</td> <td>    0.536</td> <td>    0.156</td> <td> 0.877</td> <td>   -0.973</td> <td>    1.140</td>\n",
       "</tr>\n",
       "<tr>\n",
       "  <th>traveltime_15a30</th>   <td>    1.1764</td> <td>    0.998</td> <td>    1.178</td> <td> 0.240</td> <td>   -0.791</td> <td>    3.143</td>\n",
       "</tr>\n",
       "<tr>\n",
       "  <th>traveltime_30a60</th>   <td>    1.0295</td> <td>    1.078</td> <td>    0.955</td> <td> 0.341</td> <td>   -1.094</td> <td>    3.153</td>\n",
       "</tr>\n",
       "<tr>\n",
       "  <th>traveltime_menor15</th> <td>    1.2673</td> <td>    0.989</td> <td>    1.281</td> <td> 0.202</td> <td>   -0.682</td> <td>    3.217</td>\n",
       "</tr>\n",
       "<tr>\n",
       "  <th>studytime_2a5</th>      <td>   -0.0212</td> <td>    0.536</td> <td>   -0.040</td> <td> 0.968</td> <td>   -1.076</td> <td>    1.034</td>\n",
       "</tr>\n",
       "<tr>\n",
       "  <th>studytime_5a10</th>     <td>   -0.1399</td> <td>    0.580</td> <td>   -0.241</td> <td> 0.810</td> <td>   -1.284</td> <td>    1.004</td>\n",
       "</tr>\n",
       "<tr>\n",
       "  <th>studytime_menor2</th>   <td>    0.0624</td> <td>    0.588</td> <td>    0.106</td> <td> 0.916</td> <td>   -1.097</td> <td>    1.222</td>\n",
       "</tr>\n",
       "<tr>\n",
       "  <th>famrel</th>             <td>   -0.0844</td> <td>    0.148</td> <td>   -0.570</td> <td> 0.569</td> <td>   -0.376</td> <td>    0.207</td>\n",
       "</tr>\n",
       "<tr>\n",
       "  <th>freetime</th>           <td>   -0.0188</td> <td>    0.134</td> <td>   -0.140</td> <td> 0.888</td> <td>   -0.282</td> <td>    0.245</td>\n",
       "</tr>\n",
       "<tr>\n",
       "  <th>goout</th>              <td>   -0.2343</td> <td>    0.142</td> <td>   -1.656</td> <td> 0.099</td> <td>   -0.513</td> <td>    0.045</td>\n",
       "</tr>\n",
       "<tr>\n",
       "  <th>Dalc</th>               <td>   -0.1456</td> <td>    0.198</td> <td>   -0.735</td> <td> 0.463</td> <td>   -0.536</td> <td>    0.245</td>\n",
       "</tr>\n",
       "<tr>\n",
       "  <th>Walc</th>               <td>    0.2330</td> <td>    0.145</td> <td>    1.604</td> <td> 0.110</td> <td>   -0.053</td> <td>    0.519</td>\n",
       "</tr>\n",
       "<tr>\n",
       "  <th>health</th>             <td>   -0.1080</td> <td>    0.099</td> <td>   -1.089</td> <td> 0.277</td> <td>   -0.304</td> <td>    0.088</td>\n",
       "</tr>\n",
       "<tr>\n",
       "  <th>failures</th>           <td>   -0.0500</td> <td>    0.199</td> <td>   -0.251</td> <td> 0.802</td> <td>   -0.442</td> <td>    0.342</td>\n",
       "</tr>\n",
       "<tr>\n",
       "  <th>age</th>                <td>   -0.1371</td> <td>    0.125</td> <td>   -1.093</td> <td> 0.276</td> <td>   -0.384</td> <td>    0.110</td>\n",
       "</tr>\n",
       "<tr>\n",
       "  <th>absences</th>           <td>   -0.0040</td> <td>    0.017</td> <td>   -0.241</td> <td> 0.810</td> <td>   -0.037</td> <td>    0.029</td>\n",
       "</tr>\n",
       "<tr>\n",
       "  <th>G1</th>                 <td>    0.9615</td> <td>    0.045</td> <td>   21.522</td> <td> 0.000</td> <td>    0.873</td> <td>    1.050</td>\n",
       "</tr>\n",
       "</table>\n",
       "<table class=\"simpletable\">\n",
       "<tr>\n",
       "  <th>Omnibus:</th>       <td>104.377</td> <th>  Durbin-Watson:     </th> <td>   1.380</td> \n",
       "</tr>\n",
       "<tr>\n",
       "  <th>Prob(Omnibus):</th> <td> 0.000</td>  <th>  Jarque-Bera (JB):  </th> <td> 489.126</td> \n",
       "</tr>\n",
       "<tr>\n",
       "  <th>Skew:</th>          <td>-1.452</td>  <th>  Prob(JB):          </th> <td>6.13e-107</td>\n",
       "</tr>\n",
       "<tr>\n",
       "  <th>Kurtosis:</th>      <td> 8.736</td>  <th>  Cond. No.          </th> <td>1.06e+03</td> \n",
       "</tr>\n",
       "</table><br/><br/>Warnings:<br/>[1] Standard Errors assume that the covariance matrix of the errors is correctly specified.<br/>[2] The condition number is large, 1.06e+03. This might indicate that there are<br/>strong multicollinearity or other numerical problems."
      ],
      "text/plain": [
       "<class 'statsmodels.iolib.summary.Summary'>\n",
       "\"\"\"\n",
       "                            OLS Regression Results                            \n",
       "==============================================================================\n",
       "Dep. Variable:                     G2   R-squared:                       0.780\n",
       "Model:                            OLS   Adj. R-squared:                  0.733\n",
       "Method:                 Least Squares   F-statistic:                     16.52\n",
       "Date:                Mon, 07 Dec 2020   Prob (F-statistic):           4.75e-53\n",
       "Time:                        15:53:14   Log-Likelihood:                -565.81\n",
       "No. Observations:                 284   AIC:                             1234.\n",
       "Df Residuals:                     233   BIC:                             1420.\n",
       "Df Model:                          50                                         \n",
       "Covariance Type:            nonrobust                                         \n",
       "======================================================================================\n",
       "                         coef    std err          t      P>|t|      [0.025      0.975]\n",
       "--------------------------------------------------------------------------------------\n",
       "Intercept              4.8120      4.096      1.175      0.241      -3.259      12.883\n",
       "school_MS              0.5411      0.460      1.177      0.240      -0.364       1.447\n",
       "sex_M                  0.1018      0.301      0.338      0.736      -0.492       0.696\n",
       "address_R             -0.7235      0.338     -2.142      0.033      -1.389      -0.058\n",
       "famsize_LE3            0.1466      0.306      0.480      0.632      -0.456       0.749\n",
       "Pstatus_A              0.4089      0.446      0.917      0.360      -0.470       1.288\n",
       "schoolsup_yes          0.7319      0.395      1.854      0.065      -0.046       1.510\n",
       "famsup_no              0.0639      0.286      0.224      0.823      -0.499       0.627\n",
       "paid_yes               0.4230      0.281      1.507      0.133      -0.130       0.976\n",
       "activities_no         -0.2501      0.256     -0.977      0.330      -0.755       0.254\n",
       "nursery_no            -0.1943      0.313     -0.621      0.535      -0.810       0.422\n",
       "higher_no             -0.0283      0.597     -0.047      0.962      -1.205       1.149\n",
       "internet_no           -0.3943      0.347     -1.136      0.257      -1.078       0.290\n",
       "romantic_yes          -0.5915      0.286     -2.071      0.039      -1.154      -0.029\n",
       "Medu_basica_1         -0.6231      2.146     -0.290      0.772      -4.850       3.604\n",
       "Medu_basica_2         -0.6611      2.110     -0.313      0.754      -4.819       3.497\n",
       "Medu_media            -0.5044      2.124     -0.237      0.812      -4.690       3.681\n",
       "Medu_superior         -0.1538      2.142     -0.072      0.943      -4.374       4.067\n",
       "Fedu_basica_1         -1.8237      2.102     -0.868      0.387      -5.965       2.318\n",
       "Fedu_basica_2         -1.9035      2.127     -0.895      0.372      -6.095       2.288\n",
       "Fedu_media            -2.3765      2.122     -1.120      0.264      -6.558       1.805\n",
       "Fedu_superior         -2.5362      2.153     -1.178      0.240      -6.779       1.706\n",
       "Mjob_at_home          -0.2245      0.645     -0.348      0.728      -1.496       1.047\n",
       "Mjob_other             0.2425      0.557      0.436      0.663      -0.854       1.339\n",
       "Mjob_services         -0.0614      0.524     -0.117      0.907      -1.094       0.971\n",
       "Mjob_teacher          -0.2363      0.550     -0.429      0.668      -1.320       0.848\n",
       "Fjob_health            0.6441      0.892      0.722      0.471      -1.114       2.402\n",
       "Fjob_other             0.7473      0.679      1.100      0.273      -0.591       2.086\n",
       "Fjob_services          1.0636      0.682      1.561      0.120      -0.279       2.407\n",
       "Fjob_teacher           0.2162      0.832      0.260      0.795      -1.423       1.855\n",
       "reason_course         -0.6281      0.471     -1.334      0.184      -1.556       0.300\n",
       "reason_home           -0.5140      0.494     -1.040      0.300      -1.488       0.460\n",
       "reason_reputation     -0.5494      0.494     -1.112      0.267      -1.523       0.424\n",
       "guardian_father        0.2643      0.584      0.452      0.651      -0.887       1.415\n",
       "guardian_mother        0.0834      0.536      0.156      0.877      -0.973       1.140\n",
       "traveltime_15a30       1.1764      0.998      1.178      0.240      -0.791       3.143\n",
       "traveltime_30a60       1.0295      1.078      0.955      0.341      -1.094       3.153\n",
       "traveltime_menor15     1.2673      0.989      1.281      0.202      -0.682       3.217\n",
       "studytime_2a5         -0.0212      0.536     -0.040      0.968      -1.076       1.034\n",
       "studytime_5a10        -0.1399      0.580     -0.241      0.810      -1.284       1.004\n",
       "studytime_menor2       0.0624      0.588      0.106      0.916      -1.097       1.222\n",
       "famrel                -0.0844      0.148     -0.570      0.569      -0.376       0.207\n",
       "freetime              -0.0188      0.134     -0.140      0.888      -0.282       0.245\n",
       "goout                 -0.2343      0.142     -1.656      0.099      -0.513       0.045\n",
       "Dalc                  -0.1456      0.198     -0.735      0.463      -0.536       0.245\n",
       "Walc                   0.2330      0.145      1.604      0.110      -0.053       0.519\n",
       "health                -0.1080      0.099     -1.089      0.277      -0.304       0.088\n",
       "failures              -0.0500      0.199     -0.251      0.802      -0.442       0.342\n",
       "age                   -0.1371      0.125     -1.093      0.276      -0.384       0.110\n",
       "absences              -0.0040      0.017     -0.241      0.810      -0.037       0.029\n",
       "G1                     0.9615      0.045     21.522      0.000       0.873       1.050\n",
       "==============================================================================\n",
       "Omnibus:                      104.377   Durbin-Watson:                   1.380\n",
       "Prob(Omnibus):                  0.000   Jarque-Bera (JB):              489.126\n",
       "Skew:                          -1.452   Prob(JB):                    6.13e-107\n",
       "Kurtosis:                       8.736   Cond. No.                     1.06e+03\n",
       "==============================================================================\n",
       "\n",
       "Warnings:\n",
       "[1] Standard Errors assume that the covariance matrix of the errors is correctly specified.\n",
       "[2] The condition number is large, 1.06e+03. This might indicate that there are\n",
       "strong multicollinearity or other numerical problems.\n",
       "\"\"\""
      ]
     },
     "execution_count": 214,
     "metadata": {},
     "output_type": "execute_result"
    }
   ],
   "source": [
    "modelo_desc_g2 = snf.ols('G2 ~' + x_g2, df_recod).fit()\n",
    "modelo_desc_g2.summary()"
   ]
  },
  {
   "cell_type": "code",
   "execution_count": 215,
   "metadata": {},
   "outputs": [
    {
     "name": "stdout",
     "output_type": "stream",
     "text": [
      " las variables que son estadisticamente significativas con un 95% de confianza para el modelo OLS del vector G2 son: ['address_R', 'romantic_yes', 'G1']\n"
     ]
    }
   ],
   "source": [
    "sig_g2, no_sig_g2, pval_g2 =  fs.evalua_95_confianza(modelo_desc_g2)\n",
    "print(f' las variables que son estadisticamente significativas con un 95% de confianza para el modelo OLS del vector G2 son: {sig_g2}')"
   ]
  },
  {
   "cell_type": "markdown",
   "metadata": {},
   "source": [
    "Comentarios: Del modelo descriptivo para G2 observamos que existe una alta correlación con R2 = 0.78. Sin embargo se observa que la mayoría de los factores son son estadisticamente significativos. Las variables significativas del modelo son address_R, romantic_yes y G1"
   ]
  },
  {
   "cell_type": "markdown",
   "metadata": {},
   "source": [
    "**Depuración del modelo G2**"
   ]
  },
  {
   "cell_type": "code",
   "execution_count": 216,
   "metadata": {},
   "outputs": [],
   "source": [
    "x_g2_r = sig_g2"
   ]
  },
  {
   "cell_type": "code",
   "execution_count": 217,
   "metadata": {},
   "outputs": [
    {
     "data": {
      "text/plain": [
       "'address_R + romantic_yes + G1'"
      ]
     },
     "execution_count": 217,
     "metadata": {},
     "output_type": "execute_result"
    }
   ],
   "source": [
    "x_g2_r = ' + '.join(x_g2_r)\n",
    "x_g2_r"
   ]
  },
  {
   "cell_type": "code",
   "execution_count": 218,
   "metadata": {},
   "outputs": [
    {
     "data": {
      "text/html": [
       "<table class=\"simpletable\">\n",
       "<caption>OLS Regression Results</caption>\n",
       "<tr>\n",
       "  <th>Dep. Variable:</th>           <td>G2</td>        <th>  R-squared:         </th> <td>   0.738</td>\n",
       "</tr>\n",
       "<tr>\n",
       "  <th>Model:</th>                   <td>OLS</td>       <th>  Adj. R-squared:    </th> <td>   0.735</td>\n",
       "</tr>\n",
       "<tr>\n",
       "  <th>Method:</th>             <td>Least Squares</td>  <th>  F-statistic:       </th> <td>   262.9</td>\n",
       "</tr>\n",
       "<tr>\n",
       "  <th>Date:</th>             <td>Mon, 07 Dec 2020</td> <th>  Prob (F-statistic):</th> <td>4.22e-81</td>\n",
       "</tr>\n",
       "<tr>\n",
       "  <th>Time:</th>                 <td>15:53:48</td>     <th>  Log-Likelihood:    </th> <td> -590.62</td>\n",
       "</tr>\n",
       "<tr>\n",
       "  <th>No. Observations:</th>      <td>   284</td>      <th>  AIC:               </th> <td>   1189.</td>\n",
       "</tr>\n",
       "<tr>\n",
       "  <th>Df Residuals:</th>          <td>   280</td>      <th>  BIC:               </th> <td>   1204.</td>\n",
       "</tr>\n",
       "<tr>\n",
       "  <th>Df Model:</th>              <td>     3</td>      <th>                     </th>     <td> </td>   \n",
       "</tr>\n",
       "<tr>\n",
       "  <th>Covariance Type:</th>      <td>nonrobust</td>    <th>                     </th>     <td> </td>   \n",
       "</tr>\n",
       "</table>\n",
       "<table class=\"simpletable\">\n",
       "<tr>\n",
       "        <td></td>          <th>coef</th>     <th>std err</th>      <th>t</th>      <th>P>|t|</th>  <th>[0.025</th>    <th>0.975]</th>  \n",
       "</tr>\n",
       "<tr>\n",
       "  <th>Intercept</th>    <td>    0.5115</td> <td>    0.422</td> <td>    1.211</td> <td> 0.227</td> <td>   -0.320</td> <td>    1.343</td>\n",
       "</tr>\n",
       "<tr>\n",
       "  <th>address_R</th>    <td>   -0.8709</td> <td>    0.269</td> <td>   -3.237</td> <td> 0.001</td> <td>   -1.400</td> <td>   -0.341</td>\n",
       "</tr>\n",
       "<tr>\n",
       "  <th>romantic_yes</th> <td>   -0.7129</td> <td>    0.245</td> <td>   -2.906</td> <td> 0.004</td> <td>   -1.196</td> <td>   -0.230</td>\n",
       "</tr>\n",
       "<tr>\n",
       "  <th>G1</th>           <td>    0.9679</td> <td>    0.035</td> <td>   27.404</td> <td> 0.000</td> <td>    0.898</td> <td>    1.037</td>\n",
       "</tr>\n",
       "</table>\n",
       "<table class=\"simpletable\">\n",
       "<tr>\n",
       "  <th>Omnibus:</th>       <td>150.193</td> <th>  Durbin-Watson:     </th> <td>   1.193</td> \n",
       "</tr>\n",
       "<tr>\n",
       "  <th>Prob(Omnibus):</th> <td> 0.000</td>  <th>  Jarque-Bera (JB):  </th> <td>1073.152</td> \n",
       "</tr>\n",
       "<tr>\n",
       "  <th>Skew:</th>          <td>-2.051</td>  <th>  Prob(JB):          </th> <td>9.29e-234</td>\n",
       "</tr>\n",
       "<tr>\n",
       "  <th>Kurtosis:</th>      <td>11.595</td>  <th>  Cond. No.          </th> <td>    43.0</td> \n",
       "</tr>\n",
       "</table><br/><br/>Warnings:<br/>[1] Standard Errors assume that the covariance matrix of the errors is correctly specified."
      ],
      "text/plain": [
       "<class 'statsmodels.iolib.summary.Summary'>\n",
       "\"\"\"\n",
       "                            OLS Regression Results                            \n",
       "==============================================================================\n",
       "Dep. Variable:                     G2   R-squared:                       0.738\n",
       "Model:                            OLS   Adj. R-squared:                  0.735\n",
       "Method:                 Least Squares   F-statistic:                     262.9\n",
       "Date:                Mon, 07 Dec 2020   Prob (F-statistic):           4.22e-81\n",
       "Time:                        15:53:48   Log-Likelihood:                -590.62\n",
       "No. Observations:                 284   AIC:                             1189.\n",
       "Df Residuals:                     280   BIC:                             1204.\n",
       "Df Model:                           3                                         \n",
       "Covariance Type:            nonrobust                                         \n",
       "================================================================================\n",
       "                   coef    std err          t      P>|t|      [0.025      0.975]\n",
       "--------------------------------------------------------------------------------\n",
       "Intercept        0.5115      0.422      1.211      0.227      -0.320       1.343\n",
       "address_R       -0.8709      0.269     -3.237      0.001      -1.400      -0.341\n",
       "romantic_yes    -0.7129      0.245     -2.906      0.004      -1.196      -0.230\n",
       "G1               0.9679      0.035     27.404      0.000       0.898       1.037\n",
       "==============================================================================\n",
       "Omnibus:                      150.193   Durbin-Watson:                   1.193\n",
       "Prob(Omnibus):                  0.000   Jarque-Bera (JB):             1073.152\n",
       "Skew:                          -2.051   Prob(JB):                    9.29e-234\n",
       "Kurtosis:                      11.595   Cond. No.                         43.0\n",
       "==============================================================================\n",
       "\n",
       "Warnings:\n",
       "[1] Standard Errors assume that the covariance matrix of the errors is correctly specified.\n",
       "\"\"\""
      ]
     },
     "execution_count": 218,
     "metadata": {},
     "output_type": "execute_result"
    }
   ],
   "source": [
    "modelo_desc_g2_refact = snf.ols('G2 ~' + x_g2_r, df_recod).fit()\n",
    "modelo_desc_g2_refact.summary()"
   ]
  },
  {
   "cell_type": "code",
   "execution_count": 219,
   "metadata": {},
   "outputs": [
    {
     "name": "stdout",
     "output_type": "stream",
     "text": [
      " las variables que son estadisticamente significativas con un 95% de confianza para el modelo OLS del vector G2 son: ['address_R', 'romantic_yes', 'G1']\n"
     ]
    }
   ],
   "source": [
    "sig_g2_r, no_sig_g2_r, pval_g2_r =  fs.evalua_95_confianza(modelo_desc_g2_refact)\n",
    "print(f' las variables que son estadisticamente significativas con un 95% de confianza para el modelo OLS del vector G2 son: {sig_g2_r}')"
   ]
  },
  {
   "cell_type": "markdown",
   "metadata": {},
   "source": [
    "Comentarios: Se observa que el R2 disminuyó un poco respecto al primer modelo realizado, sin embargo,  el modelo depurado  para G2 describe bien al vector objetivo con tres variables: address, romantic y G1.\n",
    "\n",
    "El promedio de notas del segundo semestre tiene una fuerte relación con el promedio de notas del primer semestre. La ubicación de la casa y si el alumno está en una relación romántica afectan negativamente en el promedio de notas G2"
   ]
  },
  {
   "cell_type": "markdown",
   "metadata": {},
   "source": [
    "**Modelación para G3**"
   ]
  },
  {
   "cell_type": "code",
   "execution_count": 220,
   "metadata": {},
   "outputs": [
    {
     "name": "stdout",
     "output_type": "stream",
     "text": [
      "['school_MS', 'sex_M', 'address_R', 'famsize_LE3', 'Pstatus_A', 'schoolsup_yes', 'famsup_no', 'paid_yes', 'activities_no', 'nursery_no', 'higher_no', 'internet_no', 'romantic_yes', 'Medu_basica_1', 'Medu_basica_2', 'Medu_media', 'Medu_superior', 'Fedu_basica_1', 'Fedu_basica_2', 'Fedu_media', 'Fedu_superior', 'Mjob_at_home', 'Mjob_other', 'Mjob_services', 'Mjob_teacher', 'Fjob_health', 'Fjob_other', 'Fjob_services', 'Fjob_teacher', 'reason_course', 'reason_home', 'reason_reputation', 'guardian_father', 'guardian_mother', 'traveltime_15a30', 'traveltime_30a60', 'traveltime_menor15', 'studytime_2a5', 'studytime_5a10', 'studytime_menor2', 'famrel', 'freetime', 'goout', 'Dalc', 'Walc', 'health', 'failures', 'age', 'absences', 'G1', 'G2']\n"
     ]
    }
   ],
   "source": [
    "x_g3 = list(filter(lambda i: i !='G3', set_var))\n",
    "print(x_g3)"
   ]
  },
  {
   "cell_type": "code",
   "execution_count": 221,
   "metadata": {},
   "outputs": [],
   "source": [
    "x_g3 = ' + '.join(x_g3)"
   ]
  },
  {
   "cell_type": "code",
   "execution_count": 222,
   "metadata": {
    "scrolled": false
   },
   "outputs": [
    {
     "data": {
      "text/html": [
       "<table class=\"simpletable\">\n",
       "<caption>OLS Regression Results</caption>\n",
       "<tr>\n",
       "  <th>Dep. Variable:</th>           <td>G3</td>        <th>  R-squared:         </th> <td>   0.862</td>\n",
       "</tr>\n",
       "<tr>\n",
       "  <th>Model:</th>                   <td>OLS</td>       <th>  Adj. R-squared:    </th> <td>   0.831</td>\n",
       "</tr>\n",
       "<tr>\n",
       "  <th>Method:</th>             <td>Least Squares</td>  <th>  F-statistic:       </th> <td>   28.30</td>\n",
       "</tr>\n",
       "<tr>\n",
       "  <th>Date:</th>             <td>Mon, 07 Dec 2020</td> <th>  Prob (F-statistic):</th> <td>1.03e-74</td>\n",
       "</tr>\n",
       "<tr>\n",
       "  <th>Time:</th>                 <td>15:54:03</td>     <th>  Log-Likelihood:    </th> <td> -553.03</td>\n",
       "</tr>\n",
       "<tr>\n",
       "  <th>No. Observations:</th>      <td>   284</td>      <th>  AIC:               </th> <td>   1210.</td>\n",
       "</tr>\n",
       "<tr>\n",
       "  <th>Df Residuals:</th>          <td>   232</td>      <th>  BIC:               </th> <td>   1400.</td>\n",
       "</tr>\n",
       "<tr>\n",
       "  <th>Df Model:</th>              <td>    51</td>      <th>                     </th>     <td> </td>   \n",
       "</tr>\n",
       "<tr>\n",
       "  <th>Covariance Type:</th>      <td>nonrobust</td>    <th>                     </th>     <td> </td>   \n",
       "</tr>\n",
       "</table>\n",
       "<table class=\"simpletable\">\n",
       "<tr>\n",
       "           <td></td>             <th>coef</th>     <th>std err</th>      <th>t</th>      <th>P>|t|</th>  <th>[0.025</th>    <th>0.975]</th>  \n",
       "</tr>\n",
       "<tr>\n",
       "  <th>Intercept</th>          <td>   -0.4652</td> <td>    3.936</td> <td>   -0.118</td> <td> 0.906</td> <td>   -8.220</td> <td>    7.290</td>\n",
       "</tr>\n",
       "<tr>\n",
       "  <th>school_MS</th>          <td>    0.8028</td> <td>    0.442</td> <td>    1.818</td> <td> 0.070</td> <td>   -0.067</td> <td>    1.673</td>\n",
       "</tr>\n",
       "<tr>\n",
       "  <th>sex_M</th>              <td>    0.1084</td> <td>    0.289</td> <td>    0.375</td> <td> 0.708</td> <td>   -0.461</td> <td>    0.678</td>\n",
       "</tr>\n",
       "<tr>\n",
       "  <th>address_R</th>          <td>   -0.1299</td> <td>    0.327</td> <td>   -0.397</td> <td> 0.691</td> <td>   -0.774</td> <td>    0.514</td>\n",
       "</tr>\n",
       "<tr>\n",
       "  <th>famsize_LE3</th>        <td>   -0.0488</td> <td>    0.293</td> <td>   -0.167</td> <td> 0.868</td> <td>   -0.626</td> <td>    0.529</td>\n",
       "</tr>\n",
       "<tr>\n",
       "  <th>Pstatus_A</th>          <td>    0.5375</td> <td>    0.428</td> <td>    1.256</td> <td> 0.210</td> <td>   -0.306</td> <td>    1.381</td>\n",
       "</tr>\n",
       "<tr>\n",
       "  <th>schoolsup_yes</th>      <td>    0.1781</td> <td>    0.381</td> <td>    0.468</td> <td> 0.641</td> <td>   -0.573</td> <td>    0.929</td>\n",
       "</tr>\n",
       "<tr>\n",
       "  <th>famsup_no</th>          <td>   -0.2510</td> <td>    0.274</td> <td>   -0.917</td> <td> 0.360</td> <td>   -0.790</td> <td>    0.288</td>\n",
       "</tr>\n",
       "<tr>\n",
       "  <th>paid_yes</th>           <td>    0.1571</td> <td>    0.270</td> <td>    0.581</td> <td> 0.562</td> <td>   -0.375</td> <td>    0.689</td>\n",
       "</tr>\n",
       "<tr>\n",
       "  <th>activities_no</th>      <td>    0.3815</td> <td>    0.246</td> <td>    1.552</td> <td> 0.122</td> <td>   -0.103</td> <td>    0.866</td>\n",
       "</tr>\n",
       "<tr>\n",
       "  <th>nursery_no</th>         <td>    0.0423</td> <td>    0.300</td> <td>    0.141</td> <td> 0.888</td> <td>   -0.548</td> <td>    0.633</td>\n",
       "</tr>\n",
       "<tr>\n",
       "  <th>higher_no</th>          <td>   -0.3696</td> <td>    0.572</td> <td>   -0.646</td> <td> 0.519</td> <td>   -1.497</td> <td>    0.758</td>\n",
       "</tr>\n",
       "<tr>\n",
       "  <th>internet_no</th>        <td>    0.1172</td> <td>    0.334</td> <td>    0.351</td> <td> 0.726</td> <td>   -0.540</td> <td>    0.774</td>\n",
       "</tr>\n",
       "<tr>\n",
       "  <th>romantic_yes</th>       <td>   -0.3980</td> <td>    0.276</td> <td>   -1.442</td> <td> 0.151</td> <td>   -0.942</td> <td>    0.146</td>\n",
       "</tr>\n",
       "<tr>\n",
       "  <th>Medu_basica_1</th>      <td>    0.9072</td> <td>    2.056</td> <td>    0.441</td> <td> 0.659</td> <td>   -3.143</td> <td>    4.958</td>\n",
       "</tr>\n",
       "<tr>\n",
       "  <th>Medu_basica_2</th>      <td>    0.7057</td> <td>    2.022</td> <td>    0.349</td> <td> 0.727</td> <td>   -3.279</td> <td>    4.690</td>\n",
       "</tr>\n",
       "<tr>\n",
       "  <th>Medu_media</th>         <td>    1.3015</td> <td>    2.035</td> <td>    0.639</td> <td> 0.523</td> <td>   -2.709</td> <td>    5.312</td>\n",
       "</tr>\n",
       "<tr>\n",
       "  <th>Medu_superior</th>      <td>    1.2575</td> <td>    2.052</td> <td>    0.613</td> <td> 0.541</td> <td>   -2.786</td> <td>    5.301</td>\n",
       "</tr>\n",
       "<tr>\n",
       "  <th>Fedu_basica_1</th>      <td>   -0.8757</td> <td>    2.017</td> <td>   -0.434</td> <td> 0.665</td> <td>   -4.850</td> <td>    3.099</td>\n",
       "</tr>\n",
       "<tr>\n",
       "  <th>Fedu_basica_2</th>      <td>   -1.7608</td> <td>    2.042</td> <td>   -0.862</td> <td> 0.389</td> <td>   -5.783</td> <td>    2.262</td>\n",
       "</tr>\n",
       "<tr>\n",
       "  <th>Fedu_media</th>         <td>   -1.2651</td> <td>    2.039</td> <td>   -0.620</td> <td> 0.536</td> <td>   -5.282</td> <td>    2.752</td>\n",
       "</tr>\n",
       "<tr>\n",
       "  <th>Fedu_superior</th>      <td>   -1.8841</td> <td>    2.069</td> <td>   -0.911</td> <td> 0.363</td> <td>   -5.961</td> <td>    2.193</td>\n",
       "</tr>\n",
       "<tr>\n",
       "  <th>Mjob_at_home</th>       <td>   -0.0207</td> <td>    0.618</td> <td>   -0.033</td> <td> 0.973</td> <td>   -1.239</td> <td>    1.198</td>\n",
       "</tr>\n",
       "<tr>\n",
       "  <th>Mjob_other</th>         <td>    0.3953</td> <td>    0.534</td> <td>    0.741</td> <td> 0.460</td> <td>   -0.656</td> <td>    1.446</td>\n",
       "</tr>\n",
       "<tr>\n",
       "  <th>Mjob_services</th>      <td>    0.1410</td> <td>    0.502</td> <td>    0.281</td> <td> 0.779</td> <td>   -0.848</td> <td>    1.130</td>\n",
       "</tr>\n",
       "<tr>\n",
       "  <th>Mjob_teacher</th>       <td>   -0.0185</td> <td>    0.527</td> <td>   -0.035</td> <td> 0.972</td> <td>   -1.057</td> <td>    1.020</td>\n",
       "</tr>\n",
       "<tr>\n",
       "  <th>Fjob_health</th>        <td>   -0.1677</td> <td>    0.856</td> <td>   -0.196</td> <td> 0.845</td> <td>   -1.854</td> <td>    1.518</td>\n",
       "</tr>\n",
       "<tr>\n",
       "  <th>Fjob_other</th>         <td>   -0.4850</td> <td>    0.653</td> <td>   -0.743</td> <td> 0.458</td> <td>   -1.771</td> <td>    0.801</td>\n",
       "</tr>\n",
       "<tr>\n",
       "  <th>Fjob_services</th>      <td>   -0.5808</td> <td>    0.656</td> <td>   -0.885</td> <td> 0.377</td> <td>   -1.874</td> <td>    0.712</td>\n",
       "</tr>\n",
       "<tr>\n",
       "  <th>Fjob_teacher</th>       <td>   -0.3951</td> <td>    0.797</td> <td>   -0.496</td> <td> 0.621</td> <td>   -1.966</td> <td>    1.176</td>\n",
       "</tr>\n",
       "<tr>\n",
       "  <th>reason_course</th>      <td>   -0.3826</td> <td>    0.453</td> <td>   -0.845</td> <td> 0.399</td> <td>   -1.275</td> <td>    0.510</td>\n",
       "</tr>\n",
       "<tr>\n",
       "  <th>reason_home</th>        <td>   -0.5859</td> <td>    0.475</td> <td>   -1.234</td> <td> 0.218</td> <td>   -1.521</td> <td>    0.349</td>\n",
       "</tr>\n",
       "<tr>\n",
       "  <th>reason_reputation</th>  <td>   -0.0377</td> <td>    0.475</td> <td>   -0.079</td> <td> 0.937</td> <td>   -0.973</td> <td>    0.897</td>\n",
       "</tr>\n",
       "<tr>\n",
       "  <th>guardian_father</th>    <td>    0.3951</td> <td>    0.560</td> <td>    0.706</td> <td> 0.481</td> <td>   -0.708</td> <td>    1.498</td>\n",
       "</tr>\n",
       "<tr>\n",
       "  <th>guardian_mother</th>    <td>    0.6307</td> <td>    0.514</td> <td>    1.228</td> <td> 0.221</td> <td>   -0.381</td> <td>    1.643</td>\n",
       "</tr>\n",
       "<tr>\n",
       "  <th>traveltime_15a30</th>   <td>   -1.4814</td> <td>    0.959</td> <td>   -1.544</td> <td> 0.124</td> <td>   -3.372</td> <td>    0.409</td>\n",
       "</tr>\n",
       "<tr>\n",
       "  <th>traveltime_30a60</th>   <td>   -1.2248</td> <td>    1.035</td> <td>   -1.184</td> <td> 0.238</td> <td>   -3.264</td> <td>    0.814</td>\n",
       "</tr>\n",
       "<tr>\n",
       "  <th>traveltime_menor15</th> <td>   -1.2490</td> <td>    0.951</td> <td>   -1.313</td> <td> 0.191</td> <td>   -3.123</td> <td>    0.625</td>\n",
       "</tr>\n",
       "<tr>\n",
       "  <th>studytime_2a5</th>      <td>    0.5787</td> <td>    0.513</td> <td>    1.128</td> <td> 0.261</td> <td>   -0.432</td> <td>    1.590</td>\n",
       "</tr>\n",
       "<tr>\n",
       "  <th>studytime_5a10</th>     <td>    0.9179</td> <td>    0.556</td> <td>    1.650</td> <td> 0.100</td> <td>   -0.178</td> <td>    2.014</td>\n",
       "</tr>\n",
       "<tr>\n",
       "  <th>studytime_menor2</th>   <td>    0.8347</td> <td>    0.564</td> <td>    1.481</td> <td> 0.140</td> <td>   -0.276</td> <td>    1.945</td>\n",
       "</tr>\n",
       "<tr>\n",
       "  <th>famrel</th>             <td>    0.3510</td> <td>    0.142</td> <td>    2.474</td> <td> 0.014</td> <td>    0.071</td> <td>    0.631</td>\n",
       "</tr>\n",
       "<tr>\n",
       "  <th>freetime</th>           <td>    0.0899</td> <td>    0.128</td> <td>    0.702</td> <td> 0.483</td> <td>   -0.162</td> <td>    0.342</td>\n",
       "</tr>\n",
       "<tr>\n",
       "  <th>goout</th>              <td>   -0.1421</td> <td>    0.136</td> <td>   -1.042</td> <td> 0.298</td> <td>   -0.411</td> <td>    0.127</td>\n",
       "</tr>\n",
       "<tr>\n",
       "  <th>Dalc</th>               <td>   -0.3518</td> <td>    0.190</td> <td>   -1.852</td> <td> 0.065</td> <td>   -0.726</td> <td>    0.022</td>\n",
       "</tr>\n",
       "<tr>\n",
       "  <th>Walc</th>               <td>    0.3190</td> <td>    0.140</td> <td>    2.280</td> <td> 0.023</td> <td>    0.043</td> <td>    0.595</td>\n",
       "</tr>\n",
       "<tr>\n",
       "  <th>health</th>             <td>    0.0268</td> <td>    0.095</td> <td>    0.281</td> <td> 0.779</td> <td>   -0.161</td> <td>    0.215</td>\n",
       "</tr>\n",
       "<tr>\n",
       "  <th>failures</th>           <td>   -0.2432</td> <td>    0.191</td> <td>   -1.275</td> <td> 0.204</td> <td>   -0.619</td> <td>    0.133</td>\n",
       "</tr>\n",
       "<tr>\n",
       "  <th>age</th>                <td>   -0.1221</td> <td>    0.121</td> <td>   -1.013</td> <td> 0.312</td> <td>   -0.360</td> <td>    0.115</td>\n",
       "</tr>\n",
       "<tr>\n",
       "  <th>absences</th>           <td>    0.0439</td> <td>    0.016</td> <td>    2.750</td> <td> 0.006</td> <td>    0.012</td> <td>    0.075</td>\n",
       "</tr>\n",
       "<tr>\n",
       "  <th>G1</th>                 <td>    0.2164</td> <td>    0.074</td> <td>    2.925</td> <td> 0.004</td> <td>    0.071</td> <td>    0.362</td>\n",
       "</tr>\n",
       "<tr>\n",
       "  <th>G2</th>                 <td>    0.9137</td> <td>    0.063</td> <td>   14.558</td> <td> 0.000</td> <td>    0.790</td> <td>    1.037</td>\n",
       "</tr>\n",
       "</table>\n",
       "<table class=\"simpletable\">\n",
       "<tr>\n",
       "  <th>Omnibus:</th>       <td>113.508</td> <th>  Durbin-Watson:     </th> <td>   1.967</td> \n",
       "</tr>\n",
       "<tr>\n",
       "  <th>Prob(Omnibus):</th> <td> 0.000</td>  <th>  Jarque-Bera (JB):  </th> <td> 464.853</td> \n",
       "</tr>\n",
       "<tr>\n",
       "  <th>Skew:</th>          <td>-1.660</td>  <th>  Prob(JB):          </th> <td>1.14e-101</td>\n",
       "</tr>\n",
       "<tr>\n",
       "  <th>Kurtosis:</th>      <td> 8.316</td>  <th>  Cond. No.          </th> <td>1.18e+03</td> \n",
       "</tr>\n",
       "</table><br/><br/>Warnings:<br/>[1] Standard Errors assume that the covariance matrix of the errors is correctly specified.<br/>[2] The condition number is large, 1.18e+03. This might indicate that there are<br/>strong multicollinearity or other numerical problems."
      ],
      "text/plain": [
       "<class 'statsmodels.iolib.summary.Summary'>\n",
       "\"\"\"\n",
       "                            OLS Regression Results                            \n",
       "==============================================================================\n",
       "Dep. Variable:                     G3   R-squared:                       0.862\n",
       "Model:                            OLS   Adj. R-squared:                  0.831\n",
       "Method:                 Least Squares   F-statistic:                     28.30\n",
       "Date:                Mon, 07 Dec 2020   Prob (F-statistic):           1.03e-74\n",
       "Time:                        15:54:03   Log-Likelihood:                -553.03\n",
       "No. Observations:                 284   AIC:                             1210.\n",
       "Df Residuals:                     232   BIC:                             1400.\n",
       "Df Model:                          51                                         \n",
       "Covariance Type:            nonrobust                                         \n",
       "======================================================================================\n",
       "                         coef    std err          t      P>|t|      [0.025      0.975]\n",
       "--------------------------------------------------------------------------------------\n",
       "Intercept             -0.4652      3.936     -0.118      0.906      -8.220       7.290\n",
       "school_MS              0.8028      0.442      1.818      0.070      -0.067       1.673\n",
       "sex_M                  0.1084      0.289      0.375      0.708      -0.461       0.678\n",
       "address_R             -0.1299      0.327     -0.397      0.691      -0.774       0.514\n",
       "famsize_LE3           -0.0488      0.293     -0.167      0.868      -0.626       0.529\n",
       "Pstatus_A              0.5375      0.428      1.256      0.210      -0.306       1.381\n",
       "schoolsup_yes          0.1781      0.381      0.468      0.641      -0.573       0.929\n",
       "famsup_no             -0.2510      0.274     -0.917      0.360      -0.790       0.288\n",
       "paid_yes               0.1571      0.270      0.581      0.562      -0.375       0.689\n",
       "activities_no          0.3815      0.246      1.552      0.122      -0.103       0.866\n",
       "nursery_no             0.0423      0.300      0.141      0.888      -0.548       0.633\n",
       "higher_no             -0.3696      0.572     -0.646      0.519      -1.497       0.758\n",
       "internet_no            0.1172      0.334      0.351      0.726      -0.540       0.774\n",
       "romantic_yes          -0.3980      0.276     -1.442      0.151      -0.942       0.146\n",
       "Medu_basica_1          0.9072      2.056      0.441      0.659      -3.143       4.958\n",
       "Medu_basica_2          0.7057      2.022      0.349      0.727      -3.279       4.690\n",
       "Medu_media             1.3015      2.035      0.639      0.523      -2.709       5.312\n",
       "Medu_superior          1.2575      2.052      0.613      0.541      -2.786       5.301\n",
       "Fedu_basica_1         -0.8757      2.017     -0.434      0.665      -4.850       3.099\n",
       "Fedu_basica_2         -1.7608      2.042     -0.862      0.389      -5.783       2.262\n",
       "Fedu_media            -1.2651      2.039     -0.620      0.536      -5.282       2.752\n",
       "Fedu_superior         -1.8841      2.069     -0.911      0.363      -5.961       2.193\n",
       "Mjob_at_home          -0.0207      0.618     -0.033      0.973      -1.239       1.198\n",
       "Mjob_other             0.3953      0.534      0.741      0.460      -0.656       1.446\n",
       "Mjob_services          0.1410      0.502      0.281      0.779      -0.848       1.130\n",
       "Mjob_teacher          -0.0185      0.527     -0.035      0.972      -1.057       1.020\n",
       "Fjob_health           -0.1677      0.856     -0.196      0.845      -1.854       1.518\n",
       "Fjob_other            -0.4850      0.653     -0.743      0.458      -1.771       0.801\n",
       "Fjob_services         -0.5808      0.656     -0.885      0.377      -1.874       0.712\n",
       "Fjob_teacher          -0.3951      0.797     -0.496      0.621      -1.966       1.176\n",
       "reason_course         -0.3826      0.453     -0.845      0.399      -1.275       0.510\n",
       "reason_home           -0.5859      0.475     -1.234      0.218      -1.521       0.349\n",
       "reason_reputation     -0.0377      0.475     -0.079      0.937      -0.973       0.897\n",
       "guardian_father        0.3951      0.560      0.706      0.481      -0.708       1.498\n",
       "guardian_mother        0.6307      0.514      1.228      0.221      -0.381       1.643\n",
       "traveltime_15a30      -1.4814      0.959     -1.544      0.124      -3.372       0.409\n",
       "traveltime_30a60      -1.2248      1.035     -1.184      0.238      -3.264       0.814\n",
       "traveltime_menor15    -1.2490      0.951     -1.313      0.191      -3.123       0.625\n",
       "studytime_2a5          0.5787      0.513      1.128      0.261      -0.432       1.590\n",
       "studytime_5a10         0.9179      0.556      1.650      0.100      -0.178       2.014\n",
       "studytime_menor2       0.8347      0.564      1.481      0.140      -0.276       1.945\n",
       "famrel                 0.3510      0.142      2.474      0.014       0.071       0.631\n",
       "freetime               0.0899      0.128      0.702      0.483      -0.162       0.342\n",
       "goout                 -0.1421      0.136     -1.042      0.298      -0.411       0.127\n",
       "Dalc                  -0.3518      0.190     -1.852      0.065      -0.726       0.022\n",
       "Walc                   0.3190      0.140      2.280      0.023       0.043       0.595\n",
       "health                 0.0268      0.095      0.281      0.779      -0.161       0.215\n",
       "failures              -0.2432      0.191     -1.275      0.204      -0.619       0.133\n",
       "age                   -0.1221      0.121     -1.013      0.312      -0.360       0.115\n",
       "absences               0.0439      0.016      2.750      0.006       0.012       0.075\n",
       "G1                     0.2164      0.074      2.925      0.004       0.071       0.362\n",
       "G2                     0.9137      0.063     14.558      0.000       0.790       1.037\n",
       "==============================================================================\n",
       "Omnibus:                      113.508   Durbin-Watson:                   1.967\n",
       "Prob(Omnibus):                  0.000   Jarque-Bera (JB):              464.853\n",
       "Skew:                          -1.660   Prob(JB):                    1.14e-101\n",
       "Kurtosis:                       8.316   Cond. No.                     1.18e+03\n",
       "==============================================================================\n",
       "\n",
       "Warnings:\n",
       "[1] Standard Errors assume that the covariance matrix of the errors is correctly specified.\n",
       "[2] The condition number is large, 1.18e+03. This might indicate that there are\n",
       "strong multicollinearity or other numerical problems.\n",
       "\"\"\""
      ]
     },
     "execution_count": 222,
     "metadata": {},
     "output_type": "execute_result"
    }
   ],
   "source": [
    "modelo_desc_g3 = snf.ols('G3 ~' + x_g3, df_recod).fit()\n",
    "modelo_desc_g3.summary()"
   ]
  },
  {
   "cell_type": "code",
   "execution_count": 223,
   "metadata": {},
   "outputs": [
    {
     "name": "stdout",
     "output_type": "stream",
     "text": [
      " las variables que son estadisticamente significativas con un 95% de confianza para el modelo OLS del vector G3 son: ['famrel', 'Walc', 'absences', 'G1', 'G2']\n"
     ]
    }
   ],
   "source": [
    "sig_g3, no_sig_g3, pval_g3 =  fs.evalua_95_confianza(modelo_desc_g3)\n",
    "print(f' las variables que son estadisticamente significativas con un 95% de confianza para el modelo OLS del vector G3 son: {sig_g3}')"
   ]
  },
  {
   "cell_type": "markdown",
   "metadata": {},
   "source": [
    "Comentarios: Se observa que el modelo descriptivo para G3 se describe bien con las variables en estudio. Sin embargo sólo 5 variables explican el modelo con un 95% de significancia "
   ]
  },
  {
   "cell_type": "markdown",
   "metadata": {},
   "source": [
    "**Depuración del modelo G3**"
   ]
  },
  {
   "cell_type": "code",
   "execution_count": 224,
   "metadata": {},
   "outputs": [
    {
     "data": {
      "text/plain": [
       "['famrel', 'Walc', 'absences', 'G1', 'G2']"
      ]
     },
     "execution_count": 224,
     "metadata": {},
     "output_type": "execute_result"
    }
   ],
   "source": [
    "x_g3_r = sig_g3\n",
    "x_g3_r"
   ]
  },
  {
   "cell_type": "code",
   "execution_count": 225,
   "metadata": {},
   "outputs": [],
   "source": [
    "x_g3_r = ' + '.join(x_g3_r)"
   ]
  },
  {
   "cell_type": "code",
   "execution_count": 226,
   "metadata": {},
   "outputs": [
    {
     "data": {
      "text/html": [
       "<table class=\"simpletable\">\n",
       "<caption>OLS Regression Results</caption>\n",
       "<tr>\n",
       "  <th>Dep. Variable:</th>           <td>G3</td>        <th>  R-squared:         </th> <td>   0.832</td> \n",
       "</tr>\n",
       "<tr>\n",
       "  <th>Model:</th>                   <td>OLS</td>       <th>  Adj. R-squared:    </th> <td>   0.829</td> \n",
       "</tr>\n",
       "<tr>\n",
       "  <th>Method:</th>             <td>Least Squares</td>  <th>  F-statistic:       </th> <td>   274.6</td> \n",
       "</tr>\n",
       "<tr>\n",
       "  <th>Date:</th>             <td>Mon, 07 Dec 2020</td> <th>  Prob (F-statistic):</th> <td>2.74e-105</td>\n",
       "</tr>\n",
       "<tr>\n",
       "  <th>Time:</th>                 <td>15:54:21</td>     <th>  Log-Likelihood:    </th> <td> -580.80</td> \n",
       "</tr>\n",
       "<tr>\n",
       "  <th>No. Observations:</th>      <td>   284</td>      <th>  AIC:               </th> <td>   1174.</td> \n",
       "</tr>\n",
       "<tr>\n",
       "  <th>Df Residuals:</th>          <td>   278</td>      <th>  BIC:               </th> <td>   1195.</td> \n",
       "</tr>\n",
       "<tr>\n",
       "  <th>Df Model:</th>              <td>     5</td>      <th>                     </th>     <td> </td>    \n",
       "</tr>\n",
       "<tr>\n",
       "  <th>Covariance Type:</th>      <td>nonrobust</td>    <th>                     </th>     <td> </td>    \n",
       "</tr>\n",
       "</table>\n",
       "<table class=\"simpletable\">\n",
       "<tr>\n",
       "      <td></td>         <th>coef</th>     <th>std err</th>      <th>t</th>      <th>P>|t|</th>  <th>[0.025</th>    <th>0.975]</th>  \n",
       "</tr>\n",
       "<tr>\n",
       "  <th>Intercept</th> <td>   -3.9531</td> <td>    0.697</td> <td>   -5.670</td> <td> 0.000</td> <td>   -5.326</td> <td>   -2.581</td>\n",
       "</tr>\n",
       "<tr>\n",
       "  <th>famrel</th>    <td>    0.3926</td> <td>    0.128</td> <td>    3.056</td> <td> 0.002</td> <td>    0.140</td> <td>    0.646</td>\n",
       "</tr>\n",
       "<tr>\n",
       "  <th>Walc</th>      <td>    0.1606</td> <td>    0.089</td> <td>    1.797</td> <td> 0.073</td> <td>   -0.015</td> <td>    0.337</td>\n",
       "</tr>\n",
       "<tr>\n",
       "  <th>absences</th>  <td>    0.0351</td> <td>    0.014</td> <td>    2.521</td> <td> 0.012</td> <td>    0.008</td> <td>    0.063</td>\n",
       "</tr>\n",
       "<tr>\n",
       "  <th>G1</th>        <td>    0.1849</td> <td>    0.065</td> <td>    2.842</td> <td> 0.005</td> <td>    0.057</td> <td>    0.313</td>\n",
       "</tr>\n",
       "<tr>\n",
       "  <th>G2</th>        <td>    0.9608</td> <td>    0.056</td> <td>   17.087</td> <td> 0.000</td> <td>    0.850</td> <td>    1.071</td>\n",
       "</tr>\n",
       "</table>\n",
       "<table class=\"simpletable\">\n",
       "<tr>\n",
       "  <th>Omnibus:</th>       <td>176.342</td> <th>  Durbin-Watson:     </th> <td>   1.800</td> \n",
       "</tr>\n",
       "<tr>\n",
       "  <th>Prob(Omnibus):</th> <td> 0.000</td>  <th>  Jarque-Bera (JB):  </th> <td>1217.142</td> \n",
       "</tr>\n",
       "<tr>\n",
       "  <th>Skew:</th>          <td>-2.558</td>  <th>  Prob(JB):          </th> <td>5.02e-265</td>\n",
       "</tr>\n",
       "<tr>\n",
       "  <th>Kurtosis:</th>      <td>11.757</td>  <th>  Cond. No.          </th> <td>    111.</td> \n",
       "</tr>\n",
       "</table><br/><br/>Warnings:<br/>[1] Standard Errors assume that the covariance matrix of the errors is correctly specified."
      ],
      "text/plain": [
       "<class 'statsmodels.iolib.summary.Summary'>\n",
       "\"\"\"\n",
       "                            OLS Regression Results                            \n",
       "==============================================================================\n",
       "Dep. Variable:                     G3   R-squared:                       0.832\n",
       "Model:                            OLS   Adj. R-squared:                  0.829\n",
       "Method:                 Least Squares   F-statistic:                     274.6\n",
       "Date:                Mon, 07 Dec 2020   Prob (F-statistic):          2.74e-105\n",
       "Time:                        15:54:21   Log-Likelihood:                -580.80\n",
       "No. Observations:                 284   AIC:                             1174.\n",
       "Df Residuals:                     278   BIC:                             1195.\n",
       "Df Model:                           5                                         \n",
       "Covariance Type:            nonrobust                                         \n",
       "==============================================================================\n",
       "                 coef    std err          t      P>|t|      [0.025      0.975]\n",
       "------------------------------------------------------------------------------\n",
       "Intercept     -3.9531      0.697     -5.670      0.000      -5.326      -2.581\n",
       "famrel         0.3926      0.128      3.056      0.002       0.140       0.646\n",
       "Walc           0.1606      0.089      1.797      0.073      -0.015       0.337\n",
       "absences       0.0351      0.014      2.521      0.012       0.008       0.063\n",
       "G1             0.1849      0.065      2.842      0.005       0.057       0.313\n",
       "G2             0.9608      0.056     17.087      0.000       0.850       1.071\n",
       "==============================================================================\n",
       "Omnibus:                      176.342   Durbin-Watson:                   1.800\n",
       "Prob(Omnibus):                  0.000   Jarque-Bera (JB):             1217.142\n",
       "Skew:                          -2.558   Prob(JB):                    5.02e-265\n",
       "Kurtosis:                      11.757   Cond. No.                         111.\n",
       "==============================================================================\n",
       "\n",
       "Warnings:\n",
       "[1] Standard Errors assume that the covariance matrix of the errors is correctly specified.\n",
       "\"\"\""
      ]
     },
     "execution_count": 226,
     "metadata": {},
     "output_type": "execute_result"
    }
   ],
   "source": [
    "modelo_desc_g3_refact = snf.ols('G3 ~' + x_g3_r, df_recod).fit()\n",
    "modelo_desc_g3_refact.summary()"
   ]
  },
  {
   "cell_type": "markdown",
   "metadata": {},
   "source": [
    "<h3 style=\"color:#004d80\"> Modelación Predictiva </h3>\n",
    "En esta sección se implementará una solución analítica que aumente las métricas de desempeño"
   ]
  },
  {
   "cell_type": "markdown",
   "metadata": {},
   "source": [
    "**Generar subconjunto de entrenamiento y prueba**"
   ]
  },
  {
   "cell_type": "code",
   "execution_count": 227,
   "metadata": {},
   "outputs": [],
   "source": [
    "y_vector = df_recod['G3']\n",
    "x_matriz = df_recod.loc[:,:'G2'].drop(['Medu_ninguna', 'Fedu_ninguna', 'Mjob_health', 'Fjob_at_home', 'reason_other', 'guardian_other', 'traveltime_mayor60','studytime_mayor10'], axis=1)"
   ]
  },
  {
   "cell_type": "code",
   "execution_count": 228,
   "metadata": {},
   "outputs": [],
   "source": [
    "x_train, x_test, y_train, y_test = train_test_split(x_matriz, y_vector, test_size = .33, random_state = 1901 )"
   ]
  },
  {
   "cell_type": "markdown",
   "metadata": {},
   "source": [
    "Generamos un modelo de regresión lineal sin estandarización "
   ]
  },
  {
   "cell_type": "code",
   "execution_count": 229,
   "metadata": {},
   "outputs": [],
   "source": [
    "modelo_g3_v1 = LinearRegression(fit_intercept=True, normalize=True).fit(x_train, y_train)\n",
    "predict_g3_v1 = modelo_g3_v1.predict(x_test)"
   ]
  },
  {
   "cell_type": "code",
   "execution_count": 230,
   "metadata": {},
   "outputs": [
    {
     "name": "stdout",
     "output_type": "stream",
     "text": [
      "MSE:  5.6\n",
      "R2:  0.68\n"
     ]
    }
   ],
   "source": [
    "fs.report_scores(predict_g3_v1, y_test)"
   ]
  },
  {
   "cell_type": "markdown",
   "metadata": {},
   "source": [
    "Se observa que el modelo presenta un bajo error cuadrático medio y un R2 aceptable "
   ]
  },
  {
   "cell_type": "markdown",
   "metadata": {},
   "source": [
    "Estandarizamos los conjuntospara realizar una prueba del modelo estandarizado"
   ]
  },
  {
   "cell_type": "code",
   "execution_count": 231,
   "metadata": {},
   "outputs": [],
   "source": [
    "x_train_std = StandardScaler().fit_transform(x_train)\n",
    "x_test_std = StandardScaler().fit_transform(x_test)"
   ]
  },
  {
   "cell_type": "code",
   "execution_count": 232,
   "metadata": {},
   "outputs": [],
   "source": [
    "modelo_g3_std_v1 = LinearRegression(fit_intercept=True, normalize=True).fit(x_train_std, y_train)\n",
    "predict_g3_std_v1 = modelo_g3_std_v1.predict(x_test_std)"
   ]
  },
  {
   "cell_type": "code",
   "execution_count": 233,
   "metadata": {},
   "outputs": [
    {
     "name": "stdout",
     "output_type": "stream",
     "text": [
      "MSE:  5.8\n",
      "R2:  0.65\n"
     ]
    }
   ],
   "source": [
    "fs.report_scores(predict_g3_std_v1, y_test)"
   ]
  },
  {
   "cell_type": "markdown",
   "metadata": {},
   "source": [
    "Se observa que el modelo con los valores estandarizados presenta valores similares que el modelo sin estandarizar. Esto se puede deber a que las variables estudiadas en el modelo son en su mayoría categóricas"
   ]
  },
  {
   "cell_type": "markdown",
   "metadata": {},
   "source": [
    "Comparamos los valores predichos por ambos modelos:\n",
    "    - model_v1 : Modelo versión 1 sin estandarizar\n",
    "    - model_std_v1: Modelo versión 1 estandarizado"
   ]
  },
  {
   "cell_type": "code",
   "execution_count": 234,
   "metadata": {},
   "outputs": [
    {
     "data": {
      "text/html": [
       "<div>\n",
       "<style scoped>\n",
       "    .dataframe tbody tr th:only-of-type {\n",
       "        vertical-align: middle;\n",
       "    }\n",
       "\n",
       "    .dataframe tbody tr th {\n",
       "        vertical-align: top;\n",
       "    }\n",
       "\n",
       "    .dataframe thead th {\n",
       "        text-align: right;\n",
       "    }\n",
       "</style>\n",
       "<table border=\"1\" class=\"dataframe\">\n",
       "  <thead>\n",
       "    <tr style=\"text-align: right;\">\n",
       "      <th></th>\n",
       "      <th>G3</th>\n",
       "      <th>model_v1</th>\n",
       "      <th>model_std_v1</th>\n",
       "    </tr>\n",
       "  </thead>\n",
       "  <tbody>\n",
       "    <tr>\n",
       "      <th>0</th>\n",
       "      <td>8</td>\n",
       "      <td>4.842979</td>\n",
       "      <td>5.196515</td>\n",
       "    </tr>\n",
       "    <tr>\n",
       "      <th>1</th>\n",
       "      <td>6</td>\n",
       "      <td>2.941202</td>\n",
       "      <td>3.093241</td>\n",
       "    </tr>\n",
       "    <tr>\n",
       "      <th>2</th>\n",
       "      <td>12</td>\n",
       "      <td>9.600289</td>\n",
       "      <td>9.502220</td>\n",
       "    </tr>\n",
       "    <tr>\n",
       "      <th>3</th>\n",
       "      <td>6</td>\n",
       "      <td>4.625404</td>\n",
       "      <td>4.759598</td>\n",
       "    </tr>\n",
       "    <tr>\n",
       "      <th>4</th>\n",
       "      <td>14</td>\n",
       "      <td>14.375003</td>\n",
       "      <td>14.163707</td>\n",
       "    </tr>\n",
       "    <tr>\n",
       "      <th>...</th>\n",
       "      <td>...</td>\n",
       "      <td>...</td>\n",
       "      <td>...</td>\n",
       "    </tr>\n",
       "    <tr>\n",
       "      <th>89</th>\n",
       "      <td>12</td>\n",
       "      <td>11.831823</td>\n",
       "      <td>11.559904</td>\n",
       "    </tr>\n",
       "    <tr>\n",
       "      <th>90</th>\n",
       "      <td>17</td>\n",
       "      <td>16.896789</td>\n",
       "      <td>16.705821</td>\n",
       "    </tr>\n",
       "    <tr>\n",
       "      <th>91</th>\n",
       "      <td>10</td>\n",
       "      <td>8.253031</td>\n",
       "      <td>8.302548</td>\n",
       "    </tr>\n",
       "    <tr>\n",
       "      <th>92</th>\n",
       "      <td>12</td>\n",
       "      <td>11.573987</td>\n",
       "      <td>11.491692</td>\n",
       "    </tr>\n",
       "    <tr>\n",
       "      <th>93</th>\n",
       "      <td>12</td>\n",
       "      <td>8.794822</td>\n",
       "      <td>8.672168</td>\n",
       "    </tr>\n",
       "  </tbody>\n",
       "</table>\n",
       "<p>94 rows × 3 columns</p>\n",
       "</div>"
      ],
      "text/plain": [
       "    G3   model_v1  model_std_v1\n",
       "0    8   4.842979      5.196515\n",
       "1    6   2.941202      3.093241\n",
       "2   12   9.600289      9.502220\n",
       "3    6   4.625404      4.759598\n",
       "4   14  14.375003     14.163707\n",
       "..  ..        ...           ...\n",
       "89  12  11.831823     11.559904\n",
       "90  17  16.896789     16.705821\n",
       "91  10   8.253031      8.302548\n",
       "92  12  11.573987     11.491692\n",
       "93  12   8.794822      8.672168\n",
       "\n",
       "[94 rows x 3 columns]"
      ]
     },
     "execution_count": 234,
     "metadata": {},
     "output_type": "execute_result"
    }
   ],
   "source": [
    "df_predicciones_v1 = pd.DataFrame({'G3' : y_test.values, 'model_v1' : predict_g3_v1 , 'model_std_v1' : predict_g3_std_v1})\n",
    "df_predicciones_v1"
   ]
  },
  {
   "cell_type": "code",
   "execution_count": 235,
   "metadata": {},
   "outputs": [
    {
     "data": {
      "text/plain": [
       "<seaborn.axisgrid.FacetGrid at 0x160c750d130>"
      ]
     },
     "execution_count": 235,
     "metadata": {},
     "output_type": "execute_result"
    },
    {
     "data": {
      "image/png": "[encoded data removed]",
      "text/plain": [
       "<Figure size 360x360 with 1 Axes>"
      ]
     },
     "metadata": {
      "needs_background": "light"
     },
     "output_type": "display_data"
    }
   ],
   "source": [
    "sns.lmplot(x='model_v1' ,y= 'G3', data=df_predicciones_v1)"
   ]
  },
  {
   "cell_type": "code",
   "execution_count": 236,
   "metadata": {},
   "outputs": [
    {
     "data": {
      "text/plain": [
       "<seaborn.axisgrid.FacetGrid at 0x160c58ba0a0>"
      ]
     },
     "execution_count": 236,
     "metadata": {},
     "output_type": "execute_result"
    },
    {
     "data": {
      "image/png": "[encoded data removed]",
      "text/plain": [
       "<Figure size 360x360 with 1 Axes>"
      ]
     },
     "metadata": {
      "needs_background": "light"
     },
     "output_type": "display_data"
    }
   ],
   "source": [
    "sns.lmplot(x='model_std_v1' ,y='G3', data=df_predicciones_v1)"
   ]
  },
  {
   "cell_type": "markdown",
   "metadata": {},
   "source": [
    "Comentario: Se observa que los modelos generados predicen aceptablemente el promedio de notas G3 cuando las notas promedios son superior a 5. Para el grupo de notas igual a cero el modelo no predice correctamente"
   ]
  },
  {
   "cell_type": "markdown",
   "metadata": {},
   "source": [
    "**Estudio de modelo Sin intercepto**\n",
    "\n",
    "Estudiamos modelo sin intercepto y sin estandarizar"
   ]
  },
  {
   "cell_type": "code",
   "execution_count": 237,
   "metadata": {},
   "outputs": [],
   "source": [
    "modelo_g3_v2 = LinearRegression(fit_intercept=False, normalize= False).fit(x_train, y_train)\n",
    "predict_g3_v2 = modelo_g3_v2.predict(x_test)"
   ]
  },
  {
   "cell_type": "code",
   "execution_count": 238,
   "metadata": {},
   "outputs": [
    {
     "name": "stdout",
     "output_type": "stream",
     "text": [
      "MSE:  5.6\n",
      "R2:  0.69\n"
     ]
    }
   ],
   "source": [
    "fs.report_scores(predict_g3_v2, y_test)"
   ]
  },
  {
   "cell_type": "markdown",
   "metadata": {},
   "source": [
    "Comentarios: No se observan gran diferencia entre el error cuadrado medio y del R2 entre el modelo con intercepto y modelo sin intercepto"
   ]
  },
  {
   "cell_type": "markdown",
   "metadata": {},
   "source": [
    "Estandarizamos los conjuntos "
   ]
  },
  {
   "cell_type": "code",
   "execution_count": 239,
   "metadata": {},
   "outputs": [],
   "source": [
    "modelo_g3_std_v2 = LinearRegression(fit_intercept=False, normalize= False).fit(x_train_std, y_train)\n",
    "predict_g3_std_v2 = modelo_g3_std_v2.predict(x_test_std)"
   ]
  },
  {
   "cell_type": "code",
   "execution_count": 240,
   "metadata": {},
   "outputs": [
    {
     "name": "stdout",
     "output_type": "stream",
     "text": [
      "MSE:  1.4090845441020116e+28\n",
      "R2:  0.0\n"
     ]
    }
   ],
   "source": [
    "fs.report_scores(predict_g3_std_v2, y_test)"
   ]
  },
  {
   "cell_type": "markdown",
   "metadata": {},
   "source": [
    "Se observa que el modelo estándarizado sin intercepto y sin normalizar presenta un error cuadratico medio de gran magnitud, este modelo no sirve para predecir el promedio de los alumnos"
   ]
  },
  {
   "cell_type": "code",
   "execution_count": 241,
   "metadata": {},
   "outputs": [
    {
     "data": {
      "text/html": [
       "<div>\n",
       "<style scoped>\n",
       "    .dataframe tbody tr th:only-of-type {\n",
       "        vertical-align: middle;\n",
       "    }\n",
       "\n",
       "    .dataframe tbody tr th {\n",
       "        vertical-align: top;\n",
       "    }\n",
       "\n",
       "    .dataframe thead th {\n",
       "        text-align: right;\n",
       "    }\n",
       "</style>\n",
       "<table border=\"1\" class=\"dataframe\">\n",
       "  <thead>\n",
       "    <tr style=\"text-align: right;\">\n",
       "      <th></th>\n",
       "      <th>G3</th>\n",
       "      <th>model_v2</th>\n",
       "      <th>model_std_v2</th>\n",
       "    </tr>\n",
       "  </thead>\n",
       "  <tbody>\n",
       "    <tr>\n",
       "      <th>0</th>\n",
       "      <td>8</td>\n",
       "      <td>4.842979</td>\n",
       "      <td>8.079446e+12</td>\n",
       "    </tr>\n",
       "    <tr>\n",
       "      <th>1</th>\n",
       "      <td>6</td>\n",
       "      <td>2.941202</td>\n",
       "      <td>4.761701e+13</td>\n",
       "    </tr>\n",
       "    <tr>\n",
       "      <th>2</th>\n",
       "      <td>12</td>\n",
       "      <td>9.600289</td>\n",
       "      <td>4.761701e+13</td>\n",
       "    </tr>\n",
       "    <tr>\n",
       "      <th>3</th>\n",
       "      <td>6</td>\n",
       "      <td>4.625404</td>\n",
       "      <td>-8.466735e+13</td>\n",
       "    </tr>\n",
       "    <tr>\n",
       "      <th>4</th>\n",
       "      <td>14</td>\n",
       "      <td>14.375003</td>\n",
       "      <td>4.761701e+13</td>\n",
       "    </tr>\n",
       "    <tr>\n",
       "      <th>...</th>\n",
       "      <td>...</td>\n",
       "      <td>...</td>\n",
       "      <td>...</td>\n",
       "    </tr>\n",
       "    <tr>\n",
       "      <th>89</th>\n",
       "      <td>12</td>\n",
       "      <td>11.831823</td>\n",
       "      <td>4.761701e+13</td>\n",
       "    </tr>\n",
       "    <tr>\n",
       "      <th>90</th>\n",
       "      <td>17</td>\n",
       "      <td>16.896789</td>\n",
       "      <td>4.761701e+13</td>\n",
       "    </tr>\n",
       "    <tr>\n",
       "      <th>91</th>\n",
       "      <td>10</td>\n",
       "      <td>8.253031</td>\n",
       "      <td>4.761701e+13</td>\n",
       "    </tr>\n",
       "    <tr>\n",
       "      <th>92</th>\n",
       "      <td>12</td>\n",
       "      <td>11.573987</td>\n",
       "      <td>8.079446e+12</td>\n",
       "    </tr>\n",
       "    <tr>\n",
       "      <th>93</th>\n",
       "      <td>12</td>\n",
       "      <td>8.794822</td>\n",
       "      <td>4.761701e+13</td>\n",
       "    </tr>\n",
       "  </tbody>\n",
       "</table>\n",
       "<p>94 rows × 3 columns</p>\n",
       "</div>"
      ],
      "text/plain": [
       "    G3   model_v2  model_std_v2\n",
       "0    8   4.842979  8.079446e+12\n",
       "1    6   2.941202  4.761701e+13\n",
       "2   12   9.600289  4.761701e+13\n",
       "3    6   4.625404 -8.466735e+13\n",
       "4   14  14.375003  4.761701e+13\n",
       "..  ..        ...           ...\n",
       "89  12  11.831823  4.761701e+13\n",
       "90  17  16.896789  4.761701e+13\n",
       "91  10   8.253031  4.761701e+13\n",
       "92  12  11.573987  8.079446e+12\n",
       "93  12   8.794822  4.761701e+13\n",
       "\n",
       "[94 rows x 3 columns]"
      ]
     },
     "execution_count": 241,
     "metadata": {},
     "output_type": "execute_result"
    }
   ],
   "source": [
    "df_predicciones_v2 = pd.DataFrame({'G3' : y_test.values, 'model_v2' : predict_g3_v2 , 'model_std_v2' : predict_g3_std_v2})\n",
    "df_predicciones_v2"
   ]
  },
  {
   "cell_type": "code",
   "execution_count": 242,
   "metadata": {},
   "outputs": [
    {
     "data": {
      "text/plain": [
       "<seaborn.axisgrid.FacetGrid at 0x160c5a00e20>"
      ]
     },
     "execution_count": 242,
     "metadata": {},
     "output_type": "execute_result"
    },
    {
     "data": {
      "image/png": "[encoded data removed]",
      "text/plain": [
       "<Figure size 360x360 with 1 Axes>"
      ]
     },
     "metadata": {
      "needs_background": "light"
     },
     "output_type": "display_data"
    }
   ],
   "source": [
    "sns.lmplot(x='model_v2' ,y='G3', data=df_predicciones_v2)"
   ]
  },
  {
   "cell_type": "code",
   "execution_count": 243,
   "metadata": {},
   "outputs": [
    {
     "data": {
      "text/plain": [
       "<seaborn.axisgrid.FacetGrid at 0x160c5a3db80>"
      ]
     },
     "execution_count": 243,
     "metadata": {},
     "output_type": "execute_result"
    },
    {
     "data": {
      "image/png": "[encoded data removed]",
      "text/plain": [
       "<Figure size 360x360 with 1 Axes>"
      ]
     },
     "metadata": {
      "needs_background": "light"
     },
     "output_type": "display_data"
    }
   ],
   "source": [
    "sns.lmplot(x='model_std_v2' ,y='G3', data=df_predicciones_v2)"
   ]
  },
  {
   "cell_type": "markdown",
   "metadata": {},
   "source": [
    "comentarios: Se observa que los modelos tienen un buen ajuste, a excepción del modelo estandarizado sin intercepción y sin normalización. \n",
    "Por lo que se observa en los gráficos, aquellos alumnos que tienen promedio 0 no se predicen correctamente. Se observa que sobre un promedio aprox de 5 el modelo presenta un desempeño aceptable. "
   ]
  },
  {
   "cell_type": "markdown",
   "metadata": {},
   "source": [
    "<h3 style=\"color:#004d80\"> Dimensionalidad y agrupación </h3>"
   ]
  },
  {
   "cell_type": "markdown",
   "metadata": {},
   "source": [
    "Se inspeccionará la bateria de preguntas asociadas a aspectos ambientales del alumnos y evaluar si se pueden categorizar"
   ]
  },
  {
   "cell_type": "code",
   "execution_count": 244,
   "metadata": {},
   "outputs": [],
   "source": [
    "import factor_analyzer as factor\n",
    "import missingno as msgn"
   ]
  },
  {
   "cell_type": "code",
   "execution_count": 245,
   "metadata": {},
   "outputs": [],
   "source": [
    "set_preguntas = df_recod.loc[:, 'famrel':'health']"
   ]
  },
  {
   "cell_type": "code",
   "execution_count": 246,
   "metadata": {},
   "outputs": [
    {
     "data": {
      "text/plain": [
       "[<matplotlib.lines.Line2D at 0x160c5e49ee0>]"
      ]
     },
     "execution_count": 246,
     "metadata": {},
     "output_type": "execute_result"
    },
    {
     "data": {
      "image/png": "[encoded data removed]",
      "text/plain": [
       "<Figure size 432x288 with 1 Axes>"
      ]
     },
     "metadata": {
      "needs_background": "light"
     },
     "output_type": "display_data"
    }
   ],
   "source": [
    "variable, mean = [], []\n",
    "for colname, serie in set_preguntas.iteritems():\n",
    "   \n",
    "    variable.append(colname)\n",
    "    \n",
    "    mean.append(serie.mean())\n",
    "    \n",
    "tmp_df = pd.DataFrame({'var':variable, 'mean': mean}).sort_values(by=['mean'])\n",
    "\n",
    "plt.plot(tmp_df['mean'], tmp_df['var'],'o')"
   ]
  },
  {
   "cell_type": "markdown",
   "metadata": {},
   "source": [
    "Del gráfico anterior se observa que la relación familiar del grupo de alumnos en estudio es buena con un promedio de 4 aprox. Luego le siguen la salud y el tiempo libre. El consumo de alcohol en días de semana es muy bajo."
   ]
  },
  {
   "cell_type": "code",
   "execution_count": 247,
   "metadata": {},
   "outputs": [
    {
     "data": {
      "text/plain": [
       "<matplotlib.axes._subplots.AxesSubplot at 0x160c5d98640>"
      ]
     },
     "execution_count": 247,
     "metadata": {},
     "output_type": "execute_result"
    },
    {
     "data": {
      "image/png": "[encoded data removed]",
      "text/plain": [
       "<Figure size 576x576 with 2 Axes>"
      ]
     },
     "metadata": {
      "needs_background": "light"
     },
     "output_type": "display_data"
    }
   ],
   "source": [
    "plt.figure(figsize=(8, 8))\n",
    "sns.heatmap(set_preguntas.corr().abs(), cmap='Blues', annot=True)"
   ]
  },
  {
   "cell_type": "markdown",
   "metadata": {},
   "source": [
    "Del mapa de calor se observa que existe una correlación sobre 0.4 entre el consumo de alcohol los fines de semana (Walc), la salida con amigos (goout) y el consumo de alcohol los días de semana (Dalc)"
   ]
  },
  {
   "cell_type": "markdown",
   "metadata": {},
   "source": [
    "**Prueba de esfericidad de Barlett**\n",
    "- Hipotesis nula: La matriz de correlaciones es una matriz de identidad\n",
    "- Hipótesis Alternativa: La matriz de correlaciones no es una matriz de identidad"
   ]
  },
  {
   "cell_type": "code",
   "execution_count": 248,
   "metadata": {},
   "outputs": [
    {
     "data": {
      "text/plain": [
       "(264.4978629665065, 6.038167101269206e-48)"
      ]
     },
     "execution_count": 248,
     "metadata": {},
     "output_type": "execute_result"
    }
   ],
   "source": [
    "factor.calculate_bartlett_sphericity(set_preguntas)"
   ]
  },
  {
   "cell_type": "markdown",
   "metadata": {},
   "source": [
    "Se observa que P-val es menor a 0.05, por lo que existe evidencia para rechazar la hipotesis nula, por lo que por lo menos existe algún grado de covarianza entre los items"
   ]
  },
  {
   "cell_type": "markdown",
   "metadata": {},
   "source": [
    "**Prueba de Kaiser-Meyer-Olkin**"
   ]
  },
  {
   "cell_type": "code",
   "execution_count": 249,
   "metadata": {},
   "outputs": [
    {
     "data": {
      "text/plain": [
       "(array([0.50173343, 0.57692329, 0.61683967, 0.58664172, 0.5554092 ,\n",
       "        0.59265861]),\n",
       " 0.5767240731164592)"
      ]
     },
     "execution_count": 249,
     "metadata": {},
     "output_type": "execute_result"
    }
   ],
   "source": [
    "factor.calculate_kmo(set_preguntas)"
   ]
  },
  {
   "cell_type": "markdown",
   "metadata": {},
   "source": [
    "Se observa que los indices de KMO son mayores a 0.5, por lo que se podría aplicar un Análisis Factorial. Sin embargo los indices son bajos "
   ]
  },
  {
   "cell_type": "markdown",
   "metadata": {},
   "source": [
    "**Se genera un modelo y Scree plot**"
   ]
  },
  {
   "cell_type": "code",
   "execution_count": 250,
   "metadata": {},
   "outputs": [],
   "source": [
    "factorize = factor.FactorAnalyzer(n_factors=3, rotation= None).fit(set_preguntas)"
   ]
  },
  {
   "cell_type": "code",
   "execution_count": 251,
   "metadata": {},
   "outputs": [
    {
     "data": {
      "text/plain": [
       "Text(0.5, 1.0, 'Scree plot')"
      ]
     },
     "execution_count": 251,
     "metadata": {},
     "output_type": "execute_result"
    },
    {
     "data": {
      "image/png": "[encoded data removed]",
      "text/plain": [
       "<Figure size 432x288 with 1 Axes>"
      ]
     },
     "metadata": {
      "needs_background": "light"
     },
     "output_type": "display_data"
    }
   ],
   "source": [
    "factor_screenplot = factorize.get_eigenvalues()[0]\n",
    "\n",
    "plt.plot(factor_screenplot, 'o-', color = 'tomato')\n",
    "plt.xlabel('Número de Factor')\n",
    "plt.ylabel('Valores Propios')\n",
    "plt.axhline(1)\n",
    "plt.title(\"Scree plot\")"
   ]
  },
  {
   "cell_type": "markdown",
   "metadata": {},
   "source": [
    "De acuerdo al Scree plot se observa qye para los valores propios existen 2 factores mayores a 1, por lo que se podría refactorizar con 2 dimensiones "
   ]
  },
  {
   "cell_type": "code",
   "execution_count": 252,
   "metadata": {},
   "outputs": [],
   "source": [
    "factorize_2 = factor.FactorAnalyzer(n_factors= 2, rotation= None).fit(set_preguntas)"
   ]
  },
  {
   "cell_type": "code",
   "execution_count": 253,
   "metadata": {},
   "outputs": [
    {
     "data": {
      "text/html": [
       "<div>\n",
       "<style scoped>\n",
       "    .dataframe tbody tr th:only-of-type {\n",
       "        vertical-align: middle;\n",
       "    }\n",
       "\n",
       "    .dataframe tbody tr th {\n",
       "        vertical-align: top;\n",
       "    }\n",
       "\n",
       "    .dataframe thead th {\n",
       "        text-align: right;\n",
       "    }\n",
       "</style>\n",
       "<table border=\"1\" class=\"dataframe\">\n",
       "  <thead>\n",
       "    <tr style=\"text-align: right;\">\n",
       "      <th></th>\n",
       "      <th>F1</th>\n",
       "      <th>F2</th>\n",
       "    </tr>\n",
       "  </thead>\n",
       "  <tbody>\n",
       "    <tr>\n",
       "      <th>famrel</th>\n",
       "      <td>-0.057851</td>\n",
       "      <td>0.329004</td>\n",
       "    </tr>\n",
       "    <tr>\n",
       "      <th>freetime</th>\n",
       "      <td>0.276030</td>\n",
       "      <td>0.524161</td>\n",
       "    </tr>\n",
       "    <tr>\n",
       "      <th>goout</th>\n",
       "      <td>0.483823</td>\n",
       "      <td>0.220603</td>\n",
       "    </tr>\n",
       "    <tr>\n",
       "      <th>Dalc</th>\n",
       "      <td>0.650816</td>\n",
       "      <td>-0.035508</td>\n",
       "    </tr>\n",
       "    <tr>\n",
       "      <th>Walc</th>\n",
       "      <td>0.973496</td>\n",
       "      <td>-0.222297</td>\n",
       "    </tr>\n",
       "    <tr>\n",
       "      <th>health</th>\n",
       "      <td>0.115976</td>\n",
       "      <td>0.061481</td>\n",
       "    </tr>\n",
       "  </tbody>\n",
       "</table>\n",
       "</div>"
      ],
      "text/plain": [
       "                F1        F2\n",
       "famrel   -0.057851  0.329004\n",
       "freetime  0.276030  0.524161\n",
       "goout     0.483823  0.220603\n",
       "Dalc      0.650816 -0.035508\n",
       "Walc      0.973496 -0.222297\n",
       "health    0.115976  0.061481"
      ]
     },
     "execution_count": 253,
     "metadata": {},
     "output_type": "execute_result"
    }
   ],
   "source": [
    "factor_loadings = factorize_2.loadings_\n",
    "factor_loadings = pd.DataFrame(factor_loadings, set_preguntas.columns, columns=['F1', 'F2'])\n",
    "factor_loadings"
   ]
  },
  {
   "cell_type": "code",
   "execution_count": 254,
   "metadata": {},
   "outputs": [
    {
     "data": {
      "text/html": [
       "<div>\n",
       "<style scoped>\n",
       "    .dataframe tbody tr th:only-of-type {\n",
       "        vertical-align: middle;\n",
       "    }\n",
       "\n",
       "    .dataframe tbody tr th {\n",
       "        vertical-align: top;\n",
       "    }\n",
       "\n",
       "    .dataframe thead th {\n",
       "        text-align: right;\n",
       "    }\n",
       "</style>\n",
       "<table border=\"1\" class=\"dataframe\">\n",
       "  <thead>\n",
       "    <tr style=\"text-align: right;\">\n",
       "      <th></th>\n",
       "      <th>F1</th>\n",
       "      <th>F2</th>\n",
       "    </tr>\n",
       "  </thead>\n",
       "  <tbody>\n",
       "    <tr>\n",
       "      <th>famrel</th>\n",
       "      <td></td>\n",
       "      <td></td>\n",
       "    </tr>\n",
       "    <tr>\n",
       "      <th>freetime</th>\n",
       "      <td></td>\n",
       "      <td>0.52</td>\n",
       "    </tr>\n",
       "    <tr>\n",
       "      <th>goout</th>\n",
       "      <td>0.48</td>\n",
       "      <td></td>\n",
       "    </tr>\n",
       "    <tr>\n",
       "      <th>Dalc</th>\n",
       "      <td>0.65</td>\n",
       "      <td></td>\n",
       "    </tr>\n",
       "    <tr>\n",
       "      <th>Walc</th>\n",
       "      <td>0.97</td>\n",
       "      <td></td>\n",
       "    </tr>\n",
       "    <tr>\n",
       "      <th>health</th>\n",
       "      <td></td>\n",
       "      <td></td>\n",
       "    </tr>\n",
       "  </tbody>\n",
       "</table>\n",
       "</div>"
      ],
      "text/plain": [
       "            F1    F2\n",
       "famrel              \n",
       "freetime        0.52\n",
       "goout     0.48      \n",
       "Dalc      0.65      \n",
       "Walc      0.97      \n",
       "health              "
      ]
     },
     "execution_count": 254,
     "metadata": {},
     "output_type": "execute_result"
    }
   ],
   "source": [
    "factor_loadings.applymap( lambda x: np.where( x<.4, '', round(x,2)))"
   ]
  },
  {
   "cell_type": "markdown",
   "metadata": {},
   "source": [
    "De lo anterior se observa lo siguiente:\n",
    "- Existe un factor F1 con cargas altas para el grupo de preguntas goout, Dalc y Walc, este grupo de preguntas se podrían categorizar como consumo de alcohol.\n",
    "- Respecto al factor 2 se ve que existen altas cargas solo para la variable freetime "
   ]
  },
  {
   "cell_type": "code",
   "execution_count": 255,
   "metadata": {},
   "outputs": [
    {
     "name": "stdout",
     "output_type": "stream",
     "text": [
      "Los 2 factores capturan el 36% de la varianza\n"
     ]
    }
   ],
   "source": [
    "loadings_ss, proporcion_var, var_acum = factorize_2.get_factor_variance()\n",
    "print(f'Los 2 factores capturan el {int(var_acum[1].round(2)*100)}% de la varianza')"
   ]
  },
  {
   "cell_type": "markdown",
   "metadata": {},
   "source": [
    "**Extracción de los puntajes del modelo factorial**"
   ]
  },
  {
   "cell_type": "code",
   "execution_count": 256,
   "metadata": {},
   "outputs": [
    {
     "data": {
      "text/html": [
       "<div>\n",
       "<style scoped>\n",
       "    .dataframe tbody tr th:only-of-type {\n",
       "        vertical-align: middle;\n",
       "    }\n",
       "\n",
       "    .dataframe tbody tr th {\n",
       "        vertical-align: top;\n",
       "    }\n",
       "\n",
       "    .dataframe thead th {\n",
       "        text-align: right;\n",
       "    }\n",
       "</style>\n",
       "<table border=\"1\" class=\"dataframe\">\n",
       "  <thead>\n",
       "    <tr style=\"text-align: right;\">\n",
       "      <th></th>\n",
       "      <th>F1</th>\n",
       "      <th>F2</th>\n",
       "    </tr>\n",
       "  </thead>\n",
       "  <tbody>\n",
       "    <tr>\n",
       "      <th>0</th>\n",
       "      <td>-0.919331</td>\n",
       "      <td>0.489150</td>\n",
       "    </tr>\n",
       "    <tr>\n",
       "      <th>1</th>\n",
       "      <td>-1.130229</td>\n",
       "      <td>-0.588424</td>\n",
       "    </tr>\n",
       "    <tr>\n",
       "      <th>2</th>\n",
       "      <td>-0.058181</td>\n",
       "      <td>0.432378</td>\n",
       "    </tr>\n",
       "    <tr>\n",
       "      <th>3</th>\n",
       "      <td>-0.782000</td>\n",
       "      <td>0.957461</td>\n",
       "    </tr>\n",
       "    <tr>\n",
       "      <th>4</th>\n",
       "      <td>-1.223290</td>\n",
       "      <td>-0.481644</td>\n",
       "    </tr>\n",
       "    <tr>\n",
       "      <th>...</th>\n",
       "      <td>...</td>\n",
       "      <td>...</td>\n",
       "    </tr>\n",
       "    <tr>\n",
       "      <th>279</th>\n",
       "      <td>2.386883</td>\n",
       "      <td>0.622546</td>\n",
       "    </tr>\n",
       "    <tr>\n",
       "      <th>280</th>\n",
       "      <td>1.425619</td>\n",
       "      <td>-0.119174</td>\n",
       "    </tr>\n",
       "    <tr>\n",
       "      <th>281</th>\n",
       "      <td>0.888120</td>\n",
       "      <td>0.917422</td>\n",
       "    </tr>\n",
       "    <tr>\n",
       "      <th>282</th>\n",
       "      <td>1.416115</td>\n",
       "      <td>-0.521043</td>\n",
       "    </tr>\n",
       "    <tr>\n",
       "      <th>283</th>\n",
       "      <td>0.396511</td>\n",
       "      <td>-0.817841</td>\n",
       "    </tr>\n",
       "  </tbody>\n",
       "</table>\n",
       "<p>284 rows × 2 columns</p>\n",
       "</div>"
      ],
      "text/plain": [
       "           F1        F2\n",
       "0   -0.919331  0.489150\n",
       "1   -1.130229 -0.588424\n",
       "2   -0.058181  0.432378\n",
       "3   -0.782000  0.957461\n",
       "4   -1.223290 -0.481644\n",
       "..        ...       ...\n",
       "279  2.386883  0.622546\n",
       "280  1.425619 -0.119174\n",
       "281  0.888120  0.917422\n",
       "282  1.416115 -0.521043\n",
       "283  0.396511 -0.817841\n",
       "\n",
       "[284 rows x 2 columns]"
      ]
     },
     "execution_count": 256,
     "metadata": {},
     "output_type": "execute_result"
    }
   ],
   "source": [
    "factores_score = pd.DataFrame(factorize_2.transform(set_preguntas), columns=['F1', 'F2'])\n",
    "factores_score"
   ]
  }
 ],
 "metadata": {
  "kernelspec": {
   "display_name": "Python 3",
   "language": "python",
   "name": "python3"
  },
  "language_info": {
   "codemirror_mode": {
    "name": "ipython",
    "version": 3
   },
   "file_extension": ".py",
   "mimetype": "text/x-python",
   "name": "python",
   "nbconvert_exporter": "python",
   "pygments_lexer": "ipython3",
   "version": "3.8.3"
  }
 },
 "nbformat": 4,
 "nbformat_minor": 4
}
