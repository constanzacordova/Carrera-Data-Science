{
 "cells": [
  {
   "cell_type": "markdown",
   "metadata": {},
   "source": [
    "<i><h2 style=\"text-align:center;color:#004d80\"> Prueba: Fundamentos Data Science (G25)</h2></i>\n",
    "<i><h2 style=\"text-align:center;color:#004d80\"> Desafío 1: Determinantes del ingreso </h2></i></i>\n",
    "<i><h3 style=\"text-align:center;color:#FFFFF\">by: Constanza Córdova </h3></i></i>\n"
   ]
  },
  {
   "cell_type": "markdown",
   "metadata": {},
   "source": [
    "<h3 style=\"color:#004d80\"> Preliminares </h3>"
   ]
  },
  {
   "cell_type": "markdown",
   "metadata": {},
   "source": [
    "_**Descripción:**_ Se pide desarrollar un modelo predictivo sobre la probabilidad de que un individuo presente salarios por sobre o bajo los 50.000 dólares anuales de acuerdo a una serie de atrubutos: \n",
    "\n",
    "- `age`: edad del individuo\n",
    "- `workclass`: Naturaleza de la organización que emplea al individuo\n",
    "- `education`: Nivel educacional del individuo\n",
    "- `capital-gains`: Ingresos generados por inversiones fuera del trabajo asalariado\n",
    "- `capital-losses`: Pérdidas generadas por inversiones fuera del trabajo asalariado\n",
    "- `fnlwgt`: Ponderador muestral\n",
    "- `matrial-status`: Estado civil del individuo\n",
    "- `occupation`: Ocupación del individuo \n",
    "- `relationship`: Relación respecto a su familia\n",
    "- `race`: Raza\n",
    "- `sex`: sexo\n",
    "- `hours-per-week`: Cantidad de horas trabajadas por semana\n",
    "- `native-country`: País de origen\n",
    "        \n"
   ]
  },
  {
   "cell_type": "markdown",
   "metadata": {},
   "source": [
    "Dada el contexto del problema, se determina que el modelo predictivo se realizará mediante aprendizaje automático supervisado de Clasificación binaria para el vector objetivo `income`, el cual tomará valores de 1 (>50K) y 0 (<=50K).\n",
    "\n",
    "Las métricas que se utilizarán para evaluar el desempeño del modelo serán la Matriz de confusión, Precisión, Sensibilidad (Recall) y puntaje F1."
   ]
  },
  {
   "cell_type": "markdown",
   "metadata": {},
   "source": [
    "<h3 style=\"color:#004d80\"> Aspectos </h3>"
   ]
  },
  {
   "cell_type": "markdown",
   "metadata": {},
   "source": [
    "#### Aspectos Computacionales\n",
    "**Python:** v 3.8.3\n",
    "\n",
    "**Librerías:**\n",
    "- pandas v 1.0.5\n",
    "- numpy v 1.18.5\n",
    "- matplotlib v 3.2.2\n",
    "- scipy v 1.5.0\n",
    "- seaborn v 0.10.1\n",
    "- statsmodels v 0.11.1\n",
    "- scikit-learn v 0.23.1\n"
   ]
  },
  {
   "cell_type": "markdown",
   "metadata": {},
   "source": [
    "<h3 style=\"color:#004d80\"> Descripción </h3>\n",
    "En esta sección se generará un análisis descriptivo considerando el tipo de variables desde el punto de vista estadístico así como computacional"
   ]
  },
  {
   "cell_type": "markdown",
   "metadata": {},
   "source": [
    "**1. Importación de librerías**"
   ]
  },
  {
   "cell_type": "code",
   "execution_count": 1,
   "metadata": {},
   "outputs": [],
   "source": [
    "import warnings\n",
    "warnings.filterwarnings('ignore')\n",
    "\n",
    "import pandas as pd\n",
    "import numpy as np\n",
    "import matplotlib.pyplot as plt\n",
    "from scipy import stats\n",
    "import seaborn as sns\n",
    "import statsmodels.api as sm\n",
    "import statsmodels.formula.api as smf\n",
    "from sklearn.linear_model import LogisticRegression\n",
    "from sklearn.model_selection import train_test_split\n",
    "from sklearn.preprocessing import StandardScaler\n",
    "from sklearn.metrics import classification_report\n",
    "from sklearn.metrics import precision_score, recall_score\n",
    "from sklearn.metrics import f1_score\n",
    "\n",
    "import funciones_set as fs"
   ]
  },
  {
   "cell_type": "markdown",
   "metadata": {},
   "source": [
    "**2. Carga de DataFrame** "
   ]
  },
  {
   "cell_type": "code",
   "execution_count": 2,
   "metadata": {
    "scrolled": true
   },
   "outputs": [
    {
     "data": {
      "text/html": [
       "<div>\n",
       "<style scoped>\n",
       "    .dataframe tbody tr th:only-of-type {\n",
       "        vertical-align: middle;\n",
       "    }\n",
       "\n",
       "    .dataframe tbody tr th {\n",
       "        vertical-align: top;\n",
       "    }\n",
       "\n",
       "    .dataframe thead th {\n",
       "        text-align: right;\n",
       "    }\n",
       "</style>\n",
       "<table border=\"1\" class=\"dataframe\">\n",
       "  <thead>\n",
       "    <tr style=\"text-align: right;\">\n",
       "      <th></th>\n",
       "      <th>age</th>\n",
       "      <th>workclass</th>\n",
       "      <th>fnlwgt</th>\n",
       "      <th>education</th>\n",
       "      <th>educational-num</th>\n",
       "      <th>marital-status</th>\n",
       "      <th>occupation</th>\n",
       "      <th>relationship</th>\n",
       "      <th>race</th>\n",
       "      <th>gender</th>\n",
       "      <th>capital-gain</th>\n",
       "      <th>capital-loss</th>\n",
       "      <th>hours-per-week</th>\n",
       "      <th>native-country</th>\n",
       "      <th>income</th>\n",
       "    </tr>\n",
       "  </thead>\n",
       "  <tbody>\n",
       "    <tr>\n",
       "      <th>0</th>\n",
       "      <td>25</td>\n",
       "      <td>Private</td>\n",
       "      <td>226802</td>\n",
       "      <td>11th</td>\n",
       "      <td>7</td>\n",
       "      <td>Never-married</td>\n",
       "      <td>Machine-op-inspct</td>\n",
       "      <td>Own-child</td>\n",
       "      <td>Black</td>\n",
       "      <td>Male</td>\n",
       "      <td>0</td>\n",
       "      <td>0</td>\n",
       "      <td>40</td>\n",
       "      <td>United-States</td>\n",
       "      <td>&lt;=50K</td>\n",
       "    </tr>\n",
       "    <tr>\n",
       "      <th>1</th>\n",
       "      <td>38</td>\n",
       "      <td>Private</td>\n",
       "      <td>89814</td>\n",
       "      <td>HS-grad</td>\n",
       "      <td>9</td>\n",
       "      <td>Married-civ-spouse</td>\n",
       "      <td>Farming-fishing</td>\n",
       "      <td>Husband</td>\n",
       "      <td>White</td>\n",
       "      <td>Male</td>\n",
       "      <td>0</td>\n",
       "      <td>0</td>\n",
       "      <td>50</td>\n",
       "      <td>United-States</td>\n",
       "      <td>&lt;=50K</td>\n",
       "    </tr>\n",
       "    <tr>\n",
       "      <th>2</th>\n",
       "      <td>28</td>\n",
       "      <td>Local-gov</td>\n",
       "      <td>336951</td>\n",
       "      <td>Assoc-acdm</td>\n",
       "      <td>12</td>\n",
       "      <td>Married-civ-spouse</td>\n",
       "      <td>Protective-serv</td>\n",
       "      <td>Husband</td>\n",
       "      <td>White</td>\n",
       "      <td>Male</td>\n",
       "      <td>0</td>\n",
       "      <td>0</td>\n",
       "      <td>40</td>\n",
       "      <td>United-States</td>\n",
       "      <td>&gt;50K</td>\n",
       "    </tr>\n",
       "    <tr>\n",
       "      <th>3</th>\n",
       "      <td>44</td>\n",
       "      <td>Private</td>\n",
       "      <td>160323</td>\n",
       "      <td>Some-college</td>\n",
       "      <td>10</td>\n",
       "      <td>Married-civ-spouse</td>\n",
       "      <td>Machine-op-inspct</td>\n",
       "      <td>Husband</td>\n",
       "      <td>Black</td>\n",
       "      <td>Male</td>\n",
       "      <td>7688</td>\n",
       "      <td>0</td>\n",
       "      <td>40</td>\n",
       "      <td>United-States</td>\n",
       "      <td>&gt;50K</td>\n",
       "    </tr>\n",
       "    <tr>\n",
       "      <th>4</th>\n",
       "      <td>18</td>\n",
       "      <td>?</td>\n",
       "      <td>103497</td>\n",
       "      <td>Some-college</td>\n",
       "      <td>10</td>\n",
       "      <td>Never-married</td>\n",
       "      <td>?</td>\n",
       "      <td>Own-child</td>\n",
       "      <td>White</td>\n",
       "      <td>Female</td>\n",
       "      <td>0</td>\n",
       "      <td>0</td>\n",
       "      <td>30</td>\n",
       "      <td>United-States</td>\n",
       "      <td>&lt;=50K</td>\n",
       "    </tr>\n",
       "  </tbody>\n",
       "</table>\n",
       "</div>"
      ],
      "text/plain": [
       "   age  workclass  fnlwgt     education  educational-num      marital-status  \\\n",
       "0   25    Private  226802          11th                7       Never-married   \n",
       "1   38    Private   89814       HS-grad                9  Married-civ-spouse   \n",
       "2   28  Local-gov  336951    Assoc-acdm               12  Married-civ-spouse   \n",
       "3   44    Private  160323  Some-college               10  Married-civ-spouse   \n",
       "4   18          ?  103497  Some-college               10       Never-married   \n",
       "\n",
       "          occupation relationship   race  gender  capital-gain  capital-loss  \\\n",
       "0  Machine-op-inspct    Own-child  Black    Male             0             0   \n",
       "1    Farming-fishing      Husband  White    Male             0             0   \n",
       "2    Protective-serv      Husband  White    Male             0             0   \n",
       "3  Machine-op-inspct      Husband  Black    Male          7688             0   \n",
       "4                  ?    Own-child  White  Female             0             0   \n",
       "\n",
       "   hours-per-week native-country income  \n",
       "0              40  United-States  <=50K  \n",
       "1              50  United-States  <=50K  \n",
       "2              40  United-States   >50K  \n",
       "3              40  United-States   >50K  \n",
       "4              30  United-States  <=50K  "
      ]
     },
     "execution_count": 2,
     "metadata": {},
     "output_type": "execute_result"
    }
   ],
   "source": [
    "df = pd.read_csv('income-db.csv')\n",
    "df.head()"
   ]
  },
  {
   "cell_type": "code",
   "execution_count": 3,
   "metadata": {},
   "outputs": [
    {
     "data": {
      "text/plain": [
       "(48842, 15)"
      ]
     },
     "execution_count": 3,
     "metadata": {},
     "output_type": "execute_result"
    }
   ],
   "source": [
    "df.shape"
   ]
  },
  {
   "cell_type": "markdown",
   "metadata": {},
   "source": [
    "**3. Transformación de datos perdidos** "
   ]
  },
  {
   "cell_type": "code",
   "execution_count": 4,
   "metadata": {},
   "outputs": [
    {
     "data": {
      "text/html": [
       "<div>\n",
       "<style scoped>\n",
       "    .dataframe tbody tr th:only-of-type {\n",
       "        vertical-align: middle;\n",
       "    }\n",
       "\n",
       "    .dataframe tbody tr th {\n",
       "        vertical-align: top;\n",
       "    }\n",
       "\n",
       "    .dataframe thead th {\n",
       "        text-align: right;\n",
       "    }\n",
       "</style>\n",
       "<table border=\"1\" class=\"dataframe\">\n",
       "  <thead>\n",
       "    <tr style=\"text-align: right;\">\n",
       "      <th></th>\n",
       "      <th>age</th>\n",
       "      <th>workclass</th>\n",
       "      <th>fnlwgt</th>\n",
       "      <th>education</th>\n",
       "      <th>educational-num</th>\n",
       "      <th>marital-status</th>\n",
       "      <th>occupation</th>\n",
       "      <th>relationship</th>\n",
       "      <th>race</th>\n",
       "      <th>gender</th>\n",
       "      <th>capital-gain</th>\n",
       "      <th>capital-loss</th>\n",
       "      <th>hours-per-week</th>\n",
       "      <th>native-country</th>\n",
       "      <th>income</th>\n",
       "    </tr>\n",
       "  </thead>\n",
       "  <tbody>\n",
       "    <tr>\n",
       "      <th>0</th>\n",
       "      <td>25</td>\n",
       "      <td>Private</td>\n",
       "      <td>226802</td>\n",
       "      <td>11th</td>\n",
       "      <td>7</td>\n",
       "      <td>Never-married</td>\n",
       "      <td>Machine-op-inspct</td>\n",
       "      <td>Own-child</td>\n",
       "      <td>Black</td>\n",
       "      <td>Male</td>\n",
       "      <td>0</td>\n",
       "      <td>0</td>\n",
       "      <td>40</td>\n",
       "      <td>United-States</td>\n",
       "      <td>&lt;=50K</td>\n",
       "    </tr>\n",
       "    <tr>\n",
       "      <th>1</th>\n",
       "      <td>38</td>\n",
       "      <td>Private</td>\n",
       "      <td>89814</td>\n",
       "      <td>HS-grad</td>\n",
       "      <td>9</td>\n",
       "      <td>Married-civ-spouse</td>\n",
       "      <td>Farming-fishing</td>\n",
       "      <td>Husband</td>\n",
       "      <td>White</td>\n",
       "      <td>Male</td>\n",
       "      <td>0</td>\n",
       "      <td>0</td>\n",
       "      <td>50</td>\n",
       "      <td>United-States</td>\n",
       "      <td>&lt;=50K</td>\n",
       "    </tr>\n",
       "    <tr>\n",
       "      <th>2</th>\n",
       "      <td>28</td>\n",
       "      <td>Local-gov</td>\n",
       "      <td>336951</td>\n",
       "      <td>Assoc-acdm</td>\n",
       "      <td>12</td>\n",
       "      <td>Married-civ-spouse</td>\n",
       "      <td>Protective-serv</td>\n",
       "      <td>Husband</td>\n",
       "      <td>White</td>\n",
       "      <td>Male</td>\n",
       "      <td>0</td>\n",
       "      <td>0</td>\n",
       "      <td>40</td>\n",
       "      <td>United-States</td>\n",
       "      <td>&gt;50K</td>\n",
       "    </tr>\n",
       "    <tr>\n",
       "      <th>3</th>\n",
       "      <td>44</td>\n",
       "      <td>Private</td>\n",
       "      <td>160323</td>\n",
       "      <td>Some-college</td>\n",
       "      <td>10</td>\n",
       "      <td>Married-civ-spouse</td>\n",
       "      <td>Machine-op-inspct</td>\n",
       "      <td>Husband</td>\n",
       "      <td>Black</td>\n",
       "      <td>Male</td>\n",
       "      <td>7688</td>\n",
       "      <td>0</td>\n",
       "      <td>40</td>\n",
       "      <td>United-States</td>\n",
       "      <td>&gt;50K</td>\n",
       "    </tr>\n",
       "    <tr>\n",
       "      <th>4</th>\n",
       "      <td>18</td>\n",
       "      <td>NaN</td>\n",
       "      <td>103497</td>\n",
       "      <td>Some-college</td>\n",
       "      <td>10</td>\n",
       "      <td>Never-married</td>\n",
       "      <td>NaN</td>\n",
       "      <td>Own-child</td>\n",
       "      <td>White</td>\n",
       "      <td>Female</td>\n",
       "      <td>0</td>\n",
       "      <td>0</td>\n",
       "      <td>30</td>\n",
       "      <td>United-States</td>\n",
       "      <td>&lt;=50K</td>\n",
       "    </tr>\n",
       "  </tbody>\n",
       "</table>\n",
       "</div>"
      ],
      "text/plain": [
       "   age  workclass  fnlwgt     education  educational-num      marital-status  \\\n",
       "0   25    Private  226802          11th                7       Never-married   \n",
       "1   38    Private   89814       HS-grad                9  Married-civ-spouse   \n",
       "2   28  Local-gov  336951    Assoc-acdm               12  Married-civ-spouse   \n",
       "3   44    Private  160323  Some-college               10  Married-civ-spouse   \n",
       "4   18        NaN  103497  Some-college               10       Never-married   \n",
       "\n",
       "          occupation relationship   race  gender  capital-gain  capital-loss  \\\n",
       "0  Machine-op-inspct    Own-child  Black    Male             0             0   \n",
       "1    Farming-fishing      Husband  White    Male             0             0   \n",
       "2    Protective-serv      Husband  White    Male             0             0   \n",
       "3  Machine-op-inspct      Husband  Black    Male          7688             0   \n",
       "4                NaN    Own-child  White  Female             0             0   \n",
       "\n",
       "   hours-per-week native-country income  \n",
       "0              40  United-States  <=50K  \n",
       "1              50  United-States  <=50K  \n",
       "2              40  United-States   >50K  \n",
       "3              40  United-States   >50K  \n",
       "4              30  United-States  <=50K  "
      ]
     },
     "execution_count": 4,
     "metadata": {},
     "output_type": "execute_result"
    }
   ],
   "source": [
    "df = df.replace('?', np.nan)\n",
    "df.head()"
   ]
  },
  {
   "cell_type": "markdown",
   "metadata": {},
   "source": [
    "**4. Recodificación de las variables** "
   ]
  },
  {
   "cell_type": "markdown",
   "metadata": {},
   "source": [
    "Recodificamos la variable occupation"
   ]
  },
  {
   "cell_type": "code",
   "execution_count": 5,
   "metadata": {
    "scrolled": true
   },
   "outputs": [
    {
     "name": "stdout",
     "output_type": "stream",
     "text": [
      "white-collar    24819\n",
      "blue-collar     16276\n",
      "others           4938\n",
      "Name: collar, dtype: int64\n"
     ]
    }
   ],
   "source": [
    "white_collar = ['Prof-specialty','Exec-managerial','Adm-clerical', 'Sales', 'Tech-support' ]\n",
    "blue_collar = ['Craft-repair','Machine-op-inspct','Transport-moving', 'Handlers-cleaners', 'Farming-fishing', 'Protective-serv', 'Priv-house-serv']\n",
    "other_collar = ['Other-service','Armed-Forces']\n",
    "\n",
    "df['collar'] = df['occupation']\n",
    "df['collar'] = df['collar'].replace(white_collar,'white-collar')\n",
    "df['collar'] = df['collar'].replace(blue_collar,'blue-collar')\n",
    "df['collar'] = df['collar'].replace(other_collar,'others')\n",
    "print(df['collar'].value_counts())"
   ]
  },
  {
   "cell_type": "markdown",
   "metadata": {},
   "source": [
    "Observamos que se realizó la recodificación para la variable Occupation, correspondiente a la ocupación del individuo"
   ]
  },
  {
   "cell_type": "markdown",
   "metadata": {},
   "source": [
    "Recodificamos workclass"
   ]
  },
  {
   "cell_type": "code",
   "execution_count": 6,
   "metadata": {},
   "outputs": [
    {
     "name": "stdout",
     "output_type": "stream",
     "text": [
      "private            33906\n",
      "self-employed       5557\n",
      "state-level-gov     5117\n",
      "federal-gov         1432\n",
      "unemployed            31\n",
      "Name: workclass_recod, dtype: int64\n"
     ]
    }
   ],
   "source": [
    "federal_gov = ['Federal-gov']\n",
    "state_level_gov = ['State-gov', 'Local-gov']\n",
    "self_employed = ['Self-emp-inc', 'Self-emp-not-inc']\n",
    "unemployed = ['Never-worked', 'Without-pay']\n",
    "                 \n",
    "df['workclass_recod'] = df['workclass']\n",
    "df['workclass_recod'] = df['workclass_recod'].replace(federal_gov,'federal-gov')\n",
    "df['workclass_recod'] = df['workclass_recod'].replace(state_level_gov,'state-level-gov')\n",
    "df['workclass_recod'] = df['workclass_recod'].replace(self_employed,'self-employed')\n",
    "df['workclass_recod'] = df['workclass_recod'].replace(unemployed,'unemployed')\n",
    "df['workclass_recod'] = df['workclass_recod'].replace('Private','private')\n",
    "\n",
    "print(df['workclass_recod'].value_counts())"
   ]
  },
  {
   "cell_type": "markdown",
   "metadata": {},
   "source": [
    "Recodificamos education"
   ]
  },
  {
   "cell_type": "code",
   "execution_count": 7,
   "metadata": {},
   "outputs": [
    {
     "name": "stdout",
     "output_type": "stream",
     "text": [
      "high-school          21353\n",
      "college              14540\n",
      "university           12110\n",
      "elementary-school      756\n",
      "Preschool               83\n",
      "Name: educ_recod, dtype: int64\n"
     ]
    }
   ],
   "source": [
    "preschool = ['Preschool']\n",
    "elementary_school = ['1st-4th', '5th-6th']\n",
    "high_school = ['7th-8th', '9th', '10th','11th', '12th', 'HS-grad']\n",
    "college = ['Assoc-voc', 'Assoc-acdm', 'Some-college']\n",
    "university = [ 'Bachelors', 'Masters', 'Prof-school', 'Doctorate']\n",
    "                 \n",
    "df['educ_recod'] = df['education']\n",
    "df['educ_recod'] = df['educ_recod'].replace(preschool,'Preschool')\n",
    "df['educ_recod'] = df['educ_recod'].replace(elementary_school,'elementary-school')\n",
    "df['educ_recod'] = df['educ_recod'].replace(high_school,'high-school')\n",
    "df['educ_recod'] = df['educ_recod'].replace(college,'college')\n",
    "df['educ_recod'] = df['educ_recod'].replace(university,'university')\n",
    "\n",
    "print(df['educ_recod'].value_counts())"
   ]
  },
  {
   "cell_type": "markdown",
   "metadata": {},
   "source": [
    "Recodificamos marital-status"
   ]
  },
  {
   "cell_type": "code",
   "execution_count": 8,
   "metadata": {},
   "outputs": [
    {
     "name": "stdout",
     "output_type": "stream",
     "text": [
      "married          23044\n",
      "Never-married    16117\n",
      "divorced          6633\n",
      "separated         1530\n",
      "widowed           1518\n",
      "Name: civstatus, dtype: int64\n"
     ]
    }
   ],
   "source": [
    "married = ['Married-civ-spouse', 'Married-spouse-absent','Married-AF-spouse']\n",
    "divorced = ['Divorced']\n",
    "separated = ['Separated']\n",
    "widowed = ['Widowed']\n",
    "                 \n",
    "df['civstatus'] = df['marital-status']\n",
    "df['civstatus'] = df['civstatus'].replace(married,'married')\n",
    "df['civstatus'] = df['civstatus'].replace(divorced,'divorced')\n",
    "df['civstatus'] = df['civstatus'].replace(separated,'separated')\n",
    "df['civstatus'] = df['civstatus'].replace(widowed,'widowed')\n",
    "\n",
    "print(df['civstatus'].value_counts())"
   ]
  },
  {
   "cell_type": "markdown",
   "metadata": {},
   "source": [
    "Recodificamos native-country como region"
   ]
  },
  {
   "cell_type": "code",
   "execution_count": 9,
   "metadata": {},
   "outputs": [
    {
     "name": "stdout",
     "output_type": "stream",
     "text": [
      "america    46224\n",
      "asia         981\n",
      "europe       780\n",
      "Name: region, dtype: int64\n"
     ]
    }
   ],
   "source": [
    "americas = ['Antigua and Barbuda', 'Argentina', 'Bahamas', 'Barbados',\n",
    "       'Belize', 'Bolivia', 'Brazil', 'Canada', 'Chile', 'Columbia',\n",
    "       'Costa Rica', 'Cuba', 'Dominica', 'Dominican Republic', 'Ecuador',\n",
    "       'El Salvador', 'Grenada', 'Guatemala', 'Guyana', 'Haiti',\n",
    "       'Honduras', 'Jamaica', 'Mexico', 'Nicaragua', 'Panama', 'Paraguay',\n",
    "       'Peru', 'Puerto-Rico', 'Dominican-Republic', 'El-Salvador','Saint Kitts/Nevis', 'Saint Lucia',\n",
    "       'St Vincent/Grenadines', 'South', 'Suriname', 'Trinadad&Tobago',\n",
    "       'United-States', 'Uruguay', 'Venezuela', 'Outlying-US(Guam-USVI-etc)']\n",
    "\n",
    "africa = ['Algeria', 'Benin', 'Botswana', 'Burkina Faso', 'Burundi',\n",
    "       'Cameroon', 'Cape Verde', 'Central African Rep', 'Chad', 'Comoros',\n",
    "       'Congo', 'Congo (Dem Rep)', \"Cote d'Ivoire\", 'Djibouti', 'Egypt',\n",
    "       'Equatorial Guinea', 'Eritrea', 'Ethiopia', 'Gabon', 'Gambia',\n",
    "       'Ghana', 'Guinea', 'Guinea-Bissau', 'Kenya', 'Lesotho', 'Liberia',\n",
    "       'Libya', 'Madagascar', 'Malawi', 'Mali', 'Mauritania', 'Mauritius',\n",
    "       'Morocco', 'Mozambique', 'Namibia', 'Niger', 'Nigeria', 'Rwanda',\n",
    "       'Sao Tome/Principe', 'Senegal', 'Seychelles', 'Sierra Leone',\n",
    "       'Somalia', 'South Africa', 'Sudan*', 'Swaziland', 'Tanzania',\n",
    "       'Togo', 'Tunisia', 'Uganda', 'Zambia', 'Zimbabwe']\n",
    "\n",
    "asia = ['Afghanistan', 'Armenia', 'Azerbaijan', 'Bahrain', 'Bangladesh',\n",
    "       'Bhutan', 'Brunei Darussalam', 'Cambodia', 'China', 'Cyprus',\n",
    "       'Georgia', 'Hong', 'China', 'India', 'Indonesia', 'Iran',\n",
    "       'Iraq', 'Israel', 'Japan', 'Jordan', 'Kazakhstan', 'Kuwait',\n",
    "       'Kyrgyzstan', 'Laos', 'Lebanon', 'Malaysia', 'Maldives', 'Mongolia',\n",
    "       'Myanmar', 'Nepal', 'North Korea', 'Oman', 'Pakistan',\n",
    "       'Palestinian Territory', 'Philippines', 'Qatar', 'Saudi Arabia',\n",
    "       'Singapore', 'South Korea', 'Sri Lanka', 'Syria', 'Tajikistan',\n",
    "       'Thailand', 'Timor-Leste', 'Turkey', 'Turkmenistan', 'Taiwan',\n",
    "       'United Arab Emirates', 'Uzbekistan', 'Vietnam', 'Yemen']\n",
    "\n",
    "europe = ['Albania', 'Andorra', 'Austria', 'Belarus', 'Belgium',\n",
    "       'Bosnia/Herzegovina', 'Bulgaria', 'Croatia', 'Czech Republic',\n",
    "       'Denmark', 'Estonia', 'England', 'Finland', 'France', 'Germany', 'Greece',\n",
    "       'Hungary','Holand-Netherlands', 'Iceland', 'Ireland', 'Italy', 'Latvia',\n",
    "       'Liechtenstein', 'Lithuania', 'Luxembourg', 'Macedonia', 'Malta',\n",
    "       'Moldova', 'Monaco', 'Montenegro', 'Netherlands', 'Norway',\n",
    "       'Poland', 'Portugal', 'Romania', 'Russian Federation',\n",
    "       'San Marino', 'Serbia', 'Slovakia','Scotland', 'Slovenia', 'Spain', 'Sweden',\n",
    "       'Switzerland', 'Ukraine', 'United Kingdom', 'Yugoslavia']\n",
    "\n",
    "oceania = ['Angola', 'Australia', 'Fiji', 'Kiribati', 'Marshall Is',\n",
    "       'Micronesia', 'Nauru', 'New Zealand', 'Palau', 'Papua New Guinea',\n",
    "       'Samoa', 'Solomon Islands', 'Tonga', 'Tuvalu', 'Vanuatu']\n",
    "\n",
    "df['region'] = df['native-country']\n",
    "df['region'] = df['region'].replace(americas,'america')\n",
    "df['region'] = df['region'].replace(africa,'africa')\n",
    "df['region'] = df['region'].replace(asia,'asia')\n",
    "df['region'] = df['region'].replace(europe,'europe')\n",
    "df['region'] = df['region'].replace(oceania,'oceania')\n",
    "\n",
    "print(df['region'].value_counts())"
   ]
  },
  {
   "cell_type": "markdown",
   "metadata": {},
   "source": [
    "Se observa que la clase mayoritaria de región es américa"
   ]
  },
  {
   "cell_type": "markdown",
   "metadata": {},
   "source": [
    "Recodificamos income, asignamos valor 1 para la clase minoritaria, es decir >50K"
   ]
  },
  {
   "cell_type": "code",
   "execution_count": 10,
   "metadata": {},
   "outputs": [
    {
     "name": "stdout",
     "output_type": "stream",
     "text": [
      "0    37155\n",
      "1    11687\n",
      "Name: income_recod, dtype: int64\n"
     ]
    }
   ],
   "source": [
    "df['income_recod'] = np.where(df['income'] == '>50K',1,0)\n",
    "print(df['income_recod'].value_counts())"
   ]
  },
  {
   "cell_type": "markdown",
   "metadata": {},
   "source": [
    "Consultamos las columnas del dataframe"
   ]
  },
  {
   "cell_type": "code",
   "execution_count": 11,
   "metadata": {},
   "outputs": [
    {
     "data": {
      "text/plain": [
       "Index(['age', 'workclass', 'fnlwgt', 'education', 'educational-num',\n",
       "       'marital-status', 'occupation', 'relationship', 'race', 'gender',\n",
       "       'capital-gain', 'capital-loss', 'hours-per-week', 'native-country',\n",
       "       'income', 'collar', 'workclass_recod', 'educ_recod', 'civstatus',\n",
       "       'region', 'income_recod'],\n",
       "      dtype='object')"
      ]
     },
     "execution_count": 11,
     "metadata": {},
     "output_type": "execute_result"
    }
   ],
   "source": [
    "df.columns"
   ]
  },
  {
   "cell_type": "markdown",
   "metadata": {},
   "source": [
    "Simplificamos el dataframe con las variables recodificadas para facilitar el análisis"
   ]
  },
  {
   "cell_type": "code",
   "execution_count": 12,
   "metadata": {},
   "outputs": [
    {
     "data": {
      "text/html": [
       "<div>\n",
       "<style scoped>\n",
       "    .dataframe tbody tr th:only-of-type {\n",
       "        vertical-align: middle;\n",
       "    }\n",
       "\n",
       "    .dataframe tbody tr th {\n",
       "        vertical-align: top;\n",
       "    }\n",
       "\n",
       "    .dataframe thead th {\n",
       "        text-align: right;\n",
       "    }\n",
       "</style>\n",
       "<table border=\"1\" class=\"dataframe\">\n",
       "  <thead>\n",
       "    <tr style=\"text-align: right;\">\n",
       "      <th></th>\n",
       "      <th>age</th>\n",
       "      <th>workclass_recod</th>\n",
       "      <th>educ_recod</th>\n",
       "      <th>capital-gain</th>\n",
       "      <th>capital-loss</th>\n",
       "      <th>fnlwgt</th>\n",
       "      <th>civstatus</th>\n",
       "      <th>collar</th>\n",
       "      <th>relationship</th>\n",
       "      <th>race</th>\n",
       "      <th>gender</th>\n",
       "      <th>hours-per-week</th>\n",
       "      <th>region</th>\n",
       "      <th>income_recod</th>\n",
       "    </tr>\n",
       "  </thead>\n",
       "  <tbody>\n",
       "    <tr>\n",
       "      <th>0</th>\n",
       "      <td>25</td>\n",
       "      <td>private</td>\n",
       "      <td>high-school</td>\n",
       "      <td>0</td>\n",
       "      <td>0</td>\n",
       "      <td>226802</td>\n",
       "      <td>Never-married</td>\n",
       "      <td>blue-collar</td>\n",
       "      <td>Own-child</td>\n",
       "      <td>Black</td>\n",
       "      <td>Male</td>\n",
       "      <td>40</td>\n",
       "      <td>america</td>\n",
       "      <td>0</td>\n",
       "    </tr>\n",
       "    <tr>\n",
       "      <th>1</th>\n",
       "      <td>38</td>\n",
       "      <td>private</td>\n",
       "      <td>high-school</td>\n",
       "      <td>0</td>\n",
       "      <td>0</td>\n",
       "      <td>89814</td>\n",
       "      <td>married</td>\n",
       "      <td>blue-collar</td>\n",
       "      <td>Husband</td>\n",
       "      <td>White</td>\n",
       "      <td>Male</td>\n",
       "      <td>50</td>\n",
       "      <td>america</td>\n",
       "      <td>0</td>\n",
       "    </tr>\n",
       "    <tr>\n",
       "      <th>2</th>\n",
       "      <td>28</td>\n",
       "      <td>state-level-gov</td>\n",
       "      <td>college</td>\n",
       "      <td>0</td>\n",
       "      <td>0</td>\n",
       "      <td>336951</td>\n",
       "      <td>married</td>\n",
       "      <td>blue-collar</td>\n",
       "      <td>Husband</td>\n",
       "      <td>White</td>\n",
       "      <td>Male</td>\n",
       "      <td>40</td>\n",
       "      <td>america</td>\n",
       "      <td>1</td>\n",
       "    </tr>\n",
       "    <tr>\n",
       "      <th>3</th>\n",
       "      <td>44</td>\n",
       "      <td>private</td>\n",
       "      <td>college</td>\n",
       "      <td>7688</td>\n",
       "      <td>0</td>\n",
       "      <td>160323</td>\n",
       "      <td>married</td>\n",
       "      <td>blue-collar</td>\n",
       "      <td>Husband</td>\n",
       "      <td>Black</td>\n",
       "      <td>Male</td>\n",
       "      <td>40</td>\n",
       "      <td>america</td>\n",
       "      <td>1</td>\n",
       "    </tr>\n",
       "    <tr>\n",
       "      <th>4</th>\n",
       "      <td>18</td>\n",
       "      <td>NaN</td>\n",
       "      <td>college</td>\n",
       "      <td>0</td>\n",
       "      <td>0</td>\n",
       "      <td>103497</td>\n",
       "      <td>Never-married</td>\n",
       "      <td>NaN</td>\n",
       "      <td>Own-child</td>\n",
       "      <td>White</td>\n",
       "      <td>Female</td>\n",
       "      <td>30</td>\n",
       "      <td>america</td>\n",
       "      <td>0</td>\n",
       "    </tr>\n",
       "  </tbody>\n",
       "</table>\n",
       "</div>"
      ],
      "text/plain": [
       "   age  workclass_recod   educ_recod  capital-gain  capital-loss  fnlwgt  \\\n",
       "0   25          private  high-school             0             0  226802   \n",
       "1   38          private  high-school             0             0   89814   \n",
       "2   28  state-level-gov      college             0             0  336951   \n",
       "3   44          private      college          7688             0  160323   \n",
       "4   18              NaN      college             0             0  103497   \n",
       "\n",
       "       civstatus       collar relationship   race  gender  hours-per-week  \\\n",
       "0  Never-married  blue-collar    Own-child  Black    Male              40   \n",
       "1        married  blue-collar      Husband  White    Male              50   \n",
       "2        married  blue-collar      Husband  White    Male              40   \n",
       "3        married  blue-collar      Husband  Black    Male              40   \n",
       "4  Never-married          NaN    Own-child  White  Female              30   \n",
       "\n",
       "    region  income_recod  \n",
       "0  america             0  \n",
       "1  america             0  \n",
       "2  america             1  \n",
       "3  america             1  \n",
       "4  america             0  "
      ]
     },
     "execution_count": 12,
     "metadata": {},
     "output_type": "execute_result"
    }
   ],
   "source": [
    "df_recod = df.copy().loc[:,['age', 'workclass_recod', 'educ_recod', 'capital-gain', 'capital-loss', \n",
    " 'fnlwgt', 'civstatus', 'collar', 'relationship', 'race', 'gender', 'hours-per-week', 'region', 'income_recod']]\n",
    "df_recod.head()"
   ]
  },
  {
   "cell_type": "code",
   "execution_count": 13,
   "metadata": {
    "scrolled": false
   },
   "outputs": [
    {
     "data": {
      "text/html": [
       "<div>\n",
       "<style scoped>\n",
       "    .dataframe tbody tr th:only-of-type {\n",
       "        vertical-align: middle;\n",
       "    }\n",
       "\n",
       "    .dataframe tbody tr th {\n",
       "        vertical-align: top;\n",
       "    }\n",
       "\n",
       "    .dataframe thead th {\n",
       "        text-align: right;\n",
       "    }\n",
       "</style>\n",
       "<table border=\"1\" class=\"dataframe\">\n",
       "  <thead>\n",
       "    <tr style=\"text-align: right;\">\n",
       "      <th></th>\n",
       "      <th>age</th>\n",
       "      <th>workclass_recod</th>\n",
       "      <th>educ_recod</th>\n",
       "      <th>capital-gain</th>\n",
       "      <th>capital-loss</th>\n",
       "      <th>fnlwgt</th>\n",
       "      <th>civstatus</th>\n",
       "      <th>collar</th>\n",
       "      <th>relationship</th>\n",
       "      <th>race</th>\n",
       "      <th>gender</th>\n",
       "      <th>hours-per-week</th>\n",
       "      <th>region</th>\n",
       "      <th>income_recod</th>\n",
       "    </tr>\n",
       "  </thead>\n",
       "  <tbody>\n",
       "    <tr>\n",
       "      <th>count</th>\n",
       "      <td>48842.000000</td>\n",
       "      <td>46043</td>\n",
       "      <td>48842</td>\n",
       "      <td>48842.000000</td>\n",
       "      <td>48842.000000</td>\n",
       "      <td>4.884200e+04</td>\n",
       "      <td>48842</td>\n",
       "      <td>46033</td>\n",
       "      <td>48842</td>\n",
       "      <td>48842</td>\n",
       "      <td>48842</td>\n",
       "      <td>48842.000000</td>\n",
       "      <td>47985</td>\n",
       "      <td>48842.000000</td>\n",
       "    </tr>\n",
       "    <tr>\n",
       "      <th>unique</th>\n",
       "      <td>NaN</td>\n",
       "      <td>5</td>\n",
       "      <td>5</td>\n",
       "      <td>NaN</td>\n",
       "      <td>NaN</td>\n",
       "      <td>NaN</td>\n",
       "      <td>5</td>\n",
       "      <td>3</td>\n",
       "      <td>6</td>\n",
       "      <td>5</td>\n",
       "      <td>2</td>\n",
       "      <td>NaN</td>\n",
       "      <td>3</td>\n",
       "      <td>NaN</td>\n",
       "    </tr>\n",
       "    <tr>\n",
       "      <th>top</th>\n",
       "      <td>NaN</td>\n",
       "      <td>private</td>\n",
       "      <td>high-school</td>\n",
       "      <td>NaN</td>\n",
       "      <td>NaN</td>\n",
       "      <td>NaN</td>\n",
       "      <td>married</td>\n",
       "      <td>white-collar</td>\n",
       "      <td>Husband</td>\n",
       "      <td>White</td>\n",
       "      <td>Male</td>\n",
       "      <td>NaN</td>\n",
       "      <td>america</td>\n",
       "      <td>NaN</td>\n",
       "    </tr>\n",
       "    <tr>\n",
       "      <th>freq</th>\n",
       "      <td>NaN</td>\n",
       "      <td>33906</td>\n",
       "      <td>21353</td>\n",
       "      <td>NaN</td>\n",
       "      <td>NaN</td>\n",
       "      <td>NaN</td>\n",
       "      <td>23044</td>\n",
       "      <td>24819</td>\n",
       "      <td>19716</td>\n",
       "      <td>41762</td>\n",
       "      <td>32650</td>\n",
       "      <td>NaN</td>\n",
       "      <td>46224</td>\n",
       "      <td>NaN</td>\n",
       "    </tr>\n",
       "    <tr>\n",
       "      <th>mean</th>\n",
       "      <td>38.643585</td>\n",
       "      <td>NaN</td>\n",
       "      <td>NaN</td>\n",
       "      <td>1079.067626</td>\n",
       "      <td>87.502314</td>\n",
       "      <td>1.896641e+05</td>\n",
       "      <td>NaN</td>\n",
       "      <td>NaN</td>\n",
       "      <td>NaN</td>\n",
       "      <td>NaN</td>\n",
       "      <td>NaN</td>\n",
       "      <td>40.422382</td>\n",
       "      <td>NaN</td>\n",
       "      <td>0.239282</td>\n",
       "    </tr>\n",
       "    <tr>\n",
       "      <th>std</th>\n",
       "      <td>13.710510</td>\n",
       "      <td>NaN</td>\n",
       "      <td>NaN</td>\n",
       "      <td>7452.019058</td>\n",
       "      <td>403.004552</td>\n",
       "      <td>1.056040e+05</td>\n",
       "      <td>NaN</td>\n",
       "      <td>NaN</td>\n",
       "      <td>NaN</td>\n",
       "      <td>NaN</td>\n",
       "      <td>NaN</td>\n",
       "      <td>12.391444</td>\n",
       "      <td>NaN</td>\n",
       "      <td>0.426649</td>\n",
       "    </tr>\n",
       "    <tr>\n",
       "      <th>min</th>\n",
       "      <td>17.000000</td>\n",
       "      <td>NaN</td>\n",
       "      <td>NaN</td>\n",
       "      <td>0.000000</td>\n",
       "      <td>0.000000</td>\n",
       "      <td>1.228500e+04</td>\n",
       "      <td>NaN</td>\n",
       "      <td>NaN</td>\n",
       "      <td>NaN</td>\n",
       "      <td>NaN</td>\n",
       "      <td>NaN</td>\n",
       "      <td>1.000000</td>\n",
       "      <td>NaN</td>\n",
       "      <td>0.000000</td>\n",
       "    </tr>\n",
       "    <tr>\n",
       "      <th>25%</th>\n",
       "      <td>28.000000</td>\n",
       "      <td>NaN</td>\n",
       "      <td>NaN</td>\n",
       "      <td>0.000000</td>\n",
       "      <td>0.000000</td>\n",
       "      <td>1.175505e+05</td>\n",
       "      <td>NaN</td>\n",
       "      <td>NaN</td>\n",
       "      <td>NaN</td>\n",
       "      <td>NaN</td>\n",
       "      <td>NaN</td>\n",
       "      <td>40.000000</td>\n",
       "      <td>NaN</td>\n",
       "      <td>0.000000</td>\n",
       "    </tr>\n",
       "    <tr>\n",
       "      <th>50%</th>\n",
       "      <td>37.000000</td>\n",
       "      <td>NaN</td>\n",
       "      <td>NaN</td>\n",
       "      <td>0.000000</td>\n",
       "      <td>0.000000</td>\n",
       "      <td>1.781445e+05</td>\n",
       "      <td>NaN</td>\n",
       "      <td>NaN</td>\n",
       "      <td>NaN</td>\n",
       "      <td>NaN</td>\n",
       "      <td>NaN</td>\n",
       "      <td>40.000000</td>\n",
       "      <td>NaN</td>\n",
       "      <td>0.000000</td>\n",
       "    </tr>\n",
       "    <tr>\n",
       "      <th>75%</th>\n",
       "      <td>48.000000</td>\n",
       "      <td>NaN</td>\n",
       "      <td>NaN</td>\n",
       "      <td>0.000000</td>\n",
       "      <td>0.000000</td>\n",
       "      <td>2.376420e+05</td>\n",
       "      <td>NaN</td>\n",
       "      <td>NaN</td>\n",
       "      <td>NaN</td>\n",
       "      <td>NaN</td>\n",
       "      <td>NaN</td>\n",
       "      <td>45.000000</td>\n",
       "      <td>NaN</td>\n",
       "      <td>0.000000</td>\n",
       "    </tr>\n",
       "    <tr>\n",
       "      <th>max</th>\n",
       "      <td>90.000000</td>\n",
       "      <td>NaN</td>\n",
       "      <td>NaN</td>\n",
       "      <td>99999.000000</td>\n",
       "      <td>4356.000000</td>\n",
       "      <td>1.490400e+06</td>\n",
       "      <td>NaN</td>\n",
       "      <td>NaN</td>\n",
       "      <td>NaN</td>\n",
       "      <td>NaN</td>\n",
       "      <td>NaN</td>\n",
       "      <td>99.000000</td>\n",
       "      <td>NaN</td>\n",
       "      <td>1.000000</td>\n",
       "    </tr>\n",
       "  </tbody>\n",
       "</table>\n",
       "</div>"
      ],
      "text/plain": [
       "                 age workclass_recod   educ_recod  capital-gain  capital-loss  \\\n",
       "count   48842.000000           46043        48842  48842.000000  48842.000000   \n",
       "unique           NaN               5            5           NaN           NaN   \n",
       "top              NaN         private  high-school           NaN           NaN   \n",
       "freq             NaN           33906        21353           NaN           NaN   \n",
       "mean       38.643585             NaN          NaN   1079.067626     87.502314   \n",
       "std        13.710510             NaN          NaN   7452.019058    403.004552   \n",
       "min        17.000000             NaN          NaN      0.000000      0.000000   \n",
       "25%        28.000000             NaN          NaN      0.000000      0.000000   \n",
       "50%        37.000000             NaN          NaN      0.000000      0.000000   \n",
       "75%        48.000000             NaN          NaN      0.000000      0.000000   \n",
       "max        90.000000             NaN          NaN  99999.000000   4356.000000   \n",
       "\n",
       "              fnlwgt civstatus        collar relationship   race gender  \\\n",
       "count   4.884200e+04     48842         46033        48842  48842  48842   \n",
       "unique           NaN         5             3            6      5      2   \n",
       "top              NaN   married  white-collar      Husband  White   Male   \n",
       "freq             NaN     23044         24819        19716  41762  32650   \n",
       "mean    1.896641e+05       NaN           NaN          NaN    NaN    NaN   \n",
       "std     1.056040e+05       NaN           NaN          NaN    NaN    NaN   \n",
       "min     1.228500e+04       NaN           NaN          NaN    NaN    NaN   \n",
       "25%     1.175505e+05       NaN           NaN          NaN    NaN    NaN   \n",
       "50%     1.781445e+05       NaN           NaN          NaN    NaN    NaN   \n",
       "75%     2.376420e+05       NaN           NaN          NaN    NaN    NaN   \n",
       "max     1.490400e+06       NaN           NaN          NaN    NaN    NaN   \n",
       "\n",
       "        hours-per-week   region  income_recod  \n",
       "count     48842.000000    47985  48842.000000  \n",
       "unique             NaN        3           NaN  \n",
       "top                NaN  america           NaN  \n",
       "freq               NaN    46224           NaN  \n",
       "mean         40.422382      NaN      0.239282  \n",
       "std          12.391444      NaN      0.426649  \n",
       "min           1.000000      NaN      0.000000  \n",
       "25%          40.000000      NaN      0.000000  \n",
       "50%          40.000000      NaN      0.000000  \n",
       "75%          45.000000      NaN      0.000000  \n",
       "max          99.000000      NaN      1.000000  "
      ]
     },
     "execution_count": 13,
     "metadata": {},
     "output_type": "execute_result"
    }
   ],
   "source": [
    "df_recod.describe(include= 'all')"
   ]
  },
  {
   "cell_type": "markdown",
   "metadata": {},
   "source": [
    "Observamos que existen 5 variables numéricas:\n",
    "    - age, capital-gain, capital-loss, fnlwgt, hours-per-week\n",
    "\n",
    "\n",
    "Adicionalmente análizamos los casos perdidos y vemos que la variable con mayor cantidad de valores perdidos es collar, que corresponde a la ocupación"
   ]
  },
  {
   "cell_type": "code",
   "execution_count": 14,
   "metadata": {},
   "outputs": [
    {
     "name": "stdout",
     "output_type": "stream",
     "text": [
      "Variable:  age || Valores perdidos:  0 \n",
      "\n",
      "Variable:  workclass_recod || Valores perdidos:  2799 \n",
      "\n",
      "Variable:  educ_recod || Valores perdidos:  0 \n",
      "\n",
      "Variable:  capital-gain || Valores perdidos:  0 \n",
      "\n",
      "Variable:  capital-loss || Valores perdidos:  0 \n",
      "\n",
      "Variable:  fnlwgt || Valores perdidos:  0 \n",
      "\n",
      "Variable:  civstatus || Valores perdidos:  0 \n",
      "\n",
      "Variable:  collar || Valores perdidos:  2809 \n",
      "\n",
      "Variable:  relationship || Valores perdidos:  0 \n",
      "\n",
      "Variable:  race || Valores perdidos:  0 \n",
      "\n",
      "Variable:  gender || Valores perdidos:  0 \n",
      "\n",
      "Variable:  hours-per-week || Valores perdidos:  0 \n",
      "\n",
      "Variable:  region || Valores perdidos:  857 \n",
      "\n",
      "Variable:  income_recod || Valores perdidos:  0 \n",
      "\n"
     ]
    }
   ],
   "source": [
    "fs.valores_perdidos(df_recod)"
   ]
  },
  {
   "cell_type": "markdown",
   "metadata": {},
   "source": [
    "Eliminamos las celdas con valores perdidos"
   ]
  },
  {
   "cell_type": "code",
   "execution_count": 15,
   "metadata": {},
   "outputs": [
    {
     "name": "stdout",
     "output_type": "stream",
     "text": [
      "Se eliminaron 3620 observaciones del data set\n"
     ]
    }
   ],
   "source": [
    "df_recod = df_recod.dropna()\n",
    "print(f'Se eliminaron {df.shape[0] - df_recod.shape[0]} observaciones del data set')"
   ]
  },
  {
   "cell_type": "markdown",
   "metadata": {},
   "source": [
    "**Inspección variable objetivo** "
   ]
  },
  {
   "cell_type": "markdown",
   "metadata": {},
   "source": [
    "- Inspeccionamos las variables numéricas agrupadas por ingreso:"
   ]
  },
  {
   "cell_type": "code",
   "execution_count": 16,
   "metadata": {},
   "outputs": [
    {
     "data": {
      "text/html": [
       "<div>\n",
       "<style scoped>\n",
       "    .dataframe tbody tr th:only-of-type {\n",
       "        vertical-align: middle;\n",
       "    }\n",
       "\n",
       "    .dataframe tbody tr th {\n",
       "        vertical-align: top;\n",
       "    }\n",
       "\n",
       "    .dataframe thead th {\n",
       "        text-align: right;\n",
       "    }\n",
       "</style>\n",
       "<table border=\"1\" class=\"dataframe\">\n",
       "  <thead>\n",
       "    <tr style=\"text-align: right;\">\n",
       "      <th></th>\n",
       "      <th>age</th>\n",
       "      <th>capital-gain</th>\n",
       "      <th>capital-loss</th>\n",
       "      <th>fnlwgt</th>\n",
       "      <th>hours-per-week</th>\n",
       "    </tr>\n",
       "    <tr>\n",
       "      <th>income_recod</th>\n",
       "      <th></th>\n",
       "      <th></th>\n",
       "      <th></th>\n",
       "      <th></th>\n",
       "      <th></th>\n",
       "    </tr>\n",
       "  </thead>\n",
       "  <tbody>\n",
       "    <tr>\n",
       "      <th>0</th>\n",
       "      <td>36.749427</td>\n",
       "      <td>149.023402</td>\n",
       "      <td>54.032428</td>\n",
       "      <td>190175.214235</td>\n",
       "      <td>39.372023</td>\n",
       "    </tr>\n",
       "    <tr>\n",
       "      <th>1</th>\n",
       "      <td>44.006067</td>\n",
       "      <td>3991.791667</td>\n",
       "      <td>193.487063</td>\n",
       "      <td>188397.967345</td>\n",
       "      <td>45.690489</td>\n",
       "    </tr>\n",
       "  </tbody>\n",
       "</table>\n",
       "</div>"
      ],
      "text/plain": [
       "                    age  capital-gain  capital-loss         fnlwgt  \\\n",
       "income_recod                                                         \n",
       "0             36.749427    149.023402     54.032428  190175.214235   \n",
       "1             44.006067   3991.791667    193.487063  188397.967345   \n",
       "\n",
       "              hours-per-week  \n",
       "income_recod                  \n",
       "0                  39.372023  \n",
       "1                  45.690489  "
      ]
     },
     "execution_count": 16,
     "metadata": {},
     "output_type": "execute_result"
    }
   ],
   "source": [
    "df_recod.groupby('income_recod').mean()"
   ]
  },
  {
   "cell_type": "markdown",
   "metadata": {},
   "source": [
    "Se observa que las personas con ingreso sobre 50K tienen una edad promedio mayor, asimismo el ingreso y perdida promedio generadas por inversiones fuera del trabajo es mayor respecto a las personas con ingreso inferior o igual a 50K. además se observa que el promedio de horas trabajadas por semana es mayor para las personas con ingreso >50K"
   ]
  },
  {
   "cell_type": "markdown",
   "metadata": {},
   "source": [
    "- Inspeccionamos algunas las variables categoricas: "
   ]
  },
  {
   "cell_type": "code",
   "execution_count": 17,
   "metadata": {},
   "outputs": [
    {
     "data": {
      "text/html": [
       "<div>\n",
       "<style scoped>\n",
       "    .dataframe tbody tr th:only-of-type {\n",
       "        vertical-align: middle;\n",
       "    }\n",
       "\n",
       "    .dataframe tbody tr th {\n",
       "        vertical-align: top;\n",
       "    }\n",
       "\n",
       "    .dataframe thead th {\n",
       "        text-align: right;\n",
       "    }\n",
       "</style>\n",
       "<table border=\"1\" class=\"dataframe\">\n",
       "  <thead>\n",
       "    <tr style=\"text-align: right;\">\n",
       "      <th></th>\n",
       "      <th>age</th>\n",
       "      <th>capital-gain</th>\n",
       "      <th>capital-loss</th>\n",
       "      <th>fnlwgt</th>\n",
       "      <th>hours-per-week</th>\n",
       "      <th>income_recod</th>\n",
       "    </tr>\n",
       "    <tr>\n",
       "      <th>workclass_recod</th>\n",
       "      <th></th>\n",
       "      <th></th>\n",
       "      <th></th>\n",
       "      <th></th>\n",
       "      <th></th>\n",
       "      <th></th>\n",
       "    </tr>\n",
       "  </thead>\n",
       "  <tbody>\n",
       "    <tr>\n",
       "      <th>federal-gov</th>\n",
       "      <td>42.593172</td>\n",
       "      <td>924.485064</td>\n",
       "      <td>109.179943</td>\n",
       "      <td>183752.510669</td>\n",
       "      <td>41.433144</td>\n",
       "      <td>0.390469</td>\n",
       "    </tr>\n",
       "    <tr>\n",
       "      <th>private</th>\n",
       "      <td>36.889633</td>\n",
       "      <td>886.123127</td>\n",
       "      <td>80.611223</td>\n",
       "      <td>192616.517429</td>\n",
       "      <td>40.258925</td>\n",
       "      <td>0.217702</td>\n",
       "    </tr>\n",
       "    <tr>\n",
       "      <th>self-employed</th>\n",
       "      <td>45.499449</td>\n",
       "      <td>2784.520581</td>\n",
       "      <td>126.465454</td>\n",
       "      <td>176236.583058</td>\n",
       "      <td>45.684123</td>\n",
       "      <td>0.362183</td>\n",
       "    </tr>\n",
       "    <tr>\n",
       "      <th>state-level-gov</th>\n",
       "      <td>40.833333</td>\n",
       "      <td>759.960959</td>\n",
       "      <td>94.713635</td>\n",
       "      <td>187028.208086</td>\n",
       "      <td>40.193024</td>\n",
       "      <td>0.284384</td>\n",
       "    </tr>\n",
       "    <tr>\n",
       "      <th>unemployed</th>\n",
       "      <td>47.285714</td>\n",
       "      <td>325.238095</td>\n",
       "      <td>89.857143</td>\n",
       "      <td>167902.666667</td>\n",
       "      <td>33.952381</td>\n",
       "      <td>0.095238</td>\n",
       "    </tr>\n",
       "  </tbody>\n",
       "</table>\n",
       "</div>"
      ],
      "text/plain": [
       "                       age  capital-gain  capital-loss         fnlwgt  \\\n",
       "workclass_recod                                                         \n",
       "federal-gov      42.593172    924.485064    109.179943  183752.510669   \n",
       "private          36.889633    886.123127     80.611223  192616.517429   \n",
       "self-employed    45.499449   2784.520581    126.465454  176236.583058   \n",
       "state-level-gov  40.833333    759.960959     94.713635  187028.208086   \n",
       "unemployed       47.285714    325.238095     89.857143  167902.666667   \n",
       "\n",
       "                 hours-per-week  income_recod  \n",
       "workclass_recod                                \n",
       "federal-gov           41.433144      0.390469  \n",
       "private               40.258925      0.217702  \n",
       "self-employed         45.684123      0.362183  \n",
       "state-level-gov       40.193024      0.284384  \n",
       "unemployed            33.952381      0.095238  "
      ]
     },
     "execution_count": 17,
     "metadata": {},
     "output_type": "execute_result"
    }
   ],
   "source": [
    "df_recod.groupby('workclass_recod').mean()"
   ]
  },
  {
   "cell_type": "markdown",
   "metadata": {},
   "source": [
    "comentario sobre workclass: Se observa que las personas que trabajan por cuenta propia poseen mayor ingreso promedio generado por inversiones que el resto de llas clases de trabajo "
   ]
  },
  {
   "cell_type": "code",
   "execution_count": 17,
   "metadata": {},
   "outputs": [
    {
     "data": {
      "text/html": [
       "<div>\n",
       "<style scoped>\n",
       "    .dataframe tbody tr th:only-of-type {\n",
       "        vertical-align: middle;\n",
       "    }\n",
       "\n",
       "    .dataframe tbody tr th {\n",
       "        vertical-align: top;\n",
       "    }\n",
       "\n",
       "    .dataframe thead th {\n",
       "        text-align: right;\n",
       "    }\n",
       "</style>\n",
       "<table border=\"1\" class=\"dataframe\">\n",
       "  <thead>\n",
       "    <tr style=\"text-align: right;\">\n",
       "      <th></th>\n",
       "      <th>age</th>\n",
       "      <th>capital-gain</th>\n",
       "      <th>capital-loss</th>\n",
       "      <th>fnlwgt</th>\n",
       "      <th>hours-per-week</th>\n",
       "      <th>income_recod</th>\n",
       "    </tr>\n",
       "    <tr>\n",
       "      <th>educ_recod</th>\n",
       "      <th></th>\n",
       "      <th></th>\n",
       "      <th></th>\n",
       "      <th></th>\n",
       "      <th></th>\n",
       "      <th></th>\n",
       "    </tr>\n",
       "  </thead>\n",
       "  <tbody>\n",
       "    <tr>\n",
       "      <th>Preschool</th>\n",
       "      <td>41.097222</td>\n",
       "      <td>843.833333</td>\n",
       "      <td>47.097222</td>\n",
       "      <td>234546.388889</td>\n",
       "      <td>36.791667</td>\n",
       "      <td>0.013889</td>\n",
       "    </tr>\n",
       "    <tr>\n",
       "      <th>college</th>\n",
       "      <td>36.636214</td>\n",
       "      <td>605.069734</td>\n",
       "      <td>75.300187</td>\n",
       "      <td>188735.377478</td>\n",
       "      <td>40.078189</td>\n",
       "      <td>0.216386</td>\n",
       "    </tr>\n",
       "    <tr>\n",
       "      <th>elementary-school</th>\n",
       "      <td>43.353204</td>\n",
       "      <td>298.609538</td>\n",
       "      <td>63.783905</td>\n",
       "      <td>236164.365127</td>\n",
       "      <td>38.953800</td>\n",
       "      <td>0.044709</td>\n",
       "    </tr>\n",
       "    <tr>\n",
       "      <th>high-school</th>\n",
       "      <td>38.492107</td>\n",
       "      <td>501.490483</td>\n",
       "      <td>64.510989</td>\n",
       "      <td>190495.681844</td>\n",
       "      <td>40.034922</td>\n",
       "      <td>0.138216</td>\n",
       "    </tr>\n",
       "    <tr>\n",
       "      <th>university</th>\n",
       "      <td>40.584421</td>\n",
       "      <td>2767.119863</td>\n",
       "      <td>147.459388</td>\n",
       "      <td>186579.057040</td>\n",
       "      <td>43.646631</td>\n",
       "      <td>0.487339</td>\n",
       "    </tr>\n",
       "  </tbody>\n",
       "</table>\n",
       "</div>"
      ],
      "text/plain": [
       "                         age  capital-gain  capital-loss         fnlwgt  \\\n",
       "educ_recod                                                                \n",
       "Preschool          41.097222    843.833333     47.097222  234546.388889   \n",
       "college            36.636214    605.069734     75.300187  188735.377478   \n",
       "elementary-school  43.353204    298.609538     63.783905  236164.365127   \n",
       "high-school        38.492107    501.490483     64.510989  190495.681844   \n",
       "university         40.584421   2767.119863    147.459388  186579.057040   \n",
       "\n",
       "                   hours-per-week  income_recod  \n",
       "educ_recod                                       \n",
       "Preschool               36.791667      0.013889  \n",
       "college                 40.078189      0.216386  \n",
       "elementary-school       38.953800      0.044709  \n",
       "high-school             40.034922      0.138216  \n",
       "university              43.646631      0.487339  "
      ]
     },
     "execution_count": 17,
     "metadata": {},
     "output_type": "execute_result"
    }
   ],
   "source": [
    "df_recod.groupby('educ_recod').mean()"
   ]
  },
  {
   "cell_type": "markdown",
   "metadata": {},
   "source": [
    "comentario sobre educ: se observa que las personas con educación universitaria tienen mayor ingreso promedio por inversiones respecto a las otras clases. Además las personas con educación universitaria poseen un mayor promedio en income_recod, lo que podría indicarnos que el ingreso sobre 50K puede estar fuertemente relacionado al nivel de educación universitario "
   ]
  },
  {
   "cell_type": "code",
   "execution_count": 18,
   "metadata": {
    "scrolled": true
   },
   "outputs": [
    {
     "data": {
      "text/html": [
       "<div>\n",
       "<style scoped>\n",
       "    .dataframe tbody tr th:only-of-type {\n",
       "        vertical-align: middle;\n",
       "    }\n",
       "\n",
       "    .dataframe tbody tr th {\n",
       "        vertical-align: top;\n",
       "    }\n",
       "\n",
       "    .dataframe thead th {\n",
       "        text-align: right;\n",
       "    }\n",
       "</style>\n",
       "<table border=\"1\" class=\"dataframe\">\n",
       "  <thead>\n",
       "    <tr style=\"text-align: right;\">\n",
       "      <th></th>\n",
       "      <th>age</th>\n",
       "      <th>capital-gain</th>\n",
       "      <th>capital-loss</th>\n",
       "      <th>fnlwgt</th>\n",
       "      <th>hours-per-week</th>\n",
       "      <th>income_recod</th>\n",
       "    </tr>\n",
       "    <tr>\n",
       "      <th>relationship</th>\n",
       "      <th></th>\n",
       "      <th></th>\n",
       "      <th></th>\n",
       "      <th></th>\n",
       "      <th></th>\n",
       "      <th></th>\n",
       "    </tr>\n",
       "  </thead>\n",
       "  <tbody>\n",
       "    <tr>\n",
       "      <th>Husband</th>\n",
       "      <td>43.357388</td>\n",
       "      <td>1776.909782</td>\n",
       "      <td>123.286403</td>\n",
       "      <td>187094.066860</td>\n",
       "      <td>44.610683</td>\n",
       "      <td>0.455748</td>\n",
       "    </tr>\n",
       "    <tr>\n",
       "      <th>Not-in-family</th>\n",
       "      <td>38.041702</td>\n",
       "      <td>812.411981</td>\n",
       "      <td>77.097505</td>\n",
       "      <td>190760.198599</td>\n",
       "      <td>41.039566</td>\n",
       "      <td>0.104939</td>\n",
       "    </tr>\n",
       "    <tr>\n",
       "      <th>Other-relative</th>\n",
       "      <td>33.498147</td>\n",
       "      <td>213.679021</td>\n",
       "      <td>53.180875</td>\n",
       "      <td>204134.913269</td>\n",
       "      <td>37.323944</td>\n",
       "      <td>0.037064</td>\n",
       "    </tr>\n",
       "    <tr>\n",
       "      <th>Own-child</th>\n",
       "      <td>25.210534</td>\n",
       "      <td>188.226230</td>\n",
       "      <td>39.609267</td>\n",
       "      <td>194019.597193</td>\n",
       "      <td>33.320857</td>\n",
       "      <td>0.015847</td>\n",
       "    </tr>\n",
       "    <tr>\n",
       "      <th>Unmarried</th>\n",
       "      <td>40.294904</td>\n",
       "      <td>471.875731</td>\n",
       "      <td>47.211362</td>\n",
       "      <td>191361.588764</td>\n",
       "      <td>39.442565</td>\n",
       "      <td>0.063074</td>\n",
       "    </tr>\n",
       "    <tr>\n",
       "      <th>Wife</th>\n",
       "      <td>39.969393</td>\n",
       "      <td>1597.063128</td>\n",
       "      <td>116.098996</td>\n",
       "      <td>180975.285988</td>\n",
       "      <td>37.477762</td>\n",
       "      <td>0.485892</td>\n",
       "    </tr>\n",
       "  </tbody>\n",
       "</table>\n",
       "</div>"
      ],
      "text/plain": [
       "                      age  capital-gain  capital-loss         fnlwgt  \\\n",
       "relationship                                                           \n",
       "Husband         43.357388   1776.909782    123.286403  187094.066860   \n",
       "Not-in-family   38.041702    812.411981     77.097505  190760.198599   \n",
       "Other-relative  33.498147    213.679021     53.180875  204134.913269   \n",
       "Own-child       25.210534    188.226230     39.609267  194019.597193   \n",
       "Unmarried       40.294904    471.875731     47.211362  191361.588764   \n",
       "Wife            39.969393   1597.063128    116.098996  180975.285988   \n",
       "\n",
       "                hours-per-week  income_recod  \n",
       "relationship                                  \n",
       "Husband              44.610683      0.455748  \n",
       "Not-in-family        41.039566      0.104939  \n",
       "Other-relative       37.323944      0.037064  \n",
       "Own-child            33.320857      0.015847  \n",
       "Unmarried            39.442565      0.063074  \n",
       "Wife                 37.477762      0.485892  "
      ]
     },
     "execution_count": 18,
     "metadata": {},
     "output_type": "execute_result"
    }
   ],
   "source": [
    "df_recod.groupby('relationship').mean()"
   ]
  },
  {
   "cell_type": "markdown",
   "metadata": {},
   "source": [
    "comentario sobre relationship: Se obserba que las personas que tienen una relación respecto a su familia como 'Esposa' o 'Esposo' son las tienen un mayor promedio de ingresos e perdidas por inversión. Asimismo se observa que son las clases con mayor promedio en income_recod"
   ]
  },
  {
   "cell_type": "markdown",
   "metadata": {},
   "source": [
    "**Inspección visual de las variables**"
   ]
  },
  {
   "cell_type": "code",
   "execution_count": 19,
   "metadata": {},
   "outputs": [
    {
     "data": {
      "image/png": "[encoded data removed]",
      "text/plain": [
       "<Figure size 1296x360 with 3 Axes>"
      ]
     },
     "metadata": {
      "needs_background": "light"
     },
     "output_type": "display_data"
    }
   ],
   "source": [
    "fs.histograma_clases(df_recod, 'age', 'income_recod', 15)"
   ]
  },
  {
   "cell_type": "markdown",
   "metadata": {},
   "source": [
    "comentario: Como se observa en la distribución de edades categorizadas por clase, se puede ver que las personas con ingreso menor o igual a 50K presentan una distribución asimetrica con sesgo positivo. Además la media de edad de estas personas es menor (36.7) que la edad promedio de la clase con ingresos mayores a 50K (media: 44 años) "
   ]
  },
  {
   "cell_type": "code",
   "execution_count": 20,
   "metadata": {
    "scrolled": true
   },
   "outputs": [
    {
     "data": {
      "image/png": "[encoded data removed]",
      "text/plain": [
       "<Figure size 1296x360 with 3 Axes>"
      ]
     },
     "metadata": {
      "needs_background": "light"
     },
     "output_type": "display_data"
    }
   ],
   "source": [
    "fs.histograma_clases(df_recod, 'fnlwgt', 'income_recod', 15)"
   ]
  },
  {
   "cell_type": "code",
   "execution_count": 21,
   "metadata": {
    "scrolled": true
   },
   "outputs": [
    {
     "data": {
      "text/plain": [
       "<matplotlib.axes._subplots.AxesSubplot at 0x21fd7ef1490>"
      ]
     },
     "execution_count": 21,
     "metadata": {},
     "output_type": "execute_result"
    },
    {
     "data": {
      "image/png": "[encoded data removed]",
      "text/plain": [
       "<Figure size 432x288 with 1 Axes>"
      ]
     },
     "metadata": {
      "needs_background": "light"
     },
     "output_type": "display_data"
    }
   ],
   "source": [
    "plt.title('Observaciones agrupadas por región')\n",
    "sns.countplot(y= 'region', hue = 'income_recod', data= df_recod)"
   ]
  },
  {
   "cell_type": "markdown",
   "metadata": {},
   "source": [
    "Comentarios: Se observa que la clase mayoritaria para región es américa, por lo que el dataframe se encuentra desbalanceado para esta clase."
   ]
  },
  {
   "cell_type": "code",
   "execution_count": 22,
   "metadata": {},
   "outputs": [
    {
     "data": {
      "text/plain": [
       "<matplotlib.axes._subplots.AxesSubplot at 0x21fd7cab8e0>"
      ]
     },
     "execution_count": 22,
     "metadata": {},
     "output_type": "execute_result"
    },
    {
     "data": {
      "image/png": "[encoded data removed]",
      "text/plain": [
       "<Figure size 432x288 with 1 Axes>"
      ]
     },
     "metadata": {
      "needs_background": "light"
     },
     "output_type": "display_data"
    }
   ],
   "source": [
    "plt.title('Observaciones agrupadas por género')\n",
    "sns.countplot(y= 'gender', hue = 'income_recod', data= df_recod)"
   ]
  },
  {
   "cell_type": "markdown",
   "metadata": {},
   "source": [
    "comentarios: Se observa que existe la mayor proporción de personas que poseen ingresos superiores a 50k son de genero masculino"
   ]
  },
  {
   "cell_type": "code",
   "execution_count": 23,
   "metadata": {},
   "outputs": [
    {
     "data": {
      "text/plain": [
       "<matplotlib.axes._subplots.AxesSubplot at 0x21fd7cf08b0>"
      ]
     },
     "execution_count": 23,
     "metadata": {},
     "output_type": "execute_result"
    },
    {
     "data": {
      "image/png": "[encoded data removed]",
      "text/plain": [
       "<Figure size 432x288 with 1 Axes>"
      ]
     },
     "metadata": {
      "needs_background": "light"
     },
     "output_type": "display_data"
    }
   ],
   "source": [
    "plt.title('Observaciones agrupadas por educación')\n",
    "sns.countplot(y= 'educ_recod', hue = 'income_recod', data= df_recod)"
   ]
  },
  {
   "cell_type": "code",
   "execution_count": 24,
   "metadata": {},
   "outputs": [
    {
     "data": {
      "text/plain": [
       "<matplotlib.axes._subplots.AxesSubplot at 0x21fd78be550>"
      ]
     },
     "execution_count": 24,
     "metadata": {},
     "output_type": "execute_result"
    },
    {
     "data": {
      "image/png": "[encoded data removed]",
      "text/plain": [
       "<Figure size 432x288 with 1 Axes>"
      ]
     },
     "metadata": {
      "needs_background": "light"
     },
     "output_type": "display_data"
    }
   ],
   "source": [
    "plt.title('Observaciones agrupadas por trabajo')\n",
    "sns.countplot(y= 'workclass_recod', hue = 'income_recod', data= df_recod)"
   ]
  },
  {
   "cell_type": "code",
   "execution_count": 25,
   "metadata": {
    "scrolled": true
   },
   "outputs": [
    {
     "data": {
      "text/plain": [
       "<matplotlib.axes._subplots.AxesSubplot at 0x21fd69288b0>"
      ]
     },
     "execution_count": 25,
     "metadata": {},
     "output_type": "execute_result"
    },
    {
     "data": {
      "image/png": "[encoded data removed]",
      "text/plain": [
       "<Figure size 432x288 with 1 Axes>"
      ]
     },
     "metadata": {
      "needs_background": "light"
     },
     "output_type": "display_data"
    }
   ],
   "source": [
    "plt.title('Observaciones agrupadas por raza')\n",
    "sns.countplot(y= 'race', hue = 'income_recod', data= df_recod)"
   ]
  },
  {
   "cell_type": "markdown",
   "metadata": {},
   "source": [
    "**Aplicamos OneHotEncoding al DataFrame** "
   ]
  },
  {
   "cell_type": "markdown",
   "metadata": {},
   "source": [
    "Transformamos las variables de clases a binarias con el método de Pandas get_dummies"
   ]
  },
  {
   "cell_type": "code",
   "execution_count": 26,
   "metadata": {},
   "outputs": [
    {
     "data": {
      "text/html": [
       "<div>\n",
       "<style scoped>\n",
       "    .dataframe tbody tr th:only-of-type {\n",
       "        vertical-align: middle;\n",
       "    }\n",
       "\n",
       "    .dataframe tbody tr th {\n",
       "        vertical-align: top;\n",
       "    }\n",
       "\n",
       "    .dataframe thead th {\n",
       "        text-align: right;\n",
       "    }\n",
       "</style>\n",
       "<table border=\"1\" class=\"dataframe\">\n",
       "  <thead>\n",
       "    <tr style=\"text-align: right;\">\n",
       "      <th></th>\n",
       "      <th>age</th>\n",
       "      <th>capital-gain</th>\n",
       "      <th>capital-loss</th>\n",
       "      <th>fnlwgt</th>\n",
       "      <th>hours-per-week</th>\n",
       "      <th>income_recod</th>\n",
       "      <th>workclass_recod_private</th>\n",
       "      <th>workclass_recod_self-employed</th>\n",
       "      <th>workclass_recod_state-level-gov</th>\n",
       "      <th>workclass_recod_unemployed</th>\n",
       "      <th>...</th>\n",
       "      <th>relationship_Own-child</th>\n",
       "      <th>relationship_Unmarried</th>\n",
       "      <th>relationship_Wife</th>\n",
       "      <th>race_Asian-Pac-Islander</th>\n",
       "      <th>race_Black</th>\n",
       "      <th>race_Other</th>\n",
       "      <th>race_White</th>\n",
       "      <th>gender_Male</th>\n",
       "      <th>region_asia</th>\n",
       "      <th>region_europe</th>\n",
       "    </tr>\n",
       "  </thead>\n",
       "  <tbody>\n",
       "    <tr>\n",
       "      <th>34137</th>\n",
       "      <td>57</td>\n",
       "      <td>0</td>\n",
       "      <td>0</td>\n",
       "      <td>237691</td>\n",
       "      <td>40</td>\n",
       "      <td>0</td>\n",
       "      <td>1</td>\n",
       "      <td>0</td>\n",
       "      <td>0</td>\n",
       "      <td>0</td>\n",
       "      <td>...</td>\n",
       "      <td>0</td>\n",
       "      <td>0</td>\n",
       "      <td>0</td>\n",
       "      <td>0</td>\n",
       "      <td>0</td>\n",
       "      <td>0</td>\n",
       "      <td>1</td>\n",
       "      <td>1</td>\n",
       "      <td>0</td>\n",
       "      <td>0</td>\n",
       "    </tr>\n",
       "  </tbody>\n",
       "</table>\n",
       "<p>1 rows × 32 columns</p>\n",
       "</div>"
      ],
      "text/plain": [
       "       age  capital-gain  capital-loss  fnlwgt  hours-per-week  income_recod  \\\n",
       "34137   57             0             0  237691              40             0   \n",
       "\n",
       "       workclass_recod_private  workclass_recod_self-employed  \\\n",
       "34137                        1                              0   \n",
       "\n",
       "       workclass_recod_state-level-gov  workclass_recod_unemployed  ...  \\\n",
       "34137                                0                           0  ...   \n",
       "\n",
       "       relationship_Own-child  relationship_Unmarried  relationship_Wife  \\\n",
       "34137                       0                       0                  0   \n",
       "\n",
       "       race_Asian-Pac-Islander  race_Black  race_Other  race_White  \\\n",
       "34137                        0           0           0           1   \n",
       "\n",
       "       gender_Male  region_asia  region_europe  \n",
       "34137            1            0              0  \n",
       "\n",
       "[1 rows x 32 columns]"
      ]
     },
     "execution_count": 26,
     "metadata": {},
     "output_type": "execute_result"
    }
   ],
   "source": [
    "df_dummy = pd.get_dummies(df_recod, drop_first= True)\n",
    "df_dummy.sample()"
   ]
  },
  {
   "cell_type": "code",
   "execution_count": 52,
   "metadata": {},
   "outputs": [
    {
     "data": {
      "text/plain": [
       "Index(['age', 'capital_gain', 'capital_loss', 'fnlwgt', 'hours_per_week',\n",
       "       'income_recod', 'workclass_recod_private',\n",
       "       'workclass_recod_self_employed', 'workclass_recod_state_level_gov',\n",
       "       'workclass_recod_unemployed', 'educ_recod_college',\n",
       "       'educ_recod_elementary_school', 'educ_recod_high_school',\n",
       "       'educ_recod_university', 'civstatus_divorced', 'civstatus_married',\n",
       "       'civstatus_separated', 'civstatus_widowed', 'collar_others',\n",
       "       'collar_white_collar', 'relationship_not_in_family',\n",
       "       'relationship_other_relative', 'relationship_own_child',\n",
       "       'relationship_unmarried', 'relationship_wife',\n",
       "       'race_asian_pac_islander', 'race_black', 'race_other', 'race_white',\n",
       "       'gender_male', 'region_asia', 'region_europe'],\n",
       "      dtype='object')"
      ]
     },
     "execution_count": 52,
     "metadata": {},
     "output_type": "execute_result"
    }
   ],
   "source": [
    "df_dummy.columns"
   ]
  },
  {
   "cell_type": "code",
   "execution_count": 28,
   "metadata": {},
   "outputs": [
    {
     "name": "stdout",
     "output_type": "stream",
     "text": [
      "Se crearon 18 columnas binarias\n"
     ]
    }
   ],
   "source": [
    "print(f'Se crearon {df_dummy.shape[1] - df_recod.shape[1]} columnas binarias')"
   ]
  },
  {
   "cell_type": "markdown",
   "metadata": {},
   "source": [
    "Hacemos una iteración para estandarizar el nombre de las columnas, convirtiendo todos los guiones a guión bajo y letra minúscula"
   ]
  },
  {
   "cell_type": "code",
   "execution_count": 29,
   "metadata": {},
   "outputs": [],
   "source": [
    "for col_name in list(df_dummy.columns):\n",
    "    df_dummy.rename(columns= {col_name: col_name.replace('-','_').lower()}, inplace = True)"
   ]
  },
  {
   "cell_type": "code",
   "execution_count": 30,
   "metadata": {},
   "outputs": [
    {
     "data": {
      "text/html": [
       "<div>\n",
       "<style scoped>\n",
       "    .dataframe tbody tr th:only-of-type {\n",
       "        vertical-align: middle;\n",
       "    }\n",
       "\n",
       "    .dataframe tbody tr th {\n",
       "        vertical-align: top;\n",
       "    }\n",
       "\n",
       "    .dataframe thead th {\n",
       "        text-align: right;\n",
       "    }\n",
       "</style>\n",
       "<table border=\"1\" class=\"dataframe\">\n",
       "  <thead>\n",
       "    <tr style=\"text-align: right;\">\n",
       "      <th></th>\n",
       "      <th>age</th>\n",
       "      <th>capital_gain</th>\n",
       "      <th>capital_loss</th>\n",
       "      <th>fnlwgt</th>\n",
       "      <th>hours_per_week</th>\n",
       "      <th>income_recod</th>\n",
       "      <th>workclass_recod_private</th>\n",
       "      <th>workclass_recod_self_employed</th>\n",
       "      <th>workclass_recod_state_level_gov</th>\n",
       "      <th>workclass_recod_unemployed</th>\n",
       "      <th>...</th>\n",
       "      <th>relationship_own_child</th>\n",
       "      <th>relationship_unmarried</th>\n",
       "      <th>relationship_wife</th>\n",
       "      <th>race_asian_pac_islander</th>\n",
       "      <th>race_black</th>\n",
       "      <th>race_other</th>\n",
       "      <th>race_white</th>\n",
       "      <th>gender_male</th>\n",
       "      <th>region_asia</th>\n",
       "      <th>region_europe</th>\n",
       "    </tr>\n",
       "  </thead>\n",
       "  <tbody>\n",
       "    <tr>\n",
       "      <th>0</th>\n",
       "      <td>25</td>\n",
       "      <td>0</td>\n",
       "      <td>0</td>\n",
       "      <td>226802</td>\n",
       "      <td>40</td>\n",
       "      <td>0</td>\n",
       "      <td>1</td>\n",
       "      <td>0</td>\n",
       "      <td>0</td>\n",
       "      <td>0</td>\n",
       "      <td>...</td>\n",
       "      <td>1</td>\n",
       "      <td>0</td>\n",
       "      <td>0</td>\n",
       "      <td>0</td>\n",
       "      <td>1</td>\n",
       "      <td>0</td>\n",
       "      <td>0</td>\n",
       "      <td>1</td>\n",
       "      <td>0</td>\n",
       "      <td>0</td>\n",
       "    </tr>\n",
       "    <tr>\n",
       "      <th>1</th>\n",
       "      <td>38</td>\n",
       "      <td>0</td>\n",
       "      <td>0</td>\n",
       "      <td>89814</td>\n",
       "      <td>50</td>\n",
       "      <td>0</td>\n",
       "      <td>1</td>\n",
       "      <td>0</td>\n",
       "      <td>0</td>\n",
       "      <td>0</td>\n",
       "      <td>...</td>\n",
       "      <td>0</td>\n",
       "      <td>0</td>\n",
       "      <td>0</td>\n",
       "      <td>0</td>\n",
       "      <td>0</td>\n",
       "      <td>0</td>\n",
       "      <td>1</td>\n",
       "      <td>1</td>\n",
       "      <td>0</td>\n",
       "      <td>0</td>\n",
       "    </tr>\n",
       "    <tr>\n",
       "      <th>2</th>\n",
       "      <td>28</td>\n",
       "      <td>0</td>\n",
       "      <td>0</td>\n",
       "      <td>336951</td>\n",
       "      <td>40</td>\n",
       "      <td>1</td>\n",
       "      <td>0</td>\n",
       "      <td>0</td>\n",
       "      <td>1</td>\n",
       "      <td>0</td>\n",
       "      <td>...</td>\n",
       "      <td>0</td>\n",
       "      <td>0</td>\n",
       "      <td>0</td>\n",
       "      <td>0</td>\n",
       "      <td>0</td>\n",
       "      <td>0</td>\n",
       "      <td>1</td>\n",
       "      <td>1</td>\n",
       "      <td>0</td>\n",
       "      <td>0</td>\n",
       "    </tr>\n",
       "    <tr>\n",
       "      <th>3</th>\n",
       "      <td>44</td>\n",
       "      <td>7688</td>\n",
       "      <td>0</td>\n",
       "      <td>160323</td>\n",
       "      <td>40</td>\n",
       "      <td>1</td>\n",
       "      <td>1</td>\n",
       "      <td>0</td>\n",
       "      <td>0</td>\n",
       "      <td>0</td>\n",
       "      <td>...</td>\n",
       "      <td>0</td>\n",
       "      <td>0</td>\n",
       "      <td>0</td>\n",
       "      <td>0</td>\n",
       "      <td>1</td>\n",
       "      <td>0</td>\n",
       "      <td>0</td>\n",
       "      <td>1</td>\n",
       "      <td>0</td>\n",
       "      <td>0</td>\n",
       "    </tr>\n",
       "    <tr>\n",
       "      <th>5</th>\n",
       "      <td>34</td>\n",
       "      <td>0</td>\n",
       "      <td>0</td>\n",
       "      <td>198693</td>\n",
       "      <td>30</td>\n",
       "      <td>0</td>\n",
       "      <td>1</td>\n",
       "      <td>0</td>\n",
       "      <td>0</td>\n",
       "      <td>0</td>\n",
       "      <td>...</td>\n",
       "      <td>0</td>\n",
       "      <td>0</td>\n",
       "      <td>0</td>\n",
       "      <td>0</td>\n",
       "      <td>0</td>\n",
       "      <td>0</td>\n",
       "      <td>1</td>\n",
       "      <td>1</td>\n",
       "      <td>0</td>\n",
       "      <td>0</td>\n",
       "    </tr>\n",
       "  </tbody>\n",
       "</table>\n",
       "<p>5 rows × 32 columns</p>\n",
       "</div>"
      ],
      "text/plain": [
       "   age  capital_gain  capital_loss  fnlwgt  hours_per_week  income_recod  \\\n",
       "0   25             0             0  226802              40             0   \n",
       "1   38             0             0   89814              50             0   \n",
       "2   28             0             0  336951              40             1   \n",
       "3   44          7688             0  160323              40             1   \n",
       "5   34             0             0  198693              30             0   \n",
       "\n",
       "   workclass_recod_private  workclass_recod_self_employed  \\\n",
       "0                        1                              0   \n",
       "1                        1                              0   \n",
       "2                        0                              0   \n",
       "3                        1                              0   \n",
       "5                        1                              0   \n",
       "\n",
       "   workclass_recod_state_level_gov  workclass_recod_unemployed  ...  \\\n",
       "0                                0                           0  ...   \n",
       "1                                0                           0  ...   \n",
       "2                                1                           0  ...   \n",
       "3                                0                           0  ...   \n",
       "5                                0                           0  ...   \n",
       "\n",
       "   relationship_own_child  relationship_unmarried  relationship_wife  \\\n",
       "0                       1                       0                  0   \n",
       "1                       0                       0                  0   \n",
       "2                       0                       0                  0   \n",
       "3                       0                       0                  0   \n",
       "5                       0                       0                  0   \n",
       "\n",
       "   race_asian_pac_islander  race_black  race_other  race_white  gender_male  \\\n",
       "0                        0           1           0           0            1   \n",
       "1                        0           0           0           1            1   \n",
       "2                        0           0           0           1            1   \n",
       "3                        0           1           0           0            1   \n",
       "5                        0           0           0           1            1   \n",
       "\n",
       "   region_asia  region_europe  \n",
       "0            0              0  \n",
       "1            0              0  \n",
       "2            0              0  \n",
       "3            0              0  \n",
       "5            0              0  \n",
       "\n",
       "[5 rows x 32 columns]"
      ]
     },
     "execution_count": 30,
     "metadata": {},
     "output_type": "execute_result"
    }
   ],
   "source": [
    "df_dummy.head()"
   ]
  },
  {
   "cell_type": "markdown",
   "metadata": {},
   "source": [
    "<h3 style=\"color:#004d80\"> Modelación descriptiva </h3>\n",
    "En esta sección se busca definir cuáles son los principales determinantes del objeto de estudio."
   ]
  },
  {
   "cell_type": "markdown",
   "metadata": {},
   "source": [
    "Definimos la variable objetivo y la lista de las variables independientes"
   ]
  },
  {
   "cell_type": "code",
   "execution_count": 31,
   "metadata": {},
   "outputs": [],
   "source": [
    "y_var = ['income_recod']\n",
    "x_var = list(df_dummy.columns)\n",
    "x_var.remove('income_recod')"
   ]
  },
  {
   "cell_type": "code",
   "execution_count": 32,
   "metadata": {},
   "outputs": [],
   "source": [
    "x_var_logit = ' + '.join(x_var)"
   ]
  },
  {
   "cell_type": "code",
   "execution_count": 33,
   "metadata": {},
   "outputs": [
    {
     "data": {
      "text/plain": [
       "'age + capital_gain + capital_loss + fnlwgt + hours_per_week + workclass_recod_private + workclass_recod_self_employed + workclass_recod_state_level_gov + workclass_recod_unemployed + educ_recod_college + educ_recod_elementary_school + educ_recod_high_school + educ_recod_university + civstatus_divorced + civstatus_married + civstatus_separated + civstatus_widowed + collar_others + collar_white_collar + relationship_not_in_family + relationship_other_relative + relationship_own_child + relationship_unmarried + relationship_wife + race_asian_pac_islander + race_black + race_other + race_white + gender_male + region_asia + region_europe'"
      ]
     },
     "execution_count": 33,
     "metadata": {},
     "output_type": "execute_result"
    }
   ],
   "source": [
    "x_var_logit"
   ]
  },
  {
   "cell_type": "code",
   "execution_count": 34,
   "metadata": {},
   "outputs": [
    {
     "name": "stdout",
     "output_type": "stream",
     "text": [
      "Optimization terminated successfully.\n",
      "         Current function value: 0.335416\n",
      "         Iterations 11\n"
     ]
    }
   ],
   "source": [
    "modelo_logit = smf.logit( 'income_recod ~' + x_var_logit , df_dummy).fit()"
   ]
  },
  {
   "cell_type": "code",
   "execution_count": 35,
   "metadata": {},
   "outputs": [
    {
     "data": {
      "text/html": [
       "<table class=\"simpletable\">\n",
       "<caption>Logit Regression Results</caption>\n",
       "<tr>\n",
       "  <th>Dep. Variable:</th>     <td>income_recod</td>   <th>  No. Observations:  </th>  <td> 45222</td> \n",
       "</tr>\n",
       "<tr>\n",
       "  <th>Model:</th>                 <td>Logit</td>      <th>  Df Residuals:      </th>  <td> 45190</td> \n",
       "</tr>\n",
       "<tr>\n",
       "  <th>Method:</th>                 <td>MLE</td>       <th>  Df Model:          </th>  <td>    31</td> \n",
       "</tr>\n",
       "<tr>\n",
       "  <th>Date:</th>            <td>Mon, 07 Dec 2020</td> <th>  Pseudo R-squ.:     </th>  <td>0.4010</td> \n",
       "</tr>\n",
       "<tr>\n",
       "  <th>Time:</th>                <td>15:03:40</td>     <th>  Log-Likelihood:    </th> <td> -15168.</td>\n",
       "</tr>\n",
       "<tr>\n",
       "  <th>converged:</th>             <td>True</td>       <th>  LL-Null:           </th> <td> -25322.</td>\n",
       "</tr>\n",
       "<tr>\n",
       "  <th>Covariance Type:</th>     <td>nonrobust</td>    <th>  LLR p-value:       </th>  <td> 0.000</td> \n",
       "</tr>\n",
       "</table>\n",
       "<table class=\"simpletable\">\n",
       "<tr>\n",
       "                 <td></td>                    <th>coef</th>     <th>std err</th>      <th>z</th>      <th>P>|z|</th>  <th>[0.025</th>    <th>0.975]</th>  \n",
       "</tr>\n",
       "<tr>\n",
       "  <th>Intercept</th>                       <td>  -11.9096</td> <td>    4.081</td> <td>   -2.918</td> <td> 0.004</td> <td>  -19.908</td> <td>   -3.911</td>\n",
       "</tr>\n",
       "<tr>\n",
       "  <th>age</th>                             <td>    0.0239</td> <td>    0.001</td> <td>   17.920</td> <td> 0.000</td> <td>    0.021</td> <td>    0.027</td>\n",
       "</tr>\n",
       "<tr>\n",
       "  <th>capital_gain</th>                    <td>    0.0003</td> <td> 8.56e-06</td> <td>   37.244</td> <td> 0.000</td> <td>    0.000</td> <td>    0.000</td>\n",
       "</tr>\n",
       "<tr>\n",
       "  <th>capital_loss</th>                    <td>    0.0007</td> <td> 3.05e-05</td> <td>   21.779</td> <td> 0.000</td> <td>    0.001</td> <td>    0.001</td>\n",
       "</tr>\n",
       "<tr>\n",
       "  <th>fnlwgt</th>                          <td>  6.97e-07</td> <td> 1.39e-07</td> <td>    5.009</td> <td> 0.000</td> <td> 4.24e-07</td> <td>  9.7e-07</td>\n",
       "</tr>\n",
       "<tr>\n",
       "  <th>hours_per_week</th>                  <td>    0.0300</td> <td>    0.001</td> <td>   22.913</td> <td> 0.000</td> <td>    0.027</td> <td>    0.033</td>\n",
       "</tr>\n",
       "<tr>\n",
       "  <th>workclass_recod_private</th>         <td>   -0.4798</td> <td>    0.075</td> <td>   -6.409</td> <td> 0.000</td> <td>   -0.627</td> <td>   -0.333</td>\n",
       "</tr>\n",
       "<tr>\n",
       "  <th>workclass_recod_self_employed</th>   <td>   -0.8012</td> <td>    0.082</td> <td>   -9.791</td> <td> 0.000</td> <td>   -0.962</td> <td>   -0.641</td>\n",
       "</tr>\n",
       "<tr>\n",
       "  <th>workclass_recod_state_level_gov</th> <td>   -0.5014</td> <td>    0.083</td> <td>   -6.006</td> <td> 0.000</td> <td>   -0.665</td> <td>   -0.338</td>\n",
       "</tr>\n",
       "<tr>\n",
       "  <th>workclass_recod_unemployed</th>      <td>   -1.4161</td> <td>    0.790</td> <td>   -1.792</td> <td> 0.073</td> <td>   -2.965</td> <td>    0.133</td>\n",
       "</tr>\n",
       "<tr>\n",
       "  <th>educ_recod_college</th>              <td>    6.5399</td> <td>    4.071</td> <td>    1.607</td> <td> 0.108</td> <td>   -1.439</td> <td>   14.519</td>\n",
       "</tr>\n",
       "<tr>\n",
       "  <th>educ_recod_elementary_school</th>    <td>    4.5894</td> <td>    4.076</td> <td>    1.126</td> <td> 0.260</td> <td>   -3.399</td> <td>   12.577</td>\n",
       "</tr>\n",
       "<tr>\n",
       "  <th>educ_recod_high_school</th>          <td>    5.9477</td> <td>    4.071</td> <td>    1.461</td> <td> 0.144</td> <td>   -2.031</td> <td>   13.926</td>\n",
       "</tr>\n",
       "<tr>\n",
       "  <th>educ_recod_university</th>           <td>    7.4437</td> <td>    4.071</td> <td>    1.828</td> <td> 0.067</td> <td>   -0.535</td> <td>   15.423</td>\n",
       "</tr>\n",
       "<tr>\n",
       "  <th>civstatus_divorced</th>              <td>    0.5095</td> <td>    0.072</td> <td>    7.080</td> <td> 0.000</td> <td>    0.368</td> <td>    0.651</td>\n",
       "</tr>\n",
       "<tr>\n",
       "  <th>civstatus_married</th>               <td>    1.2843</td> <td>    0.136</td> <td>    9.470</td> <td> 0.000</td> <td>    1.019</td> <td>    1.550</td>\n",
       "</tr>\n",
       "<tr>\n",
       "  <th>civstatus_separated</th>             <td>    0.4608</td> <td>    0.134</td> <td>    3.431</td> <td> 0.001</td> <td>    0.198</td> <td>    0.724</td>\n",
       "</tr>\n",
       "<tr>\n",
       "  <th>civstatus_widowed</th>               <td>    0.5912</td> <td>    0.132</td> <td>    4.492</td> <td> 0.000</td> <td>    0.333</td> <td>    0.849</td>\n",
       "</tr>\n",
       "<tr>\n",
       "  <th>collar_others</th>                   <td>   -0.7385</td> <td>    0.086</td> <td>   -8.546</td> <td> 0.000</td> <td>   -0.908</td> <td>   -0.569</td>\n",
       "</tr>\n",
       "<tr>\n",
       "  <th>collar_white_collar</th>             <td>    0.6687</td> <td>    0.035</td> <td>   19.051</td> <td> 0.000</td> <td>    0.600</td> <td>    0.738</td>\n",
       "</tr>\n",
       "<tr>\n",
       "  <th>relationship_not_in_family</th>      <td>   -0.9625</td> <td>    0.133</td> <td>   -7.250</td> <td> 0.000</td> <td>   -1.223</td> <td>   -0.702</td>\n",
       "</tr>\n",
       "<tr>\n",
       "  <th>relationship_other_relative</th>     <td>   -1.4671</td> <td>    0.186</td> <td>   -7.899</td> <td> 0.000</td> <td>   -1.831</td> <td>   -1.103</td>\n",
       "</tr>\n",
       "<tr>\n",
       "  <th>relationship_own_child</th>          <td>   -1.9909</td> <td>    0.165</td> <td>  -12.035</td> <td> 0.000</td> <td>   -2.315</td> <td>   -1.667</td>\n",
       "</tr>\n",
       "<tr>\n",
       "  <th>relationship_unmarried</th>          <td>   -1.2019</td> <td>    0.149</td> <td>   -8.050</td> <td> 0.000</td> <td>   -1.495</td> <td>   -0.909</td>\n",
       "</tr>\n",
       "<tr>\n",
       "  <th>relationship_wife</th>               <td>    1.0526</td> <td>    0.084</td> <td>   12.564</td> <td> 0.000</td> <td>    0.888</td> <td>    1.217</td>\n",
       "</tr>\n",
       "<tr>\n",
       "  <th>race_asian_pac_islander</th>         <td>    0.6790</td> <td>    0.219</td> <td>    3.106</td> <td> 0.002</td> <td>    0.250</td> <td>    1.107</td>\n",
       "</tr>\n",
       "<tr>\n",
       "  <th>race_black</th>                      <td>    0.2928</td> <td>    0.190</td> <td>    1.540</td> <td> 0.123</td> <td>   -0.080</td> <td>    0.665</td>\n",
       "</tr>\n",
       "<tr>\n",
       "  <th>race_other</th>                      <td>    0.2111</td> <td>    0.271</td> <td>    0.780</td> <td> 0.435</td> <td>   -0.319</td> <td>    0.742</td>\n",
       "</tr>\n",
       "<tr>\n",
       "  <th>race_white</th>                      <td>    0.5602</td> <td>    0.181</td> <td>    3.099</td> <td> 0.002</td> <td>    0.206</td> <td>    0.914</td>\n",
       "</tr>\n",
       "<tr>\n",
       "  <th>gender_male</th>                     <td>    0.7770</td> <td>    0.064</td> <td>   12.159</td> <td> 0.000</td> <td>    0.652</td> <td>    0.902</td>\n",
       "</tr>\n",
       "<tr>\n",
       "  <th>region_asia</th>                     <td>   -0.2175</td> <td>    0.144</td> <td>   -1.508</td> <td> 0.132</td> <td>   -0.500</td> <td>    0.065</td>\n",
       "</tr>\n",
       "<tr>\n",
       "  <th>region_europe</th>                   <td>    0.2060</td> <td>    0.105</td> <td>    1.963</td> <td> 0.050</td> <td>    0.000</td> <td>    0.412</td>\n",
       "</tr>\n",
       "</table>"
      ],
      "text/plain": [
       "<class 'statsmodels.iolib.summary.Summary'>\n",
       "\"\"\"\n",
       "                           Logit Regression Results                           \n",
       "==============================================================================\n",
       "Dep. Variable:           income_recod   No. Observations:                45222\n",
       "Model:                          Logit   Df Residuals:                    45190\n",
       "Method:                           MLE   Df Model:                           31\n",
       "Date:                Mon, 07 Dec 2020   Pseudo R-squ.:                  0.4010\n",
       "Time:                        15:03:40   Log-Likelihood:                -15168.\n",
       "converged:                       True   LL-Null:                       -25322.\n",
       "Covariance Type:            nonrobust   LLR p-value:                     0.000\n",
       "===================================================================================================\n",
       "                                      coef    std err          z      P>|z|      [0.025      0.975]\n",
       "---------------------------------------------------------------------------------------------------\n",
       "Intercept                         -11.9096      4.081     -2.918      0.004     -19.908      -3.911\n",
       "age                                 0.0239      0.001     17.920      0.000       0.021       0.027\n",
       "capital_gain                        0.0003   8.56e-06     37.244      0.000       0.000       0.000\n",
       "capital_loss                        0.0007   3.05e-05     21.779      0.000       0.001       0.001\n",
       "fnlwgt                            6.97e-07   1.39e-07      5.009      0.000    4.24e-07     9.7e-07\n",
       "hours_per_week                      0.0300      0.001     22.913      0.000       0.027       0.033\n",
       "workclass_recod_private            -0.4798      0.075     -6.409      0.000      -0.627      -0.333\n",
       "workclass_recod_self_employed      -0.8012      0.082     -9.791      0.000      -0.962      -0.641\n",
       "workclass_recod_state_level_gov    -0.5014      0.083     -6.006      0.000      -0.665      -0.338\n",
       "workclass_recod_unemployed         -1.4161      0.790     -1.792      0.073      -2.965       0.133\n",
       "educ_recod_college                  6.5399      4.071      1.607      0.108      -1.439      14.519\n",
       "educ_recod_elementary_school        4.5894      4.076      1.126      0.260      -3.399      12.577\n",
       "educ_recod_high_school              5.9477      4.071      1.461      0.144      -2.031      13.926\n",
       "educ_recod_university               7.4437      4.071      1.828      0.067      -0.535      15.423\n",
       "civstatus_divorced                  0.5095      0.072      7.080      0.000       0.368       0.651\n",
       "civstatus_married                   1.2843      0.136      9.470      0.000       1.019       1.550\n",
       "civstatus_separated                 0.4608      0.134      3.431      0.001       0.198       0.724\n",
       "civstatus_widowed                   0.5912      0.132      4.492      0.000       0.333       0.849\n",
       "collar_others                      -0.7385      0.086     -8.546      0.000      -0.908      -0.569\n",
       "collar_white_collar                 0.6687      0.035     19.051      0.000       0.600       0.738\n",
       "relationship_not_in_family         -0.9625      0.133     -7.250      0.000      -1.223      -0.702\n",
       "relationship_other_relative        -1.4671      0.186     -7.899      0.000      -1.831      -1.103\n",
       "relationship_own_child             -1.9909      0.165    -12.035      0.000      -2.315      -1.667\n",
       "relationship_unmarried             -1.2019      0.149     -8.050      0.000      -1.495      -0.909\n",
       "relationship_wife                   1.0526      0.084     12.564      0.000       0.888       1.217\n",
       "race_asian_pac_islander             0.6790      0.219      3.106      0.002       0.250       1.107\n",
       "race_black                          0.2928      0.190      1.540      0.123      -0.080       0.665\n",
       "race_other                          0.2111      0.271      0.780      0.435      -0.319       0.742\n",
       "race_white                          0.5602      0.181      3.099      0.002       0.206       0.914\n",
       "gender_male                         0.7770      0.064     12.159      0.000       0.652       0.902\n",
       "region_asia                        -0.2175      0.144     -1.508      0.132      -0.500       0.065\n",
       "region_europe                       0.2060      0.105      1.963      0.050       0.000       0.412\n",
       "===================================================================================================\n",
       "\"\"\""
      ]
     },
     "execution_count": 35,
     "metadata": {},
     "output_type": "execute_result"
    }
   ],
   "source": [
    "modelo_logit.summary()"
   ]
  },
  {
   "cell_type": "markdown",
   "metadata": {},
   "source": [
    "Se obtuvo un modelo con pseudo R2 = 0.4010.\n",
    "\n",
    "Considerando un 95% de significancia, del modelo anterior se observa lo siguiente:\n",
    "- Se observa que para la variable workclass_recod la clase unemployed no es estadisticamente signiticativa. Esto se puede deber a que es la clase minoritaria del dataframe por lo que no hay suficiente información para poder generar un modelo descriptivo con la clase unemployed \n",
    "- Para la variable educ_recod se observa que todas las clases en estudio no son estadisticamente significativas, por lo que no se puede concluir que exista una asociación estadísticamente significativa entre las variables y la variable objetivo.\n",
    "- Para la variable race se observa que las clases black y other no son estadisticamente significativas. \n",
    "- Para la variable region se observa que la clase asia no es estadísticamente significativa\n"
   ]
  },
  {
   "cell_type": "markdown",
   "metadata": {},
   "source": [
    "Dado los resultados obtenidos, se propone hacer una reducción del modelo excluyendo las variables relacionadas con educación dado que ninguna variable fue estadisticamente significatima. Adicionalmente, se proprone reducir las variables race_black, race_other y la region asia"
   ]
  },
  {
   "cell_type": "code",
   "execution_count": 36,
   "metadata": {},
   "outputs": [],
   "source": [
    "excluir = ['educ_recod_college', 'educ_recod_elementary_school', 'educ_recod_high_school',\n",
    "          'educ_recod_university', 'race_black', 'race_other',\n",
    "          'region_asia']"
   ]
  },
  {
   "cell_type": "code",
   "execution_count": 37,
   "metadata": {},
   "outputs": [],
   "source": [
    "x_var_refact = x_var.copy()\n",
    "\n",
    "for variable in excluir:\n",
    "    x_var_refact.remove(variable)"
   ]
  },
  {
   "cell_type": "code",
   "execution_count": 38,
   "metadata": {},
   "outputs": [
    {
     "data": {
      "text/plain": [
       "['age',\n",
       " 'capital_gain',\n",
       " 'capital_loss',\n",
       " 'fnlwgt',\n",
       " 'hours_per_week',\n",
       " 'workclass_recod_private',\n",
       " 'workclass_recod_self_employed',\n",
       " 'workclass_recod_state_level_gov',\n",
       " 'workclass_recod_unemployed',\n",
       " 'civstatus_divorced',\n",
       " 'civstatus_married',\n",
       " 'civstatus_separated',\n",
       " 'civstatus_widowed',\n",
       " 'collar_others',\n",
       " 'collar_white_collar',\n",
       " 'relationship_not_in_family',\n",
       " 'relationship_other_relative',\n",
       " 'relationship_own_child',\n",
       " 'relationship_unmarried',\n",
       " 'relationship_wife',\n",
       " 'race_asian_pac_islander',\n",
       " 'race_white',\n",
       " 'gender_male',\n",
       " 'region_europe']"
      ]
     },
     "execution_count": 38,
     "metadata": {},
     "output_type": "execute_result"
    }
   ],
   "source": [
    "x_var_refact"
   ]
  },
  {
   "cell_type": "code",
   "execution_count": 39,
   "metadata": {},
   "outputs": [],
   "source": [
    "x_var_logit_refact = ' + '.join(x_var_refact)"
   ]
  },
  {
   "cell_type": "code",
   "execution_count": 40,
   "metadata": {},
   "outputs": [
    {
     "name": "stdout",
     "output_type": "stream",
     "text": [
      "Optimization terminated successfully.\n",
      "         Current function value: 0.353154\n",
      "         Iterations 9\n"
     ]
    }
   ],
   "source": [
    "modelo_logit_refactorizado = smf.logit( 'income_recod ~' + x_var_logit_refact , df_dummy).fit()"
   ]
  },
  {
   "cell_type": "code",
   "execution_count": 41,
   "metadata": {},
   "outputs": [
    {
     "data": {
      "text/html": [
       "<table class=\"simpletable\">\n",
       "<caption>Logit Regression Results</caption>\n",
       "<tr>\n",
       "  <th>Dep. Variable:</th>     <td>income_recod</td>   <th>  No. Observations:  </th>  <td> 45222</td> \n",
       "</tr>\n",
       "<tr>\n",
       "  <th>Model:</th>                 <td>Logit</td>      <th>  Df Residuals:      </th>  <td> 45197</td> \n",
       "</tr>\n",
       "<tr>\n",
       "  <th>Method:</th>                 <td>MLE</td>       <th>  Df Model:          </th>  <td>    24</td> \n",
       "</tr>\n",
       "<tr>\n",
       "  <th>Date:</th>            <td>Mon, 07 Dec 2020</td> <th>  Pseudo R-squ.:     </th>  <td>0.3693</td> \n",
       "</tr>\n",
       "<tr>\n",
       "  <th>Time:</th>                <td>15:03:54</td>     <th>  Log-Likelihood:    </th> <td> -15970.</td>\n",
       "</tr>\n",
       "<tr>\n",
       "  <th>converged:</th>             <td>True</td>       <th>  LL-Null:           </th> <td> -25322.</td>\n",
       "</tr>\n",
       "<tr>\n",
       "  <th>Covariance Type:</th>     <td>nonrobust</td>    <th>  LLR p-value:       </th>  <td> 0.000</td> \n",
       "</tr>\n",
       "</table>\n",
       "<table class=\"simpletable\">\n",
       "<tr>\n",
       "                 <td></td>                    <th>coef</th>     <th>std err</th>      <th>z</th>      <th>P>|z|</th>  <th>[0.025</th>    <th>0.975]</th>  \n",
       "</tr>\n",
       "<tr>\n",
       "  <th>Intercept</th>                       <td>   -5.3848</td> <td>    0.190</td> <td>  -28.414</td> <td> 0.000</td> <td>   -5.756</td> <td>   -5.013</td>\n",
       "</tr>\n",
       "<tr>\n",
       "  <th>age</th>                             <td>    0.0208</td> <td>    0.001</td> <td>   16.249</td> <td> 0.000</td> <td>    0.018</td> <td>    0.023</td>\n",
       "</tr>\n",
       "<tr>\n",
       "  <th>capital_gain</th>                    <td>    0.0003</td> <td> 8.28e-06</td> <td>   38.727</td> <td> 0.000</td> <td>    0.000</td> <td>    0.000</td>\n",
       "</tr>\n",
       "<tr>\n",
       "  <th>capital_loss</th>                    <td>    0.0007</td> <td> 2.93e-05</td> <td>   23.629</td> <td> 0.000</td> <td>    0.001</td> <td>    0.001</td>\n",
       "</tr>\n",
       "<tr>\n",
       "  <th>fnlwgt</th>                          <td> 6.023e-07</td> <td> 1.34e-07</td> <td>    4.482</td> <td> 0.000</td> <td> 3.39e-07</td> <td> 8.66e-07</td>\n",
       "</tr>\n",
       "<tr>\n",
       "  <th>hours_per_week</th>                  <td>    0.0313</td> <td>    0.001</td> <td>   24.406</td> <td> 0.000</td> <td>    0.029</td> <td>    0.034</td>\n",
       "</tr>\n",
       "<tr>\n",
       "  <th>workclass_recod_private</th>         <td>   -0.5225</td> <td>    0.073</td> <td>   -7.156</td> <td> 0.000</td> <td>   -0.666</td> <td>   -0.379</td>\n",
       "</tr>\n",
       "<tr>\n",
       "  <th>workclass_recod_self_employed</th>   <td>   -0.7927</td> <td>    0.080</td> <td>   -9.927</td> <td> 0.000</td> <td>   -0.949</td> <td>   -0.636</td>\n",
       "</tr>\n",
       "<tr>\n",
       "  <th>workclass_recod_state_level_gov</th> <td>   -0.2708</td> <td>    0.081</td> <td>   -3.343</td> <td> 0.001</td> <td>   -0.430</td> <td>   -0.112</td>\n",
       "</tr>\n",
       "<tr>\n",
       "  <th>workclass_recod_unemployed</th>      <td>   -1.7022</td> <td>    0.792</td> <td>   -2.149</td> <td> 0.032</td> <td>   -3.255</td> <td>   -0.150</td>\n",
       "</tr>\n",
       "<tr>\n",
       "  <th>civstatus_divorced</th>              <td>    0.3825</td> <td>    0.070</td> <td>    5.451</td> <td> 0.000</td> <td>    0.245</td> <td>    0.520</td>\n",
       "</tr>\n",
       "<tr>\n",
       "  <th>civstatus_married</th>               <td>    1.1584</td> <td>    0.131</td> <td>    8.875</td> <td> 0.000</td> <td>    0.903</td> <td>    1.414</td>\n",
       "</tr>\n",
       "<tr>\n",
       "  <th>civstatus_separated</th>             <td>    0.2741</td> <td>    0.132</td> <td>    2.083</td> <td> 0.037</td> <td>    0.016</td> <td>    0.532</td>\n",
       "</tr>\n",
       "<tr>\n",
       "  <th>civstatus_widowed</th>               <td>    0.3205</td> <td>    0.129</td> <td>    2.493</td> <td> 0.013</td> <td>    0.069</td> <td>    0.572</td>\n",
       "</tr>\n",
       "<tr>\n",
       "  <th>collar_others</th>                   <td>   -0.7024</td> <td>    0.085</td> <td>   -8.261</td> <td> 0.000</td> <td>   -0.869</td> <td>   -0.536</td>\n",
       "</tr>\n",
       "<tr>\n",
       "  <th>collar_white_collar</th>             <td>    1.2704</td> <td>    0.031</td> <td>   40.866</td> <td> 0.000</td> <td>    1.209</td> <td>    1.331</td>\n",
       "</tr>\n",
       "<tr>\n",
       "  <th>relationship_not_in_family</th>      <td>   -0.8857</td> <td>    0.128</td> <td>   -6.942</td> <td> 0.000</td> <td>   -1.136</td> <td>   -0.636</td>\n",
       "</tr>\n",
       "<tr>\n",
       "  <th>relationship_other_relative</th>     <td>   -1.6337</td> <td>    0.181</td> <td>   -9.027</td> <td> 0.000</td> <td>   -1.988</td> <td>   -1.279</td>\n",
       "</tr>\n",
       "<tr>\n",
       "  <th>relationship_own_child</th>          <td>   -2.1027</td> <td>    0.161</td> <td>  -13.065</td> <td> 0.000</td> <td>   -2.418</td> <td>   -1.787</td>\n",
       "</tr>\n",
       "<tr>\n",
       "  <th>relationship_unmarried</th>          <td>   -1.2088</td> <td>    0.144</td> <td>   -8.419</td> <td> 0.000</td> <td>   -1.490</td> <td>   -0.927</td>\n",
       "</tr>\n",
       "<tr>\n",
       "  <th>relationship_wife</th>               <td>    0.9914</td> <td>    0.082</td> <td>   12.122</td> <td> 0.000</td> <td>    0.831</td> <td>    1.152</td>\n",
       "</tr>\n",
       "<tr>\n",
       "  <th>race_asian_pac_islander</th>         <td>    0.5763</td> <td>    0.097</td> <td>    5.922</td> <td> 0.000</td> <td>    0.386</td> <td>    0.767</td>\n",
       "</tr>\n",
       "<tr>\n",
       "  <th>race_white</th>                      <td>    0.3829</td> <td>    0.056</td> <td>    6.821</td> <td> 0.000</td> <td>    0.273</td> <td>    0.493</td>\n",
       "</tr>\n",
       "<tr>\n",
       "  <th>gender_male</th>                     <td>    0.8578</td> <td>    0.063</td> <td>   13.660</td> <td> 0.000</td> <td>    0.735</td> <td>    0.981</td>\n",
       "</tr>\n",
       "<tr>\n",
       "  <th>region_europe</th>                   <td>    0.2218</td> <td>    0.102</td> <td>    2.174</td> <td> 0.030</td> <td>    0.022</td> <td>    0.422</td>\n",
       "</tr>\n",
       "</table>"
      ],
      "text/plain": [
       "<class 'statsmodels.iolib.summary.Summary'>\n",
       "\"\"\"\n",
       "                           Logit Regression Results                           \n",
       "==============================================================================\n",
       "Dep. Variable:           income_recod   No. Observations:                45222\n",
       "Model:                          Logit   Df Residuals:                    45197\n",
       "Method:                           MLE   Df Model:                           24\n",
       "Date:                Mon, 07 Dec 2020   Pseudo R-squ.:                  0.3693\n",
       "Time:                        15:03:54   Log-Likelihood:                -15970.\n",
       "converged:                       True   LL-Null:                       -25322.\n",
       "Covariance Type:            nonrobust   LLR p-value:                     0.000\n",
       "===================================================================================================\n",
       "                                      coef    std err          z      P>|z|      [0.025      0.975]\n",
       "---------------------------------------------------------------------------------------------------\n",
       "Intercept                          -5.3848      0.190    -28.414      0.000      -5.756      -5.013\n",
       "age                                 0.0208      0.001     16.249      0.000       0.018       0.023\n",
       "capital_gain                        0.0003   8.28e-06     38.727      0.000       0.000       0.000\n",
       "capital_loss                        0.0007   2.93e-05     23.629      0.000       0.001       0.001\n",
       "fnlwgt                           6.023e-07   1.34e-07      4.482      0.000    3.39e-07    8.66e-07\n",
       "hours_per_week                      0.0313      0.001     24.406      0.000       0.029       0.034\n",
       "workclass_recod_private            -0.5225      0.073     -7.156      0.000      -0.666      -0.379\n",
       "workclass_recod_self_employed      -0.7927      0.080     -9.927      0.000      -0.949      -0.636\n",
       "workclass_recod_state_level_gov    -0.2708      0.081     -3.343      0.001      -0.430      -0.112\n",
       "workclass_recod_unemployed         -1.7022      0.792     -2.149      0.032      -3.255      -0.150\n",
       "civstatus_divorced                  0.3825      0.070      5.451      0.000       0.245       0.520\n",
       "civstatus_married                   1.1584      0.131      8.875      0.000       0.903       1.414\n",
       "civstatus_separated                 0.2741      0.132      2.083      0.037       0.016       0.532\n",
       "civstatus_widowed                   0.3205      0.129      2.493      0.013       0.069       0.572\n",
       "collar_others                      -0.7024      0.085     -8.261      0.000      -0.869      -0.536\n",
       "collar_white_collar                 1.2704      0.031     40.866      0.000       1.209       1.331\n",
       "relationship_not_in_family         -0.8857      0.128     -6.942      0.000      -1.136      -0.636\n",
       "relationship_other_relative        -1.6337      0.181     -9.027      0.000      -1.988      -1.279\n",
       "relationship_own_child             -2.1027      0.161    -13.065      0.000      -2.418      -1.787\n",
       "relationship_unmarried             -1.2088      0.144     -8.419      0.000      -1.490      -0.927\n",
       "relationship_wife                   0.9914      0.082     12.122      0.000       0.831       1.152\n",
       "race_asian_pac_islander             0.5763      0.097      5.922      0.000       0.386       0.767\n",
       "race_white                          0.3829      0.056      6.821      0.000       0.273       0.493\n",
       "gender_male                         0.8578      0.063     13.660      0.000       0.735       0.981\n",
       "region_europe                       0.2218      0.102      2.174      0.030       0.022       0.422\n",
       "===================================================================================================\n",
       "\"\"\""
      ]
     },
     "execution_count": 41,
     "metadata": {},
     "output_type": "execute_result"
    }
   ],
   "source": [
    "modelo_logit_refactorizado.summary()"
   ]
  },
  {
   "cell_type": "markdown",
   "metadata": {},
   "source": [
    "Del nuevo modelo se observa que tosas las variables son estadisticamente significativas con un 95% de nivel de covianza. Se observa que el estado civil married y collar white son lo que aportan en mayor grado en la probabilidad de del modelo "
   ]
  },
  {
   "cell_type": "markdown",
   "metadata": {},
   "source": [
    "<h3 style=\"color:#004d80\"> Modelación Predictiva </h3>\n",
    "En esta sección se implementará una solución analítica que aumente las métricas de desempeño"
   ]
  },
  {
   "cell_type": "markdown",
   "metadata": {},
   "source": [
    "**Generar subconjunto de entrenamiento y prueba**"
   ]
  },
  {
   "cell_type": "code",
   "execution_count": 42,
   "metadata": {},
   "outputs": [],
   "source": [
    "y_vector = df_dummy.loc[:, 'income_recod']"
   ]
  },
  {
   "cell_type": "code",
   "execution_count": 43,
   "metadata": {},
   "outputs": [],
   "source": [
    "x_matriz = df_dummy.loc[:, x_var]"
   ]
  },
  {
   "cell_type": "code",
   "execution_count": 44,
   "metadata": {},
   "outputs": [],
   "source": [
    "x_train, x_test, y_train, y_test = train_test_split(x_matriz, y_vector, test_size=.33,random_state=1901)"
   ]
  },
  {
   "cell_type": "markdown",
   "metadata": {},
   "source": [
    "**Estandarizar la matriz de entrenamiento y de validación**"
   ]
  },
  {
   "cell_type": "code",
   "execution_count": 45,
   "metadata": {},
   "outputs": [],
   "source": [
    "x_train_std = StandardScaler().fit_transform(x_train)\n",
    "\n",
    "x_test_std = StandardScaler().fit_transform(x_test)"
   ]
  },
  {
   "cell_type": "markdown",
   "metadata": {},
   "source": [
    "**Implementación de modelo LogisticRegession**"
   ]
  },
  {
   "cell_type": "code",
   "execution_count": 46,
   "metadata": {},
   "outputs": [],
   "source": [
    "modelo_logit_ml = LogisticRegression().fit(x_train_std, y_train)"
   ]
  },
  {
   "cell_type": "code",
   "execution_count": 54,
   "metadata": {},
   "outputs": [
    {
     "data": {
      "text/plain": [
       "array([[ 0.3221603 ,  2.49569707,  0.25414245,  0.04946836,  0.35901879,\n",
       "        -0.18084488, -0.23347356, -0.13057401, -0.01297761,  1.02222823,\n",
       "         0.05030807,  0.80969097,  1.34926262,  0.17728596,  0.69041636,\n",
       "         0.05478425,  0.0878694 , -0.2716314 ,  0.33278492, -0.36840025,\n",
       "        -0.23503189, -0.6509979 , -0.34134278,  0.22948266,  0.11405818,\n",
       "         0.0622548 ,  0.02286291,  0.1539263 ,  0.36498707, -0.03402668,\n",
       "         0.02071563]])"
      ]
     },
     "execution_count": 54,
     "metadata": {},
     "output_type": "execute_result"
    }
   ],
   "source": [
    "modelo_logit_ml.coef_"
   ]
  },
  {
   "cell_type": "code",
   "execution_count": 55,
   "metadata": {},
   "outputs": [
    {
     "data": {
      "text/plain": [
       "array([-1.81851816])"
      ]
     },
     "execution_count": 55,
     "metadata": {},
     "output_type": "execute_result"
    }
   ],
   "source": [
    "modelo_logit_ml.intercept_"
   ]
  },
  {
   "cell_type": "markdown",
   "metadata": {},
   "source": [
    "**Predicción del modelo**"
   ]
  },
  {
   "cell_type": "code",
   "execution_count": 47,
   "metadata": {},
   "outputs": [],
   "source": [
    "prediccion = modelo_logit_ml.predict(x_test_std)\n",
    "pred_prob = modelo_logit_ml.predict_proba(x_test_std)"
   ]
  },
  {
   "cell_type": "markdown",
   "metadata": {},
   "source": [
    "**Matriz de confusión**"
   ]
  },
  {
   "cell_type": "code",
   "execution_count": 48,
   "metadata": {},
   "outputs": [
    {
     "data": {
      "text/html": [
       "<div>\n",
       "<style scoped>\n",
       "    .dataframe tbody tr th:only-of-type {\n",
       "        vertical-align: middle;\n",
       "    }\n",
       "\n",
       "    .dataframe tbody tr th {\n",
       "        vertical-align: top;\n",
       "    }\n",
       "\n",
       "    .dataframe thead th {\n",
       "        text-align: right;\n",
       "    }\n",
       "</style>\n",
       "<table border=\"1\" class=\"dataframe\">\n",
       "  <thead>\n",
       "    <tr style=\"text-align: right;\">\n",
       "      <th>col_0</th>\n",
       "      <th>0</th>\n",
       "      <th>1</th>\n",
       "    </tr>\n",
       "    <tr>\n",
       "      <th>income_recod</th>\n",
       "      <th></th>\n",
       "      <th></th>\n",
       "    </tr>\n",
       "  </thead>\n",
       "  <tbody>\n",
       "    <tr>\n",
       "      <th>0</th>\n",
       "      <td>10398</td>\n",
       "      <td>903</td>\n",
       "    </tr>\n",
       "    <tr>\n",
       "      <th>1</th>\n",
       "      <td>1403</td>\n",
       "      <td>2220</td>\n",
       "    </tr>\n",
       "  </tbody>\n",
       "</table>\n",
       "</div>"
      ],
      "text/plain": [
       "col_0             0     1\n",
       "income_recod             \n",
       "0             10398   903\n",
       "1              1403  2220"
      ]
     },
     "execution_count": 48,
     "metadata": {},
     "output_type": "execute_result"
    }
   ],
   "source": [
    "from sklearn.metrics import confusion_matrix\n",
    "\n",
    "mx_confusion = confusion_matrix(y_test, prediccion)\n",
    "mx_conf_pd = pd.crosstab(y_test, prediccion)\n",
    "mx_conf_pd"
   ]
  },
  {
   "cell_type": "code",
   "execution_count": 49,
   "metadata": {},
   "outputs": [
    {
     "data": {
      "text/plain": [
       "0    11301\n",
       "1     3623\n",
       "Name: income_recod, dtype: int64"
      ]
     },
     "execution_count": 49,
     "metadata": {},
     "output_type": "execute_result"
    }
   ],
   "source": [
    "y_test.value_counts()"
   ]
  },
  {
   "cell_type": "code",
   "execution_count": 50,
   "metadata": {},
   "outputs": [
    {
     "name": "stdout",
     "output_type": "stream",
     "text": [
      "              precision    recall  f1-score   support\n",
      "\n",
      "           0       0.88      0.92      0.90     11301\n",
      "           1       0.71      0.61      0.66      3623\n",
      "\n",
      "    accuracy                           0.85     14924\n",
      "   macro avg       0.80      0.77      0.78     14924\n",
      "weighted avg       0.84      0.85      0.84     14924\n",
      "\n"
     ]
    }
   ],
   "source": [
    "print(classification_report(y_test, prediccion))"
   ]
  },
  {
   "cell_type": "markdown",
   "metadata": {},
   "source": [
    "El modelo tiene un 85% de exactitud. Se observa que la precisión para la clase 1 es del 71%, esto significa que el modelo predijo en total 3123 casos positivos, de los cuales 29% de las predicciones fueron Falsos positivos. Respecto a recall vemos que solo el 61% de las personas con sueldo mayor a 50K fueron predichas correctamente.\n",
    "\n",
    "De lo anterior vemos que el modelo tiene un buen desempeño para predecir la clase 0 (ingreso <=50K). Sin embargo tiene un mal desempeño para predecir la clase 1 (Ingreso <50K) la cual es la clase minoritaria a la cual buscamos medir su probabilidad de ocurrencia. Por lo anterior, se podría depurar el modelo para poder mejorar la precisión de las predicciones y balancear las clases"
   ]
  }
 ],
 "metadata": {
  "kernelspec": {
   "display_name": "Python 3",
   "language": "python",
   "name": "python3"
  },
  "language_info": {
   "codemirror_mode": {
    "name": "ipython",
    "version": 3
   },
   "file_extension": ".py",
   "mimetype": "text/x-python",
   "name": "python",
   "nbconvert_exporter": "python",
   "pygments_lexer": "ipython3",
   "version": "3.8.3"
  }
 },
 "nbformat": 4,
 "nbformat_minor": 4
}
