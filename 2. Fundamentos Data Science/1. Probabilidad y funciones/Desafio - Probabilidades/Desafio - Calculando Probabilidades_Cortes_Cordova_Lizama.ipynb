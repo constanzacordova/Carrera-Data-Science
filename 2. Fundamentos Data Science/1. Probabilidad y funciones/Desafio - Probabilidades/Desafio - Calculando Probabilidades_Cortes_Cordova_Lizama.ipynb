{
 "cells": [
  {
   "cell_type": "markdown",
   "metadata": {},
   "source": [
    "## Desafio probabilidades"
   ]
  },
  {
   "cell_type": "markdown",
   "metadata": {},
   "source": [
    "### Desafio 1: Lectura de archivos"
   ]
  },
  {
   "cell_type": "code",
   "execution_count": 2,
   "metadata": {
    "scrolled": true
   },
   "outputs": [
    {
     "data": {
      "text/html": [
       "<div>\n",
       "<style scoped>\n",
       "    .dataframe tbody tr th:only-of-type {\n",
       "        vertical-align: middle;\n",
       "    }\n",
       "\n",
       "    .dataframe tbody tr th {\n",
       "        vertical-align: top;\n",
       "    }\n",
       "\n",
       "    .dataframe thead th {\n",
       "        text-align: right;\n",
       "    }\n",
       "</style>\n",
       "<table border=\"1\" class=\"dataframe\">\n",
       "  <thead>\n",
       "    <tr style=\"text-align: right;\">\n",
       "      <th></th>\n",
       "      <th>team</th>\n",
       "      <th>continent</th>\n",
       "      <th>group</th>\n",
       "      <th>group_pos</th>\n",
       "      <th>cantidad_juegos</th>\n",
       "      <th>juegos_ganados</th>\n",
       "      <th>juegos_empatados</th>\n",
       "      <th>juegos_perdidos</th>\n",
       "      <th>goles_favor</th>\n",
       "      <th>goles_contra</th>\n",
       "      <th>goles_diferencia</th>\n",
       "      <th>puntos</th>\n",
       "      <th>clasificado</th>\n",
       "    </tr>\n",
       "  </thead>\n",
       "  <tbody>\n",
       "    <tr>\n",
       "      <th>0</th>\n",
       "      <td>Brazil</td>\n",
       "      <td>southamerica</td>\n",
       "      <td>A</td>\n",
       "      <td>1</td>\n",
       "      <td>3</td>\n",
       "      <td>2</td>\n",
       "      <td>1</td>\n",
       "      <td>0</td>\n",
       "      <td>7</td>\n",
       "      <td>2</td>\n",
       "      <td>5</td>\n",
       "      <td>7</td>\n",
       "      <td>1</td>\n",
       "    </tr>\n",
       "    <tr>\n",
       "      <th>1</th>\n",
       "      <td>Mexico</td>\n",
       "      <td>northamerica</td>\n",
       "      <td>A</td>\n",
       "      <td>2</td>\n",
       "      <td>3</td>\n",
       "      <td>2</td>\n",
       "      <td>1</td>\n",
       "      <td>0</td>\n",
       "      <td>4</td>\n",
       "      <td>1</td>\n",
       "      <td>3</td>\n",
       "      <td>7</td>\n",
       "      <td>1</td>\n",
       "    </tr>\n",
       "    <tr>\n",
       "      <th>2</th>\n",
       "      <td>Croatia</td>\n",
       "      <td>europe</td>\n",
       "      <td>A</td>\n",
       "      <td>3</td>\n",
       "      <td>3</td>\n",
       "      <td>1</td>\n",
       "      <td>0</td>\n",
       "      <td>2</td>\n",
       "      <td>6</td>\n",
       "      <td>6</td>\n",
       "      <td>0</td>\n",
       "      <td>3</td>\n",
       "      <td>0</td>\n",
       "    </tr>\n",
       "    <tr>\n",
       "      <th>3</th>\n",
       "      <td>Cameroon</td>\n",
       "      <td>africa</td>\n",
       "      <td>A</td>\n",
       "      <td>4</td>\n",
       "      <td>3</td>\n",
       "      <td>0</td>\n",
       "      <td>0</td>\n",
       "      <td>3</td>\n",
       "      <td>1</td>\n",
       "      <td>9</td>\n",
       "      <td>−8</td>\n",
       "      <td>0</td>\n",
       "      <td>0</td>\n",
       "    </tr>\n",
       "    <tr>\n",
       "      <th>4</th>\n",
       "      <td>Netherlands</td>\n",
       "      <td>europe</td>\n",
       "      <td>B</td>\n",
       "      <td>1</td>\n",
       "      <td>3</td>\n",
       "      <td>3</td>\n",
       "      <td>0</td>\n",
       "      <td>0</td>\n",
       "      <td>10</td>\n",
       "      <td>3</td>\n",
       "      <td>7</td>\n",
       "      <td>9</td>\n",
       "      <td>1</td>\n",
       "    </tr>\n",
       "  </tbody>\n",
       "</table>\n",
       "</div>"
      ],
      "text/plain": [
       "          team     continent group  group_pos  cantidad_juegos  \\\n",
       "0       Brazil  southamerica     A          1                3   \n",
       "1       Mexico  northamerica     A          2                3   \n",
       "2      Croatia        europe     A          3                3   \n",
       "3     Cameroon        africa     A          4                3   \n",
       "4  Netherlands        europe     B          1                3   \n",
       "\n",
       "   juegos_ganados  juegos_empatados  juegos_perdidos  goles_favor  \\\n",
       "0               2                 1                0            7   \n",
       "1               2                 1                0            4   \n",
       "2               1                 0                2            6   \n",
       "3               0                 0                3            1   \n",
       "4               3                 0                0           10   \n",
       "\n",
       "   goles_contra goles_diferencia  puntos  clasificado  \n",
       "0             2                5       7            1  \n",
       "1             1                3       7            1  \n",
       "2             6                0       3            0  \n",
       "3             9               −8       0            0  \n",
       "4             3                7       9            1  "
      ]
     },
     "execution_count": 2,
     "metadata": {},
     "output_type": "execute_result"
    }
   ],
   "source": [
    "import pandas as pd\n",
    "import numpy as np\n",
    "\n",
    "df = pd.read_csv(\"worldcup2014.csv\")\n",
    "\n",
    "df.head(5)"
   ]
  },
  {
   "cell_type": "markdown",
   "metadata": {},
   "source": [
    "### Desafio 2: Estime las frecuencias de continent"
   ]
  },
  {
   "cell_type": "code",
   "execution_count": 3,
   "metadata": {},
   "outputs": [
    {
     "data": {
      "text/plain": [
       "europe          0.40625\n",
       "southamerica    0.18750\n",
       "africa          0.15625\n",
       "asia            0.12500\n",
       "northamerica    0.12500\n",
       "Name: continent, dtype: float64"
      ]
     },
     "execution_count": 3,
     "metadata": {},
     "output_type": "execute_result"
    }
   ],
   "source": [
    "df['continent'].value_counts('%')"
   ]
  },
  {
   "cell_type": "markdown",
   "metadata": {},
   "source": [
    "<li> ¿Cuál es el continente con una mayor presencia en la muestra?: europa </li>\n",
    "<li> ¿Cuál es la probabilidad de elegir un equipo asiático al azar?:  0,12500 </li>\n",
    "<li> ¿Cuál es la probabilidad de elegir un equipo africano al azar?: 0,15625 </li>"
   ]
  },
  {
   "cell_type": "markdown",
   "metadata": {},
   "source": [
    "### Desafio 3: Probabilidades por continente"
   ]
  },
  {
   "cell_type": "code",
   "execution_count": 4,
   "metadata": {},
   "outputs": [],
   "source": [
    "df_europe = df[df['continent'] == 'europe']\n",
    "df_southamerica = df[df['continent'] == 'southamerica']\n",
    "df_africa = df[df['continent'] == 'africa']\n",
    "df_northamerica = df[df['continent'] == 'northamerica']\n",
    "df_asia = df[df['continent'] == 'asia']"
   ]
  },
  {
   "cell_type": "markdown",
   "metadata": {},
   "source": [
    "### Desafio 4: Calcule la probabilidad de clasificación a la siguiente ronda"
   ]
  },
  {
   "cell_type": "code",
   "execution_count": 5,
   "metadata": {},
   "outputs": [
    {
     "name": "stdout",
     "output_type": "stream",
     "text": [
      "europe \n",
      "\tProbabilidad Clasificar: 0.46153846153846156 \n",
      "\tProbabilidad no clasificar:  0.5384615384615384\n",
      "southamerica \n",
      "\tProbabilidad Clasificar: 0.8333333333333334 \n",
      "\tProbabilidad no clasificar:  0.16666666666666663\n",
      "africa \n",
      "\tProbabilidad Clasificar: 0.4 \n",
      "\tProbabilidad no clasificar:  0.6\n",
      "northamerica \n",
      "\tProbabilidad Clasificar: 0.75 \n",
      "\tProbabilidad no clasificar:  0.25\n",
      "asia \n",
      "\tProbabilidad Clasificar: 0.0 \n",
      "\tProbabilidad no clasificar:  1.0\n"
     ]
    }
   ],
   "source": [
    "continentes = [df_europe, df_southamerica, df_africa, df_northamerica, df_asia]\n",
    "\n",
    "for continente in continentes: \n",
    "    probabilidad = len(continente[continente['clasificado']== 1])/len(continente)\n",
    "    nombre = continente['continent'].unique()[0]\n",
    "    print(nombre,'\\n\\tProbabilidad Clasificar:',probabilidad, '\\n\\tProbabilidad no clasificar: ',1- probabilidad)"
   ]
  },
  {
   "cell_type": "markdown",
   "metadata": {},
   "source": [
    "<li> ¿Cuál fue la probabilidad de que un país asiático pase a la siguiente ronda?: 0,0 </li>\n",
    "<li> ¿Cuáles fueron los dos continentes que tuvieron la mayor probabilidad de clasificar?: Southamerica y Northamerica </li>\n",
    "<li> ¿Cuál fue la probabilidad de no clasificar un país europeo?: 0.53846  </li>"
   ]
  },
  {
   "cell_type": "markdown",
   "metadata": {},
   "source": [
    "### Desafio 5: Refactorización"
   ]
  },
  {
   "cell_type": "markdown",
   "metadata": {},
   "source": [
    "Con la siguiente refactorización obtenemos: La probabilidad de que los teams de un continente ganen al menos 1 partido."
   ]
  },
  {
   "cell_type": "code",
   "execution_count": 14,
   "metadata": {
    "scrolled": false
   },
   "outputs": [
    {
     "name": "stdout",
     "output_type": "stream",
     "text": [
      "europe\n",
      "1    0.846154\n",
      "0    0.153846\n",
      "Name: ganados, dtype: float64 \n",
      "\n",
      "southamerica\n",
      "1    1.0\n",
      "Name: ganados, dtype: float64 \n",
      "\n",
      "africa\n",
      "1    0.6\n",
      "0    0.4\n",
      "Name: ganados, dtype: float64 \n",
      "\n",
      "northamerica\n",
      "1    0.75\n",
      "0    0.25\n",
      "Name: ganados, dtype: float64 \n",
      "\n",
      "asia\n",
      "0    1.0\n",
      "Name: ganados, dtype: float64 \n",
      "\n"
     ]
    },
    {
     "name": "stderr",
     "output_type": "stream",
     "text": [
      "<ipython-input-14-80be6a297454>:2: SettingWithCopyWarning: \n",
      "A value is trying to be set on a copy of a slice from a DataFrame.\n",
      "Try using .loc[row_indexer,col_indexer] = value instead\n",
      "\n",
      "See the caveats in the documentation: https://pandas.pydata.org/pandas-docs/stable/user_guide/indexing.html#returning-a-view-versus-a-copy\n",
      "  continente['ganados'] = np.where(continente['juegos_ganados'] > 0, 1, 0)\n"
     ]
    }
   ],
   "source": [
    "for continente in continentes:\n",
    "    continente['ganados'] = np.where(continente['juegos_ganados'] > 0, 1, 0)\n",
    "    nombre = continente['continent'].unique()[0]\n",
    "    print(nombre)\n",
    "    print(continente['ganados'].value_counts('%'),'\\n')"
   ]
  },
  {
   "cell_type": "markdown",
   "metadata": {},
   "source": [
    "Con la siguiente refactorización obtenemos: La probabilidad de que los teams de un continente pierdan al menos 1 partido."
   ]
  },
  {
   "cell_type": "code",
   "execution_count": 13,
   "metadata": {},
   "outputs": [
    {
     "name": "stdout",
     "output_type": "stream",
     "text": [
      "europe\n",
      "1    0.692308\n",
      "0    0.307692\n",
      "Name: perdidos, dtype: float64 \n",
      "\n",
      "southamerica\n",
      "1    0.5\n",
      "0    0.5\n",
      "Name: perdidos, dtype: float64 \n",
      "\n",
      "africa\n",
      "1    1.0\n",
      "Name: perdidos, dtype: float64 \n",
      "\n",
      "northamerica\n",
      "1    0.5\n",
      "0    0.5\n",
      "Name: perdidos, dtype: float64 \n",
      "\n",
      "asia\n",
      "1    1.0\n",
      "Name: perdidos, dtype: float64 \n",
      "\n"
     ]
    },
    {
     "name": "stderr",
     "output_type": "stream",
     "text": [
      "<ipython-input-13-912befc83acb>:2: SettingWithCopyWarning: \n",
      "A value is trying to be set on a copy of a slice from a DataFrame.\n",
      "Try using .loc[row_indexer,col_indexer] = value instead\n",
      "\n",
      "See the caveats in the documentation: https://pandas.pydata.org/pandas-docs/stable/user_guide/indexing.html#returning-a-view-versus-a-copy\n",
      "  continente['perdidos'] = np.where(continente['juegos_perdidos'] > 0, 1, 0)\n"
     ]
    }
   ],
   "source": [
    "for continente in continentes:\n",
    "    continente['perdidos'] = np.where(continente['juegos_perdidos'] > 0, 1, 0)\n",
    "    nombre = continente['continent'].unique()[0]\n",
    "    print(nombre)\n",
    "    print(continente['perdidos'].value_counts('%'),'\\n')"
   ]
  },
  {
   "cell_type": "markdown",
   "metadata": {},
   "source": [
    "De acuerdo a las preguntas realizadas, se interpreta que se debe obtener las probabilidades de ganar, perder y empatar por continente. La refactorización anterior no es suficiente para responder las preguntas planteadas, ya que no considera los juegos perdidos y empatados"
   ]
  },
  {
   "cell_type": "code",
   "execution_count": 95,
   "metadata": {},
   "outputs": [
    {
     "name": "stdout",
     "output_type": "stream",
     "text": [
      "europe \n",
      "\t Juegos ganados: 0.46153846153846156 \n",
      "\t Juegos perdidos: 0.358974358974359 \n",
      "\t Juegos empatados: 0.1794871794871795 \n",
      "\t Total: 1.0\n",
      "southamerica \n",
      "\t Juegos ganados: 0.7222222222222222 \n",
      "\t Juegos perdidos: 0.16666666666666666 \n",
      "\t Juegos empatados: 0.1111111111111111 \n",
      "\t Total: 1.0\n",
      "africa \n",
      "\t Juegos ganados: 0.2 \n",
      "\t Juegos perdidos: 0.6 \n",
      "\t Juegos empatados: 0.2 \n",
      "\t Total: 1.0\n",
      "northamerica \n",
      "\t Juegos ganados: 0.4166666666666667 \n",
      "\t Juegos perdidos: 0.3333333333333333 \n",
      "\t Juegos empatados: 0.25 \n",
      "\t Total: 1.0\n",
      "asia \n",
      "\t Juegos ganados: 0.0 \n",
      "\t Juegos perdidos: 0.75 \n",
      "\t Juegos empatados: 0.25 \n",
      "\t Total: 1.0\n"
     ]
    }
   ],
   "source": [
    "for continente in continentes:\n",
    "    prob_ganados = sum(continente['juegos_ganados'])/sum(continente['cantidad_juegos'])\n",
    "    prob_perdidos = sum(continente['juegos_perdidos'])/sum(continente['cantidad_juegos'])\n",
    "    prob_empatados = sum(continente['juegos_empatados'])/sum(continente['cantidad_juegos'])\n",
    "    prob = prob_ganados + prob_perdidos + prob_empatados\n",
    "    nombre = continente['continent'].unique()[0]\n",
    "    print(nombre,'\\n\\t Juegos ganados:',prob_ganados,'\\n\\t Juegos perdidos:',prob_perdidos,'\\n\\t Juegos empatados:',prob_empatados, '\\n\\t Total:',prob)"
   ]
  },
  {
   "cell_type": "markdown",
   "metadata": {},
   "source": [
    "<li> ¿Qué continente tuvo una mayor probabilidad de ganar juegos?: Southamerica tiene una probabilidad de 0.72 de ganar juegos  </li>\n",
    "<li> ¿Qué continente presentó un nivel similar entre juegos ganados y perdidos?: Northamerica tiene una probabilidad igual a 0.416 de ganas juegos y 0.333 de perder juegos  </li>\n",
    "<li> Analize el continente con una mayor probabilidad de perder: Asia tiene una probabilidad de 0.75 de perder juegos  </li>"
   ]
  }
 ],
 "metadata": {
  "kernelspec": {
   "display_name": "Python 3",
   "language": "python",
   "name": "python3"
  },
  "language_info": {
   "codemirror_mode": {
    "name": "ipython",
    "version": 3
   },
   "file_extension": ".py",
   "mimetype": "text/x-python",
   "name": "python",
   "nbconvert_exporter": "python",
   "pygments_lexer": "ipython3",
   "version": "3.8.3"
  }
 },
 "nbformat": 4,
 "nbformat_minor": 4
}
