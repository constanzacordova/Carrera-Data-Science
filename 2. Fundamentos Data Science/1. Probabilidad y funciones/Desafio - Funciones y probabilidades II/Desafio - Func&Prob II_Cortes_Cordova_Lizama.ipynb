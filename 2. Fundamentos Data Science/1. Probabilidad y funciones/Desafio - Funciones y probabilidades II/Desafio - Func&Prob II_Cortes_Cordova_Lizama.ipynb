{
 "cells": [
  {
   "cell_type": "markdown",
   "metadata": {},
   "source": [
    "## Desafío - Funciones y probabilidad básica\n",
    "<ul> Karen Cortés </ul>\n",
    "<ul> Constanza Córdova </ul>\n",
    "<ul> Gustavo Lizama </ul>"
   ]
  },
  {
   "cell_type": "code",
   "execution_count": 3,
   "metadata": {},
   "outputs": [],
   "source": [
    "import pandas as pd\n",
    "import numpy as np\n",
    "\n",
    "df = pd.read_csv('worldcup2014.csv')"
   ]
  },
  {
   "cell_type": "markdown",
   "metadata": {},
   "source": [
    "### Desafío 1: Generación de funciones"
   ]
  },
  {
   "cell_type": "code",
   "execution_count": 5,
   "metadata": {},
   "outputs": [],
   "source": [
    "def func_media(x):\n",
    "    \"\"\"\n",
    "    func_media: calcula la media de la variable x\n",
    "    \n",
    "                  Xm = suma(xi)/N, donde:\n",
    "                      \n",
    "    parametros:\n",
    "        'x': corresponde a la serie numérica \n",
    "        \n",
    "    \"\"\"\n",
    "    media = sum(x)/len(x) \n",
    "    return media"
   ]
  },
  {
   "cell_type": "code",
   "execution_count": 6,
   "metadata": {},
   "outputs": [
    {
     "name": "stdout",
     "output_type": "stream",
     "text": [
      "4.25 4.25 4.21875\n"
     ]
    }
   ],
   "source": [
    "goles_favor = func_media(df['goles_favor'])\n",
    "goles_contra = func_media(df['goles_contra'])\n",
    "puntos = func_media(df['puntos'])\n",
    "\n",
    "print(goles_favor, goles_contra, puntos)"
   ]
  },
  {
   "cell_type": "code",
   "execution_count": 7,
   "metadata": {},
   "outputs": [],
   "source": [
    "def func_varianza(x):\n",
    "    \"\"\"\n",
    "    func_varianza: calcula la varianza de la variable x\n",
    "                      \n",
    "                      Var = Suma( xi-Xm)**2/N, donde:\n",
    "                                  \n",
    "    parametros:\n",
    "        'x': corresponde a la serie numérica \n",
    "        \n",
    "    \"\"\"\n",
    "    suma = 0\n",
    "    \n",
    "    for i in x:\n",
    "        delta = (i - func_media(x))**2\n",
    "        suma+= delta\n",
    "    varianza = suma/len(x)\n",
    "    return varianza"
   ]
  },
  {
   "cell_type": "code",
   "execution_count": 8,
   "metadata": {},
   "outputs": [
    {
     "name": "stdout",
     "output_type": "stream",
     "text": [
      "5.1875 4.8125 8.0458984375\n"
     ]
    }
   ],
   "source": [
    "goles_favor = func_varianza(df['goles_favor'])\n",
    "goles_contra = func_varianza(df['goles_contra'])\n",
    "puntos = func_varianza(df['puntos'])\n",
    "\n",
    "print(goles_favor, goles_contra, puntos)"
   ]
  },
  {
   "cell_type": "markdown",
   "metadata": {},
   "source": [
    "### Desafío 2: "
   ]
  },
  {
   "cell_type": "code",
   "execution_count": 9,
   "metadata": {},
   "outputs": [],
   "source": [
    "africa_df = df[df['continent'] == 'africa']\n",
    "europe_df = df[df['continent'] == 'europe']\n",
    "asia_df = df[df['continent'] == 'asia']\n",
    "northamerica_df = df[df['continent'] == 'northamerica']\n",
    "southamerica_df = df[df['continent'] == 'southamerica']\n"
   ]
  },
  {
   "cell_type": "code",
   "execution_count": 10,
   "metadata": {},
   "outputs": [],
   "source": [
    "def func_resumen(group_var, var):\n",
    "\n",
    "    continent = []\n",
    "    store_sum = []\n",
    "    store_mean = []\n",
    "    store_std = []\n",
    "\n",
    "    for d in group_var:\n",
    "        continent.append(d.iloc[0,1])\n",
    "        store_sum.append(sum(d[var]))\n",
    "        store_mean.append(func_media(d[var]))\n",
    "        store_std.append(func_varianza(d[var]))\n",
    "    tmp = pd.DataFrame({'continente': continent,\n",
    "                        'cantidad': store_sum,\n",
    "                        'media': store_mean,\n",
    "                        'std': store_std})\n",
    "    return tmp"
   ]
  },
  {
   "cell_type": "code",
   "execution_count": 11,
   "metadata": {},
   "outputs": [
    {
     "data": {
      "text/html": [
       "<div>\n",
       "<style scoped>\n",
       "    .dataframe tbody tr th:only-of-type {\n",
       "        vertical-align: middle;\n",
       "    }\n",
       "\n",
       "    .dataframe tbody tr th {\n",
       "        vertical-align: top;\n",
       "    }\n",
       "\n",
       "    .dataframe thead th {\n",
       "        text-align: right;\n",
       "    }\n",
       "</style>\n",
       "<table border=\"1\" class=\"dataframe\">\n",
       "  <thead>\n",
       "    <tr style=\"text-align: right;\">\n",
       "      <th></th>\n",
       "      <th>continente</th>\n",
       "      <th>cantidad</th>\n",
       "      <th>media</th>\n",
       "      <th>std</th>\n",
       "    </tr>\n",
       "  </thead>\n",
       "  <tbody>\n",
       "    <tr>\n",
       "      <th>0</th>\n",
       "      <td>africa</td>\n",
       "      <td>18</td>\n",
       "      <td>3.600000</td>\n",
       "      <td>2.640000</td>\n",
       "    </tr>\n",
       "    <tr>\n",
       "      <th>1</th>\n",
       "      <td>europe</td>\n",
       "      <td>62</td>\n",
       "      <td>4.769231</td>\n",
       "      <td>6.331361</td>\n",
       "    </tr>\n",
       "    <tr>\n",
       "      <th>2</th>\n",
       "      <td>asia</td>\n",
       "      <td>9</td>\n",
       "      <td>2.250000</td>\n",
       "      <td>0.687500</td>\n",
       "    </tr>\n",
       "    <tr>\n",
       "      <th>3</th>\n",
       "      <td>northamerica</td>\n",
       "      <td>13</td>\n",
       "      <td>3.250000</td>\n",
       "      <td>1.687500</td>\n",
       "    </tr>\n",
       "    <tr>\n",
       "      <th>4</th>\n",
       "      <td>southamerica</td>\n",
       "      <td>34</td>\n",
       "      <td>5.666667</td>\n",
       "      <td>3.888889</td>\n",
       "    </tr>\n",
       "  </tbody>\n",
       "</table>\n",
       "</div>"
      ],
      "text/plain": [
       "     continente  cantidad     media       std\n",
       "0        africa        18  3.600000  2.640000\n",
       "1        europe        62  4.769231  6.331361\n",
       "2          asia         9  2.250000  0.687500\n",
       "3  northamerica        13  3.250000  1.687500\n",
       "4  southamerica        34  5.666667  3.888889"
      ]
     },
     "execution_count": 11,
     "metadata": {},
     "output_type": "execute_result"
    }
   ],
   "source": [
    "grupo = [africa_df, europe_df, asia_df, northamerica_df, southamerica_df]\n",
    "\n",
    "func_resumen(grupo, 'goles_favor')"
   ]
  },
  {
   "cell_type": "markdown",
   "metadata": {},
   "source": [
    "R: europa es el continente con mayor cantidad de goles a favor. Sin embargo, dada la media de goles por contintente, se observa que los teams de Sudamerica son los que lograron más goles a favor, en relación a los otros competidores "
   ]
  },
  {
   "cell_type": "code",
   "execution_count": 12,
   "metadata": {},
   "outputs": [
    {
     "data": {
      "text/html": [
       "<div>\n",
       "<style scoped>\n",
       "    .dataframe tbody tr th:only-of-type {\n",
       "        vertical-align: middle;\n",
       "    }\n",
       "\n",
       "    .dataframe tbody tr th {\n",
       "        vertical-align: top;\n",
       "    }\n",
       "\n",
       "    .dataframe thead th {\n",
       "        text-align: right;\n",
       "    }\n",
       "</style>\n",
       "<table border=\"1\" class=\"dataframe\">\n",
       "  <thead>\n",
       "    <tr style=\"text-align: right;\">\n",
       "      <th></th>\n",
       "      <th>continente</th>\n",
       "      <th>cantidad</th>\n",
       "      <th>media</th>\n",
       "      <th>std</th>\n",
       "    </tr>\n",
       "  </thead>\n",
       "  <tbody>\n",
       "    <tr>\n",
       "      <th>0</th>\n",
       "      <td>africa</td>\n",
       "      <td>28</td>\n",
       "      <td>5.600000</td>\n",
       "      <td>3.840000</td>\n",
       "    </tr>\n",
       "    <tr>\n",
       "      <th>1</th>\n",
       "      <td>europe</td>\n",
       "      <td>52</td>\n",
       "      <td>4.000000</td>\n",
       "      <td>3.538462</td>\n",
       "    </tr>\n",
       "    <tr>\n",
       "      <th>2</th>\n",
       "      <td>asia</td>\n",
       "      <td>25</td>\n",
       "      <td>6.250000</td>\n",
       "      <td>3.187500</td>\n",
       "    </tr>\n",
       "    <tr>\n",
       "      <th>3</th>\n",
       "      <td>northamerica</td>\n",
       "      <td>14</td>\n",
       "      <td>3.500000</td>\n",
       "      <td>8.250000</td>\n",
       "    </tr>\n",
       "    <tr>\n",
       "      <th>4</th>\n",
       "      <td>southamerica</td>\n",
       "      <td>17</td>\n",
       "      <td>2.833333</td>\n",
       "      <td>0.472222</td>\n",
       "    </tr>\n",
       "  </tbody>\n",
       "</table>\n",
       "</div>"
      ],
      "text/plain": [
       "     continente  cantidad     media       std\n",
       "0        africa        28  5.600000  3.840000\n",
       "1        europe        52  4.000000  3.538462\n",
       "2          asia        25  6.250000  3.187500\n",
       "3  northamerica        14  3.500000  8.250000\n",
       "4  southamerica        17  2.833333  0.472222"
      ]
     },
     "execution_count": 12,
     "metadata": {},
     "output_type": "execute_result"
    }
   ],
   "source": [
    "func_resumen(grupo, 'goles_contra')"
   ]
  },
  {
   "cell_type": "markdown",
   "metadata": {},
   "source": [
    "R: europa es el continente con mayor cantidad de goles en contra. Sin embargo, dada la media de goles en contra por contintente, se observa que los teams de Asia son los que tuvieron más goles en contra, en relación a los otros competidores "
   ]
  },
  {
   "cell_type": "code",
   "execution_count": 13,
   "metadata": {},
   "outputs": [
    {
     "data": {
      "text/html": [
       "<div>\n",
       "<style scoped>\n",
       "    .dataframe tbody tr th:only-of-type {\n",
       "        vertical-align: middle;\n",
       "    }\n",
       "\n",
       "    .dataframe tbody tr th {\n",
       "        vertical-align: top;\n",
       "    }\n",
       "\n",
       "    .dataframe thead th {\n",
       "        text-align: right;\n",
       "    }\n",
       "</style>\n",
       "<table border=\"1\" class=\"dataframe\">\n",
       "  <thead>\n",
       "    <tr style=\"text-align: right;\">\n",
       "      <th></th>\n",
       "      <th>continente</th>\n",
       "      <th>cantidad</th>\n",
       "      <th>media</th>\n",
       "      <th>std</th>\n",
       "    </tr>\n",
       "  </thead>\n",
       "  <tbody>\n",
       "    <tr>\n",
       "      <th>0</th>\n",
       "      <td>africa</td>\n",
       "      <td>12</td>\n",
       "      <td>2.400000</td>\n",
       "      <td>2.640000</td>\n",
       "    </tr>\n",
       "    <tr>\n",
       "      <th>1</th>\n",
       "      <td>europe</td>\n",
       "      <td>61</td>\n",
       "      <td>4.692308</td>\n",
       "      <td>6.366864</td>\n",
       "    </tr>\n",
       "    <tr>\n",
       "      <th>2</th>\n",
       "      <td>asia</td>\n",
       "      <td>3</td>\n",
       "      <td>0.750000</td>\n",
       "      <td>0.187500</td>\n",
       "    </tr>\n",
       "    <tr>\n",
       "      <th>3</th>\n",
       "      <td>northamerica</td>\n",
       "      <td>18</td>\n",
       "      <td>4.500000</td>\n",
       "      <td>8.250000</td>\n",
       "    </tr>\n",
       "    <tr>\n",
       "      <th>4</th>\n",
       "      <td>southamerica</td>\n",
       "      <td>41</td>\n",
       "      <td>6.833333</td>\n",
       "      <td>3.138889</td>\n",
       "    </tr>\n",
       "  </tbody>\n",
       "</table>\n",
       "</div>"
      ],
      "text/plain": [
       "     continente  cantidad     media       std\n",
       "0        africa        12  2.400000  2.640000\n",
       "1        europe        61  4.692308  6.366864\n",
       "2          asia         3  0.750000  0.187500\n",
       "3  northamerica        18  4.500000  8.250000\n",
       "4  southamerica        41  6.833333  3.138889"
      ]
     },
     "execution_count": 13,
     "metadata": {},
     "output_type": "execute_result"
    }
   ],
   "source": [
    "func_resumen(grupo, 'puntos')"
   ]
  },
  {
   "cell_type": "markdown",
   "metadata": {},
   "source": [
    "R: europa es el continente con mayor cantidad de puntos. Sin embargo, dada la media de puntos obtenidos por team, se observa que los teams de Sudamerica son los que obtuvieron más puntos que en relación a los otros continentes "
   ]
  },
  {
   "cell_type": "markdown",
   "metadata": {},
   "source": [
    "### Desafío 3: Simulaciones"
   ]
  },
  {
   "cell_type": "code",
   "execution_count": 14,
   "metadata": {},
   "outputs": [],
   "source": [
    "def generate_pet():\n",
    "    return np.random.choice(['perro','gato'])"
   ]
  },
  {
   "cell_type": "code",
   "execution_count": 15,
   "metadata": {},
   "outputs": [
    {
     "data": {
      "text/plain": [
       "['gato',\n",
       " 'gato',\n",
       " 'perro',\n",
       " 'perro',\n",
       " 'gato',\n",
       " 'gato',\n",
       " 'gato',\n",
       " 'gato',\n",
       " 'gato',\n",
       " 'perro',\n",
       " 'perro',\n",
       " 'gato',\n",
       " 'perro',\n",
       " 'gato',\n",
       " 'gato',\n",
       " 'perro',\n",
       " 'perro',\n",
       " 'gato',\n",
       " 'perro',\n",
       " 'perro']"
      ]
     },
     "execution_count": 15,
     "metadata": {},
     "output_type": "execute_result"
    }
   ],
   "source": [
    "pet_list = []\n",
    "\n",
    "for i in range(20):\n",
    "    pet_list.append(generate_pet())\n",
    "\n",
    "pet_list"
   ]
  },
  {
   "cell_type": "code",
   "execution_count": 16,
   "metadata": {},
   "outputs": [
    {
     "name": "stdout",
     "output_type": "stream",
     "text": [
      "Pr(gato): 0.55 \n",
      "Pr(Perro): 0.44999999999999996\n"
     ]
    }
   ],
   "source": [
    "gatos = list(filter(lambda i: i == 'gato', pet_list))\n",
    "perros = list(filter(lambda i: i == 'perro', pet_list))\n",
    "\n",
    "pr_gatos = len(gatos)/len(pet_list)\n",
    "\n",
    "print('Pr(gato):',pr_gatos,'\\nPr(Perro):', 1 - pr_gatos)"
   ]
  },
  {
   "cell_type": "code",
   "execution_count": 17,
   "metadata": {},
   "outputs": [
    {
     "data": {
      "text/plain": [
       "['perro',\n",
       " 'gato',\n",
       " 'gato',\n",
       " 'perro',\n",
       " 'perro',\n",
       " 'gato',\n",
       " 'perro',\n",
       " 'gato',\n",
       " 'perro',\n",
       " 'gato',\n",
       " 'perro',\n",
       " 'gato',\n",
       " 'gato',\n",
       " 'gato',\n",
       " 'gato',\n",
       " 'gato',\n",
       " 'gato',\n",
       " 'gato',\n",
       " 'perro',\n",
       " 'perro']"
      ]
     },
     "execution_count": 17,
     "metadata": {},
     "output_type": "execute_result"
    }
   ],
   "source": [
    "# Aplicando np.random.seed\n",
    "pet_list = []\n",
    "np.random.seed(2)\n",
    "for i in range(20):\n",
    "\n",
    "    pet_list.append(generate_pet())\n",
    "\n",
    "pet_list"
   ]
  },
  {
   "cell_type": "markdown",
   "metadata": {},
   "source": [
    "### Desafío 4: Función simuladora"
   ]
  },
  {
   "cell_type": "code",
   "execution_count": 18,
   "metadata": {},
   "outputs": [],
   "source": [
    "def simulate_pets_prob(x):\n",
    "    contador1 = 0\n",
    "    contador2 = 0\n",
    "    contador3 = 0\n",
    "    \n",
    "    np.random.seed(1)\n",
    "    \n",
    "    for i in range(x):\n",
    "        young_pet = generate_pet()\n",
    "        old_pet = generate_pet()\n",
    "        \n",
    "        # contar las ocasiones donde por lo menos uno de los animales sea un perro\n",
    "        if young_pet == 'perro' or old_pet == 'perro':\n",
    "            contador1 += 1\n",
    "            \n",
    "        #  contar las ocasiones donde por lo menos uno sea un perro viejo\n",
    "        if old_pet == 'perro':\n",
    "            contador2 += 1\n",
    "            \n",
    "        #  contar las ocasiones donde los dos sean perros\n",
    "        if young_pet == 'perro' and old_pet == 'perro':\n",
    "            contador3 += 1\n",
    "    \n",
    "    prob1 = contador1/x\n",
    "    prob2 = contador2/x\n",
    "    prob3 = contador3/x\n",
    "    \n",
    "    return contador1, contador2, contador3, prob1, prob2, prob3"
   ]
  },
  {
   "cell_type": "code",
   "execution_count": 24,
   "metadata": {},
   "outputs": [
    {
     "name": "stdout",
     "output_type": "stream",
     "text": [
      "condición 1:  34 , la probabilidad de la condición 1:  0.68\n",
      "condición 2:  24 , la probabilidad de la condición 2:  0.48\n",
      "condición 3:  11 , la probabilidad de la condición 3:  0.22\n"
     ]
    }
   ],
   "source": [
    "condicion1, condicion2, condicion3, prob1, prob2, prob3 = simulate_pets_prob(50)\n",
    "\n",
    "print('condición 1: ', condicion1, ', la probabilidad de la condición 1: ', prob1 )\n",
    "print('condición 2: ', condicion2, ', la probabilidad de la condición 2: ', prob2 )\n",
    "print('condición 3: ', condicion3, ', la probabilidad de la condición 3: ', prob3 )"
   ]
  },
  {
   "cell_type": "markdown",
   "metadata": {},
   "source": [
    "Dado los tres escenarios, el escenario menos probable es el tercero, mientras que el más probable es el primer escenario."
   ]
  }
 ],
 "metadata": {
  "kernelspec": {
   "display_name": "Python 3",
   "language": "python",
   "name": "python3"
  },
  "language_info": {
   "codemirror_mode": {
    "name": "ipython",
    "version": 3
   },
   "file_extension": ".py",
   "mimetype": "text/x-python",
   "name": "python",
   "nbconvert_exporter": "python",
   "pygments_lexer": "ipython3",
   "version": "3.8.3"
  }
 },
 "nbformat": 4,
 "nbformat_minor": 4
}
