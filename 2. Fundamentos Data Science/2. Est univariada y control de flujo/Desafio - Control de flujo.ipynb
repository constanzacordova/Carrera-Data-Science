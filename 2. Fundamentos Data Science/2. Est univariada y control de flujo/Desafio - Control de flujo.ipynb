{
 "cells": [
  {
   "cell_type": "markdown",
   "metadata": {},
   "source": [
    "## Desafío - Control de Flujo"
   ]
  },
  {
   "cell_type": "markdown",
   "metadata": {},
   "source": [
    "### Desafio1 \n",
    "Generar un par de arrays con numpy y función linspace"
   ]
  },
  {
   "cell_type": "code",
   "execution_count": 126,
   "metadata": {},
   "outputs": [],
   "source": [
    "import pandas as pd\n",
    "import numpy as np"
   ]
  },
  {
   "cell_type": "code",
   "execution_count": 127,
   "metadata": {},
   "outputs": [],
   "source": [
    "array1 = np.linspace(1,50, 50, dtype = \"int\")\n",
    "array2 = np.linspace(50,150, 100, dtype = \"int\")"
   ]
  },
  {
   "cell_type": "markdown",
   "metadata": {},
   "source": [
    "### Desafio 2"
   ]
  },
  {
   "cell_type": "code",
   "execution_count": 128,
   "metadata": {
    "collapsed": true
   },
   "outputs": [
    {
     "name": "stdout",
     "output_type": "stream",
     "text": [
      "1 es Impar\n",
      "2 es Par\n",
      "3 es Impar\n",
      "4 es Par\n",
      "5 es Impar\n",
      "6 es Par\n",
      "7 es Impar\n",
      "8 es Par\n",
      "9 es Impar\n",
      "10 es Par\n",
      "11 es Impar\n",
      "12 es Par\n",
      "13 es Impar\n",
      "14 es Par\n",
      "15 es Impar\n",
      "16 es Par\n",
      "17 es Impar\n",
      "18 es Par\n",
      "19 es Impar\n",
      "20 es Par\n",
      "21 es Impar\n",
      "22 es Par\n",
      "23 es Impar\n",
      "24 es Par\n",
      "25 es Impar\n",
      "26 es Par\n",
      "27 es Impar\n",
      "28 es Par\n",
      "29 es Impar\n",
      "30 es Par\n",
      "31 es Impar\n",
      "32 es Par\n",
      "33 es Impar\n",
      "34 es Par\n",
      "35 es Impar\n",
      "36 es Par\n",
      "37 es Impar\n",
      "38 es Par\n",
      "39 es Impar\n",
      "40 es Par\n",
      "41 es Impar\n",
      "42 es Par\n",
      "43 es Impar\n",
      "44 es Par\n",
      "45 es Impar\n",
      "46 es Par\n",
      "47 es Impar\n",
      "48 es Par\n",
      "49 es Impar\n",
      "50 es Par\n"
     ]
    }
   ],
   "source": [
    "for i in array1:\n",
    "    if i%2 == 0:\n",
    "        print(i,\"es Par\")\n",
    "    else:\n",
    "        print(i, \"es Impar\")"
   ]
  },
  {
   "cell_type": "markdown",
   "metadata": {},
   "source": [
    "### Desafio 3"
   ]
  },
  {
   "cell_type": "code",
   "execution_count": 129,
   "metadata": {
    "collapsed": true
   },
   "outputs": [
    {
     "name": "stdout",
     "output_type": "stream",
     "text": [
      "50\n",
      "51\n",
      "52\n",
      "54\n",
      "56\n",
      "57\n",
      "58\n",
      "60\n",
      "62\n",
      "63\n",
      "64\n",
      "66\n",
      "68\n",
      "69\n",
      "70\n",
      "72\n",
      "74\n",
      "75\n",
      "76\n",
      "78\n",
      "80\n",
      "81\n",
      "82\n",
      "84\n",
      "86\n",
      "87\n",
      "88\n",
      "90\n",
      "92\n",
      "93\n",
      "94\n",
      "96\n",
      "98\n",
      "99\n",
      "100\n",
      "102\n",
      "104\n",
      "105\n",
      "106\n",
      "108\n",
      "110\n",
      "111\n",
      "112\n",
      "114\n",
      "116\n",
      "117\n",
      "118\n",
      "120\n",
      "122\n",
      "123\n",
      "124\n",
      "126\n",
      "128\n",
      "129\n",
      "130\n",
      "132\n",
      "134\n",
      "135\n",
      "136\n",
      "138\n",
      "140\n",
      "141\n",
      "142\n",
      "144\n",
      "146\n",
      "147\n",
      "148\n",
      "150\n",
      "68 son divisible por 2 o 3\n",
      "17 son divisible por 2 y 3\n",
      "17 son divisible por 3, pero no por 2\n",
      "32 no son divisible por 2 y 3\n"
     ]
    }
   ],
   "source": [
    "condicion1 = 0\n",
    "condicion2 = 0\n",
    "condicion3 = 0\n",
    "condicion4 = 0\n",
    "\n",
    "for i in array2:\n",
    "    if i%2 == 0 or i%3==0:\n",
    "        condicion1 += 1\n",
    "        print(i)\n",
    "    \n",
    "    if (i%2 == 0) & (i%3==0):\n",
    "        condicion2 += 1\n",
    "        \n",
    "    if (i%2 != 0) & (i%3 ==0):\n",
    "        condicion3 += 1\n",
    "        \n",
    "    if (i%2 != 0) & (i%3 != 0):\n",
    "        condicion4 += 1\n",
    "        \n",
    "print(condicion1, 'son divisible por 2 o 3')\n",
    "print(condicion2, 'son divisible por 2 y 3')\n",
    "print(condicion3, 'son divisible por 3, pero no por 2')\n",
    "print(condicion4, 'no son divisible por 2 y 3')"
   ]
  },
  {
   "cell_type": "markdown",
   "metadata": {},
   "source": [
    "### Desafío 4"
   ]
  },
  {
   "cell_type": "code",
   "execution_count": 130,
   "metadata": {
    "collapsed": true
   },
   "outputs": [
    {
     "name": "stdout",
     "output_type": "stream",
     "text": [
      "0\n",
      "1\n",
      "4\n",
      "9\n",
      "16\n",
      "25\n",
      "36\n",
      "49\n",
      "64\n",
      "81\n",
      "100\n",
      "121\n",
      "144\n",
      "169\n",
      "196\n",
      "225\n",
      "256\n",
      "289\n",
      "324\n",
      "361\n",
      "400\n",
      "441\n",
      "484\n",
      "529\n",
      "576\n",
      "625\n",
      "676\n",
      "729\n",
      "784\n",
      "841\n",
      "900\n",
      "961\n",
      "1024\n",
      "1089\n",
      "1156\n",
      "1225\n",
      "1296\n",
      "1369\n",
      "1444\n",
      "1521\n",
      "1600\n",
      "1681\n",
      "1764\n",
      "1849\n",
      "1936\n",
      "2025\n",
      "2116\n",
      "2209\n",
      "2304\n",
      "2401\n",
      "2500\n",
      "2601\n",
      "2704\n",
      "2809\n",
      "2916\n",
      "3025\n",
      "3136\n",
      "3249\n",
      "3364\n",
      "3481\n",
      "3600\n",
      "3721\n",
      "3844\n",
      "3969\n",
      "4096\n",
      "4225\n",
      "4356\n",
      "4489\n",
      "4624\n",
      "4761\n",
      "4900\n",
      "5041\n",
      "5184\n",
      "5329\n",
      "5476\n",
      "5625\n",
      "5776\n",
      "5929\n",
      "6084\n",
      "6241\n",
      "6400\n",
      "6561\n",
      "6724\n",
      "6889\n",
      "7056\n",
      "7225\n",
      "7396\n",
      "7569\n",
      "7744\n",
      "7921\n",
      "8100\n",
      "8281\n",
      "8464\n",
      "8649\n",
      "8836\n",
      "9025\n",
      "9216\n",
      "9409\n",
      "9604\n",
      "9801\n"
     ]
    }
   ],
   "source": [
    "for i in range(100):\n",
    "    print(i**2)"
   ]
  },
  {
   "cell_type": "markdown",
   "metadata": {},
   "source": [
    "### Desafío 5"
   ]
  },
  {
   "cell_type": "code",
   "execution_count": 131,
   "metadata": {},
   "outputs": [],
   "source": [
    "df = pd.read_csv('flights.csv')"
   ]
  },
  {
   "cell_type": "code",
   "execution_count": 132,
   "metadata": {},
   "outputs": [],
   "source": [
    "media = df['passengers'].mean()"
   ]
  },
  {
   "cell_type": "code",
   "execution_count": 133,
   "metadata": {},
   "outputs": [],
   "source": [
    "df['underperforming'] = 0"
   ]
  },
  {
   "cell_type": "code",
   "execution_count": 134,
   "metadata": {
    "scrolled": true
   },
   "outputs": [],
   "source": [
    "for fila, serie in df.iterrows():\n",
    "    if serie['passengers'] < media:\n",
    "        df.at[fila, 'underperforming'] = 1"
   ]
  },
  {
   "cell_type": "code",
   "execution_count": 135,
   "metadata": {
    "scrolled": true
   },
   "outputs": [
    {
     "data": {
      "text/plain": [
       "1    80\n",
       "0    64\n",
       "Name: underperforming, dtype: int64"
      ]
     },
     "execution_count": 135,
     "metadata": {},
     "output_type": "execute_result"
    }
   ],
   "source": [
    "df['underperforming'].value_counts()"
   ]
  },
  {
   "cell_type": "markdown",
   "metadata": {},
   "source": [
    "### Desafío 6"
   ]
  },
  {
   "cell_type": "code",
   "execution_count": 136,
   "metadata": {
    "scrolled": true
   },
   "outputs": [],
   "source": [
    "media = np.mean(df['passengers'])\n",
    "std = np.std(df['passengers'])"
   ]
  },
  {
   "cell_type": "code",
   "execution_count": 137,
   "metadata": {},
   "outputs": [],
   "source": [
    "df['outlier']= 0"
   ]
  },
  {
   "cell_type": "code",
   "execution_count": 138,
   "metadata": {},
   "outputs": [],
   "source": [
    "for fila, serie in df.iterrows():\n",
    "    if serie['passengers'] < (media-std) or serie['passengers'] > (media+std) :\n",
    "        df.at[fila, 'outlier'] = 1"
   ]
  },
  {
   "cell_type": "code",
   "execution_count": 139,
   "metadata": {},
   "outputs": [
    {
     "data": {
      "text/plain": [
       "0    91\n",
       "1    53\n",
       "Name: outlier, dtype: int64"
      ]
     },
     "execution_count": 139,
     "metadata": {},
     "output_type": "execute_result"
    }
   ],
   "source": [
    "df['outlier'].value_counts()"
   ]
  }
 ],
 "metadata": {
  "kernelspec": {
   "display_name": "Python 3",
   "language": "python",
   "name": "python3"
  },
  "language_info": {
   "codemirror_mode": {
    "name": "ipython",
    "version": 3
   },
   "file_extension": ".py",
   "mimetype": "text/x-python",
   "name": "python",
   "nbconvert_exporter": "python",
   "pygments_lexer": "ipython3",
   "version": "3.8.3"
  }
 },
 "nbformat": 4,
 "nbformat_minor": 4
}